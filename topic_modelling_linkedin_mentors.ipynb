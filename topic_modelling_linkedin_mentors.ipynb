{
 "cells": [
  {
   "attachments": {},
   "cell_type": "markdown",
   "metadata": {},
   "source": [
    "**Содержание**<a id='toc0_'></a>    \n",
    "- [Парсинг LinkedIn](#toc1_1_1_)    \n",
    "      - [Основные этапы](#toc1_1_1_1_)    \n",
    "      - [Основные результаты](#toc1_1_1_2_)    \n",
    "- [Обработка текстов](#toc1_1_2_)    \n",
    "      - [Основные этапы](#toc1_1_2_1_)    \n",
    "      - [Основные результаты](#toc1_1_2_2_)    \n",
    "- [Построение языковой модели](#toc1_1_3_)    \n",
    "      - [Основные этапы](#toc1_1_3_1_)    \n",
    "      - [Основные результаты](#toc1_1_3_2_)    \n",
    "      - [Топ-10 тем по ключевым словам (рус)](#toc1_1_3_3_)    \n",
    "      - [Модель на англоязчных текстах](#toc1_1_3_4_)    \n",
    "      - [Топ-10 тем по ключевым словам (англ)](#toc1_1_3_5_)    \n",
    "- [Подготовка данных для языковой модели по самым популярным постам](#toc1_1_4_)    \n",
    "- [Построение языковой модели по топ-50 популярным постам](#toc1_1_5_)    \n",
    "      - [Топ-5 популярных тем по реакциям (рус)](#toc1_1_5_1_)    \n",
    "      - [Топ-5 популярных тем по реакциям (англ)](#toc1_1_5_2_)    \n",
    "\n",
    "<!-- vscode-jupyter-toc-config\n",
    "\tnumbering=false\n",
    "\tanchor=true\n",
    "\tflat=false\n",
    "\tminLevel=1\n",
    "\tmaxLevel=6\n",
    "\t/vscode-jupyter-toc-config -->\n",
    "<!-- THIS CELL WILL BE REPLACED ON TOC UPDATE. DO NOT WRITE YOUR TEXT IN THIS CELL -->"
   ]
  },
  {
   "cell_type": "code",
   "execution_count": 1,
   "metadata": {},
   "outputs": [
    {
     "name": "stderr",
     "output_type": "stream",
     "text": [
      "[nltk_data] Downloading package stopwords to\n",
      "[nltk_data]     /Users/anshilina/nltk_data...\n",
      "[nltk_data]   Package stopwords is already up-to-date!\n",
      "[nltk_data] Downloading package wordnet to\n",
      "[nltk_data]     /Users/anshilina/nltk_data...\n",
      "[nltk_data]   Package wordnet is already up-to-date!\n",
      "[nltk_data] Downloading package omw-1.4 to\n",
      "[nltk_data]     /Users/anshilina/nltk_data...\n",
      "[nltk_data]   Package omw-1.4 is already up-to-date!\n"
     ]
    }
   ],
   "source": [
    "import pandas as pd\n",
    "import time\n",
    "import re\n",
    "\n",
    "from bs4 import BeautifulSoup\n",
    "from selenium import webdriver\n",
    "from selenium.webdriver.common.by import By\n",
    "from selenium.webdriver.common.desired_capabilities import DesiredCapabilities\n",
    "\n",
    "import pycld2 as cld2\n",
    "\n",
    "from pymystem3 import Mystem\n",
    "\n",
    "from nltk.corpus import stopwords\n",
    "from nltk.stem import WordNetLemmatizer, PorterStemmer\n",
    "import nltk \n",
    "nltk.download('stopwords')\n",
    "nltk.download('wordnet')\n",
    "nltk.download('omw-1.4')\n",
    "\n",
    "import gensim\n",
    "import gensim.corpora as corpora\n",
    "\n",
    "import pyLDAvis\n",
    "import pyLDAvis.gensim_models as gensimvis\n",
    "import matplotlib.pyplot as plt\n",
    "from IPython import display\n",
    "%matplotlib inline\n",
    "\n",
    "import logging\n",
    "logging.basicConfig(format='%(asctime)s : %(levelname)s : %(message)s', level=logging.ERROR)\n"
   ]
  },
  {
   "attachments": {},
   "cell_type": "markdown",
   "metadata": {},
   "source": [
    "### <a id='toc1_1_1_'></a>[Парсинг LinkedIn](#toc0_)"
   ]
  },
  {
   "attachments": {},
   "cell_type": "markdown",
   "metadata": {},
   "source": [
    "#### <a id='toc1_1_1_1_'></a>[Основные этапы](#toc0_)\n",
    "- Создание кода для сбора данных\n",
    "    1. Встроить прокси\n",
    "    2. Добавить инструменты для сохранения данных\n",
    "- Сбор данных\n",
    "- Предобработка данных\n",
    "    1. Убрать эмодзи\n",
    "    2. Привести слова в начальную форму\n",
    "    3. Убрать лишние текстовые символы\n",
    "    4. Убрать стоп-слова и слова/паразиты\n",
    "    5. Сохранить в таблицу\n",
    "\n",
    "#### <a id='toc1_1_1_2_'></a>[Основные результаты](#toc0_)\n",
    "- Был модифицирован изначальный код для парсинга данных: в конфигурацию были добавлены прокси, в функции был добавлен код для сохранения данны\n",
    "- Была собрана информация о **288** пользователях LinkedIn, которые были отобраны по ключевым словам: *data science mentors*, *mentors in it*, *teach it*, *наставники data science* и проч. Мы собирали следующую информацию: ФИО, место работы, ссылка на профиль, публикации и количество реакций к ним\n",
    "- Предпочтение отдавалось пользователям, которые ведут аккаунты не только на английском, но и на русском языках. Также в поисковике LinkedIn был выставлен фильтр на локацию: Россия и страны СНГ. Среди **288** пользователей 84 человек публиковали посты на английском, 32 – на русском, и еще 10 на азербайджанском. Остальные не публиковали посты\n",
    "- Все публикации пользователей были загружены в формате вложенных списков со структурой *[['ТЕКСТ ПУБЛИКАЦИИ', 'КОЛИЧЕСТВО РЕАКЦИЙ'],['ТЕКСТ ПУБЛИКАЦИИ', 'КОЛИЧЕСТВО РЕАКЦИЙ'] и т.д.]*. Такая структура может быть легко преобразована как в отдельные корпуса текстов, реакций к ним, так и в один единый текст от каждого автора. Продробнее об этом на этапе предобработки данных\n",
    "- Сбор информации проводился до тех пор пока не были заблокированы все созданные для достижения целей проекта аккаунты\n",
    "- Сырые данные были сохранены в массиве *russian_mentors_raw.csv*"
   ]
  },
  {
   "cell_type": "code",
   "execution_count": 94,
   "metadata": {},
   "outputs": [],
   "source": [
    "USER_LOGIN = 'EMAIL'\n",
    "USER_PASSWORD = 'PASSWORD'\n",
    "\n",
    "# To collect data and convert to df\n",
    "df = {'name':[], 'works_at':[], 'profile_url': [], 'posts': []}"
   ]
  },
  {
   "cell_type": "code",
   "execution_count": 95,
   "metadata": {},
   "outputs": [],
   "source": [
    "def get_and_print_user_posts(driver, posts_url):\n",
    "    driver.get(posts_url)\n",
    "\n",
    "    # Simulate scrolling to capture all posts\n",
    "    SCROLL_PAUSE_TIME = 3\n",
    "\n",
    "    # Get scroll height\n",
    "    last_height = driver.execute_script(\"return document.body.scrollHeight\")\n",
    "\n",
    "    # We can adjust this number to get more posts\n",
    "    NUM_SCROLLS = 5\n",
    "\n",
    "    for i in range(NUM_SCROLLS):\n",
    "        # Scroll down to bottom\n",
    "        driver.execute_script(\"window.scrollTo(0, document.body.scrollHeight);\")\n",
    "\n",
    "        # Wait to load page\n",
    "        time.sleep(SCROLL_PAUSE_TIME)\n",
    "\n",
    "        # Calculate new scroll height and compare with last scroll height\n",
    "        new_height = driver.execute_script(\"return document.body.scrollHeight\")\n",
    "        if new_height == last_height:\n",
    "            break\n",
    "        last_height = new_height\n",
    "\n",
    "    # Parsing posts\n",
    "    src = driver.page_source\n",
    "\n",
    "    # Now using beautiful soup\n",
    "    soup = BeautifulSoup(src, \"html.parser\")\n",
    "    # soup.prettify()\n",
    "    if soup is None:\n",
    "        return \n",
    "    \n",
    "    posts = soup.find_all('li', class_='profile-creator-shared-feed-update__container')\n",
    "    # print(posts)\n",
    "\n",
    "    print(f'Number of posts: {len(posts)}')\n",
    "    posts_list = []\n",
    "    for post_src in posts:\n",
    "        post_text_div = post_src.find('div', {'class': 'feed-shared-update-v2__description-wrapper mr2'})\n",
    "\n",
    "        if post_text_div is not None:\n",
    "            post_text = post_text_div.find('span', {'dir': 'ltr'})\n",
    "        else:\n",
    "            post_text = None\n",
    "\n",
    "        # If post text is found\n",
    "        if post_text is not None:\n",
    "            post_text = post_text.get_text().strip()\n",
    "            print(f'Post text: {post_text}')\n",
    "\n",
    "        reaction_cnt = post_src.find('span', {'class': 'social-details-social-counts__reactions-count'})\n",
    "\n",
    "        # If number of reactions is written as text\n",
    "        # It has different class name\n",
    "        if reaction_cnt is None:\n",
    "            reaction_cnt = post_src.find('span', {'class': 'social-details-social-counts__social-proof-text'})\n",
    "\n",
    "        if reaction_cnt is not None:\n",
    "            reaction_cnt = reaction_cnt.get_text().strip()\n",
    "            print(f'Reactions: {reaction_cnt}')\n",
    "        \n",
    "    # Add to a dict\n",
    "        if post_text is not None:\n",
    "            posts_list.append([post_text, reaction_cnt])\n",
    "    df['posts'].append(posts_list)\n",
    "\n",
    "    return"
   ]
  },
  {
   "cell_type": "code",
   "execution_count": 96,
   "metadata": {},
   "outputs": [],
   "source": [
    "def get_and_print_profile_info(driver, profile_url):\n",
    "    # Open the link\n",
    "    driver.get(profile_url)\n",
    "\n",
    "    # Extracting data from page with BeautifulSoup\n",
    "    src = driver.page_source\n",
    "\n",
    "    soup = BeautifulSoup(src, \"html.parser\")\n",
    "\n",
    "    # Extracting the HTML of the complete introduction box\n",
    "    # that contains the name, company name, and the location\n",
    "    if soup is None:\n",
    "        return\n",
    "    \n",
    "    intro = soup.find('div', {'class': 'pv-text-details__left-panel'})\n",
    "\n",
    "    # print(intro)\n",
    "\n",
    "    # In case of an error, try changing the tags used here.\n",
    "    name_loc = intro.find(\"h1\")\n",
    "\n",
    "    # Extracting the Name\n",
    "    name = name_loc.get_text().strip()\n",
    "    # strip() is used to remove any extra blank spaces\n",
    "\n",
    "    works_at_loc = intro.find(\"div\", {'class': 'text-body-medium'})\n",
    "\n",
    "    # this gives us the HTML of the tag in which the Company Name is present\n",
    "    # Extracting the Company Name\n",
    "    works_at = works_at_loc.get_text().strip()\n",
    "\n",
    "    print(\"Name -->\",  name,\n",
    "          \"\\nWorks At -->\", works_at)\n",
    "\n",
    "    POSTS_URL_SUFFIX = 'recent-activity/all/'\n",
    "\n",
    "    time.sleep(2)\n",
    "\n",
    "    # Get current url from browser\n",
    "    cur_profile_url = driver.current_url\n",
    "    print(cur_profile_url)\n",
    "    \n",
    "    # Add to a Dict\n",
    "    df['name'].append(name)\n",
    "    df['works_at'].append(works_at)\n",
    "    df['profile_url'].append(cur_profile_url)\n",
    "\n",
    "    # Parse posts\n",
    "    get_and_print_user_posts(driver, cur_profile_url + POSTS_URL_SUFFIX)"
   ]
  },
  {
   "cell_type": "code",
   "execution_count": null,
   "metadata": {},
   "outputs": [],
   "source": [
    "if __name__ == '__main__':\n",
    "    # start Chrome browser\n",
    "    caps = DesiredCapabilities().CHROME\n",
    "\n",
    "    caps['pageLoadStrategy'] = 'eager'\n",
    "\n",
    "    # NOTE: If you need VPN use it: \n",
    "    # chrome_options = webdriver.ChromeOptions()\n",
    "    # PROXY = \"147.135.54.182:3128\"\n",
    "    # chrome_options.add_argument('--proxy-server=%s' % PROXY)\n",
    "    # driver = webdriver.Chrome(chrome_options=chrome_options)\n",
    "    \n",
    "    driver = webdriver.Chrome() # can add specific driver\n",
    "\n",
    "    # Opening linkedIn's login page\n",
    "    # NOTE: We need to turn of 2 step authentification\n",
    "    driver.get(\"https://linkedin.com/uas/login\")\n",
    "\n",
    "    # waiting for the page to load\n",
    "    time.sleep(5)\n",
    "\n",
    "    # entering username\n",
    "    username = driver.find_element(By.ID, \"username\")\n",
    "\n",
    "    # In case of an error, try changing the element\n",
    "    # tag used here.\n",
    "\n",
    "    # Enter Your Email Address\n",
    "    username.send_keys(USER_LOGIN)\n",
    "\n",
    "    # entering password\n",
    "    pword = driver.find_element(By.ID, \"password\")\n",
    "    # In case of an error, try changing the element\n",
    "    # tag used here.\n",
    "\n",
    "    # Enter Your Password\n",
    "    pword.send_keys(USER_PASSWORD)\n",
    "\n",
    "    # Clicking on the log in button\n",
    "    # Format (syntax) of writing XPath -->\n",
    "    # //tagname[@attribute='value']\n",
    "    driver.find_element(By.XPATH, \"//button[@type='submit']\").click()\n",
    "    time.sleep(60)\n",
    "\n",
    "    # Open search page\n",
    "    # driver.get('https://www.linkedin.com/search/results/people/?geoUrn=%5B%22101728296%22%5D&keywords=data%20science%20mentor&origin=GLOBAL_SEARCH_HEADER&sid=MzX')\n",
    "    driver.get('https://www.linkedin.com/search/results/people/?geoUrn=%5B%22101728296%22%5D&keywords=data%20science%20mentor&origin=FACETED_SEARCH&profileLanguage=%5B%22en%22%2C%22ru%22%5D&sid=BWL')\n",
    "    \n",
    "    profile_urls = []\n",
    "\n",
    "    NUM_PAGES_TO_PARSE = 20\n",
    "\n",
    "    # Iterate over pages of search results\n",
    "    # to collect profile urls\n",
    "    for i in range(NUM_PAGES_TO_PARSE):\n",
    "        search_result_links = driver.find_elements(By.CSS_SELECTOR, \"div.entity-result__item a.app-aware-link\")\n",
    "\n",
    "        for link in search_result_links:\n",
    "            href = link.get_attribute(\"href\")\n",
    "            if 'linkedin.com/in' in href:\n",
    "                profile_urls.append(href)\n",
    "\n",
    "        next_button = driver.find_element(By.CLASS_NAME,'artdeco-pagination__button--next')\n",
    "        next_button.click()\n",
    "        time.sleep(2)\n",
    "\n",
    "\n",
    "    profile_urls = list(set(profile_urls))\n",
    "\n",
    "    print(profile_urls)\n",
    "\n",
    "    # Parse profile urls\n",
    "    for profile_url in profile_urls:\n",
    "        get_and_print_profile_info(driver, profile_url)\n",
    "        time.sleep(5)\n",
    "\n",
    "    # close the Chrome browser\n",
    "    driver.quit()"
   ]
  },
  {
   "attachments": {},
   "cell_type": "markdown",
   "metadata": {},
   "source": [
    "Далее полученные данные сохраняются в формате csv. Корпус текстов и их авторы доступны в файле **russian_mentors_raw.csv**."
   ]
  },
  {
   "cell_type": "code",
   "execution_count": null,
   "metadata": {},
   "outputs": [],
   "source": [
    "# data = pd.DataFrame(df)\n",
    "# data.to_csv('russian_mentors_raw.csv')"
   ]
  },
  {
   "attachments": {},
   "cell_type": "markdown",
   "metadata": {},
   "source": [
    "### <a id='toc1_1_2_'></a>[Обработка текстов](#toc0_)"
   ]
  },
  {
   "attachments": {},
   "cell_type": "markdown",
   "metadata": {},
   "source": [
    "#### <a id='toc1_1_2_1_'></a>[Основные этапы](#toc0_)\n",
    "- Убрать эмодзи\n",
    "- Привести слова в начальную форму\n",
    "- Убрать лишние текстовые символы\n",
    "- Убрать стоп-слова и слова-паразиты\n",
    "- Сохранить в таблицу\n",
    "- Совместить датасет с данными с информацией на основной странице\n",
    "\n",
    "#### <a id='toc1_1_2_2_'></a>[Основные результаты](#toc0_)\n",
    "- С помощью библиотеки *pycld2* был определен язык публикаций: русский и английский, только русский, только английский, азербайджанский (не включали в анализ)\n",
    "- Из выборки были удалены те, кто указывал в качестве своей профессии маркетинг и менеджмент (согласно требованиям заказчика)\n",
    "- Были удалены дубликаты, которые появились из-за того, что 22 человека попали в результаты поисков по разным вариациям тэгов и ключевых слов\n",
    "- На данном этапе все публикации человека рассматриваются как один текст\n",
    "- Рускоязычные и англоязычные посты предобрабатывались отдельно, но этапы для обоих языков схожие: приведение текстов к нижнему регистру, удаление всех символов и эмоджи и сохранение только текстовой информации (с помощью регулярных выражений, библиотека *re*), лемматизация токенов (библиотеки *pymystem3* и *nltk*), фильтрация токенов: удаление стоп-слов и слов-паразитов (библиотека *nltk*)\n",
    "- На заключительном этапе мы получили отдельные слова текстов\n",
    "- Данные были сохранены в таблицы *data_russian.csv* и *data_english.csv*"
   ]
  },
  {
   "cell_type": "code",
   "execution_count": 39,
   "metadata": {},
   "outputs": [],
   "source": [
    "def detect_lang(series):\n",
    "    '''\n",
    "    Function to detect language of the text\n",
    "    '''\n",
    "    text_content = str(series)\n",
    "    _, _, _, detected_language = cld2.detect(text_content,  returnVectors=True)\n",
    "    for i in range(len(detected_language)):\n",
    "        if ('RUSSIAN' in detected_language[i] and \n",
    "            ('Unknown' in detected_language[i] \n",
    "             or 'ENGLISH' in detected_language[i])):\n",
    "            return 'RUSSIAN AND ENGLISH'\n",
    "        if 'RUSSIAN' in detected_language[i]:\n",
    "            return 'RUSSIAN'\n",
    "        elif 'AZERBAIJANI' in detected_language[i]:\n",
    "            return 'AZERBAIJANI'\n",
    "        elif ('Unknown' in detected_language[i] or 'ENGLISH' in detected_language[i]):\n",
    "            return 'ENGLISH'"
   ]
  },
  {
   "cell_type": "code",
   "execution_count": 40,
   "metadata": {},
   "outputs": [],
   "source": [
    "def preprocess_rus_texts(text):\n",
    "    '''\n",
    "    Function to preprocess russian texts\n",
    "    '''\n",
    "    text = text.lower()\n",
    "\n",
    "    text = re.sub(r'[^а-яё ]', ' ', text)\n",
    "    text = \" \".join(text.split())\n",
    "\n",
    "    m = Mystem()\n",
    "    text = m.lemmatize(text)\n",
    "\n",
    "    russian_stopwords = stopwords.words('russian')\n",
    "    russian_stopwords.extend(['что', 'это', 'так', 'вот', 'быть', 'как', 'в', 'к', 'на', 'мой', 'наш', 'твой', 'ваш', 'свой',\n",
    "                              'год', 'очень', 'июнь', 'июль', 'август', 'сентябрь', 'октябрь', 'ноябрь', 'декабрь', 'январь', \n",
    "                              'февраль', 'март', 'апрель', 'май', 'или', 'но', 'дабы', 'затем', 'потом', 'лишь', 'только', 'твой', \n",
    "                              'какой', 'который', 'такой', 'кто', 'все', 'тот', 'себя', 'меня', 'вас', 'он', 'мы', 'его', 'вы', 'вам', \n",
    "                              'ее', 'их', 'они', 'я', 'весь', 'мне', 'меня', 'таким', 'для', 'на', 'по', 'со', 'из', 'от', 'до', 'без', \n",
    "                              'над', 'под', 'за', 'при', 'после', 'во', 'не', 'же', 'то', 'бы', 'всего', 'итого', 'даже', 'да', 'нет', \n",
    "                              'ой', 'ого', 'эх', 'браво', 'здравствуйте', 'здравствуй', 'здравствовать', 'спасибо', 'извините', 'привет', 'один', 'два', \n",
    "                              'три', 'первый', 'второй', 'третий', 'скажем', 'может', 'допустим', 'честно говоря', 'например', 'на самом деле', \n",
    "                              'однако', 'вообще', 'в общем', 'вероятно', 'что-то', 'какой-то', 'где-то', 'как-то', 'дальше', 'ближе', \n",
    "                              'раньше', 'позже', 'когда-то', 'очень', 'часто', 'минимально', 'максимально', 'абсолютно', 'огромный', 'предельно', \n",
    "                              'сильно', 'слабо', 'самый', 'давать', 'всегда', 'однако'])\n",
    "    filtered_text = \" \".join([w for w in text if len(w) > 2 if w not in russian_stopwords])\n",
    "\n",
    "    return filtered_text"
   ]
  },
  {
   "cell_type": "code",
   "execution_count": 41,
   "metadata": {},
   "outputs": [],
   "source": [
    "def preprocess_eng_texts(text):\n",
    "    '''\n",
    "    Function to preprocess english texts\n",
    "    '''\n",
    "    text = text.lower()\n",
    "\n",
    "    text = re.sub(r'[^a-z ]', ' ', text).split()\n",
    "\n",
    "    stemmer = PorterStemmer() \n",
    "    lemmatizer = WordNetLemmatizer()\n",
    "    stem_words=[stemmer.stem(w) for w in text]\n",
    "    lemma_words=[lemmatizer.lemmatize(w) for w in stem_words]\n",
    "\n",
    "    english_stopwords = stopwords.words('english')\n",
    "    english_stopwords.extend(['http', 'lnkd'])\n",
    "    filtered_text = \" \".join([w for w in lemma_words if len(w) > 2 if w not in english_stopwords])\n",
    "\n",
    "    return filtered_text"
   ]
  },
  {
   "cell_type": "code",
   "execution_count": 10,
   "metadata": {},
   "outputs": [
    {
     "data": {
      "text/html": [
       "<div>\n",
       "<style scoped>\n",
       "    .dataframe tbody tr th:only-of-type {\n",
       "        vertical-align: middle;\n",
       "    }\n",
       "\n",
       "    .dataframe tbody tr th {\n",
       "        vertical-align: top;\n",
       "    }\n",
       "\n",
       "    .dataframe thead th {\n",
       "        text-align: right;\n",
       "    }\n",
       "</style>\n",
       "<table border=\"1\" class=\"dataframe\">\n",
       "  <thead>\n",
       "    <tr style=\"text-align: right;\">\n",
       "      <th></th>\n",
       "      <th>name</th>\n",
       "      <th>works_at</th>\n",
       "      <th>profile_url</th>\n",
       "      <th>posts</th>\n",
       "    </tr>\n",
       "  </thead>\n",
       "  <tbody>\n",
       "    <tr>\n",
       "      <th>0</th>\n",
       "      <td>Елена Хасанова</td>\n",
       "      <td>QA Head, QA Team-lead, QA-Lead, Наставник Янде...</td>\n",
       "      <td>https://www.linkedin.com/in/yelena-khassanova/</td>\n",
       "      <td>[['Минск, кто ищет стажировки QA - для вас 🙂 '...</td>\n",
       "    </tr>\n",
       "    <tr>\n",
       "      <th>1</th>\n",
       "      <td>Алексей Становкин</td>\n",
       "      <td>Ведущий Software QA Engineer</td>\n",
       "      <td>https://www.linkedin.com/in/alex7cri/</td>\n",
       "      <td>[['https://lnkd.in/gx-UipHF#нетУбийствам'], ['...</td>\n",
       "    </tr>\n",
       "    <tr>\n",
       "      <th>2</th>\n",
       "      <td>Дмитрий Липин</td>\n",
       "      <td>СТО в Yandex Platform Engineering</td>\n",
       "      <td>https://www.linkedin.com/in/dmitrylipin/</td>\n",
       "      <td>[['Очередной митап команды Yandex Infrastructu...</td>\n",
       "    </tr>\n",
       "    <tr>\n",
       "      <th>3</th>\n",
       "      <td>Ramil Gataullin</td>\n",
       "      <td>Data Engineer at Toptal</td>\n",
       "      <td>https://www.linkedin.com/in/yaugear/</td>\n",
       "      <td>[]</td>\n",
       "    </tr>\n",
       "    <tr>\n",
       "      <th>4</th>\n",
       "      <td>Александр Романов</td>\n",
       "      <td>CTO (CIO) at iRidi | Создаю и трансформирую си...</td>\n",
       "      <td>https://www.linkedin.com/in/romanovalexander/</td>\n",
       "      <td>[['Два дня преподавания в МГУ )))Провел 120 ст...</td>\n",
       "    </tr>\n",
       "    <tr>\n",
       "      <th>5</th>\n",
       "      <td>Aleksandr Shabanov</td>\n",
       "      <td>ML engineer</td>\n",
       "      <td>https://www.linkedin.com/in/alshabanov/</td>\n",
       "      <td>[['Hi everyone - I am looking for a new role a...</td>\n",
       "    </tr>\n",
       "    <tr>\n",
       "      <th>6</th>\n",
       "      <td>Pavel Kiryanov</td>\n",
       "      <td>QA Lead</td>\n",
       "      <td>https://www.linkedin.com/in/pavel-kiryanov-974...</td>\n",
       "      <td>[['Я вот человек простой, чет написал и коммен...</td>\n",
       "    </tr>\n",
       "    <tr>\n",
       "      <th>7</th>\n",
       "      <td>Maxim T.</td>\n",
       "      <td>DevOps Manager</td>\n",
       "      <td>https://www.linkedin.com/in/maxim-toropov/</td>\n",
       "      <td>[[\"I just earned a skill badge for MongoDB! Wh...</td>\n",
       "    </tr>\n",
       "    <tr>\n",
       "      <th>8</th>\n",
       "      <td>Amir Safiullin</td>\n",
       "      <td>Machine Learning Engineer</td>\n",
       "      <td>https://www.linkedin.com/in/safiullinamir/</td>\n",
       "      <td>[['22 июня, в 19:00, приглашаем на VK Tech Tal...</td>\n",
       "    </tr>\n",
       "    <tr>\n",
       "      <th>9</th>\n",
       "      <td>Soslan Tabuev</td>\n",
       "      <td>datascience.xyz</td>\n",
       "      <td>https://www.linkedin.com/in/soslan-tabuev/</td>\n",
       "      <td>[['An interesting review of Transformer Zoo by...</td>\n",
       "    </tr>\n",
       "  </tbody>\n",
       "</table>\n",
       "</div>"
      ],
      "text/plain": [
       "                 name                                           works_at  \\\n",
       "0      Елена Хасанова  QA Head, QA Team-lead, QA-Lead, Наставник Янде...   \n",
       "1   Алексей Становкин                       Ведущий Software QA Engineer   \n",
       "2       Дмитрий Липин                  СТО в Yandex Platform Engineering   \n",
       "3     Ramil Gataullin                            Data Engineer at Toptal   \n",
       "4   Александр Романов  CTO (CIO) at iRidi | Создаю и трансформирую си...   \n",
       "5  Aleksandr Shabanov                                        ML engineer   \n",
       "6      Pavel Kiryanov                                            QA Lead   \n",
       "7            Maxim T.                                     DevOps Manager   \n",
       "8      Amir Safiullin                          Machine Learning Engineer   \n",
       "9       Soslan Tabuev                                    datascience.xyz   \n",
       "\n",
       "                                         profile_url  \\\n",
       "0     https://www.linkedin.com/in/yelena-khassanova/   \n",
       "1              https://www.linkedin.com/in/alex7cri/   \n",
       "2           https://www.linkedin.com/in/dmitrylipin/   \n",
       "3               https://www.linkedin.com/in/yaugear/   \n",
       "4      https://www.linkedin.com/in/romanovalexander/   \n",
       "5            https://www.linkedin.com/in/alshabanov/   \n",
       "6  https://www.linkedin.com/in/pavel-kiryanov-974...   \n",
       "7         https://www.linkedin.com/in/maxim-toropov/   \n",
       "8         https://www.linkedin.com/in/safiullinamir/   \n",
       "9         https://www.linkedin.com/in/soslan-tabuev/   \n",
       "\n",
       "                                               posts  \n",
       "0  [['Минск, кто ищет стажировки QA - для вас 🙂 '...  \n",
       "1  [['https://lnkd.in/gx-UipHF#нетУбийствам'], ['...  \n",
       "2  [['Очередной митап команды Yandex Infrastructu...  \n",
       "3                                                 []  \n",
       "4  [['Два дня преподавания в МГУ )))Провел 120 ст...  \n",
       "5  [['Hi everyone - I am looking for a new role a...  \n",
       "6  [['Я вот человек простой, чет написал и коммен...  \n",
       "7  [[\"I just earned a skill badge for MongoDB! Wh...  \n",
       "8  [['22 июня, в 19:00, приглашаем на VK Tech Tal...  \n",
       "9  [['An interesting review of Transformer Zoo by...  "
      ]
     },
     "execution_count": 10,
     "metadata": {},
     "output_type": "execute_result"
    }
   ],
   "source": [
    "data = pd.read_csv('russian_mentors_raw.csv')\n",
    "data.head(10)"
   ]
  },
  {
   "cell_type": "code",
   "execution_count": 9,
   "metadata": {},
   "outputs": [
    {
     "data": {
      "text/plain": [
       "(303, 4)"
      ]
     },
     "execution_count": 9,
     "metadata": {},
     "output_type": "execute_result"
    }
   ],
   "source": [
    "data.shape"
   ]
  },
  {
   "attachments": {},
   "cell_type": "markdown",
   "metadata": {},
   "source": [
    "По просьбе заказчика мы исключаем менеджеров и маркетологов из выборки."
   ]
  },
  {
   "cell_type": "code",
   "execution_count": 44,
   "metadata": {},
   "outputs": [],
   "source": [
    "# exclude managers and marketologists\n",
    "data = data[(data['works_at'].str.contains('Manager')==False)\n",
    "             & (data['works_at'].str.contains('manager')==False)\n",
    "             & (data['works_at'].str.contains('Marketing')==False)\n",
    "             & (data['works_at'].str.contains('marketing')==False)].copy()"
   ]
  },
  {
   "cell_type": "code",
   "execution_count": 45,
   "metadata": {},
   "outputs": [
    {
     "name": "stdout",
     "output_type": "stream",
     "text": [
      "Число дубликатов 29\n"
     ]
    }
   ],
   "source": [
    "print(f'Число дубликатов {data.duplicated().sum()}')\n",
    "data.drop_duplicates(inplace=True)"
   ]
  },
  {
   "cell_type": "code",
   "execution_count": 46,
   "metadata": {},
   "outputs": [],
   "source": [
    "data['language'] = data['posts'].apply(detect_lang)\n",
    "\n",
    "data_russian = data.loc[(data['language'] == 'RUSSIAN') | (data['language'] == 'RUSSIAN AND ENGLISH')]\n",
    "data_russian = data_russian.reset_index(drop=True)\n",
    "\n",
    "data_english = data.loc[(data['language'] == 'ENGLISH') | (data['language'] == 'RUSSIAN AND ENGLISH')]\n",
    "data_english = data_english.reset_index(drop=True)"
   ]
  },
  {
   "cell_type": "code",
   "execution_count": 47,
   "metadata": {},
   "outputs": [
    {
     "data": {
      "text/plain": [
       "ENGLISH        84\n",
       "RUSSIAN        32\n",
       "AZERBAIJANI    10\n",
       "Name: language, dtype: int64"
      ]
     },
     "execution_count": 47,
     "metadata": {},
     "output_type": "execute_result"
    }
   ],
   "source": [
    "data['language'].value_counts()"
   ]
  },
  {
   "attachments": {},
   "cell_type": "markdown",
   "metadata": {},
   "source": [
    "Предобработаем русскоязычные и англоязычные тексты отдельно."
   ]
  },
  {
   "cell_type": "code",
   "execution_count": 48,
   "metadata": {},
   "outputs": [
    {
     "data": {
      "text/html": [
       "<div>\n",
       "<style scoped>\n",
       "    .dataframe tbody tr th:only-of-type {\n",
       "        vertical-align: middle;\n",
       "    }\n",
       "\n",
       "    .dataframe tbody tr th {\n",
       "        vertical-align: top;\n",
       "    }\n",
       "\n",
       "    .dataframe thead th {\n",
       "        text-align: right;\n",
       "    }\n",
       "</style>\n",
       "<table border=\"1\" class=\"dataframe\">\n",
       "  <thead>\n",
       "    <tr style=\"text-align: right;\">\n",
       "      <th></th>\n",
       "      <th>name</th>\n",
       "      <th>works_at</th>\n",
       "      <th>profile_url</th>\n",
       "      <th>posts</th>\n",
       "      <th>language</th>\n",
       "      <th>posts_processed</th>\n",
       "    </tr>\n",
       "  </thead>\n",
       "  <tbody>\n",
       "    <tr>\n",
       "      <th>0</th>\n",
       "      <td>Елена Хасанова</td>\n",
       "      <td>QA Head, QA Team-lead, QA-Lead, Наставник Янде...</td>\n",
       "      <td>https://www.linkedin.com/in/yelena-khassanova/</td>\n",
       "      <td>[['Минск, кто ищет стажировки QA - для вас 🙂 '...</td>\n",
       "      <td>RUSSIAN</td>\n",
       "      <td>минск искать стажировка созревать поделиться п...</td>\n",
       "    </tr>\n",
       "    <tr>\n",
       "      <th>1</th>\n",
       "      <td>Александр Романов</td>\n",
       "      <td>CTO (CIO) at iRidi | Создаю и трансформирую си...</td>\n",
       "      <td>https://www.linkedin.com/in/romanovalexander/</td>\n",
       "      <td>[['Два дня преподавания в МГУ )))Провел 120 ст...</td>\n",
       "      <td>RUSSIAN</td>\n",
       "      <td>день преподавание мгу проводить студент получе...</td>\n",
       "    </tr>\n",
       "    <tr>\n",
       "      <th>2</th>\n",
       "      <td>Pavel Kiryanov</td>\n",
       "      <td>QA Lead</td>\n",
       "      <td>https://www.linkedin.com/in/pavel-kiryanov-974...</td>\n",
       "      <td>[['Я вот человек простой, чет написал и коммен...</td>\n",
       "      <td>RUSSIAN</td>\n",
       "      <td>человек простой чета написать коммент читаюно ...</td>\n",
       "    </tr>\n",
       "    <tr>\n",
       "      <th>3</th>\n",
       "      <td>Александр Шобухов</td>\n",
       "      <td>CrowdFunding - Народное финансирование.</td>\n",
       "      <td>https://www.linkedin.com/in/%D0%B0%D0%BB%D0%B5...</td>\n",
       "      <td>[['Здравствуй Друг! Посмотри новый проект! Вы ...</td>\n",
       "      <td>RUSSIAN</td>\n",
       "      <td>друг посмотреть новый проект человек предприим...</td>\n",
       "    </tr>\n",
       "    <tr>\n",
       "      <th>4</th>\n",
       "      <td>Aleksandr Romanov</td>\n",
       "      <td>CTO (CIO) at iRidium mobile | I Create and Tra...</td>\n",
       "      <td>https://www.linkedin.com/in/romanovalexander/</td>\n",
       "      <td>[['Два дня преподавания в МГУ )))Провел 120 ст...</td>\n",
       "      <td>RUSSIAN</td>\n",
       "      <td>день преподавание мгу проводить студент получе...</td>\n",
       "    </tr>\n",
       "  </tbody>\n",
       "</table>\n",
       "</div>"
      ],
      "text/plain": [
       "                name                                           works_at  \\\n",
       "0     Елена Хасанова  QA Head, QA Team-lead, QA-Lead, Наставник Янде...   \n",
       "1  Александр Романов  CTO (CIO) at iRidi | Создаю и трансформирую си...   \n",
       "2     Pavel Kiryanov                                            QA Lead   \n",
       "3  Александр Шобухов            CrowdFunding - Народное финансирование.   \n",
       "4  Aleksandr Romanov  CTO (CIO) at iRidium mobile | I Create and Tra...   \n",
       "\n",
       "                                         profile_url  \\\n",
       "0     https://www.linkedin.com/in/yelena-khassanova/   \n",
       "1      https://www.linkedin.com/in/romanovalexander/   \n",
       "2  https://www.linkedin.com/in/pavel-kiryanov-974...   \n",
       "3  https://www.linkedin.com/in/%D0%B0%D0%BB%D0%B5...   \n",
       "4      https://www.linkedin.com/in/romanovalexander/   \n",
       "\n",
       "                                               posts language  \\\n",
       "0  [['Минск, кто ищет стажировки QA - для вас 🙂 '...  RUSSIAN   \n",
       "1  [['Два дня преподавания в МГУ )))Провел 120 ст...  RUSSIAN   \n",
       "2  [['Я вот человек простой, чет написал и коммен...  RUSSIAN   \n",
       "3  [['Здравствуй Друг! Посмотри новый проект! Вы ...  RUSSIAN   \n",
       "4  [['Два дня преподавания в МГУ )))Провел 120 ст...  RUSSIAN   \n",
       "\n",
       "                                     posts_processed  \n",
       "0  минск искать стажировка созревать поделиться п...  \n",
       "1  день преподавание мгу проводить студент получе...  \n",
       "2  человек простой чета написать коммент читаюно ...  \n",
       "3  друг посмотреть новый проект человек предприим...  \n",
       "4  день преподавание мгу проводить студент получе...  "
      ]
     },
     "execution_count": 48,
     "metadata": {},
     "output_type": "execute_result"
    }
   ],
   "source": [
    "data_russian['posts_processed'] = data_russian['posts'].apply(preprocess_rus_texts)\n",
    "data_russian.head()"
   ]
  },
  {
   "cell_type": "code",
   "execution_count": 49,
   "metadata": {},
   "outputs": [
    {
     "data": {
      "text/html": [
       "<div>\n",
       "<style scoped>\n",
       "    .dataframe tbody tr th:only-of-type {\n",
       "        vertical-align: middle;\n",
       "    }\n",
       "\n",
       "    .dataframe tbody tr th {\n",
       "        vertical-align: top;\n",
       "    }\n",
       "\n",
       "    .dataframe thead th {\n",
       "        text-align: right;\n",
       "    }\n",
       "</style>\n",
       "<table border=\"1\" class=\"dataframe\">\n",
       "  <thead>\n",
       "    <tr style=\"text-align: right;\">\n",
       "      <th></th>\n",
       "      <th>name</th>\n",
       "      <th>works_at</th>\n",
       "      <th>profile_url</th>\n",
       "      <th>posts</th>\n",
       "      <th>language</th>\n",
       "      <th>posts_processed</th>\n",
       "    </tr>\n",
       "  </thead>\n",
       "  <tbody>\n",
       "    <tr>\n",
       "      <th>0</th>\n",
       "      <td>Алексей Становкин</td>\n",
       "      <td>Ведущий Software QA Engineer</td>\n",
       "      <td>https://www.linkedin.com/in/alex7cri/</td>\n",
       "      <td>[['https://lnkd.in/gx-UipHF#нетУбийствам'], ['...</td>\n",
       "      <td>ENGLISH</td>\n",
       "      <td>uiphf engin interview without look resum crede...</td>\n",
       "    </tr>\n",
       "    <tr>\n",
       "      <th>1</th>\n",
       "      <td>Дмитрий Липин</td>\n",
       "      <td>СТО в Yandex Platform Engineering</td>\n",
       "      <td>https://www.linkedin.com/in/dmitrylipin/</td>\n",
       "      <td>[['Очередной митап команды Yandex Infrastructu...</td>\n",
       "      <td>ENGLISH</td>\n",
       "      <td>yandex infrastructur backend devop sre open so...</td>\n",
       "    </tr>\n",
       "    <tr>\n",
       "      <th>2</th>\n",
       "      <td>Aleksandr Shabanov</td>\n",
       "      <td>ML engineer</td>\n",
       "      <td>https://www.linkedin.com/in/alshabanov/</td>\n",
       "      <td>[['Hi everyone - I am looking for a new role a...</td>\n",
       "      <td>ENGLISH</td>\n",
       "      <td>everyon look new role would appreci support th...</td>\n",
       "    </tr>\n",
       "    <tr>\n",
       "      <th>3</th>\n",
       "      <td>Amir Safiullin</td>\n",
       "      <td>Machine Learning Engineer</td>\n",
       "      <td>https://www.linkedin.com/in/safiullinamir/</td>\n",
       "      <td>[['22 июня, в 19:00, приглашаем на VK Tech Tal...</td>\n",
       "      <td>ENGLISH</td>\n",
       "      <td>tech talk coheua implicit feedback need vktech...</td>\n",
       "    </tr>\n",
       "    <tr>\n",
       "      <th>4</th>\n",
       "      <td>Soslan Tabuev</td>\n",
       "      <td>datascience.xyz</td>\n",
       "      <td>https://www.linkedin.com/in/soslan-tabuev/</td>\n",
       "      <td>[['An interesting review of Transformer Zoo by...</td>\n",
       "      <td>ENGLISH</td>\n",
       "      <td>interest review transform zoo grigori sapunov ...</td>\n",
       "    </tr>\n",
       "  </tbody>\n",
       "</table>\n",
       "</div>"
      ],
      "text/plain": [
       "                 name                           works_at  \\\n",
       "0   Алексей Становкин       Ведущий Software QA Engineer   \n",
       "1       Дмитрий Липин  СТО в Yandex Platform Engineering   \n",
       "2  Aleksandr Shabanov                        ML engineer   \n",
       "3      Amir Safiullin          Machine Learning Engineer   \n",
       "4       Soslan Tabuev                    datascience.xyz   \n",
       "\n",
       "                                  profile_url  \\\n",
       "0       https://www.linkedin.com/in/alex7cri/   \n",
       "1    https://www.linkedin.com/in/dmitrylipin/   \n",
       "2     https://www.linkedin.com/in/alshabanov/   \n",
       "3  https://www.linkedin.com/in/safiullinamir/   \n",
       "4  https://www.linkedin.com/in/soslan-tabuev/   \n",
       "\n",
       "                                               posts language  \\\n",
       "0  [['https://lnkd.in/gx-UipHF#нетУбийствам'], ['...  ENGLISH   \n",
       "1  [['Очередной митап команды Yandex Infrastructu...  ENGLISH   \n",
       "2  [['Hi everyone - I am looking for a new role a...  ENGLISH   \n",
       "3  [['22 июня, в 19:00, приглашаем на VK Tech Tal...  ENGLISH   \n",
       "4  [['An interesting review of Transformer Zoo by...  ENGLISH   \n",
       "\n",
       "                                     posts_processed  \n",
       "0  uiphf engin interview without look resum crede...  \n",
       "1  yandex infrastructur backend devop sre open so...  \n",
       "2  everyon look new role would appreci support th...  \n",
       "3  tech talk coheua implicit feedback need vktech...  \n",
       "4  interest review transform zoo grigori sapunov ...  "
      ]
     },
     "execution_count": 49,
     "metadata": {},
     "output_type": "execute_result"
    }
   ],
   "source": [
    "data_english['posts_processed'] = data_english['posts'].apply(preprocess_eng_texts)\n",
    "data_english.head()"
   ]
  },
  {
   "cell_type": "code",
   "execution_count": 50,
   "metadata": {},
   "outputs": [
    {
     "name": "stdout",
     "output_type": "stream",
     "text": [
      "Кол-во русскоязычных авторов: 32\n"
     ]
    }
   ],
   "source": [
    "print(f'Кол-во русскоязычных авторов: {data_russian.shape[0]}')"
   ]
  },
  {
   "cell_type": "code",
   "execution_count": 51,
   "metadata": {},
   "outputs": [
    {
     "name": "stdout",
     "output_type": "stream",
     "text": [
      "Кол-во англоязычных авторов:84\n"
     ]
    }
   ],
   "source": [
    "print(f'Кол-во англоязычных авторов:{data_english.shape[0]}')"
   ]
  },
  {
   "attachments": {},
   "cell_type": "markdown",
   "metadata": {},
   "source": [
    "Остальные пользователи, которые попали в выборку, еще не опубликовали публикации на своих страницах."
   ]
  },
  {
   "cell_type": "code",
   "execution_count": 52,
   "metadata": {},
   "outputs": [
    {
     "data": {
      "text/plain": [
       "0    [минск, искать, стажировка, созревать, поделит...\n",
       "1    [день, преподавание, мгу, проводить, студент, ...\n",
       "2    [человек, простой, чета, написать, коммент, чи...\n",
       "3    [друг, посмотреть, новый, проект, человек, пре...\n",
       "4    [день, преподавание, мгу, проводить, студент, ...\n",
       "Name: words, dtype: object"
      ]
     },
     "execution_count": 52,
     "metadata": {},
     "output_type": "execute_result"
    }
   ],
   "source": [
    "data_russian['words'] = data_russian['posts_processed'].apply(lambda series: series.split())\n",
    "data_russian['words'].head()"
   ]
  },
  {
   "cell_type": "code",
   "execution_count": 53,
   "metadata": {},
   "outputs": [
    {
     "data": {
      "text/plain": [
       "0    [uiphf, engin, interview, without, look, resum...\n",
       "1    [yandex, infrastructur, backend, devop, sre, o...\n",
       "2    [everyon, look, new, role, would, appreci, sup...\n",
       "3    [tech, talk, coheua, implicit, feedback, need,...\n",
       "4    [interest, review, transform, zoo, grigori, sa...\n",
       "Name: words, dtype: object"
      ]
     },
     "execution_count": 53,
     "metadata": {},
     "output_type": "execute_result"
    }
   ],
   "source": [
    "data_english['words'] = data_english['posts_processed'].apply(lambda series: series.split())\n",
    "data_english['words'].head()"
   ]
  },
  {
   "attachments": {},
   "cell_type": "markdown",
   "metadata": {},
   "source": [
    "Данные сохраняем в отдельные массивы **data_russian.csv** и **data_english.csv**."
   ]
  },
  {
   "cell_type": "code",
   "execution_count": 54,
   "metadata": {},
   "outputs": [],
   "source": [
    "data_russian.to_csv('data_russian.csv')\n",
    "data_english.to_csv('data_english.csv')"
   ]
  },
  {
   "attachments": {},
   "cell_type": "markdown",
   "metadata": {},
   "source": [
    "### <a id='toc1_1_3_'></a>[Построение языковой модели](#toc0_)"
   ]
  },
  {
   "attachments": {},
   "cell_type": "markdown",
   "metadata": {},
   "source": [
    "#### <a id='toc1_1_3_1_'></a>[Основные этапы](#toc0_)\n",
    "- Анализ и выделение 100 постов с большей частотой встречающихся слов\n",
    "- Создание Topic Modeling на всех постах\n",
    "- Создание тетрадки в Jupiter\n",
    "\n",
    "#### <a id='toc1_1_3_2_'></a>[Основные результаты](#toc0_)\n",
    "- Были выделены 100 постов с большей частотой встречающихся слов\n",
    "- Основной фокус исследования на русскоязычных постах (в соответсвии с запросом заказчика)\n",
    "- Но в качестве эксперимента мы также строим англоязычную языковую модель (в отдельном разделе). Это решение связано с тем, что многие менторы ориентируются на более широкую аудиторию, не только русскоязычную\n",
    "- Для построения языковой модели мы рассматривали каждый пост автора – это отдельный текст (удалось выделить топ-10 тем)\n",
    "- Была построена языковая модель по топ-10 популярным темам (по количеству реакций), которые обозревали менторы\n",
    "- Результаты моделирования были проинтерпретированы: были расшифрованы полученные темы\n",
    "- Код для сбора, обработки данных и для построения модели был структурирован в Jupiter тетрадке"
   ]
  },
  {
   "cell_type": "code",
   "execution_count": 55,
   "metadata": {},
   "outputs": [],
   "source": [
    "data.reset_index(drop=True, inplace=True)"
   ]
  },
  {
   "cell_type": "code",
   "execution_count": 56,
   "metadata": {},
   "outputs": [
    {
     "data": {
      "text/html": [
       "<div>\n",
       "<style scoped>\n",
       "    .dataframe tbody tr th:only-of-type {\n",
       "        vertical-align: middle;\n",
       "    }\n",
       "\n",
       "    .dataframe tbody tr th {\n",
       "        vertical-align: top;\n",
       "    }\n",
       "\n",
       "    .dataframe thead th {\n",
       "        text-align: right;\n",
       "    }\n",
       "</style>\n",
       "<table border=\"1\" class=\"dataframe\">\n",
       "  <thead>\n",
       "    <tr style=\"text-align: right;\">\n",
       "      <th></th>\n",
       "      <th>name</th>\n",
       "      <th>works_at</th>\n",
       "      <th>profile_url</th>\n",
       "      <th>posts</th>\n",
       "      <th>language</th>\n",
       "    </tr>\n",
       "  </thead>\n",
       "  <tbody>\n",
       "    <tr>\n",
       "      <th>0</th>\n",
       "      <td>Елена Хасанова</td>\n",
       "      <td>QA Head, QA Team-lead, QA-Lead, Наставник Янде...</td>\n",
       "      <td>https://www.linkedin.com/in/yelena-khassanova/</td>\n",
       "      <td>[['Минск, кто ищет стажировки QA - для вас 🙂 '...</td>\n",
       "      <td>RUSSIAN</td>\n",
       "    </tr>\n",
       "    <tr>\n",
       "      <th>1</th>\n",
       "      <td>Алексей Становкин</td>\n",
       "      <td>Ведущий Software QA Engineer</td>\n",
       "      <td>https://www.linkedin.com/in/alex7cri/</td>\n",
       "      <td>[['https://lnkd.in/gx-UipHF#нетУбийствам'], ['...</td>\n",
       "      <td>ENGLISH</td>\n",
       "    </tr>\n",
       "    <tr>\n",
       "      <th>2</th>\n",
       "      <td>Дмитрий Липин</td>\n",
       "      <td>СТО в Yandex Platform Engineering</td>\n",
       "      <td>https://www.linkedin.com/in/dmitrylipin/</td>\n",
       "      <td>[['Очередной митап команды Yandex Infrastructu...</td>\n",
       "      <td>ENGLISH</td>\n",
       "    </tr>\n",
       "    <tr>\n",
       "      <th>3</th>\n",
       "      <td>Ramil Gataullin</td>\n",
       "      <td>Data Engineer at Toptal</td>\n",
       "      <td>https://www.linkedin.com/in/yaugear/</td>\n",
       "      <td>[]</td>\n",
       "      <td>None</td>\n",
       "    </tr>\n",
       "    <tr>\n",
       "      <th>4</th>\n",
       "      <td>Александр Романов</td>\n",
       "      <td>CTO (CIO) at iRidi | Создаю и трансформирую си...</td>\n",
       "      <td>https://www.linkedin.com/in/romanovalexander/</td>\n",
       "      <td>[['Два дня преподавания в МГУ )))Провел 120 ст...</td>\n",
       "      <td>RUSSIAN</td>\n",
       "    </tr>\n",
       "    <tr>\n",
       "      <th>5</th>\n",
       "      <td>Aleksandr Shabanov</td>\n",
       "      <td>ML engineer</td>\n",
       "      <td>https://www.linkedin.com/in/alshabanov/</td>\n",
       "      <td>[['Hi everyone - I am looking for a new role a...</td>\n",
       "      <td>ENGLISH</td>\n",
       "    </tr>\n",
       "    <tr>\n",
       "      <th>6</th>\n",
       "      <td>Pavel Kiryanov</td>\n",
       "      <td>QA Lead</td>\n",
       "      <td>https://www.linkedin.com/in/pavel-kiryanov-974...</td>\n",
       "      <td>[['Я вот человек простой, чет написал и коммен...</td>\n",
       "      <td>RUSSIAN</td>\n",
       "    </tr>\n",
       "    <tr>\n",
       "      <th>7</th>\n",
       "      <td>Amir Safiullin</td>\n",
       "      <td>Machine Learning Engineer</td>\n",
       "      <td>https://www.linkedin.com/in/safiullinamir/</td>\n",
       "      <td>[['22 июня, в 19:00, приглашаем на VK Tech Tal...</td>\n",
       "      <td>ENGLISH</td>\n",
       "    </tr>\n",
       "    <tr>\n",
       "      <th>8</th>\n",
       "      <td>Soslan Tabuev</td>\n",
       "      <td>datascience.xyz</td>\n",
       "      <td>https://www.linkedin.com/in/soslan-tabuev/</td>\n",
       "      <td>[['An interesting review of Transformer Zoo by...</td>\n",
       "      <td>ENGLISH</td>\n",
       "    </tr>\n",
       "    <tr>\n",
       "      <th>9</th>\n",
       "      <td>Alexander Konkin</td>\n",
       "      <td>Business Data Science Team Lead – Exness</td>\n",
       "      <td>https://www.linkedin.com/in/alexander-konkin-0...</td>\n",
       "      <td>[]</td>\n",
       "      <td>None</td>\n",
       "    </tr>\n",
       "  </tbody>\n",
       "</table>\n",
       "</div>"
      ],
      "text/plain": [
       "                 name                                           works_at  \\\n",
       "0      Елена Хасанова  QA Head, QA Team-lead, QA-Lead, Наставник Янде...   \n",
       "1   Алексей Становкин                       Ведущий Software QA Engineer   \n",
       "2       Дмитрий Липин                  СТО в Yandex Platform Engineering   \n",
       "3     Ramil Gataullin                            Data Engineer at Toptal   \n",
       "4   Александр Романов  CTO (CIO) at iRidi | Создаю и трансформирую си...   \n",
       "5  Aleksandr Shabanov                                        ML engineer   \n",
       "6      Pavel Kiryanov                                            QA Lead   \n",
       "7      Amir Safiullin                          Machine Learning Engineer   \n",
       "8       Soslan Tabuev                                    datascience.xyz   \n",
       "9    Alexander Konkin           Business Data Science Team Lead – Exness   \n",
       "\n",
       "                                         profile_url  \\\n",
       "0     https://www.linkedin.com/in/yelena-khassanova/   \n",
       "1              https://www.linkedin.com/in/alex7cri/   \n",
       "2           https://www.linkedin.com/in/dmitrylipin/   \n",
       "3               https://www.linkedin.com/in/yaugear/   \n",
       "4      https://www.linkedin.com/in/romanovalexander/   \n",
       "5            https://www.linkedin.com/in/alshabanov/   \n",
       "6  https://www.linkedin.com/in/pavel-kiryanov-974...   \n",
       "7         https://www.linkedin.com/in/safiullinamir/   \n",
       "8         https://www.linkedin.com/in/soslan-tabuev/   \n",
       "9  https://www.linkedin.com/in/alexander-konkin-0...   \n",
       "\n",
       "                                               posts language  \n",
       "0  [['Минск, кто ищет стажировки QA - для вас 🙂 '...  RUSSIAN  \n",
       "1  [['https://lnkd.in/gx-UipHF#нетУбийствам'], ['...  ENGLISH  \n",
       "2  [['Очередной митап команды Yandex Infrastructu...  ENGLISH  \n",
       "3                                                 []     None  \n",
       "4  [['Два дня преподавания в МГУ )))Провел 120 ст...  RUSSIAN  \n",
       "5  [['Hi everyone - I am looking for a new role a...  ENGLISH  \n",
       "6  [['Я вот человек простой, чет написал и коммен...  RUSSIAN  \n",
       "7  [['22 июня, в 19:00, приглашаем на VK Tech Tal...  ENGLISH  \n",
       "8  [['An interesting review of Transformer Zoo by...  ENGLISH  \n",
       "9                                                 []     None  "
      ]
     },
     "execution_count": 56,
     "metadata": {},
     "output_type": "execute_result"
    }
   ],
   "source": [
    "data.head(10)"
   ]
  },
  {
   "cell_type": "code",
   "execution_count": 57,
   "metadata": {},
   "outputs": [
    {
     "data": {
      "text/plain": [
       "0      [['Минск, кто ищет стажировки QA - для вас 🙂 '...\n",
       "4      [['Два дня преподавания в МГУ )))Провел 120 ст...\n",
       "6      [['Я вот человек простой, чет написал и коммен...\n",
       "17     [['Здравствуй Друг! Посмотри новый проект! Вы ...\n",
       "19     [['Два дня преподавания в МГУ )))Провел 120 ст...\n",
       "22     [['Решил написать ответ на часто задаваемый во...\n",
       "26     [[\"26 сентября в рамках международной онлайн-к...\n",
       "37     [['К сожалению, бизнес-модель многих компаний ...\n",
       "40     [['Друзья, я с новостями!⠀Студия творческих пр...\n",
       "42     [['Свежее и очень личное, дистиллированное до ...\n",
       "45     [['Друзья! В нашу чудесную команду SuperJob ра...\n",
       "58     [['Если вы новичок в интернет бизнесе и только...\n",
       "61     [['С удовольствием сообщаю, что я начинаю рабо...\n",
       "62     [['Хочется сменить финансы в строительной комп...\n",
       "70     [['Команда номер 1 :-)) Спасибо вам за возможн...\n",
       "76     [['С удовольствием сообщаю, что я начинаю рабо...\n",
       "79     [['Лайкните, пожалуйста, моё видео «Борис Викт...\n",
       "81     [['Присоединяйтесь к ФИНСОЮЗ-у https://t.me/to...\n",
       "83     [['Мой коучинговый год в цифрахХочется подвест...\n",
       "89     [['Завершено ещё одно великолепное android-при...\n",
       "91     [['Ищу к себе в команду сильного дизайнера с о...\n",
       "98     [['Привет!Я в поиске новой карьерной возможнос...\n",
       "102                 [['ищем классного человека!', '12']]\n",
       "103    [['Как и когда мы начинаем учиться обращаться ...\n",
       "110    [['Большая подборка материалов для Data Scienc...\n",
       "112    [['Сегодня очно провожу очередную лекцию в  Вы...\n",
       "135    [['Сегодня, 6 июня в 17:00 по Москве проведем ...\n",
       "146    [['Менторы - чем вам помогут и где искать? Час...\n",
       "150    [['Коллеги всем привет! Начал вести свой блог,...\n",
       "172    [['Приходите к нам!#вакансии #аналитика #hirin...\n",
       "179    [['Как и Тед Лассо решил покинуть ФК Ричмонд т...\n",
       "191    [['С удовольствием сообщаю, что я начинаю рабо...\n",
       "Name: posts, dtype: object"
      ]
     },
     "execution_count": 57,
     "metadata": {},
     "output_type": "execute_result"
    }
   ],
   "source": [
    "data.loc[(data['language'] == 'RUSSIAN') | (data['language'] == 'RUSSIAN AND ENGLISH'), 'posts']"
   ]
  },
  {
   "attachments": {},
   "cell_type": "markdown",
   "metadata": {},
   "source": [
    "Теперь посмотрим, сколько в сумме русскоязычных постов написали менторы."
   ]
  },
  {
   "cell_type": "code",
   "execution_count": 58,
   "metadata": {},
   "outputs": [],
   "source": [
    "texts_list = []\n",
    "def get_texts(series):\n",
    "    texts = re.findall(r\"'(.+?)',\\s*\\d+\\b|\\['(.+?)'\", series)\n",
    "    for text in range(len(texts)):\n",
    "        texts_list.append(texts[text][1])\n",
    "\n",
    "\n",
    "data.loc[(data['language'] == 'RUSSIAN') | (data['language'] == 'RUSSIAN AND ENGLISH'), 'posts'].apply(get_texts);"
   ]
  },
  {
   "cell_type": "code",
   "execution_count": 59,
   "metadata": {},
   "outputs": [
    {
     "name": "stdout",
     "output_type": "stream",
     "text": [
      "Всего текстов 219\n"
     ]
    }
   ],
   "source": [
    "print(f'Всего текстов {len(texts_list)}')"
   ]
  },
  {
   "cell_type": "code",
   "execution_count": 60,
   "metadata": {},
   "outputs": [],
   "source": [
    "processed_texts = []\n",
    "for text in texts_list:\n",
    "    processed_texts.append(preprocess_rus_texts(text))"
   ]
  },
  {
   "cell_type": "code",
   "execution_count": 61,
   "metadata": {},
   "outputs": [
    {
     "data": {
      "text/plain": [
       "['минск искать стажировка',\n",
       " 'созревать поделиться признание заслуга яндекс практикум возможность',\n",
       " 'ребята появляться свободный время обновление курс открывать различный формат сотрудничество репост рад конференция митапа подкастый интервью статья издание тестировщик преподаватель создатель авторский курс сообщество аудитория человек основный гордость мочь полезный друг друг знать находить писать телегр отдельный пункт прямой эфир канал писать форма регистрация прочий ништяки информация эфир ждать близко осень',\n",
       " 'отдельно продублируюсейчас искать ревьюер следующий курсы ревьюер курс разработчик ревьюер курс системный аналитик ревьюер курс бизнес аналитик',\n",
       " 'начинать работа тестировщик поддержка выпускник курс упорно искать работа сразу тестирование сложный почему рассматриваться вакансия служба технический поддержка поддержка иметь несколько уровень просто телефон начинать разбирать быстрый обращение пользователь уровень проводить анализ уровень подразумевать анализ проблема прод сбор логово анализ требование заведение баг эпик необходимость бывать запрос крупный ита компания частенько бывать случай переход тестирование именно поддержка заниматься набор удовольствие приглашать собеседование специалист поддержка стрессоустойчивый мобильный грамотный методичный понимать боль пользователь иметь опыт анализ проблема хороший технический скилла хотя бывать специфический довольно легко доучивать мнение вполне хороший старт тестирование технический поддержка друг коллега лида смотреть опыт поддержка случай поиск работа работа']"
      ]
     },
     "execution_count": 61,
     "metadata": {},
     "output_type": "execute_result"
    }
   ],
   "source": [
    "processed_texts[:5]"
   ]
  },
  {
   "cell_type": "code",
   "execution_count": 62,
   "metadata": {},
   "outputs": [],
   "source": [
    "processed_texts = [i.split() for i in processed_texts if i != '']"
   ]
  },
  {
   "attachments": {},
   "cell_type": "markdown",
   "metadata": {},
   "source": [
    "В результате мы получили списки слов из каждого поста."
   ]
  },
  {
   "cell_type": "code",
   "execution_count": 63,
   "metadata": {},
   "outputs": [
    {
     "data": {
      "text/plain": [
       "['ребята',\n",
       " 'появляться',\n",
       " 'свободный',\n",
       " 'время',\n",
       " 'обновление',\n",
       " 'курс',\n",
       " 'открывать',\n",
       " 'различный',\n",
       " 'формат',\n",
       " 'сотрудничество',\n",
       " 'репост',\n",
       " 'рад',\n",
       " 'конференция',\n",
       " 'митапа',\n",
       " 'подкастый',\n",
       " 'интервью',\n",
       " 'статья',\n",
       " 'издание',\n",
       " 'тестировщик',\n",
       " 'преподаватель',\n",
       " 'создатель',\n",
       " 'авторский',\n",
       " 'курс',\n",
       " 'сообщество',\n",
       " 'аудитория',\n",
       " 'человек',\n",
       " 'основный',\n",
       " 'гордость',\n",
       " 'мочь',\n",
       " 'полезный',\n",
       " 'друг',\n",
       " 'друг',\n",
       " 'знать',\n",
       " 'находить',\n",
       " 'писать',\n",
       " 'телегр',\n",
       " 'отдельный',\n",
       " 'пункт',\n",
       " 'прямой',\n",
       " 'эфир',\n",
       " 'канал',\n",
       " 'писать',\n",
       " 'форма',\n",
       " 'регистрация',\n",
       " 'прочий',\n",
       " 'ништяки',\n",
       " 'информация',\n",
       " 'эфир',\n",
       " 'ждать',\n",
       " 'близко',\n",
       " 'осень']"
      ]
     },
     "execution_count": 63,
     "metadata": {},
     "output_type": "execute_result"
    }
   ],
   "source": [
    "processed_texts[2]"
   ]
  },
  {
   "cell_type": "code",
   "execution_count": 64,
   "metadata": {},
   "outputs": [
    {
     "name": "stdout",
     "output_type": "stream",
     "text": [
      "Опубликовано русскоязычных текстов: 177\n"
     ]
    }
   ],
   "source": [
    "print(f'Опубликовано русскоязычных текстов: {len(processed_texts)}')"
   ]
  },
  {
   "attachments": {},
   "cell_type": "markdown",
   "metadata": {},
   "source": [
    "Всего было опубликовано 177 русскоязычных постов. На основе этих данных мы будем строить модель. На первом шаге воспользуемся методами библиотеки *gensim*, чтобы получить биграмы из слов в текстах."
   ]
  },
  {
   "cell_type": "code",
   "execution_count": 65,
   "metadata": {},
   "outputs": [],
   "source": [
    "bigram = gensim.models.Phrases(processed_texts) # higher threshold fewer phrases\n",
    "bigram_mod = gensim.models.phrases.Phraser(bigram)\n",
    "\n",
    "def make_bigrams(texts):\n",
    "    return [bigram_mod[doc] for doc in texts]"
   ]
  },
  {
   "cell_type": "code",
   "execution_count": 66,
   "metadata": {},
   "outputs": [],
   "source": [
    "# Create bigrams\n",
    "data_words_bigrams = make_bigrams(processed_texts)"
   ]
  },
  {
   "attachments": {},
   "cell_type": "markdown",
   "metadata": {},
   "source": [
    "Далее посмотрим на сформированный корпус текстов."
   ]
  },
  {
   "cell_type": "code",
   "execution_count": 67,
   "metadata": {},
   "outputs": [
    {
     "name": "stdout",
     "output_type": "stream",
     "text": [
      "[[(0, 1), (1, 1), (2, 1)], [(3, 1), (4, 1), (5, 1), (6, 1), (7, 1), (8, 1), (9, 1)]]\n"
     ]
    }
   ],
   "source": [
    "# Create Dictionary\n",
    "id2word = corpora.Dictionary(data_words_bigrams)\n",
    "# Create Corpus\n",
    "texts = data_words_bigrams\n",
    "# Term Document Frequency\n",
    "corpus = [id2word.doc2bow(text) for text in texts]\n",
    "# View\n",
    "print(corpus[:2])"
   ]
  },
  {
   "cell_type": "code",
   "execution_count": 68,
   "metadata": {},
   "outputs": [
    {
     "data": {
      "text/plain": [
       "'доучивать'"
      ]
     },
     "execution_count": 68,
     "metadata": {},
     "output_type": "execute_result"
    }
   ],
   "source": [
    "id2word[76]"
   ]
  },
  {
   "cell_type": "code",
   "execution_count": 69,
   "metadata": {},
   "outputs": [
    {
     "data": {
      "text/plain": [
       "[[('проводить', 1),\n",
       "  ('студент', 1),\n",
       "  ('день', 1),\n",
       "  ('знание', 1),\n",
       "  ('мгу', 1),\n",
       "  ('навык', 1),\n",
       "  ('подход', 1),\n",
       "  ('получение', 1),\n",
       "  ('предпринимательство', 1),\n",
       "  ('преподавание', 1),\n",
       "  ('продуктовый', 1),\n",
       "  ('тема', 1),\n",
       "  ('технологичный', 1)]]"
      ]
     },
     "execution_count": 69,
     "metadata": {},
     "output_type": "execute_result"
    }
   ],
   "source": [
    "# Human readable format of corpus (term-frequency)\n",
    "[[(id2word[id], freq) for id, freq in cp] for cp in corpus[10:11]]"
   ]
  },
  {
   "attachments": {},
   "cell_type": "markdown",
   "metadata": {},
   "source": [
    "Наконец, обучим языковую модель."
   ]
  },
  {
   "cell_type": "code",
   "execution_count": 70,
   "metadata": {},
   "outputs": [],
   "source": [
    "# Build LDA model\n",
    "lda_model = gensim.models.ldamodel.LdaModel(corpus=corpus, \n",
    "                                            id2word=id2word,\n",
    "                                            num_topics=10, \n",
    "                                            random_state=100,\n",
    "                                            update_every=20,#как часто параметры модели должны обновляться\n",
    "                                            chunksize=5, #количество документов, которые будут использоваться в каждом обучающем чанке\n",
    "                                            passes=100, #общее количество проходов обучения\n",
    "                                            alpha='symmetric', #влияет на разреженность тем\n",
    "                                            per_word_topics=True)"
   ]
  },
  {
   "attachments": {},
   "cell_type": "markdown",
   "metadata": {},
   "source": [
    "Визуализируем наши темы. Нам удалось не только добиться максимальной разреженности темы, но и получить содержательные и интерпретируемые темы."
   ]
  },
  {
   "cell_type": "code",
   "execution_count": 72,
   "metadata": {},
   "outputs": [
    {
     "name": "stderr",
     "output_type": "stream",
     "text": [
      "/Users/anshilina/opt/anaconda3/lib/python3.9/site-packages/pyLDAvis/_prepare.py:246: FutureWarning: In a future version of pandas all arguments of DataFrame.drop except for the argument 'labels' will be keyword-only.\n",
      "  default_term_info = default_term_info.sort_values(\n"
     ]
    },
    {
     "data": {
      "text/html": [
       "\n",
       "<link rel=\"stylesheet\" type=\"text/css\" href=\"https://cdn.jsdelivr.net/gh/bmabey/pyLDAvis@3.3.1/pyLDAvis/js/ldavis.v1.0.0.css\">\n",
       "\n",
       "\n",
       "<div id=\"ldavis_el431651403968096020964830557139\"></div>\n",
       "<script type=\"text/javascript\">\n",
       "\n",
       "var ldavis_el431651403968096020964830557139_data = {\"mdsDat\": {\"x\": [-0.0052826331972618875, 0.06343131756434037, 0.1717829398940313, -0.11547201631556891, 0.08336076788997834, -0.06294379997478391, -0.04809507430912762, 0.0007680823209581403, -0.020562393916018294, -0.06698718995654744], \"y\": [-0.13098230143175923, -0.019880599024923055, -0.025998598696592295, -0.021626876475284263, 0.042348190577049825, -0.11449692852732586, 0.10844103773516515, 0.09737607066848786, 0.02765085486502217, 0.03716915031015963], \"topics\": [1, 2, 3, 4, 5, 6, 7, 8, 9, 10], \"cluster\": [1, 1, 1, 1, 1, 1, 1, 1, 1, 1], \"Freq\": [20.61911586691247, 16.22188508083591, 13.986623991693536, 13.571980919229167, 9.325852375690834, 8.041265637159006, 7.232440391548028, 4.579992546633946, 3.786978036506625, 2.6338651537904783]}, \"tinfo\": {\"Term\": [\"\\u043f\\u043b\\u0430\\u043d\", \"\\u0446\\u0435\\u043b\\u044c\", \"\\u043f\\u0440\\u043e\\u0434\\u0430\\u0432\\u0430\\u0442\\u044c\", \"\\u0437\\u0430\\u0434\\u0430\\u0447\\u0430\", \"\\u0442\\u0435\\u043c\\u0430\", \"\\u043e\\u043f\\u044b\\u0442\", \"\\u043c\\u0435\\u043d\\u0442\\u043e\\u0440\", \"\\u043c\\u043e\\u0434\\u0435\\u043b\\u044c\", \"\\u043f\\u0440\\u043e\\u0432\\u043e\\u0434\\u0438\\u0442\\u044c\", \"\\u043d\\u043e\\u0432\\u044b\\u0439\", \"\\u0432\\u0435\\u0431\\u0438\\u043d\\u0430\\u0440\", \"\\u043a\\u043e\\u043c\\u0430\\u043d\\u0434\\u0430\", \"\\u0445\\u043e\\u0442\\u0435\\u0442\\u044c\", \"\\u043a\\u0443\\u0440\\u0441\", \"\\u043f\\u0440\\u0430\\u043a\\u0442\\u0438\\u043a\\u0430\", \"\\u0440\\u0430\\u0431\\u043e\\u0442\\u0430\\u0442\\u044c\", \"\\u0440\\u0435\\u0448\\u0435\\u043d\\u0438\\u0435\", \"\\u043f\\u043e\\u043b\\u0443\\u0447\\u0430\\u0442\\u044c\", \"\\u0437\\u043d\\u0430\\u043d\\u0438\\u0435\", \"\\u0434\\u0435\\u043d\\u044c\", \"\\u0433\\u0440\\u0443\\u043f\\u043f\\u043e\\u0432\\u043e\\u0439_\\u043c\\u0435\\u043d\\u0442\\u043e\\u0440\\u0438\\u043d\\u0433\", \"\\u043f\\u0440\\u043e\\u0435\\u043a\\u0442\", \"\\u0433\\u0438\\u043f\\u043e\\u0442\\u0435\\u0437\\u0430\", \"\\u0438\\u0441\\u043a\\u0430\\u0442\\u044c\", \"\\u043a\\u0430\\u0447\\u0435\\u0441\\u0442\\u0432\\u043e\", \"\\u043d\\u0435\\u0434\\u0435\\u043b\\u044f\", \"\\u0440\\u0430\\u0437\\u0432\\u0438\\u0442\\u0438\\u0435\", \"\\u0440\\u0430\\u0431\\u043e\\u0442\\u0430\", \"\\u0433\\u043e\\u0440\\u0438\\u0437\\u043e\\u043d\\u0442\", \"\\u043c\\u0435\\u043d\\u0442\\u043e\\u0440\\u0438\\u043d\\u0433\", \"\\u043a\\u043e\\u0443\\u0447\\u0438\\u043d\\u0433\", \"\\u0443\\u0434\\u043e\\u0432\\u043e\\u043b\\u044c\\u0441\\u0442\\u0432\\u0438\\u0435\", \"\\u043c\\u0435\\u043d\\u0442\\u043e\\u0440\\u0438\\u043d\\u0433\", \"\\u0432\\u043c\\u0435\\u0441\\u0442\\u0435\", \"\\u0442\\u0435\\u043b\\u0435\\u0433\\u0440\\u0430\\u043c\\u043c\\u0430\", \"\\u0443\\u0432\\u0435\\u0440\\u0435\\u043d\\u043d\\u043e\\u0441\\u0442\\u044c\", \"\\u043a\\u0430\\u0440\\u044c\\u0435\\u0440\\u043d\\u044b\\u0439\", \"\\u043a\\u0430\\u0442\\u044f\", \"\\u0440\\u044f\\u0434\\u043e\\u043c\", \"\\u043d\\u0440\\u0430\\u0432\\u0438\\u0442\\u044c\\u0441\\u044f\", \"\\u043e\\u0444\\u0438\\u0441\", \"\\u043f\\u043e\\u0434\\u043f\\u0438\\u0441\\u044b\\u0432\\u0430\\u0442\\u044c\\u0441\\u044f\", \"\\u0441\\u043e\\u0431\\u0435\\u0441\\u0435\\u0434\\u043e\\u0432\\u0430\\u043d\\u0438\\u0435\", \"\\u0434\\u043e\\u043b\\u0436\\u043d\\u043e\\u0441\\u0442\\u044c\", \"\\u0441\\u043e\\u043e\\u0431\\u0449\\u0430\\u0442\\u044c\", \"\\u0433\\u0440\\u0443\\u043f\\u043f\\u043e\\u0432\\u043e\\u0439\", \"\\u043d\\u0430\\u0441\\u0442\\u0430\\u0432\\u043d\\u0438\\u0447\\u0435\\u0441\\u0442\\u0432\\u043e\", \"\\u043f\\u0435\\u0440\\u0441\\u043e\\u043d\\u0430\\u043b\\u044c\\u043d\\u044b\\u0439\", \"\\u043f\\u0440\\u0438\\u043d\\u043e\\u0441\\u0438\\u0442\\u044c\", \"\\u043f\\u0440\\u043e\\u0441\\u0442\\u0440\\u0430\\u043d\\u0441\\u0442\\u0432\\u043e\", \"\\u0432\\u0435\\u0441\\u0442\\u0438\", \"\\u043a\\u0440\\u0443\\u0442\\u043e\", \"\\u043f\\u0440\\u044f\\u043c\\u043e\", \"\\u0440\\u0430\\u043d\\u043e\", \"\\u043f\\u043e\\u0441\\u0442\\u0430\\u0432\\u043b\\u044f\\u0442\\u044c\", \"\\u043c\\u0435\\u043d\\u0442\\u043e\\u0440\", \"\\u043f\\u043e\\u0440\\u0448\\u0435\", \"\\u0445\\u043e\\u0442\\u0435\\u0442\\u044c\", \"\\u043a\\u043e\\u043d\\u043a\\u0443\\u0440\\u0441\", \"\\u0441\\u043e\\u0437\\u0432\\u0430\\u043d\\u0438\\u0432\\u0430\\u0442\\u044c\\u0441\\u044f\", \"\\u043f\\u043e\\u0434\\u0435\\u043b\\u0438\\u0442\\u044c\\u0441\\u044f\", \"\\u043f\\u043e\\u0438\\u0441\\u043a\", \"\\u043f\\u043e\\u0434\\u0434\\u0435\\u0440\\u0436\\u043a\\u0430\", \"\\u043c\\u0435\\u043d\\u0442\\u0438\", \"\\u0437\\u0430\\u043f\\u0440\\u043e\\u0441\", \"\\u043f\\u0440\\u043e\\u0445\\u043e\\u0434\\u0438\\u0442\\u044c\", \"\\u043f\\u043e\\u043b\\u0443\\u0447\\u0430\\u0442\\u044c\", \"\\u043c\\u0435\\u0441\\u0442\\u043e\", \"\\u0447\\u0435\\u043b\\u043e\\u0432\\u0435\\u043a\", \"\\u043d\\u0430\\u0447\\u0438\\u043d\\u0430\\u0442\\u044c\", \"\\u043f\\u043e\\u0438\\u0441\\u043a_\\u0440\\u0430\\u0431\\u043e\\u0442\\u0430\", \"\\u0441\\u0442\\u0430\\u043d\\u043e\\u0432\\u0438\\u0442\\u044c\\u0441\\u044f\", \"\\u043f\\u043e\\u0434\\u0445\\u043e\\u0434\\u0438\\u0442\\u044c\", \"\\u0440\\u0430\\u0431\\u043e\\u0442\\u0430\", \"\\u043f\\u0440\\u0438\\u0445\\u043e\\u0434\\u0438\\u0442\\u044c\", \"\\u043f\\u043e\\u043d\\u0438\\u043c\\u0430\\u0442\\u044c\", \"\\u0442\\u0435\\u0445\\u043d\\u0438\\u0447\\u0435\\u0441\\u043a\\u0438\\u0439\", \"\\u0440\\u0430\\u0441\\u0441\\u043a\\u0430\\u0437\\u044b\\u0432\\u0430\\u0442\\u044c\", \"\\u043f\\u043e\\u043c\\u043e\\u0433\\u0430\\u0442\\u044c\", \"\\u043d\\u0430\\u0445\\u043e\\u0434\\u0438\\u0442\\u044c\", \"\\u043c\\u043e\\u0447\\u044c\", \"\\u043e\\u043f\\u044b\\u0442\", \"\\u043d\\u043e\\u0432\\u044b\\u0439\", \"\\u043a\\u043e\\u043c\\u043f\\u0430\\u043d\\u0438\\u044f\", \"\\u0440\\u0430\\u0431\\u043e\\u0442\\u0430\\u0442\\u044c\", \"\\u043a\\u0443\\u0440\\u0441\", \"\\u0446\\u0435\\u043b\\u044c\", \"\\u0432\\u043e\\u043f\\u0440\\u043e\\u0441\", \"\\u0437\\u043d\\u0430\\u0442\\u044c\", \"\\u0434\\u0430\\u0442\\u0430\\u0441\\u0435\\u0442\", \"\\u0443\\u0447\\u0430\\u0441\\u0442\\u0432\\u043e\\u0432\\u0430\\u0442\\u044c\", \"\\u0430\\u0443\\u0442\\u0441\\u0442\\u0430\\u0444\\u0444\\u0438\\u043d\\u0433\", \"\\u0437\\u0430\\u043a\\u0430\\u0437\\u0447\\u0438\\u043a\", \"\\u043d\\u0430\\u0441\\u0442\\u0440\\u043e\\u0439\\u043a\\u0430\", \"\\u0438\\u043d\\u0442\\u0435\\u0440\\u0435\\u0441\\u043d\\u043e\", \"\\u0440\\u0430\\u0437\\u0440\\u0430\\u0431\\u0430\\u0442\\u044b\\u0432\\u0430\\u0442\\u044c\", \"\\u0442\\u0440\\u0435\\u043d\\u0438\\u043d\\u0433\", \"\\u0441\\u0442\\u0430\\u0440\\u0442\\u0430\\u043f\\u0430\", \"\\u0441\\u043e\\u0431\\u0438\\u0440\\u0430\\u0442\\u044c\\u0441\\u044f\", \"\\u0430\\u0443\\u0442\\u0441\\u043e\\u0440\\u0441\\u0438\\u043d\\u0433\", \"\\u043f\\u0440\\u0438\\u0432\\u043b\\u0435\\u0447\\u0435\\u043d\\u0438\\u0435\", \"\\u0432\\u0430\\u0440\\u0432\\u0430\\u0440\\u0430\", \"\\u0441\\u0442\\u0443\\u0434\\u0438\\u044f\", \"\\u0441\\u0435\\u043c\\u0438\\u043d\\u0430\\u0440\", \"\\u0430\\u0432\\u0442\\u043e\\u043c\\u0430\\u0442\\u0438\\u0447\\u0435\\u0441\\u043a\\u0438\", \"\\u0437\\u0430\\u0433\\u0440\\u0443\\u0436\\u0430\\u0442\\u044c\", \"\\u043f\\u0430\\u0439\\u043f\\u043b\\u0430\\u0439\\u043d\", \"\\u043f\\u0440\\u0435\\u0434\\u043e\\u0431\\u0443\\u0447\\u0435\\u043d\\u043d\\u044b\\u0439\", \"\\u0440\\u0435\\u043f\\u043e\\u0437\\u0438\\u0442\\u043e\\u0440\\u0438\\u0439\", \"\\u0444\\u043b\\u043e\\u0443\", \"\\u0432\\u043a\\u043b\\u044e\\u0447\\u0430\\u044f\", \"\\u043f\\u043e\\u0434\\u0434\\u0435\\u0440\\u0436\\u0438\\u0432\\u0430\\u0442\\u044c\", \"\\u0432\\u044b\\u0433\\u043e\\u0440\\u0430\\u043d\\u0438\\u0435\", \"\\u043a\\u043e\\u0443\\u0447\\u0438\\u043d\\u0433\\u043e\\u0432\\u044b\\u0439\", \"\\u0431\\u043b\\u0438\\u0437\\u043a\\u0438\\u0439\", \"\\u0441\\u0445\\u0435\\u043c\\u0430\", \"\\u043d\\u043e\\u0432\\u0438\\u0447\\u043e\\u043a\", \"\\u043f\\u0440\\u0435\\u0434\\u043e\\u0441\\u0442\\u0430\\u0432\\u043b\\u044f\\u0442\\u044c\", \"\\u0432\\u043c\\u0435\\u0441\\u0442\\u043e\", \"\\u0432\\u043d\\u0443\\u0442\\u0440\\u0438\", \"\\u0437\\u0430\\u043f\\u0443\\u0441\\u043a\\u0430\\u0442\\u044c\", \"\\u043f\\u043e\\u0445\\u043e\\u0436\\u0438\\u0439\", \"\\u0441\\u0442\\u043e\\u0440\\u043e\\u043d\\u0430\", \"\\u043f\\u0440\\u043e\\u0435\\u043a\\u0442\", \"\\u0441\\u0435\\u0441\\u0441\\u0438\\u044f\", \"\\u043c\\u043e\\u0434\\u0435\\u043b\\u044c\", \"\\u043e\\u0431\\u0449\\u0438\\u0439\", \"\\u0438\\u043d\\u0442\\u0435\\u0440\\u043d\\u0435\\u0442\", \"\\u043f\\u0440\\u043e\\u0447\\u0438\\u0439\", \"\\u0436\\u0438\\u0437\\u043d\\u044c\", \"\\u043d\\u0430\\u0441\\u043a\\u043e\\u043b\\u044c\\u043a\\u043e\", \"\\u044d\\u043a\\u0441\\u043f\\u0435\\u0440\\u0438\\u043c\\u0435\\u043d\\u0442\", \"\\u0437\\u0430\\u0434\\u0430\\u0432\\u0430\\u0442\\u044c\", \"\\u043a\\u043b\\u0438\\u0435\\u043d\\u0442\", \"\\u0431\\u0438\\u0437\\u043d\\u0435\\u0441\", \"\\u043f\\u043e\\u043b\\u043d\\u044b\\u0439\", \"\\u043f\\u0440\\u0435\\u0434\\u0441\\u0442\\u0430\\u0432\\u043b\\u044f\\u0442\\u044c\", \"\\u043a\\u043e\\u043c\\u043f\\u0430\\u043d\\u0438\\u044f\", \"\\u0445\\u043e\\u0440\\u043e\\u0448\\u0438\\u0439\", \"\\u0432\\u0440\\u0435\\u043c\\u044f\", \"\\u0441\\u0434\\u0435\\u043b\\u0430\\u0442\\u044c\", \"\\u043f\\u0440\\u043e\\u0434\\u0430\\u0432\\u0430\\u0442\\u044c\", \"\\u043d\\u0443\\u0436\\u043d\\u044b\\u0439\", \"\\u043f\\u0440\\u0435\\u0434\\u043f\\u0440\\u0438\\u043d\\u0438\\u043c\\u0430\\u0442\\u0435\\u043b\\u044c\", \"\\u0438\\u0434\\u0442\\u0438\", \"\\u043f\\u043e\\u043d\\u0438\\u043c\\u0430\\u043d\\u0438\\u0435\", \"\\u043e\\u0442\\u0432\\u0435\\u0442\", \"\\u0440\\u044b\\u043d\\u043e\\u043a\", \"\\u0440\\u0435\\u0448\\u0430\\u0442\\u044c\", \"\\u0432\\u043e\\u043f\\u0440\\u043e\\u0441\", \"\\u043a\\u043d\\u0438\\u0433\\u0430\", \"\\u043c\\u0435\\u0441\\u044f\\u0446\", \"\\u043f\\u0440\\u043e\\u0434\\u0443\\u043a\\u0442\", \"\\u0432\\u043e\\u0437\\u043c\\u043e\\u0436\\u043d\\u043e\\u0441\\u0442\\u044c\", \"\\u0440\\u0430\\u0431\\u043e\\u0442\\u0430\", \"\\u043f\\u0440\\u043e\\u0434\\u0430\\u0436\\u0430\", \"\\u043c\\u043e\\u0447\\u044c\", \"\\u0440\\u0430\\u0437\\u043d\\u0438\\u0446\\u0430\", \"\\u0441\\u0430\\u0439\\u0442_\\u043f\\u043e\\u0438\\u0441\\u043a\", \"\\u0431\\u0435\\u0441\\u043f\\u043b\\u0430\\u0442\\u043d\\u044b\\u0439\", \"\\u043a\\u0443\\u043f\\u0438\\u0442\\u044c\", \"\\u043b\\u0438\\u0431\\u043e\", \"\\u0433\\u043e\\u0441\\u043f\\u043e\\u0434\\u0438\\u043d\", \"\\u043d\\u0430\\u043c\\u0435\\u0440\\u0435\\u043d\\u0438\\u0435\", \"\\u043b\\u0438\\u0442\\u0435\\u0440\\u0430\\u0442\\u0443\\u0440\\u0430\", \"\\u0447\\u0442\\u0435\\u043d\\u0438\\u0435\", \"\\u043f\\u0435\\u0440\\u0435\\u0433\\u043e\\u0432\\u043e\\u0440\\u044b\", \"\\u0441\\u0442\\u0440\\u0430\\u0445\", \"\\u0432\\u043e\\u0437\\u043c\\u043e\\u0436\\u043d\\u044b\\u0439\", \"\\u0430\\u043a\\u0442\\u0443\\u0430\\u043b\\u044c\\u043d\\u044b\\u0439\", \"\\u0434\\u043e\\u0432\\u0435\\u0440\\u0438\\u0435\", \"\\u043f\\u043e\\u0441\\u0442\\u0440\\u043e\\u0438\\u0442\\u044c\", \"\\u043d\\u0430\\u043c\\u043d\\u043e\\u0433\\u043e\", \"\\u043e\\u0448\\u0438\\u0431\\u043a\\u0430\", \"\\u043f\\u0440\\u043e\\u0434\\u0430\\u0432\\u0430\\u0442\\u044c\\u0441\\u044f\", \"\\u0437\\u0432\\u043e\\u043d\\u043e\\u043a\", \"\\u0433\\u043e\\u0440\\u043e\\u0434\", \"\\u043f\\u043e\\u043f\\u0443\\u043b\\u044f\\u0440\\u043d\\u044b\\u0439\", \"\\u0434\\u0438\\u0430\\u043b\\u043e\\u0433\", \"\\u043f\\u0430\\u0434\\u0435\\u043d\\u0438\\u0435\", \"\\u0441\\u0434\\u0435\\u043b\\u043a\\u0430\", \"\\u0445\\u043e\\u043b\\u043e\\u0434\\u043d\\u044b\\u0439\", \"\\u0444\\u0438\\u0442\\u0446\\u043f\\u0430\\u0442\\u0440\\u0438\\u043a\", \"\\u0440\\u0430\\u0441\\u0447\\u0435\\u0442\", \"\\u043f\\u0440\\u0438\\u044f\\u0442\\u043d\\u044b\\u0439\", \"\\u0433\\u043e\\u043b\\u043e\\u0432\\u0430\", \"\\u043d\\u0435\\u043e\\u043f\\u0440\\u0435\\u0434\\u0435\\u043b\\u0435\\u043d\\u043d\\u043e\\u0441\\u0442\\u044c\", \"\\u0433\\u0438\\u043f\\u043e\\u0442\\u0435\\u0437\\u0430\", \"\\u0443\\u0447\\u0438\\u0442\\u044c\\u0441\\u044f\", \"\\u043f\\u0440\\u043e\\u0434\\u0430\\u0436\\u0430\", \"\\u0441\\u043e\\u0431\\u0438\\u0440\\u0430\\u0442\\u044c\", \"\\u043a\\u043e\\u043d\\u0432\\u0435\\u0440\\u0441\\u0438\\u044f\", \"\\u0443\\u0432\\u0435\\u0440\\u0435\\u043d\\u043d\\u044b\\u0439\", \"\\u043a\\u043e\\u043d\\u0444\\u0435\\u0440\\u0435\\u043d\\u0446\\u0438\\u044f\", \"\\u043c\\u0430\\u0448\\u0438\\u043d\\u043d\\u044b\\u0439_\\u043e\\u0431\\u0443\\u0447\\u0435\\u043d\\u0438\\u0435\", \"\\u0432\\u043e\\u0437\\u043c\\u043e\\u0436\\u043d\\u043e\", \"\\u0434\\u0435\\u043b\\u0430\\u0442\\u044c\", \"\\u0437\\u0430\\u0434\\u0430\\u0447\\u0430\", \"\\u0433\\u0440\\u0430\\u043d\\u0438\\u0446\\u0430\", \"\\u043c\\u0438\\u0440\", \"\\u043e\\u043f\\u0440\\u0435\\u0434\\u0435\\u043b\\u044f\\u0442\\u044c\", \"\\u043f\\u043e\\u043b\\u0443\\u0447\\u0430\\u0442\\u044c\\u0441\\u044f\", \"\\u043a\\u043b\\u0438\\u0435\\u043d\\u0442\", \"\\u0432\\u0441\\u0442\\u0440\\u0435\\u0447\\u0430\", \"\\u0440\\u044b\\u043d\\u043e\\u043a\", \"\\u0432\\u043e\\u043f\\u0440\\u043e\\u0441\", \"\\u043a\\u043e\\u0443\\u0447\", \"\\u043d\\u0430\\u0432\\u044b\\u043a\", \"\\u0432\\u0430\\u043a\\u0430\\u043d\\u0441\\u0438\\u044f\", \"\\u043b\\u0438\\u0447\\u043d\\u044b\\u0439\", \"\\u0431\\u0438\\u0437\\u043d\\u0435\\u0441\", \"\\u043a\\u043d\\u0438\\u0433\\u0430\", \"\\u043d\\u043e\\u0432\\u044b\\u0439\", \"\\u043f\\u0440\\u043e\\u0434\\u0443\\u043a\\u0442\", \"\\u043f\\u043b\\u0430\\u043d\", \"\\u043f\\u0440\\u043e\\u0441\\u0442\\u043e\", \"\\u043f\\u0440\\u043e\\u0432\\u0435\\u0440\\u044f\\u0442\\u044c\", \"\\u0441\\u0434\\u0435\\u043b\\u0430\\u0442\\u044c\", \"\\u043c\\u043e\\u0447\\u044c\", \"\\u043d\\u0430\\u0447\\u0438\\u043d\\u0430\\u0442\\u044c\", \"\\u0441\\u043e\\u0431\\u0435\\u0441\", \"\\u0438\\u0441\\u043f\\u043e\\u043b\\u044c\\u0437\\u043e\\u0432\\u0430\\u0442\\u044c\", \"\\u0433\\u0430\\u0439\\u0434\", \"\\u0431\\u0438\\u043b\\u0430\\u0439\\u043d\", \"\\u0440\\u0443\\u0447\\u043d\\u043e\\u0439\", \"\\u043f\\u0440\\u043e\\u0433\\u0440\\u0430\\u043c\\u043c\\u0438\\u0440\\u043e\\u0432\\u0430\\u043d\\u0438\\u0435\", \"\\u0442\\u0435\\u043a\\u0441\\u0442\", \"\\u0431\\u0440\\u0430\\u0442\\u044c\", \"\\u043c\\u0443\\u0436\\u0447\\u0438\\u043d\\u0430\", \"\\u043c\\u0435\\u0440\\u043e\\u043f\\u0440\\u0438\\u044f\\u0442\\u0438\\u0435\", \"\\u043a\\u0430\\u0437\\u0430\\u0445\\u0441\\u043a\\u0438\\u0439\", \"\\u043a\\u0430\\u0437\\u0430\\u0445\\u0441\\u0442\\u0430\\u043d\", \"\\u0436\\u0435\\u043d\\u0449\\u0438\\u043d\\u0430\", \"\\u043f\\u043b\\u0435\\u0432\\u0430\\u0442\\u044c\", \"\\u0438\\u043d\\u0441\\u0442\\u0440\\u0443\\u043a\\u0446\\u0438\\u044f\", \"\\u043e\\u0431\\u0440\\u0430\\u0431\\u0430\\u0442\\u044b\\u0432\\u0430\\u0442\\u044c\", \"\\u043e\\u0447\\u0435\\u0440\\u0435\\u0434\\u044c\", \"\\u0431\\u0438\\u0431\\u043b\\u0438\\u043e\\u0442\\u0435\\u043a\\u0430\", \"\\u043d\\u0435\\u0434\\u0430\\u0432\\u043d\\u043e\", \"\\u0438\\u043d\\u0442\\u0435\\u0440\\u0432\\u044c\\u044e\", \"\\u043a\\u0432\\u0430\\u0440\\u0442\\u0438\\u0440\\u0430\", \"\\u043f\\u0440\\u043e\\u0444\\u0435\\u0441\\u0441\\u0438\\u043e\\u043d\\u0430\\u043b\\u044c\\u043d\\u044b\\u0439\", \"\\u0441\\u043e\\u0432\\u043c\\u0435\\u0441\\u0442\\u043d\\u043e\", \"\\u0441\\u0447\\u0438\\u0442\\u0430\\u0442\\u044c\\u0441\\u044f\", \"\\u043d\\u0430\\u0433\\u0440\\u0443\\u0437\\u043e\\u0447\\u043d\\u044b\\u0439\", \"\\u0444\\u043e\\u0440\\u043c\\u0430\\u043b\\u044c\\u043d\\u043e\", \"\\u0441\\u0435\\u043a\\u0446\\u0438\\u044f\", \"\\u0433\\u043b\\u0430\\u0432\\u043d\\u043e\\u0435\", \"\\u043e\\u0431\\u0443\\u0447\\u0430\\u0442\\u044c\", \"\\u0431\\u0438\\u043e\\u043c\\u0435\\u0442\\u0440\\u0438\\u044f\", \"\\u043f\\u043e\\u0442\\u043e\\u043a\", \"\\u0442\\u0435\\u0441\\u0442\\u0438\\u0440\\u043e\\u0432\\u0430\\u043d\\u0438\\u0435\", \"\\u0441\\u0438\\u0441\\u0442\\u0435\\u043c\\u0430\", \"\\u0438\\u043d\\u0441\\u0442\\u0440\\u0443\\u043c\\u0435\\u043d\\u0442\", \"\\u0446\\u0435\\u043d\\u043d\\u043e\\u0441\\u0442\\u044c\", \"\\u043a\\u043e\\u043c\\u043c\\u0435\\u043d\\u0442\\u0430\\u0440\\u0438\\u0439\", \"\\u043a\\u043e\\u043c\\u0430\\u043d\\u0434\\u0430\", \"\\u043e\\u043f\\u044b\\u0442\", \"\\u0437\\u043d\\u0430\\u043d\\u0438\\u0435\", \"\\u043e\\u043f\\u044b\\u0442_\\u0440\\u0430\\u0431\\u043e\\u0442\\u0430\", \"\\u043c\\u0430\\u0441\\u0442\\u0435\\u0440\", \"\\u043c\\u043e\\u0434\\u0435\\u043b\\u044c\", \"\\u043f\\u0443\\u043d\\u043a\\u0442\", \"\\u043a\\u043b\\u0430\\u0441\\u0441\", \"\\u0437\\u0430\\u043f\\u0438\\u0441\\u044c\", \"\\u043a\\u043e\\u043c\\u043f\\u0430\\u043d\\u0438\\u044f\", \"\\u0437\\u0430\\u043d\\u0438\\u043c\\u0430\\u0442\\u044c\\u0441\\u044f\", \"\\u0442\\u0435\\u043c\\u0430\", \"\\u043f\\u0438\\u0441\\u0430\\u0442\\u044c\", \"\\u043d\\u0443\\u0436\\u043d\\u044b\\u0439\", \"\\u0440\\u0430\\u0437\\u0432\\u0438\\u0442\\u0438\\u0435\", \"\\u0431\\u0438\\u0437\\u043d\\u0435\\u0441\", \"\\u0447\\u0435\\u043b\\u043e\\u0432\\u0435\\u043a\", \"\\u043f\\u0440\\u043e\\u0434\\u0443\\u043a\\u0442\", \"\\u0440\\u0430\\u0431\\u043e\\u0442\\u0430\", \"\\u0432\\u0430\\u043a\\u0430\\u043d\\u0441\\u0438\\u044f\", \"\\u044f\\u0437\\u044b\\u043a\", \"\\u043c\\u043e\\u0447\\u044c\", \"\\u0440\\u0435\\u043a\\u043b\\u0430\\u043c\\u0430\", \"\\u0440\\u043e\\u0441\\u0442\", \"\\u043c\\u043b\\u043d\", \"\\u0441\\u043a\\u043e\\u0440\\u043e\\u0441\\u0442\\u044c\", \"\\u043a\\u043e\\u0441\\u0432\\u0435\\u043d\\u043d\\u044b\\u0439_\\u043a\\u043e\\u043d\\u043a\\u0443\\u0440\\u0435\\u043d\\u0442\", \"\\u0441\\u0432\\u0435\\u0440\\u0445\\u0437\\u0430\\u0434\\u0430\\u0447\\u0430\", \"\\u0430\\u0442\\u043b\\u0430\\u043d\\u0442\\u0430\", \"\\u0432\\u044b\\u0445\\u043e\\u0434\", \"\\u043c\\u0430\\u0433\\u0430\\u0437\\u0438\\u043d\", \"\\u043e\\u0442\\u0434\\u0430\\u0432\\u0430\\u0442\\u044c\", \"\\u0441\\u043b\\u043e\\u0442\", \"\\u043f\\u043e\\u0431\\u0435\\u0434\\u0430\", \"\\u0440\\u0435\\u0441\\u0442\\u043e\\u0440\\u0430\\u043d\", \"\\u043a\\u0440\\u043e\\u043c\\u0435\", \"\\u0442\\u0440\\u0430\\u043d\\u0441\\u0444\\u043e\\u0440\\u043c\\u0430\\u0446\\u0438\\u044f\", \"\\u043a\\u043e\\u043d\\u0444\\u0438\\u0434\\u0435\\u043d\\u0446\\u0438\\u0430\\u043b\\u044c\\u043d\\u043e\\u0441\\u0442\\u044c\", \"\\u043f\\u043e\\u0434\\u043e\\u043f\\u0435\\u0447\\u043d\\u044b\\u0439\", \"\\u0433\\u043b\\u0443\\u043f\\u043e\", \"\\u043f\\u0435\\u0440\\u0435\\u0441\\u0442\\u0430\\u0432\\u0430\\u0442\\u044c\", \"\\u0430\\u0434\\u0435\\u043a\\u0432\\u0430\\u0442\\u043d\\u043e\\u0441\\u0442\\u044c\", \"\\u0431\\u0435\\u0437\\u043e\\u043f\\u0430\\u0441\\u043d\\u043e\\u0441\\u0442\\u044c\", \"\\u0431\\u0435\\u0437\\u043e\\u043f\\u0430\\u0441\\u043d\\u044b\\u0439\", \"\\u0432\\u043e\\u0432\\u043b\\u0435\\u0447\\u0435\\u043d\\u043d\\u043e\\u0441\\u0442\\u044c\", \"\\u0432\\u044b\\u043f\\u0430\\u0434\\u0430\\u0442\\u044c\", \"\\u0432\\u044b\\u0441\\u0432\\u043e\\u0431\\u043e\\u0436\\u0434\\u0430\\u0442\\u044c\\u0441\\u044f\", \"\\u0433\\u043e\\u0442\\u043e\\u0432\\u043d\\u043e\\u0441\\u0442\\u044c\", \"\\u0434\\u0430\\u043b\\u0435\\u0435\", \"\\u0434\\u043e\\u0431\\u0435\\u0436\\u0430\\u0442\\u044c\", \"\\u0437\\u0430\\u0445\\u043b\\u0435\\u0431\\u044b\\u0432\\u0430\\u0442\\u044c\\u0441\\u044f\", \"\\u043a\\u0440\\u0438\\u0442\\u0438\\u0447\\u0435\\u0441\\u043a\\u0438\\u0439\", \"\\u043a\\u043e\\u043d\\u043a\\u0443\\u0440\\u0435\\u043d\\u0446\\u0438\\u044f\", \"\\u043f\\u0440\\u043e\\u0434\\u0430\\u0432\\u0430\\u0442\\u044c\", \"\\u0434\\u043e\\u043b\\u0436\\u043d\\u044b\\u0439\", \"\\u0443\\u043f\\u0440\\u0430\\u0432\\u043b\\u0435\\u043d\\u0438\\u0435\", \"\\u043d\\u0430\\u0447\\u0438\\u043d\\u0430\\u0442\\u044c\\u0441\\u044f\", \"\\u0437\\u0430\\u043d\\u0438\\u043c\\u0430\\u0442\\u044c\", \"\\u0437\\u0430\\u0434\\u0430\\u0447\\u0430\", \"\\u0431\\u044b\\u0441\\u0442\\u0440\\u044b\\u0439\", \"\\u0440\\u0443\\u0431\\u043b\\u044c\", \"\\u0438\\u0437\\u043c\\u0435\\u043d\\u0435\\u043d\\u0438\\u0435\", \"\\u0441\\u043e\\u043e\\u0431\\u0449\\u0435\\u043d\\u0438\\u0435\", \"\\u043e\\u0433\\u0440\\u0430\\u043d\\u0438\\u0447\\u0435\\u043d\\u0438\\u0435\", \"\\u0431\\u0438\\u0437\\u043d\\u0435\\u0441\", \"\\u043c\\u0435\\u0441\\u044f\\u0446\", \"\\u0440\\u0435\\u0448\\u0435\\u043d\\u0438\\u0435\", \"\\u043f\\u043e\\u043c\\u043e\\u0433\\u0430\\u0442\\u044c\", \"\\u043d\\u043e\\u0432\\u044b\\u0439\", \"\\u043a\\u043e\\u043c\\u043f\\u0430\\u043d\\u0438\\u044f\", \"\\u043f\\u0440\\u043e\\u0433\\u0440\\u0430\\u043c\\u043c\\u0430\", \"\\u043c\\u043e\\u0447\\u044c\", \"\\u043f\\u0440\\u0435\\u0434\\u043f\\u0440\\u0438\\u043d\\u0438\\u043c\\u0430\\u0442\\u0435\\u043b\\u044c\", \"\\u0447\\u0435\\u043b\\u043e\\u0432\\u0435\\u043a\", \"\\u0440\\u0435\\u0448\\u0430\\u0442\\u044c\", \"\\u043f\\u0440\\u043e\\u0435\\u043a\\u0442\", \"\\u0434\\u0435\\u043b\\u0430\\u0442\\u044c\", \"\\u0434\\u0435\\u043d\\u044c\\u0433\\u0438\", \"\\u0437\\u0430\\u043f\\u0440\\u043e\\u0441\", \"\\u0433\\u0440\\u0443\\u043f\\u043f\\u043e\\u0432\\u043e\\u0439_\\u043c\\u0435\\u043d\\u0442\\u043e\\u0440\\u0438\\u043d\\u0433\", \"\\u043a\\u0430\\u0440\\u044c\\u0435\\u0440\\u0430\", \"\\u043d\\u0430\\u0443\\u0447\\u0430\\u0442\\u044c\\u0441\\u044f\", \"\\u043e\\u0431\\u043e\", \"\\u0434\\u0430\\u043d\\u043d\\u044b\\u0439\", \"\\u043f\\u0440\\u0430\\u043a\\u0442\\u0438\\u043a\\u0443\\u043c\", \"\\u0430\\u043a\\u0442\\u0443\\u0430\\u0440\\u0438\\u0439\", \"\\u0432\\u0438\\u043f\\u0430\\u0441\\u0441\\u0430\\u043d\", \"\\u0434\\u043d\\u0435\\u0432\\u043d\\u043e\\u0439\", \"\\u0430\\u043f\\u0433\\u0440\\u0435\\u0439\\u0434\", \"\\u0430\\u0439\\u0442\\u0438\\u0448\\u0435\\u0447\\u043a\\u0430\", \"\\u043f\\u044f\\u0442\\u043d\\u0438\\u0447\\u043d\\u044b\\u0439\", \"\\u044f\\u043d\\u0434\\u0435\\u043a\\u0441\", \"\\u0438\\u043d\\u0432\\u0435\\u0441\\u0442\\u0438\\u0446\\u0438\\u044f\", \"\\u0438\\u0441\\u043f\\u043e\\u043b\\u044c\\u0437\\u043e\\u0432\\u0430\\u043d\\u0438\\u0435\", \"\\u043f\\u043e\\u043b\\u0433\\u043e\\u0434\\u0430\", \"\\u043c\\u0438\\u043b\\u043b\\u0438\\u043e\\u043d\", \"\\u0432\\u043d\\u0443\\u0442\\u0440\\u0435\\u043d\\u043d\\u0438\\u0439\", \"\\u043f\\u0440\\u0438\\u043b\\u043e\\u0436\\u0435\\u043d\\u0438\\u0435\", \"\\u043c\\u0435\\u0434\\u0438\\u0442\\u0430\\u0442\\u0438\\u0432\\u043d\\u044b\\u0439\", \"\\u043e\\u0444\\u0438\\u0446\\u0438\\u0430\\u043b\\u044c\\u043d\\u044b\\u0439\", \"\\u0441\\u0442\\u0440\\u0430\\u0445\\u043e\\u0432\\u0430\\u043d\\u0438\\u0435\", \"\\u0434\\u043e\\u0440\\u043e\\u0433\\u043e\\u0439\", \"\\u0430\\u043c\\u0435\\u0440\\u0438\\u043a\\u0430\\u043d\\u0441\\u043a\\u0438\\u0439\", \"\\u043f\\u043e\\u0434\\u0433\\u043e\\u0442\\u043e\\u0432\\u0438\\u0442\\u044c\", \"\\u043f\\u043e\\u0434\\u0440\\u043e\\u0431\\u043d\\u043e\\u0441\\u0442\\u044c\", \"\\u043f\\u0430\\u0440\\u0442\\u043d\\u0435\\u0440\", \"\\u043f\\u043e\\u0434\\u043f\\u0438\\u0441\\u0447\\u0438\\u043a\", \"\\u0441\\u0442\\u0430\\u043d\\u0434\\u0430\\u0440\\u0442\", \"\\u0441\\u0442\\u0440\\u0430\\u043d\\u0438\\u0447\\u043a\\u0430\", \"\\u043c\\u043e\\u0441\\u043a\\u0432\\u0430\", \"\\u0432\\u0435\\u0431\\u0438\\u043d\\u0430\\u0440\", \"\\u043a\\u043e\\u043d\\u0435\\u0446\", \"\\u043f\\u0440\\u043e\\u0434\\u043e\\u043b\\u0436\\u0430\\u0442\\u044c\", \"\\u043a\\u043e\\u043d\\u0442\\u0430\\u043a\\u0442\", \"\\u043f\\u0440\\u0438\\u0441\\u043e\\u0435\\u0434\\u0438\\u043d\\u044f\\u0442\\u044c\\u0441\\u044f\", \"\\u043d\\u0435\\u0441\\u043a\\u043e\\u043b\\u044c\\u043a\\u043e\", \"\\u043a\\u043e\\u0443\\u0447\", \"\\u0440\\u043e\\u043b\\u044c\", \"\\u0434\\u0435\\u043d\\u044c\", \"\\u0441\\u043c\\u0435\\u043d\\u0430\", \"\\u0431\\u043e\\u043b\\u044c\\u0448\\u043e\\u0439\", \"\\u0440\\u0430\\u0437\\u0440\\u0430\\u0431\\u043e\\u0442\\u043a\\u0430\", \"\\u043e\\u043f\\u044b\\u0442\", \"\\u0440\\u0430\\u0437\\u0440\\u0430\\u0431\\u043e\\u0442\\u0447\\u0438\\u043a\", \"\\u0440\\u0430\\u0431\\u043e\\u0442\\u0430\", \"\\u0434\\u0440\\u0443\\u0433\", \"\\u0431\\u0438\\u0437\\u043d\\u0435\\u0441\", \"\\u0432\\u043e\\u043f\\u0440\\u043e\\u0441\", \"\\u043e\\u043f\\u044b\\u0442\\u043d\\u044b\\u0439\", \"\\u043c\\u043e\\u0447\\u044c\", \"\\u043a\\u043e\\u043c\\u0430\\u043d\\u0434\\u0430\", \"\\u0441\\u0441\\u044b\\u043b\\u043a\\u0430\", \"\\u043c\\u0430\\u0441\\u0442\\u0435\\u0440\", \"\\u043f\\u0443\\u0442\\u044c\", \"\\u0433\\u043e\\u0440\\u0435\\u043b\\u043a\\u0430\", \"\\u043f\\u0440\\u043e\\u0431\\u0438\\u0440\\u043a\\u0430\", \"\\u0444\\u043e\\u043d\\u0442\\u0430\\u043d\", \"\\u043f\\u043e\\u043b\\u0435\\u0437\\u043d\\u043e\", \"\\u043f\\u0440\\u0430\\u043a\\u0442\\u0438\\u0447\\u0435\\u0441\\u043a\\u0438\", \"\\u043e\\u0441\\u043e\\u0437\\u043d\\u0430\\u0432\\u0430\\u0442\\u044c\", \"\\u0434\\u0435\\u0442\\u0441\\u0442\\u0432\\u043e\", \"\\u0434\\u043e\\u043b\\u0433\\u043e\", \"\\u0440\\u0430\\u0441\\u0448\\u0438\\u0440\\u0435\\u043d\\u0438\\u0435\", \"\\u043a\\u0430\\u0447\\u0435\\u0441\\u0442\\u0432\\u043e\", \"\\u0437\\u0430\\u043f\\u0438\\u0441\\u044b\\u0432\\u0430\\u0442\\u044c\", \"\\u0435\\u0436\\u0435\\u0434\\u043d\\u0435\\u0432\\u043d\\u043e\", \"\\u0432\\u043e\\u0437\\u0434\\u0435\\u0439\\u0441\\u0442\\u0432\\u0438\\u0435\", \"\\u043f\\u0440\\u043e\\u0435\\u043a\\u0442\\u0438\\u0440\\u043e\\u0432\\u0430\\u043d\\u0438\\u0435\", \"\\u043c\\u0435\\u043d\\u044f\\u0442\\u044c\\u0441\\u044f\", \"\\u0430\\u0439\\u0444\\u043e\\u043d\", \"\\u043c\\u044f\\u0433\\u043a\\u0438\\u0439\", \"\\u0430\\u043d\\u0442\\u0440\\u0435\\u0441\\u043e\\u043b\\u0438\", \"\\u0430\\u043d\\u0442\\u0440\\u0435\\u0441\\u043e\\u043b\\u044c\", \"\\u0430\\u043d\\u044f\", \"\\u0431\\u044b\\u0442\\u043e\\u0432\\u043e\\u0439\", \"\\u0432\\u0438\\u0434\\u0438\\u043c\\u043e\", \"\\u0432\\u044b\\u0441\\u043e\\u0442\\u0430\", \"\\u0433\\u0430\\u0437\\u043e\\u0432\\u044b\\u0439\", \"\\u0437\\u0430\\u043c\\u0435\\u0448\\u0430\\u0442\\u044c\", \"\\u0437\\u0432\\u0435\\u0440\\u0435\\u043a\", \"\\u0437\\u0440\\u0435\\u043b\\u0438\\u0449\\u0435\", \"\\u0438\\u043d\\u0433\\u0440\\u0435\\u0434\\u0438\\u0435\\u043d\\u0442\", \"\\u043a\\u043e\\u043d\\u0441\\u0442\\u0440\\u0443\\u043a\\u0446\\u0438\\u044f\", \"\\u043a\\u043e\\u043d\\u0444\\u043e\\u0440\\u043a\\u0430\", \"\\u043c\\u043e\\u0434\\u043d\\u044b\\u0439\", \"\\u043f\\u0440\\u043e\\u0444\\u0435\\u0441\\u0441\\u0438\\u044f\", \"\\u043a\\u0440\\u0443\\u0433\", \"\\u043a\\u0430\\u0436\\u0434\\u044b\\u0439\", \"\\u043f\\u043e\\u0441\\u0442\", \"\\u0442\\u0440\\u0435\\u0431\\u043e\\u0432\\u0430\\u043d\\u0438\\u0435\", \"\\u0434\\u043e\\u0441\\u0442\\u0443\\u043f\\u043d\\u044b\\u0439\", \"\\u0430\\u043d\\u0430\\u043b\\u0438\\u0442\\u0438\\u043a\\u0430\", \"\\u0438\\u0441\\u0442\\u043e\\u0440\\u0438\\u044f\", \"\\u043f\\u0440\\u043e\\u0447\\u0438\\u0442\\u044b\\u0432\\u0430\\u0442\\u044c\", \"\\u043c\\u043e\\u0434\\u0435\\u043b\\u044c\", \"\\u043d\\u043e\\u0432\\u044b\\u0439\", \"\\u0440\\u0435\\u0430\\u043b\\u044c\\u043d\\u044b\\u0439\", \"\\u0441\\u0434\\u0435\\u043b\\u0430\\u0442\\u044c\", \"\\u0434\\u0435\\u043d\\u044c\\u0433\\u0438\", \"\\u043d\\u0430\\u0447\\u0438\\u043d\\u0430\\u0442\\u044c\", \"\\u043a\\u0443\\u0440\\u0441\", \"\\u0434\\u0435\\u043d\\u044c\", \"\\u043d\\u0435\\u0431\\u043e\\u043b\\u044c\\u0448\\u043e\\u0439\", \"\\u0447\\u0435\\u043b\\u043e\\u0432\\u0435\\u043a\", \"\\u0434\\u0435\\u043b\\u0430\\u0442\\u044c\", \"\\u043f\\u043e\\u043b\\u0443\\u0447\\u0430\\u0442\\u044c\", \"\\u043d\\u0443\\u0436\\u043d\\u044b\\u0439\", \"\\u0431\\u0438\\u0437\\u043d\\u0435\\u0441\", \"\\u043f\\u0441\\u0438\\u0445\\u043e\\u043b\\u043e\\u0433\", \"\\u043a\\u043e\\u043f\\u0438\\u043b\\u043e\\u0447\\u043a\\u0430\", \"\\u0434\\u043e\\u0441\\u0442\\u0438\\u0436\\u0435\\u043d\\u0438\\u0435\", \"\\u0441\\u043d\\u0430\\u0447\\u0430\\u043b\\u0430\", \"\\u0437\\u0430\\u0432\\u0442\\u0440\\u0430\", \"\\u0432\\u043e\\u0434\\u043d\\u044b\\u0439\", \"\\u043f\\u043e\\u043b\\u043e\", \"\\u0431\\u043e\\u043b\\u043e\\u0442\\u043e\", \"\\u0432\\u0435\\u0440\\u043d\\u0443\\u0442\\u044c\", \"\\u0432\\u043e\\u043b\\u043d\\u0430\", \"\\u0432\\u044b\\u044f\\u0432\\u043b\\u0435\\u043d\\u0438\\u0435\", \"\\u0434\\u0435\\u043a\\u043e\\u043c\\u043f\\u043e\\u0437\\u0438\\u0446\\u0438\\u044f\", \"\\u0434\\u0438\\u0430\\u0433\\u043d\\u043e\\u0441\\u0442\\u0438\\u043a\\u0430\", \"\\u0434\\u043e\\u043c\\u0438\\u043a\", \"\\u0435\\u0436\\u0435\\u0433\\u043e\\u0434\\u043d\\u043e\", \"\\u0436\\u0443\\u0442\\u044c\", \"\\u0437\\u0430\\u043a\\u0440\\u044b\\u0442\\u0438\\u0435\", \"\\u0438\\u0437\\u043c\\u0435\\u043d\\u0447\\u0438\\u0432\\u043e\\u0441\\u0442\\u044c\", \"\\u043a\\u0430\\u0440\\u0442\\u0430\", \"\\u043a\\u0430\\u0440\\u0442\\u043e\\u0447\\u043d\\u044b\\u0439\", \"\\u043b\\u043e\\u0433\\u0438\\u0441\\u0442\\u0438\\u0447\\u0435\\u0441\\u043a\\u0438\\u0439\", \"\\u043c\\u0435\\u0447\\u0442\\u0430\\u043b\\u043a\\u0430\", \"\\u043c\\u043e\\u0449\\u044c\", \"\\u043d\\u0430\\u0440\\u0443\\u0448\\u0435\\u043d\\u0438\\u0435\", \"\\u043d\\u0430\\u0441\\u0442\\u0443\\u043f\\u0430\\u0442\\u044c\", \"\\u043d\\u0430\\u0446\\u0438\\u043e\\u043d\\u0430\\u043b\\u044c\\u043d\\u044b\\u0439\", \"\\u043d\\u0435\\u043e\\u043f\\u0440\\u0435\\u0434\\u0435\\u043b\\u0435\\u043d\\u043d\\u043e\", \"\\u043e\\u0439\\u0432\\u0441\\u0435\\u043f\\u0440\\u043e\\u043f\\u0430\\u0434\\u0430\\u0442\\u044c\", \"\\u043f\\u0435\\u0440\\u0435\\u043f\\u043b\\u0430\\u043d\\u0438\\u0440\\u043e\\u0432\\u0430\\u043d\\u0438\\u0435\", \"\\u043f\\u043e\\u0434\\u0447\\u0438\\u043d\\u0435\\u043d\\u043d\\u043e\\u0441\\u0442\\u044c\", \"\\u0433\\u043e\\u0434\\u043e\\u0432\\u043e\\u0439\", \"\\u0441\\u0442\\u0440\\u0430\\u0442\\u0435\\u0433\\u0438\\u0447\\u0435\\u0441\\u043a\\u0438\\u0439\", \"\\u0440\\u0435\\u0433\\u0443\\u043b\\u044f\\u0440\\u043d\\u044b\\u0439\", \"\\u043f\\u043b\\u0430\\u043d\", \"\\u0433\\u043e\\u0440\\u0438\\u0437\\u043e\\u043d\\u0442\", \"\\u0446\\u0435\\u043b\\u044c\", \"\\u0434\\u0432\\u0438\\u0436\\u0435\\u043d\\u0438\\u0435\", \"\\u043f\\u043b\\u0430\\u043d\\u0438\\u0440\\u043e\\u0432\\u0430\\u043d\\u0438\\u0435\", \"\\u043f\\u043e\\u0434\\u0432\\u043e\\u0434\\u0438\\u0442\\u044c\", \"\\u043f\\u043b\\u0430\\u043d\\u0438\\u0440\\u043e\\u0432\\u0430\\u0442\\u044c\", \"\\u043e\\u0433\\u0440\\u0430\\u043d\\u0438\\u0447\\u0435\\u043d\\u0438\\u0435\", \"\\u0440\\u0430\\u0431\\u043e\\u0442\\u0430\\u0442\\u044c\", \"\\u0434\\u0432\\u0438\\u0433\\u0430\\u0442\\u044c\\u0441\\u044f\", \"\\u0438\\u043d\\u0442\\u0435\\u0440\\u0435\\u0441\\u043d\\u044b\\u0439\", \"\\u043f\\u043e\\u043b\\u0443\\u0447\\u0430\\u0442\\u044c\", \"\\u043b\\u0438\\u0447\\u043d\\u044b\\u0439\", \"\\u0437\\u0430\\u0442\\u0440\\u0430\\u0442\\u0430\", \"\\u043f\\u0440\\u043e\\u0441\\u0442\\u043e\", \"\\u043f\\u043e\\u043c\\u043e\\u0433\\u0430\\u0442\\u044c\", \"\\u0438\\u0442\\u043e\\u0433\", \"\\u0434\\u0435\\u043d\\u044c\", \"\\u0434\\u043e\\u0445\\u043e\\u0434\\u0438\\u0442\\u044c\", \"\\u043f\\u043e\\u043b\\u043d\\u044b\\u0439\", \"\\u043c\\u0435\\u0441\\u044f\\u0446\", \"\\u044d\\u043a\\u043e\\u043d\\u043e\\u043c\\u0438\\u0447\\u0435\\u0441\\u043a\\u0438\\u0439\", \"\\u0445\\u043e\\u0442\\u0435\\u0442\\u044c\\u0441\\u044f\", \"\\u0443\\u0447\\u0435\\u0442\", \"\\u0440\\u043e\\u0441\\u0441\\u0438\\u0439\\u0441\\u043a\\u0438\\u0439\", \"\\u043c\\u0435\\u0442\\u043e\\u0434\\u0438\\u043a\\u0430\", \"\\u0430\\u0440\\u043a\\u0430\\u0434\\u0438\\u0439\", \"\\u0431\\u0430\\u043b\", \"\\u0432\\u043e\\u0440\\u043a\\u0448\\u043e\\u043f\", \"\\u0432\\u0441\\u0435\\u043b\\u0435\\u043d\\u043d\\u0430\\u044f\", \"\\u0433\\u043d\\u0430\\u0442\\u044c\\u0441\\u044f\", \"\\u0434\\u0435\\u0442\\u0430\\u043b\\u044c\", \"\\u043a\\u043e\\u043f\\u0435\\u0439\\u043a\\u0430\", \"\\u043c\\u043e\\u0440\\u0435\\u0439\\u043d\\u0438\\u0441\", \"\\u043e\\u0441\\u043d\\u043e\\u0432\\u044b\\u0432\\u0430\\u0442\\u044c\\u0441\\u044f\", \"\\u043f\\u043e\\u0431\\u043b\\u0430\\u0433\\u043e\\u0434\\u0430\\u0440\\u0438\\u0442\\u044c\", \"\\u0441\\u0445\\u043e\\u0434\\u0438\\u043c\\u043e\\u0441\\u0442\\u044c\", \"\\u0442\\u043e\\u0447\\u043d\\u044b\\u0439\", \"\\u0442\\u0440\\u0430\\u0442\\u0438\\u0442\\u044c\\u0441\\u044f\", \"\\u0443\\u043c\\u043e\\u0437\\u0430\\u043a\\u043b\\u044e\\u0447\\u0435\\u043d\\u0438\\u0435\", \"\\u0443\\u0441\\u043b\\u043e\\u0436\\u043d\\u044f\\u0442\\u044c\", \"\\u044d\\u043a\\u043d\\u043e\\u043c\\u0438\\u043a\", \"\\u0430\\u0440\\u0445\\u0438\\u043f\\u0435\\u043b\\u0430\\u0433\", \"\\u0438\\u043d\\u0442\\u0435\\u043d\\u0441\\u0438\\u0432\", \"\\u0441\\u043e\\u0446\\u0438\\u0430\\u043b\\u044c\\u043d\\u043e\", \"\\u0446\\u0438\\u0444\\u0440\\u0430\", \"\\u0433\\u0430\\u043b\\u0438\\u043d\\u0430\", \"\\u0435\\u043a\\u0430\\u0442\\u0435\\u0440\\u0438\\u043d\\u0431\\u0443\\u0440\\u0433\", \"\\u0437\\u0430\\u0440\\u0443\\u0431\\u0435\\u0436\\u043d\\u044b\\u0439\", \"\\u043d\\u0430\\u0433\\u043e\\u0432\\u0438\\u0446\\u044b\\u043d\", \"\\u0441\\u043e\\u0434\\u0435\\u0440\\u0436\\u0430\\u043d\\u0438\\u0435\", \"\\u0440\\u0430\\u043c\\u043a\\u0430\", \"\\u0432\\u0441\\u043f\\u043e\\u043c\\u043d\\u0438\\u0442\\u044c\", \"\\u044e\\u043d\\u0438\\u0442\", \"\\u043e\\u0431\\u0443\\u0447\\u0435\\u043d\\u0438\\u0435\", \"\\u043f\\u0440\\u0438\\u043d\\u044f\\u0442\\u0438\\u0435\", \"\\u044d\\u043a\\u0441\\u043f\\u0435\\u0440\\u0442\", \"\\u0441\\u0442\\u043e\\u0438\\u0442\\u044c\", \"\\u0440\\u0435\\u0448\\u0435\\u043d\\u0438\\u0435\", \"\\u0440\\u0430\\u0437\\u0432\\u0438\\u0442\\u0438\\u0435\", \"\\u043d\\u0435\\u0434\\u0435\\u043b\\u044f\", \"\\u0430\\u043d\\u0430\\u043b\\u0438\\u0437\", \"\\u0438\\u0441\\u043a\\u0430\\u0442\\u044c\", \"\\u043a\\u043e\\u043b\\u043b\\u0435\\u0433\\u0430\", \"\\u043f\\u0440\\u043e\\u0435\\u043a\\u0442\", \"\\u043f\\u0440\\u043e\\u0445\\u043e\\u0434\\u0438\\u0442\\u044c\", \"\\u0442\\u0435\\u043c\\u0430\", \"\\u043c\\u043e\\u0447\\u044c\", \"\\u043a\\u043e\\u043c\\u0430\\u043d\\u0434\\u0430\", \"\\u0431\\u0438\\u0437\\u043d\\u0435\\u0441\", \"\\u043f\\u0440\\u043e\\u0432\\u043e\\u0434\\u0438\\u0442\\u044c\", \"\\u0438\\u0442\\u043e\\u0433\", \"\\u043f\\u0440\\u0430\\u043a\\u0442\\u0438\\u043a\\u0430\", \"\\u0432\\u043e\\u0437\\u043c\\u043e\\u0436\\u043d\\u043e\\u0441\\u0442\\u044c\", \"\\u0445\\u043e\\u0442\\u0435\\u0442\\u044c\", \"\\u043f\\u0440\\u0435\\u0434\\u043f\\u0440\\u0438\\u043d\\u0438\\u043c\\u0430\\u0442\\u0435\\u043b\\u044c\", \"\\u0440\\u043e\\u0441\\u0441\\u0438\\u044f\", \"\\u0430\\u043d\\u0430\\u043b\\u0438\\u0442\\u0438\\u043a\", \"\\u0440\\u0435\\u0432\\u044c\\u044e\\u0435\\u0440\", \"\\u043f\\u043e\\u0448\\u0430\\u0433\\u043e\\u0432\\u044b\\u0439\", \"\\u043f\\u0440\\u0438\\u0432\\u0435\\u0442\\u0441\\u0442\\u0432\\u043e\\u0432\\u0430\\u0442\\u044c\", \"\\u043b\\u044e\\u0431\\u0438\\u0442\\u044c\", \"\\u043f\\u0440\\u043e\\u0434\\u0443\\u043a\\u0442\\u043e\\u0432\\u044b\\u0439\", \"\\u043c\\u0435\\u0442\\u043e\\u0434\", \"\\u0434\\u0430\\u043d\\u043d\\u044b\\u0435\", \"\\u0441\\u043a\\u0430\\u0447\\u0430\\u0442\\u044c\", \"\\u043c\\u043e\\u043d\\u0438\\u0442\\u043e\\u0440\\u0438\\u043d\\u0433\", \"\\u0437\\u0430\\u0449\\u0438\\u0442\\u0430\", \"\\u043b\\u0435\\u0442\\u0435\\u0442\\u044c\", \"\\u043e\\u0442\\u043b\\u0438\\u0447\\u043d\\u043e\", \"\\u043f\\u043e\\u0441\\u043b\\u0435\\u0437\\u0430\\u0432\\u0442\\u0440\\u0430\", \"\\u0444\\u0438\\u0448\\u0435\\u0447\\u043a\\u0430\", \"\\u043c\\u0433\\u0443\", \"\\u043f\\u0440\\u0435\\u0434\\u043f\\u0440\\u0438\\u043d\\u0438\\u043c\\u0430\\u0442\\u0435\\u043b\\u044c\\u0441\\u0442\\u0432\\u043e\", \"\\u043f\\u0440\\u0435\\u043f\\u043e\\u0434\\u0430\\u0432\\u0430\\u043d\\u0438\\u0435\", \"\\u0442\\u0435\\u0445\\u043d\\u043e\\u043b\\u043e\\u0433\\u0438\\u0447\\u043d\\u044b\\u0439\", \"\\u043e\\u0447\\u043d\\u043e\", \"\\u0444\\u0438\\u043d\\u0442\\u0435\\u0445\\u0443\", \"\\u0441\\u0442\\u0440\\u043e\\u0438\\u0442\\u0435\\u043b\\u044c\\u043d\\u044b\\u0439\", \"\\u0432\\u0433\\u043b\\u0443\\u0431\\u044c\", \"\\u0432\\u044b\\u043f\\u043e\\u043b\\u043d\\u044f\\u0442\\u044c\\u0441\\u044f\", \"\\u0434\\u0430\\u043b\\u044c\\u043d\\u0435\\u0439\\u0448\\u0438\\u0439\", \"\\u0434\\u0440\\u043e\\u0431\\u043b\\u0435\\u043d\\u0438\\u0435\", \"\\u0438\\u043d\\u0436\\u0435\\u043d\\u0435\\u0440\\u0438\\u044f\", \"\\u043a\\u043e\\u043f\\u0430\\u0442\\u044c\", \"\\u043e\\u0431\\u0441\\u0443\\u0436\\u0434\\u0430\\u0442\\u044c\\u0441\\u044f\", \"\\u043e\\u0442\\u0434\\u0435\\u043b\\u044f\\u0442\\u044c\\u0441\\u044f\", \"\\u0443\\u0441\\u043b\\u0443\\u0433\\u0430\", \"\\u0442\\u0435\\u043c\\u0430\", \"\\u043f\\u0440\\u043e\\u0432\\u043e\\u0434\\u0438\\u0442\\u044c\", \"\\u043f\\u0440\\u0430\\u043a\\u0442\\u0438\\u043a\\u0430\", \"\\u043e\\u0446\\u0435\\u043d\\u043a\\u0430\", \"\\u0432\\u0435\\u0431\\u0438\\u043d\\u0430\\u0440\", \"\\u0432\\u0434\\u043e\\u0445\\u043d\\u043e\\u0432\\u043b\\u044f\\u0442\\u044c\", \"\\u0448\\u043a\\u043e\\u043b\\u0430\", \"\\u043f\\u043e\\u043b\\u0443\\u0447\\u0435\\u043d\\u0438\\u0435\", \"\\u043d\\u0430\\u0432\\u044b\\u043a\", \"\\u044d\\u043a\\u0437\\u0430\\u043c\\u0435\\u043d\\u0430\\u0446\\u0438\\u043e\\u043d\\u043d\\u044b\\u0439\", \"\\u043a\\u0443\\u0440\\u0441\", \"\\u0438\\u043d\\u0442\\u0435\\u0440\\u0435\\u0441\\u043d\\u044b\\u0439\", \"\\u043d\\u043e\\u0432\\u044b\\u0439\", \"\\u0440\\u0430\\u0431\\u043e\\u0442\\u0430\", \"\\u043f\\u0440\\u043e\\u0434\\u0443\\u043a\\u0442\", \"\\u0431\\u044b\\u0441\\u0442\\u0440\\u043e\", \"\\u0441\\u0435\\u0433\\u043e\\u0434\\u043d\\u044f\", \"\\u0434\\u0435\\u043d\\u044c\", \"\\u043a\\u0440\\u0443\\u0442\\u043e\\u0439\", \"\\u044f\\u0437\\u044b\\u043a\", \"\\u0434\\u0430\\u043b\\u0435\\u043a\\u043e\", \"\\u0438\\u043d\\u043e\\u0441\\u0442\\u0440\\u0430\\u043d\\u043d\\u044b\\u0439\"], \"Freq\": [19.0, 22.0, 18.0, 23.0, 19.0, 35.0, 32.0, 24.0, 13.0, 28.0, 10.0, 22.0, 25.0, 17.0, 9.0, 20.0, 13.0, 30.0, 17.0, 14.0, 7.0, 18.0, 16.0, 15.0, 7.0, 10.0, 15.0, 40.0, 6.0, 14.0, 9.080913032250637, 7.4865268148604605, 12.760548527044099, 5.0820016583012935, 5.081907222272409, 5.081774626378792, 4.784518530986462, 4.082178126062241, 4.082171958811375, 3.4873918780672275, 3.4872434785932667, 3.487244634952804, 6.7660523796713905, 3.082385622804108, 3.082385622804108, 3.082351124744577, 3.0823499683850395, 3.0821017365376866, 3.082060493047521, 2.7848917028002615, 2.7846434709529087, 2.784282686777253, 2.78381127753919, 5.062187437628664, 2.4863449174376506, 25.086250362783787, 2.1901717527520566, 19.49666430010601, 2.082534916115928, 2.082511403472002, 6.693738279643169, 7.99063867154626, 11.654265524904538, 9.449456380402014, 9.625963871090702, 11.529990023611955, 16.887820049625155, 6.478341646806772, 21.15074410953368, 13.201529320241017, 5.1895993714397415, 9.568742575744077, 6.8394226214103995, 17.559432127109982, 9.125627913747556, 8.191359560040867, 6.5940392730512345, 7.234415766712946, 11.31904768771346, 8.582144327533788, 13.325784007061928, 10.484865335590543, 9.392798617603262, 10.091097160491238, 8.008959261149803, 7.51666616984216, 7.78477660854856, 7.180039886734581, 6.91523432358595, 4.290125217794004, 3.663400865378797, 3.0402545770460887, 3.0402545770460887, 2.9271108474665892, 2.9270874971034777, 2.9265364891843406, 2.9264443007377707, 2.9247494282776394, 2.6138354011791143, 2.3019950924685886, 2.301994031088447, 2.3019896339421466, 2.3019896339421466, 2.1888043589113972, 2.1887984455077523, 2.1887984455077523, 2.1887984455077523, 2.1887984455077523, 2.1887984455077523, 2.1887984455077523, 2.188716112733924, 2.1887132318449685, 2.188668199001825, 2.1886281698079197, 2.187785737227092, 2.187785737227092, 1.8762937128286905, 1.8762708173427824, 1.8762677848280926, 6.0218675980266365, 3.2106461189396946, 2.920548182426386, 4.51677021043493, 9.297280649453805, 7.373597071438886, 10.886422058913128, 3.6487244040345557, 4.3477141880107135, 5.0457262892508785, 5.458462152334523, 2.9267436099376543, 3.2396645552578915, 3.3519355271096654, 9.61621264539217, 12.460173456321698, 3.7851811967948557, 3.716358579161239, 9.762932377617172, 6.58417284738929, 6.129482446823687, 5.765416928254041, 5.739565347026406, 6.135137480217232, 5.241113333475188, 5.24569303715973, 3.987773799173607, 4.181768312652359, 4.896569324969683, 4.682898339926141, 4.862860498180767, 4.031009877363478, 4.196208541102265, 4.633844685555353, 4.088689216517944, 4.139301280187823, 3.90244247482017, 4.054884865516299, 5.539603890597005, 5.228985942563906, 3.9557652776107544, 8.457913044826775, 3.6472526502690794, 3.646737824580876, 3.2236512501874164, 3.2233680829856266, 3.2233680829856266, 3.025176142426563, 2.912639012089407, 2.911957109908181, 2.911805721348775, 2.911716561592718, 2.9115183706980208, 2.6016249437324754, 2.6016241593357945, 2.6016160539034257, 2.60144610128924, 2.6007566166067653, 2.6006083656340833, 2.2906059075298986, 2.2906059075298986, 2.2906059075298986, 2.2906059075298986, 2.2906059075298986, 2.2906056460643383, 2.290586297612877, 2.177999358086486, 2.177999358086486, 11.105742352114078, 4.6928251875724625, 8.329638563881561, 4.36448876438102, 4.494399496802504, 3.647097078260709, 4.381766147139162, 4.43339958158777, 3.33613085810131, 10.711325737871544, 9.639179932745169, 4.49440524904483, 7.1107384149400765, 3.7597931796585193, 3.6472646776848525, 9.12894662564281, 5.206513500588441, 6.807249063942617, 8.128399503682925, 4.916993731545944, 4.951423516524411, 5.963615791608317, 5.2289906489439915, 7.938325545839622, 4.848108537964103, 6.475739494711543, 6.012514557761892, 5.464105187133288, 5.249236973139181, 4.4943968821469005, 4.864876847276369, 5.1153388909233355, 4.483216614789069, 6.367474762255973, 4.46075850474908, 4.058185055043159, 4.05817668247343, 3.8696873035940293, 3.7624461025069142, 3.762315185962062, 3.761514971267363, 3.5741934390080314, 3.4667317602513874, 3.0644858556218315, 3.0644858556218315, 2.8758622619125336, 2.87581989163542, 2.768826315640894, 2.768832912210984, 2.7686157328265, 2.7685512894110103, 2.76834096031085, 2.7681636140611374, 2.767921316967467, 2.766994498869897, 2.4731819985140095, 2.472958983702139, 2.1775275328177566, 2.1775275328177566, 2.177483386541004, 4.5674209836679625, 2.07045467112504, 2.0704503579830584, 4.333185406075067, 8.38422840542521, 6.899514526251584, 4.756336602460836, 3.574184559009834, 7.434612561626364, 12.100696414408562, 14.78618648410962, 8.645706295202187, 5.6691892537226325, 4.849161507045896, 9.121748283136807, 3.869735509298529, 4.340789729102814, 4.021643608746809, 8.157952350787955, 3.7556940055918795, 5.450842783761382, 5.027495719986803, 5.654589521829244, 4.968747681626975, 6.741499271471632, 5.9364360977570785, 4.712349658247355, 4.845185804995824, 4.272550241241184, 4.033902826829609, 4.477864425847997, 5.6708921676063975, 5.450427404671748, 4.461706258703294, 4.273823031110852, 4.273823031110852, 4.273823031110852, 3.0655000914724626, 2.8767530229291802, 2.8767530229291802, 2.8767530229291802, 2.876752848591955, 2.473427862197177, 2.473164961661583, 2.472264335556227, 2.4711797836782896, 2.4698164665772664, 2.1782147935996785, 2.1782147935996785, 4.273825471832005, 1.4796720315023215, 1.4796720315023215, 1.4796720315023215, 1.4796720315023215, 1.4796720315023215, 1.4796720315023215, 1.4796720315023215, 1.4796720315023215, 1.4796720315023215, 1.4796720315023215, 1.4796720315023215, 2.876753371603631, 10.693667569479684, 4.972379391511774, 3.5752942159915104, 3.575306419597274, 2.1782147935996785, 9.9590342123714, 2.969065455355956, 3.5738873145841885, 4.273897996117686, 2.8767667955699707, 2.876751628231379, 9.018016961333, 4.617201465273496, 4.236026372014168, 5.393381823866855, 5.017984266250483, 5.267584963608589, 3.57530258417832, 4.98076117662469, 3.5885647655733393, 4.31775287378989, 3.2388850867432546, 3.199776017015304, 3.03394261299105, 2.991743590283747, 2.9839611765510505, 6.547895642028941, 5.456663481818909, 4.022434074048477, 3.433737771027339, 3.182934040463365, 3.024282638340004, 2.593068523620654, 2.593068523620654, 2.593068523620654, 2.592662049697598, 2.4334347594088412, 2.4334347594088412, 2.433378839179782, 2.3428772097587998, 2.3360547914903402, 2.0926884513912842, 2.0919699065125084, 4.137122254800083, 1.751989795826985, 1.75197581576972, 1.7519689009026858, 1.7519689009026858, 1.7519129806736262, 1.7516535228366457, 1.7516237588437593, 1.7515953477596402, 3.524556131423129, 1.5018432782776567, 1.5018169717182874, 1.5018121613760027, 3.13041712857025, 5.872822427772746, 2.342708998102032, 4.007144100450194, 4.009725149732324, 2.933656691635602, 4.963284411815318, 4.344366532097822, 3.3358761675875837, 5.11523560842889, 2.688742323260054, 3.9124759629946877, 2.9338043090144637, 5.812676914308897, 3.283494847217618, 5.198714889730205, 3.9289135038742624, 4.851442149817893, 4.164907693775636, 3.0142762244486683, 4.0991650464171565, 3.5961643899050046, 3.094444186379759, 2.9460276894062565, 3.240825307274051, 2.6478266054669573, 2.6478266054669573, 2.6478266054669573, 2.548764960694624, 2.5481998119885603, 2.5441215474982006, 2.277080942106829, 2.2768684029283763, 2.004881259125511, 5.664454654582752, 1.6341095015787155, 1.6327777516373934, 1.6328007361541472, 1.631975727205726, 1.6290646705573393, 1.3619322623019925, 1.3619321270989526, 1.361931991895913, 1.361931991895913, 1.361931991895913, 1.361931991895913, 1.361931991895913, 1.361931991895913, 1.361931991895913, 1.361931991895913, 1.361931991895913, 1.361931991895913, 1.361931991895913, 1.361931991895913, 1.361931991895913, 2.647828227903434, 4.148053325000475, 2.0048820703437493, 4.245893545511905, 3.2907676253111315, 2.647827687091275, 1.8143836914275915, 2.5486989816112366, 2.277093921598643, 2.0048846392015043, 3.5604319808914675, 3.367504544163554, 2.0048851800136633, 2.8650603038650373, 2.5680984545635894, 2.9367825419739426, 2.647834447243261, 2.441941309411498, 2.0048845039984644, 2.138998753647676, 2.0278011488263052, 2.0090798543212287, 2.0048909937443713, 2.004888289683577, 2.9475326914425235, 1.8840260703838922, 1.8837121938668806, 1.8837121938668806, 1.8835716086947767, 1.5771070638810936, 1.5771070638810936, 1.1268395561454367, 1.1268395561454367, 1.1268395561454367, 1.1268395561454367, 1.1268395561454367, 1.1268395561454367, 1.1268395561454367, 1.1268395561454367, 1.1268395561454367, 1.1268395561454367, 1.1268395561454367, 1.1268395561454367, 1.1268395561454367, 1.1268395561454367, 1.1268395561454367, 1.1268395561454367, 1.1268395561454367, 1.1268395561454367, 1.1268395561454367, 1.1268395561454367, 1.1268395561454367, 1.1268395561454367, 1.1268395561454367, 2.1907536344720597, 1.8838873688133635, 3.254663517504266, 8.058139320974748, 3.2546549556789244, 7.199950579931928, 2.4835278205650226, 2.1907527782895255, 1.6587786582846582, 2.190761340114867, 2.190749353559389, 3.353700206065032, 1.5758630306590042, 1.8599298403798767, 2.8277368299227628, 2.190765449791031, 1.8108046551191657, 2.1907589428037713, 2.3293062292399953, 1.6329686933203305, 1.7678518609834963, 1.2184184667426734, 1.2657226373715458, 1.2846167879164478, 1.7395568756938597, 2.4368328216339976, 2.723027811214913, 1.2489144620776125, 2.4397387598797478, 1.0408950730226068, 1.0408950730226068, 1.0408950730226068, 1.0408950730226068, 1.0408950730226068, 1.0408950730226068, 1.0408950730226068, 1.0408950730226068, 1.0408950730226068, 1.0408950730226068, 1.0408950730226068, 1.0408950730226068, 1.0408950730226068, 1.0408950730226068, 1.0408950730226068, 1.0408950730226068, 1.040894789847958, 1.040894789847958, 1.040894789847958, 2.0236566560484737, 0.7574721508722323, 0.7574721508722323, 0.7574721508722323, 0.7574721508722323, 0.7574721508722323, 2.157080196900085, 1.0408957809592287, 2.0236613284301783, 2.0236678414471, 1.0408954269909176, 2.1465196231359176, 2.0236610452555297, 2.553247901968788, 2.593372900176551, 2.1451271118005564, 2.023676053511915, 2.180438848915731, 1.6134071004580604, 1.7624523955714313, 1.5437745959111058, 1.452566590111854, 1.5322840766003547, 1.2558479933529187, 1.2594700802854262, 1.1216079891952209, 1.1043529543529775, 1.0925939146815236, 1.069380602054362, 1.0523288866099403, 1.040923602868471, 1.0409146120733723, 3.0184776592796356, 1.5917033045872955, 1.5316110249378505, 1.5309604019077734, 1.20503046510011, 1.20502997272609, 1.1458740899879514, 2.6326514076825016, 0.9817825698262749, 1.797161234143171, 0.8187176987337776, 0.8187174525467676, 0.8187174525467676, 0.8187174525467676, 0.8187174525467676, 0.8187162216117175, 0.8187162216117175, 0.8187162216117175, 0.8187162216117175, 0.5958559724038576, 0.5958559724038576, 0.5958294334441776, 0.5958153023098025, 0.5958153023098025, 0.5958153023098025, 0.5958153023098025, 0.5958153023098025, 0.5958153023098025, 0.5958153023098025, 0.5958153023098025, 0.9823633742203106, 2.824716468468957, 2.2103266516776676, 1.811502513749987, 1.5917137429165205, 1.706302471477689, 0.8187176002589737, 1.1460066370741455, 0.8187192743306417, 1.4103754440557892, 0.8187241488334401, 1.5915726285223777, 1.1126802030531318, 1.443280602865259, 1.360668317236966, 1.166333215268532, 0.9102238839982063, 0.9545826472617787, 0.9029969166069061, 0.8736440394023958, 0.8486062296346863, 0.8187338486016349, 0.8187290233362385], \"Total\": [19.0, 22.0, 18.0, 23.0, 19.0, 35.0, 32.0, 24.0, 13.0, 28.0, 10.0, 22.0, 25.0, 17.0, 9.0, 20.0, 13.0, 30.0, 17.0, 14.0, 7.0, 18.0, 16.0, 15.0, 7.0, 10.0, 15.0, 40.0, 6.0, 14.0, 9.733884037040815, 8.139450244949266, 14.134145293200577, 5.734905747526106, 5.7348278147558425, 5.734716008004022, 5.4374322401631385, 4.735080339309784, 4.735076068511901, 4.140289678585701, 4.140161337688155, 4.140166824142687, 8.135184793155002, 3.735278081074552, 3.735278081074552, 3.735254217956425, 3.735253916462871, 3.7350411857479506, 3.735004028677068, 3.4378006282670106, 3.437585025972857, 3.4372830417753746, 3.4368819076031283, 6.375475576950158, 3.139423801925679, 32.02420979860809, 2.8430642110225004, 25.371676488977748, 2.7354299235940327, 2.7354151670924804, 8.853717183824733, 10.773094445169992, 16.27806966181242, 13.280432326967626, 13.970653360717485, 18.269969058965017, 30.443456831831504, 9.574354609933367, 42.6135613298395, 23.947002085022806, 7.311512490678131, 16.93976521291234, 10.970084326522214, 40.04988998000268, 16.59010901452622, 14.755764006529485, 10.804383376865998, 12.445533995934069, 26.42550597401091, 16.83952121149765, 38.413806087709546, 35.274985044384174, 28.316237809160118, 37.257403683485826, 20.178672902783784, 17.28363020206832, 22.946861571947355, 26.086726710063484, 16.60749941440926, 4.938845770199159, 4.312311729305376, 3.6889024894201445, 3.6889024894201445, 3.5757681894963684, 3.5757460004430284, 3.5752808856679836, 3.5751959373455247, 3.5737790486712475, 3.262576341493207, 2.9506430048426444, 2.950641943462503, 2.9506383471778306, 2.9506383471778306, 2.8374654221813658, 2.837460541619361, 2.837460541619361, 2.837460541619361, 2.837460541619361, 2.837460541619361, 2.837460541619361, 2.837385406050927, 2.8373830424510005, 2.8373425193514503, 2.837305740813511, 2.836572634876902, 2.836572634876902, 2.5249446462641965, 2.524925990747621, 2.5249235276455013, 8.507801378651795, 4.563618427501264, 4.212833169517107, 7.149316587226042, 18.548559658210003, 13.886916915071724, 24.7937015645751, 5.746720877135265, 7.509689463133154, 9.873053686221157, 11.501270803081724, 4.415672637673624, 5.174121895542455, 5.469731400574923, 29.524445937395292, 47.22916679986862, 6.922366145393841, 6.720187306805304, 37.257403683485826, 19.16097501799053, 19.655238114547746, 17.784743846061556, 18.399332801878614, 23.11751202698428, 16.09394848017337, 17.693020094962375, 8.79904288532578, 10.324512518966598, 17.882379073626726, 18.23059848021926, 26.086726710063484, 12.273413909553712, 14.946065028658015, 24.218152561337373, 16.623425208298443, 40.04988998000268, 14.214416592110467, 38.413806087709546, 6.188734645919521, 5.8780673256886695, 4.605182611364871, 9.865542634384767, 4.296338544897911, 4.295917939594936, 3.87274110764805, 3.8724887799847583, 3.8724887799847583, 3.6742603923593458, 3.561726408028138, 3.5611495649880776, 3.561025479107263, 3.5609310842862505, 3.5607417572422464, 3.2507095349850257, 3.2507087505883447, 3.2506995222420514, 3.250557871341198, 3.249953061664248, 3.2498107640914524, 2.939687290654662, 2.939687290654662, 2.939687290654662, 2.939687290654662, 2.939687290654662, 2.9396870291891015, 2.9396696742533006, 2.827089785210712, 2.827089785210712, 16.967951080766362, 6.818227901117378, 14.214416592110467, 6.470068136653307, 6.825533798146707, 5.289897459501802, 6.722999598949134, 6.913754853415979, 4.826178251079015, 24.712273740273766, 23.58748684234171, 7.552218060878296, 16.266225333649846, 5.845246135453668, 5.73245410733586, 29.524445937395292, 10.84025656922866, 17.882379073626726, 26.086726710063484, 9.84059301336411, 11.091761315848933, 17.87840363641469, 15.01309517312775, 47.22916679986862, 12.273413909553712, 28.316237809160118, 24.218152561337373, 19.52749528867922, 18.68544009267232, 11.345508632756989, 17.784743846061556, 38.413806087709546, 23.947002085022806, 7.0208547850683845, 5.114205601990099, 4.711619494616925, 4.71162058355992, 4.523091429224512, 4.415882770596751, 4.415764486191089, 4.41506773233828, 4.227569107404059, 4.120188409051712, 3.7178773595490666, 3.7178773595490666, 3.529237930308561, 3.5292002216058327, 3.4222111404583746, 3.422219788801382, 3.4220217608878785, 3.421978494961539, 3.4218086257235267, 3.421639272696367, 3.421427325440038, 3.420609334309044, 3.126563656941033, 3.126383848386063, 2.830903201213784, 2.830903201213784, 2.830863915260712, 5.958956646475334, 2.7238422763755277, 2.7238428946049313, 5.859269259606708, 11.961319492379038, 9.838856743812439, 6.69559031244212, 4.961928537674637, 11.851744310435217, 22.976547160948314, 35.274985044384174, 17.17283094988103, 9.686035213560595, 8.378637620156862, 24.7937015645751, 5.963212206197406, 7.290479904538151, 7.521009695744867, 37.257403683485826, 6.820416695297499, 19.17902629760033, 16.12418315155713, 23.11751202698428, 15.627467716131497, 47.22916679986862, 42.6135613298395, 24.218152561337373, 40.04988998000268, 17.87840363641469, 9.70681191002833, 38.413806087709546, 6.324243542347219, 6.104732747324384, 5.115197148350618, 4.927174405851673, 4.927174405851673, 4.927174405851673, 3.718853974731624, 3.5301043976700015, 3.5301043976700015, 3.5301043976700015, 3.5301042233327764, 3.126865755924897, 3.126652280245546, 3.1259084364603402, 3.1248776685643374, 3.1237527539394674, 2.8315661683405, 2.8315661683405, 5.570002656526774, 2.133023406243143, 2.133023406243143, 2.133023406243143, 2.133023406243143, 2.133023406243143, 2.133023406243143, 2.133023406243143, 2.133023406243143, 2.133023406243143, 2.133023406243143, 2.133023406243143, 4.172930894305998, 18.399332801878614, 8.072290398871571, 6.1560598994792946, 6.276015937468555, 3.4223250324513965, 23.58748684234171, 5.275121254801782, 6.8411203038784585, 8.808464704350294, 5.220713216810201, 5.657858603506821, 47.22916679986862, 14.946065028658015, 13.9558843079669, 26.42550597401091, 28.316237809160118, 37.257403683485826, 10.667923364894321, 38.413806087709546, 16.09394848017337, 42.6135613298395, 18.23059848021926, 18.548559658210003, 24.712273740273766, 14.186954092836217, 13.970653360717485, 7.214058944533038, 6.122820947368185, 4.689014316997004, 4.0999076208683, 3.8492111610514654, 3.690386111933236, 3.2591774630418473, 3.2591774630418473, 3.2591774630418473, 3.2588242944093118, 3.09953345097357, 3.09953345097357, 3.099483655836435, 3.008987415801065, 3.0034131444319305, 2.7587951494443264, 2.7582127071382545, 5.708024398659188, 2.4180954284916383, 2.4180871251663625, 2.4180786701585135, 2.4180786701585135, 2.4180348418263415, 2.4178050980218404, 2.4177784017946156, 2.4177564223461334, 4.963628273921958, 2.1679429022756858, 2.167921556984592, 2.1679188847919333, 4.5623016784952615, 10.937050705085426, 3.743133141779175, 7.601056400089949, 7.639862242460208, 5.0760796048122625, 11.101182603419797, 9.84059301336411, 6.723132346897052, 14.059890471192595, 5.240281386947267, 10.408257894738101, 6.362009223652273, 35.274985044384174, 8.950662550534105, 40.04988998000268, 18.399537975739218, 47.22916679986862, 26.086726710063484, 8.462108693228148, 38.413806087709546, 22.976547160948314, 10.856361825482686, 8.378637620156862, 19.202907627891758, 3.307761128161149, 3.307761128161149, 3.307761128161149, 3.2087927411583728, 3.208342792362086, 3.204972310194126, 2.9370210127733785, 2.9368413595481258, 2.6648157818197027, 7.7210657902617665, 2.2940526526363967, 2.292892769020553, 2.2929450851260325, 2.2922721609051098, 2.2896745577709003, 2.0218667849961847, 2.021866649793145, 2.021866514590105, 2.021866514590105, 2.021866514590105, 2.021866514590105, 2.021866514590105, 2.021866514590105, 2.021866514590105, 2.021866514590105, 2.021866514590105, 2.021866514590105, 2.021866514590105, 2.021866514590105, 2.021866514590105, 4.784064733849963, 8.802335416195406, 3.402809055220396, 10.300491190888339, 10.23002626670953, 8.204910838520393, 3.7434075742268695, 7.909263980440602, 6.434733468560514, 5.1793007458269935, 24.7937015645751, 28.316237809160118, 6.174662756337237, 17.784743846061556, 14.186954092836217, 23.947002085022806, 17.28363020206832, 14.059890471192595, 6.848209885837066, 42.6135613298395, 24.712273740273766, 30.443456831831504, 23.11751202698428, 47.22916679986862, 3.620677115009338, 2.5571041503249226, 2.5568401748961684, 2.5568401748961684, 2.556745683404553, 2.250219596097127, 2.250219596097127, 1.799917636086467, 1.799917636086467, 1.799917636086467, 1.799917636086467, 1.799917636086467, 1.799917636086467, 1.799917636086467, 1.799917636086467, 1.799917636086467, 1.799917636086467, 1.799917636086467, 1.799917636086467, 1.799917636086467, 1.799917636086467, 1.799917636086467, 1.799917636086467, 1.799917636086467, 1.799917636086467, 1.799917636086467, 1.799917636086467, 1.799917636086467, 1.799917636086467, 1.799917636086467, 3.5619336844836886, 3.255362590220366, 6.382890647265381, 19.52749528867922, 6.8659443518303895, 22.946861571947355, 5.35831558946375, 5.070821474087971, 3.3310463299109387, 5.564383975543243, 5.657858603506821, 20.178672902783784, 3.940823664480362, 7.9167436018501, 30.443456831831504, 15.01309517312775, 8.248916241127432, 18.68544009267232, 26.42550597401091, 7.981242322138642, 14.059890471192595, 3.7698906714133984, 6.922366145393841, 14.946065028658015, 2.417616465925461, 3.665404505968321, 4.135288841926502, 1.926805727867587, 3.816011337843364, 1.7187780111017918, 1.7187780111017918, 1.7187780111017918, 1.7187780111017918, 1.7187780111017918, 1.7187780111017918, 1.7187780111017918, 1.7187780111017918, 1.7187780111017918, 1.7187780111017918, 1.7187780111017918, 1.7187780111017918, 1.7187780111017918, 1.7187780111017918, 1.7187780111017918, 1.7187780111017918, 1.718777727927143, 1.718777727927143, 1.718777727927143, 3.4358304857018998, 1.435373462246686, 1.435373462246686, 1.435373462246686, 1.435373462246686, 1.435373462246686, 5.630365381609589, 2.361603785375642, 6.963974078275628, 7.042993055533361, 2.4168900397101596, 8.970610917888097, 8.221132112814256, 13.9558843079669, 15.627467716131497, 10.555017815997392, 11.618552050170198, 15.580349603587406, 9.472472500157217, 18.548559658210003, 18.269969058965017, 19.17902629760033, 38.413806087709546, 22.976547160948314, 47.22916679986862, 13.294604138352867, 7.981242322138642, 9.779887589317457, 16.623425208298443, 25.371676488977748, 16.09394848017337, 6.154040937050232, 3.7090034875707216, 2.282006772094247, 2.2221520738944287, 2.2216230044988556, 1.8954042885735043, 1.8954037961994843, 1.8362183728506245, 4.305711437132871, 1.6722360183841158, 3.2984706112553104, 1.5090211662407294, 1.5090209200537192, 1.5090209200537192, 1.5090209200537192, 1.5090209200537192, 1.5090196891186691, 1.5090196891186691, 1.5090196891186691, 1.5090196891186691, 1.286161770910336, 1.286161770910336, 1.2861409750214907, 1.2861348021208352, 1.2861348021208352, 1.2861348021208352, 1.2861348021208352, 1.2861348021208352, 1.2861348021208352, 1.2861348021208352, 1.2861348021208352, 2.4106590695907597, 19.17902629760033, 13.294604138352867, 9.779887589317457, 8.189717220162434, 10.937050705085426, 2.6906981620638977, 6.298737929681074, 2.8340695959960405, 11.091761315848933, 2.905490384643332, 17.28363020206832, 7.9167436018501, 28.316237809160118, 40.04988998000268, 24.218152561337373, 4.410878727365378, 8.355413084120208, 14.059890471192595, 6.5425532250444896, 9.70681191002833, 9.309414947260898, 3.690152245935832], \"Category\": [\"Default\", \"Default\", \"Default\", \"Default\", \"Default\", \"Default\", \"Default\", \"Default\", \"Default\", \"Default\", \"Default\", \"Default\", \"Default\", \"Default\", \"Default\", \"Default\", \"Default\", \"Default\", \"Default\", \"Default\", \"Default\", \"Default\", \"Default\", \"Default\", \"Default\", \"Default\", \"Default\", \"Default\", \"Default\", \"Default\", \"Topic1\", \"Topic1\", \"Topic1\", \"Topic1\", \"Topic1\", \"Topic1\", \"Topic1\", \"Topic1\", \"Topic1\", \"Topic1\", \"Topic1\", \"Topic1\", \"Topic1\", \"Topic1\", \"Topic1\", \"Topic1\", \"Topic1\", \"Topic1\", \"Topic1\", \"Topic1\", \"Topic1\", \"Topic1\", \"Topic1\", \"Topic1\", \"Topic1\", \"Topic1\", \"Topic1\", \"Topic1\", \"Topic1\", \"Topic1\", \"Topic1\", \"Topic1\", \"Topic1\", \"Topic1\", \"Topic1\", \"Topic1\", \"Topic1\", \"Topic1\", \"Topic1\", \"Topic1\", \"Topic1\", \"Topic1\", \"Topic1\", \"Topic1\", \"Topic1\", \"Topic1\", \"Topic1\", \"Topic1\", \"Topic1\", \"Topic1\", \"Topic1\", \"Topic1\", \"Topic1\", \"Topic1\", \"Topic1\", \"Topic1\", \"Topic1\", \"Topic1\", \"Topic1\", \"Topic2\", \"Topic2\", \"Topic2\", \"Topic2\", \"Topic2\", \"Topic2\", \"Topic2\", \"Topic2\", \"Topic2\", \"Topic2\", \"Topic2\", \"Topic2\", \"Topic2\", \"Topic2\", \"Topic2\", \"Topic2\", \"Topic2\", \"Topic2\", \"Topic2\", \"Topic2\", \"Topic2\", \"Topic2\", \"Topic2\", \"Topic2\", \"Topic2\", \"Topic2\", \"Topic2\", \"Topic2\", \"Topic2\", \"Topic2\", \"Topic2\", \"Topic2\", \"Topic2\", \"Topic2\", \"Topic2\", \"Topic2\", \"Topic2\", \"Topic2\", \"Topic2\", \"Topic2\", \"Topic2\", \"Topic2\", \"Topic2\", \"Topic2\", \"Topic2\", \"Topic2\", \"Topic2\", \"Topic2\", \"Topic2\", \"Topic2\", \"Topic2\", \"Topic2\", \"Topic2\", \"Topic2\", \"Topic2\", \"Topic2\", \"Topic2\", \"Topic2\", \"Topic2\", \"Topic2\", \"Topic2\", \"Topic2\", \"Topic2\", \"Topic2\", \"Topic2\", \"Topic2\", \"Topic2\", \"Topic2\", \"Topic3\", \"Topic3\", \"Topic3\", \"Topic3\", \"Topic3\", \"Topic3\", \"Topic3\", \"Topic3\", \"Topic3\", \"Topic3\", \"Topic3\", \"Topic3\", \"Topic3\", \"Topic3\", \"Topic3\", \"Topic3\", \"Topic3\", \"Topic3\", \"Topic3\", \"Topic3\", \"Topic3\", \"Topic3\", \"Topic3\", \"Topic3\", \"Topic3\", \"Topic3\", \"Topic3\", \"Topic3\", \"Topic3\", \"Topic3\", \"Topic3\", \"Topic3\", \"Topic3\", \"Topic3\", \"Topic3\", \"Topic3\", \"Topic3\", \"Topic3\", \"Topic3\", \"Topic3\", \"Topic3\", \"Topic3\", \"Topic3\", \"Topic3\", \"Topic3\", \"Topic3\", \"Topic3\", \"Topic3\", \"Topic3\", \"Topic3\", \"Topic3\", \"Topic3\", \"Topic3\", \"Topic3\", \"Topic3\", \"Topic3\", \"Topic3\", \"Topic3\", \"Topic3\", \"Topic3\", \"Topic3\", \"Topic3\", \"Topic3\", \"Topic4\", \"Topic4\", \"Topic4\", \"Topic4\", \"Topic4\", \"Topic4\", \"Topic4\", \"Topic4\", \"Topic4\", \"Topic4\", \"Topic4\", \"Topic4\", \"Topic4\", \"Topic4\", \"Topic4\", \"Topic4\", \"Topic4\", \"Topic4\", \"Topic4\", \"Topic4\", \"Topic4\", \"Topic4\", \"Topic4\", \"Topic4\", \"Topic4\", \"Topic4\", \"Topic4\", \"Topic4\", \"Topic4\", \"Topic4\", \"Topic4\", \"Topic4\", \"Topic4\", \"Topic4\", \"Topic4\", \"Topic4\", \"Topic4\", \"Topic4\", \"Topic4\", \"Topic4\", \"Topic4\", \"Topic4\", \"Topic4\", \"Topic4\", \"Topic4\", \"Topic4\", \"Topic4\", \"Topic4\", \"Topic4\", \"Topic4\", \"Topic4\", \"Topic4\", \"Topic4\", \"Topic4\", \"Topic4\", \"Topic4\", \"Topic4\", \"Topic4\", \"Topic5\", \"Topic5\", \"Topic5\", \"Topic5\", \"Topic5\", \"Topic5\", \"Topic5\", \"Topic5\", \"Topic5\", \"Topic5\", \"Topic5\", \"Topic5\", \"Topic5\", \"Topic5\", \"Topic5\", \"Topic5\", \"Topic5\", \"Topic5\", \"Topic5\", \"Topic5\", \"Topic5\", \"Topic5\", \"Topic5\", \"Topic5\", \"Topic5\", \"Topic5\", \"Topic5\", \"Topic5\", \"Topic5\", \"Topic5\", \"Topic5\", \"Topic5\", \"Topic5\", \"Topic5\", \"Topic5\", \"Topic5\", \"Topic5\", \"Topic5\", \"Topic5\", \"Topic5\", \"Topic5\", \"Topic5\", \"Topic5\", \"Topic5\", \"Topic5\", \"Topic5\", \"Topic5\", \"Topic5\", \"Topic5\", \"Topic5\", \"Topic5\", \"Topic5\", \"Topic5\", \"Topic5\", \"Topic5\", \"Topic5\", \"Topic5\", \"Topic6\", \"Topic6\", \"Topic6\", \"Topic6\", \"Topic6\", \"Topic6\", \"Topic6\", \"Topic6\", \"Topic6\", \"Topic6\", \"Topic6\", \"Topic6\", \"Topic6\", \"Topic6\", \"Topic6\", \"Topic6\", \"Topic6\", \"Topic6\", \"Topic6\", \"Topic6\", \"Topic6\", \"Topic6\", \"Topic6\", \"Topic6\", \"Topic6\", \"Topic6\", \"Topic6\", \"Topic6\", \"Topic6\", \"Topic6\", \"Topic6\", \"Topic6\", \"Topic6\", \"Topic6\", \"Topic6\", \"Topic6\", \"Topic6\", \"Topic6\", \"Topic6\", \"Topic6\", \"Topic6\", \"Topic6\", \"Topic6\", \"Topic6\", \"Topic6\", \"Topic6\", \"Topic6\", \"Topic6\", \"Topic6\", \"Topic6\", \"Topic6\", \"Topic6\", \"Topic6\", \"Topic6\", \"Topic6\", \"Topic7\", \"Topic7\", \"Topic7\", \"Topic7\", \"Topic7\", \"Topic7\", \"Topic7\", \"Topic7\", \"Topic7\", \"Topic7\", \"Topic7\", \"Topic7\", \"Topic7\", \"Topic7\", \"Topic7\", \"Topic7\", \"Topic7\", \"Topic7\", \"Topic7\", \"Topic7\", \"Topic7\", \"Topic7\", \"Topic7\", \"Topic7\", \"Topic7\", \"Topic7\", \"Topic7\", \"Topic7\", \"Topic7\", \"Topic7\", \"Topic7\", \"Topic7\", \"Topic7\", \"Topic7\", \"Topic7\", \"Topic7\", \"Topic7\", \"Topic7\", \"Topic7\", \"Topic7\", \"Topic7\", \"Topic7\", \"Topic7\", \"Topic7\", \"Topic7\", \"Topic7\", \"Topic7\", \"Topic7\", \"Topic7\", \"Topic7\", \"Topic7\", \"Topic7\", \"Topic7\", \"Topic7\", \"Topic8\", \"Topic8\", \"Topic8\", \"Topic8\", \"Topic8\", \"Topic8\", \"Topic8\", \"Topic8\", \"Topic8\", \"Topic8\", \"Topic8\", \"Topic8\", \"Topic8\", \"Topic8\", \"Topic8\", \"Topic8\", \"Topic8\", \"Topic8\", \"Topic8\", \"Topic8\", \"Topic8\", \"Topic8\", \"Topic8\", \"Topic8\", \"Topic8\", \"Topic8\", \"Topic8\", \"Topic8\", \"Topic8\", \"Topic8\", \"Topic8\", \"Topic8\", \"Topic8\", \"Topic8\", \"Topic8\", \"Topic8\", \"Topic8\", \"Topic8\", \"Topic8\", \"Topic8\", \"Topic8\", \"Topic8\", \"Topic8\", \"Topic8\", \"Topic8\", \"Topic8\", \"Topic8\", \"Topic8\", \"Topic8\", \"Topic8\", \"Topic8\", \"Topic8\", \"Topic8\", \"Topic8\", \"Topic9\", \"Topic9\", \"Topic9\", \"Topic9\", \"Topic9\", \"Topic9\", \"Topic9\", \"Topic9\", \"Topic9\", \"Topic9\", \"Topic9\", \"Topic9\", \"Topic9\", \"Topic9\", \"Topic9\", \"Topic9\", \"Topic9\", \"Topic9\", \"Topic9\", \"Topic9\", \"Topic9\", \"Topic9\", \"Topic9\", \"Topic9\", \"Topic9\", \"Topic9\", \"Topic9\", \"Topic9\", \"Topic9\", \"Topic9\", \"Topic9\", \"Topic9\", \"Topic9\", \"Topic9\", \"Topic9\", \"Topic9\", \"Topic9\", \"Topic9\", \"Topic9\", \"Topic9\", \"Topic9\", \"Topic9\", \"Topic9\", \"Topic9\", \"Topic9\", \"Topic9\", \"Topic9\", \"Topic9\", \"Topic9\", \"Topic9\", \"Topic9\", \"Topic9\", \"Topic9\", \"Topic9\", \"Topic9\", \"Topic9\", \"Topic10\", \"Topic10\", \"Topic10\", \"Topic10\", \"Topic10\", \"Topic10\", \"Topic10\", \"Topic10\", \"Topic10\", \"Topic10\", \"Topic10\", \"Topic10\", \"Topic10\", \"Topic10\", \"Topic10\", \"Topic10\", \"Topic10\", \"Topic10\", \"Topic10\", \"Topic10\", \"Topic10\", \"Topic10\", \"Topic10\", \"Topic10\", \"Topic10\", \"Topic10\", \"Topic10\", \"Topic10\", \"Topic10\", \"Topic10\", \"Topic10\", \"Topic10\", \"Topic10\", \"Topic10\", \"Topic10\", \"Topic10\", \"Topic10\", \"Topic10\", \"Topic10\", \"Topic10\", \"Topic10\", \"Topic10\", \"Topic10\", \"Topic10\", \"Topic10\", \"Topic10\", \"Topic10\", \"Topic10\", \"Topic10\", \"Topic10\", \"Topic10\", \"Topic10\", \"Topic10\"], \"logprob\": [30.0, 29.0, 28.0, 27.0, 26.0, 25.0, 24.0, 23.0, 22.0, 21.0, 20.0, 19.0, 18.0, 17.0, 16.0, 15.0, 14.0, 13.0, 12.0, 11.0, 10.0, 9.0, 8.0, 7.0, 6.0, 5.0, 4.0, 3.0, 2.0, 1.0, -5.2057, -5.3988, -4.8655, -5.7862, -5.7862, -5.7862, -5.8465, -6.0052, -6.0052, -6.1627, -6.1628, -6.1628, -5.4999, -6.2862, -6.2862, -6.2862, -6.2862, -6.2863, -6.2863, -6.3877, -6.3877, -6.3879, -6.388, -5.7901, -6.501, -4.1895, -6.6279, -4.4416, -6.6783, -6.6783, -5.5107, -5.3336, -4.9562, -5.1659, -5.1474, -4.9669, -4.5853, -5.5434, -4.3602, -4.8315, -5.7652, -5.1534, -5.4892, -4.5463, -5.2008, -5.3088, -5.5257, -5.433, -4.9854, -5.2622, -4.8222, -5.0619, -5.1719, -5.1002, -5.3313, -5.3947, -5.3597, -5.4406, -5.4781, -5.7157, -5.8736, -6.0601, -6.0601, -6.098, -6.098, -6.0982, -6.0982, -6.0988, -6.2112, -6.3382, -6.3382, -6.3382, -6.3382, -6.3887, -6.3887, -6.3887, -6.3887, -6.3887, -6.3887, -6.3887, -6.3887, -6.3887, -6.3887, -6.3887, -6.3891, -6.3891, -6.5427, -6.5427, -6.5427, -5.3766, -6.0055, -6.1002, -5.6642, -4.9423, -5.1741, -4.7845, -5.8776, -5.7024, -5.5535, -5.4748, -6.0981, -5.9965, -5.9625, -4.9086, -4.6495, -5.8409, -5.8593, -4.8934, -5.2873, -5.3589, -5.4201, -5.4246, -5.358, -5.5155, -5.5146, -5.7888, -5.7413, -5.5835, -5.6281, -5.5904, -5.778, -5.7378, -5.6386, -5.7638, -5.7515, -5.8104, -5.7721, -5.3118, -5.3695, -5.6486, -4.8886, -5.7298, -5.7299, -5.8532, -5.8533, -5.8533, -5.9168, -5.9547, -5.9549, -5.955, -5.955, -5.9551, -6.0676, -6.0676, -6.0676, -6.0677, -6.0679, -6.068, -6.1949, -6.1949, -6.1949, -6.1949, -6.1949, -6.1949, -6.1949, -6.2453, -6.2453, -4.6163, -5.4777, -4.9039, -5.5502, -5.5209, -5.7298, -5.5463, -5.5346, -5.8189, -4.6524, -4.7579, -5.5209, -5.0621, -5.6994, -5.7298, -4.8123, -5.3738, -5.1058, -4.9284, -5.431, -5.4241, -5.2381, -5.3695, -4.952, -5.4452, -5.1557, -5.2299, -5.3255, -5.3657, -5.5209, -5.4417, -5.3915, -5.5234, -5.1424, -5.4983, -5.5929, -5.5929, -5.6405, -5.6686, -5.6686, -5.6688, -5.7199, -5.7504, -5.8738, -5.8738, -5.9373, -5.9373, -5.9752, -5.9752, -5.9753, -5.9753, -5.9754, -5.9755, -5.9756, -5.9759, -6.0881, -6.0882, -6.2155, -6.2155, -6.2155, -5.4747, -6.2659, -6.2659, -5.5273, -4.8673, -5.0622, -5.4342, -5.7199, -4.9875, -4.5004, -4.3, -4.8366, -5.2586, -5.4148, -4.783, -5.6405, -5.5256, -5.602, -4.8947, -5.6704, -5.2979, -5.3787, -5.2612, -5.3905, -5.0854, -5.2125, -5.4435, -5.4157, -5.5414, -5.5989, -5.4945, -4.8831, -4.9227, -5.1229, -5.1659, -5.1659, -5.1659, -5.4982, -5.5618, -5.5618, -5.5618, -5.5618, -5.7128, -5.7129, -5.7133, -5.7137, -5.7143, -5.8399, -5.8399, -5.1659, -6.2266, -6.2266, -6.2266, -6.2266, -6.2266, -6.2266, -6.2266, -6.2266, -6.2266, -6.2266, -6.2266, -5.5618, -4.2488, -5.0145, -5.3444, -5.3444, -5.8399, -4.32, -5.5302, -5.3448, -5.1659, -5.5618, -5.5618, -4.4192, -5.0886, -5.1748, -4.9333, -5.0054, -4.9569, -5.3444, -5.0129, -5.3407, -5.1557, -5.4432, -5.4554, -5.5086, -5.5226, -5.5252, -4.5911, -4.7734, -5.0783, -5.2366, -5.3124, -5.3636, -5.5174, -5.5174, -5.5174, -5.5175, -5.5809, -5.5809, -5.581, -5.6189, -5.6218, -5.7318, -5.7321, -5.0502, -5.9095, -5.9095, -5.9095, -5.9095, -5.9095, -5.9097, -5.9097, -5.9097, -5.2105, -6.0635, -6.0636, -6.0636, -5.3291, -4.6999, -5.6189, -5.0822, -5.0815, -5.394, -4.8682, -5.0014, -5.2655, -4.838, -5.4812, -5.1061, -5.3939, -4.7102, -5.2813, -4.8218, -5.1019, -4.891, -5.0435, -5.3669, -5.0594, -5.1904, -5.3406, -5.3898, -5.2944, -5.3905, -5.3905, -5.3905, -5.4286, -5.4288, -5.4304, -5.5413, -5.5414, -5.6686, -4.63, -5.8731, -5.8739, -5.8739, -5.8744, -5.8762, -6.0553, -6.0553, -6.0553, -6.0553, -6.0553, -6.0553, -6.0553, -6.0553, -6.0553, -6.0553, -6.0553, -6.0553, -6.0553, -6.0553, -6.0553, -5.3905, -4.9416, -5.6686, -4.9183, -5.1731, -5.3905, -5.7685, -5.4286, -5.5413, -5.6686, -5.0943, -5.15, -5.6686, -5.3116, -5.4211, -5.2869, -5.3905, -5.4714, -5.6686, -5.6039, -5.6573, -5.6665, -5.6686, -5.6686, -4.8264, -5.2739, -5.2741, -5.2741, -5.2742, -5.4518, -5.4518, -5.7879, -5.7879, -5.7879, -5.7879, -5.7879, -5.7879, -5.7879, -5.7879, -5.7879, -5.7879, -5.7879, -5.7879, -5.7879, -5.7879, -5.7879, -5.7879, -5.7879, -5.7879, -5.7879, -5.7879, -5.7879, -5.7879, -5.7879, -5.1231, -5.274, -4.7273, -3.8207, -4.7273, -3.9333, -4.9977, -5.1231, -5.4013, -5.1231, -5.1231, -4.6973, -5.4525, -5.2868, -4.8679, -5.1231, -5.3136, -5.1231, -5.0618, -5.4169, -5.3376, -5.7098, -5.6717, -5.6569, -5.1636, -4.8265, -4.7155, -5.4949, -4.8253, -5.6771, -5.6771, -5.6771, -5.6771, -5.6771, -5.6771, -5.6771, -5.6771, -5.6771, -5.6771, -5.6771, -5.6771, -5.6771, -5.6771, -5.6771, -5.6771, -5.6771, -5.6771, -5.6771, -5.0123, -5.995, -5.995, -5.995, -5.995, -5.995, -4.9485, -5.6771, -5.0123, -5.0123, -5.6771, -4.9534, -5.0123, -4.7798, -4.7643, -4.954, -5.0123, -4.9377, -5.2389, -5.1505, -5.283, -5.3439, -5.2905, -5.4894, -5.4865, -5.6025, -5.618, -5.6287, -5.6501, -5.6662, -5.6771, -5.6771, -4.2493, -4.8893, -4.9278, -4.9282, -5.1676, -5.1676, -5.2179, -4.3861, -5.3725, -4.7679, -5.5541, -5.5541, -5.5541, -5.5541, -5.5541, -5.5541, -5.5541, -5.5541, -5.5541, -5.8719, -5.8719, -5.8719, -5.8719, -5.8719, -5.8719, -5.8719, -5.8719, -5.8719, -5.8719, -5.8719, -5.3719, -4.3157, -4.561, -4.7599, -4.8893, -4.8198, -5.5541, -5.2178, -5.5541, -5.0102, -5.5541, -4.8894, -5.2473, -4.9872, -5.0461, -5.2002, -5.4482, -5.4006, -5.4561, -5.4892, -5.5183, -5.5541, -5.5541], \"loglift\": [30.0, 29.0, 28.0, 27.0, 26.0, 25.0, 24.0, 23.0, 22.0, 21.0, 20.0, 19.0, 18.0, 17.0, 16.0, 15.0, 14.0, 13.0, 12.0, 11.0, 10.0, 9.0, 8.0, 7.0, 6.0, 5.0, 4.0, 3.0, 2.0, 1.0, 1.5095, 1.4953, 1.4767, 1.4581, 1.4581, 1.4581, 1.451, 1.4306, 1.4306, 1.4073, 1.4073, 1.4073, 1.3947, 1.3868, 1.3868, 1.3868, 1.3868, 1.3868, 1.3868, 1.3683, 1.3683, 1.3683, 1.3682, 1.3483, 1.3457, 1.3348, 1.318, 1.3156, 1.3062, 1.3062, 1.2993, 1.2802, 1.2448, 1.2386, 1.2065, 1.1186, 0.9897, 1.1883, 0.8785, 0.9834, 1.2362, 1.0078, 1.1065, 0.7544, 0.9812, 0.9904, 1.0852, 1.0364, 0.7311, 0.9049, 0.5202, 0.3657, 0.4755, 0.2728, 0.6549, 0.7463, 0.4979, 0.2888, 0.7028, 1.678, 1.6557, 1.6254, 1.6254, 1.6186, 1.6186, 1.6186, 1.6186, 1.6184, 1.5971, 1.5706, 1.5706, 1.5706, 1.5706, 1.5593, 1.5593, 1.5593, 1.5593, 1.5593, 1.5593, 1.5593, 1.5592, 1.5592, 1.5592, 1.5592, 1.5591, 1.5591, 1.5219, 1.5219, 1.5219, 1.4732, 1.4672, 1.4524, 1.3596, 1.1281, 1.1858, 0.9957, 1.3646, 1.2723, 1.1475, 1.0735, 1.4075, 1.3506, 1.3291, 0.697, 0.4863, 1.2151, 1.2264, 0.4796, 0.7506, 0.6536, 0.6923, 0.6539, 0.4923, 0.6969, 0.603, 1.0274, 0.915, 0.5235, 0.4596, 0.139, 0.7054, 0.5485, 0.1651, 0.4162, -0.4508, 0.5262, -0.4297, 1.8563, 1.8501, 1.8151, 1.8131, 1.8033, 1.8032, 1.7836, 1.7836, 1.7836, 1.7727, 1.7659, 1.7658, 1.7658, 1.7658, 1.7658, 1.7443, 1.7443, 1.7443, 1.7443, 1.7442, 1.7442, 1.7176, 1.7176, 1.7176, 1.7176, 1.7176, 1.7176, 1.7176, 1.7062, 1.7062, 1.5432, 1.5935, 1.4326, 1.5734, 1.5492, 1.5952, 1.539, 1.5227, 1.5978, 1.1311, 1.0722, 1.4481, 1.1396, 1.5258, 1.5149, 0.7933, 1.2337, 1.0012, 0.801, 1.2733, 1.1605, 0.8692, 0.9124, 0.1838, 1.0382, 0.4917, 0.5738, 0.6934, 0.6974, 1.0411, 0.6708, -0.0491, 0.2916, 1.8995, 1.8605, 1.8479, 1.8479, 1.8411, 1.837, 1.837, 1.837, 1.8293, 1.8245, 1.8039, 1.8039, 1.7924, 1.7924, 1.7853, 1.7853, 1.7853, 1.7853, 1.7852, 1.7852, 1.7852, 1.7851, 1.7627, 1.7627, 1.7348, 1.7348, 1.7348, 1.7312, 1.7229, 1.7229, 1.6954, 1.6418, 1.6423, 1.6552, 1.6691, 1.5308, 1.356, 1.1277, 1.3109, 1.4615, 1.4503, 0.9972, 1.5647, 1.4786, 1.3712, 0.4783, 1.4005, 0.7391, 0.8318, 0.589, 0.8513, 0.0504, 0.0261, 0.3602, -0.115, 0.5658, 1.1191, -0.1521, 2.2633, 2.259, 2.2357, 2.2301, 2.2301, 2.2301, 2.1792, 2.1677, 2.1677, 2.1677, 2.1677, 2.138, 2.1379, 2.1378, 2.1377, 2.1375, 2.1101, 2.1101, 2.1075, 2.0067, 2.0067, 2.0067, 2.0067, 2.0067, 2.0067, 2.0067, 2.0067, 2.0067, 2.0067, 2.0067, 2.0004, 1.8297, 1.8878, 1.829, 1.8097, 1.9206, 1.5101, 1.7976, 1.7231, 1.6492, 1.7764, 1.696, 0.7166, 1.1977, 1.1801, 0.7832, 0.642, 0.4161, 1.2792, 0.3295, 0.8717, 0.0829, 0.6445, 0.6151, 0.2749, 0.8159, 0.8287, 2.4237, 2.4054, 2.3672, 2.3433, 2.3305, 2.3215, 2.292, 2.292, 2.292, 2.2919, 2.2786, 2.2786, 2.2786, 2.2704, 2.2693, 2.2442, 2.2441, 2.1987, 2.1984, 2.1984, 2.1984, 2.1984, 2.1983, 2.1983, 2.1983, 2.1983, 2.1782, 2.1535, 2.1535, 2.1535, 2.1439, 1.8988, 2.052, 1.8804, 1.8759, 1.9723, 1.7156, 1.7029, 1.8198, 1.5095, 1.8533, 1.5422, 1.7465, 0.7175, 1.5178, 0.4789, 0.9766, 0.2448, 0.6859, 1.4883, 0.283, 0.666, 1.2654, 1.4754, 0.7414, 2.4041, 2.4041, 2.4041, 2.3963, 2.3962, 2.3957, 2.3721, 2.3721, 2.342, 2.3169, 2.2874, 2.2871, 2.2871, 2.2868, 2.2862, 2.2315, 2.2315, 2.2315, 2.2315, 2.2315, 2.2315, 2.2315, 2.2315, 2.2315, 2.2315, 2.2315, 2.2315, 2.2315, 2.2315, 2.2315, 2.035, 1.8742, 2.0976, 1.7404, 1.4924, 1.4956, 1.9023, 1.4941, 1.5878, 1.6775, 0.6859, 0.4973, 1.5017, 0.8008, 0.9174, 0.5281, 0.7506, 0.8761, 1.3982, -0.3652, 0.1262, -0.0916, 0.1816, -0.5328, 2.8778, 2.778, 2.7779, 2.7779, 2.7779, 2.728, 2.728, 2.6151, 2.6151, 2.6151, 2.6151, 2.6151, 2.6151, 2.6151, 2.6151, 2.6151, 2.6151, 2.6151, 2.6151, 2.6151, 2.6151, 2.6151, 2.6151, 2.6151, 2.6151, 2.6151, 2.6151, 2.6151, 2.6151, 2.6151, 2.5974, 2.5365, 2.4099, 2.1983, 2.337, 1.9244, 2.3145, 2.2442, 2.3863, 2.1513, 2.1347, 1.2889, 2.1669, 1.635, 0.7071, 1.1588, 1.5672, 0.94, 0.6547, 1.4968, 1.0099, 1.954, 1.3844, 0.6295, 2.9445, 2.8654, 2.8558, 2.84, 2.8263, 2.7721, 2.7721, 2.7721, 2.7721, 2.7721, 2.7721, 2.7721, 2.7721, 2.7721, 2.7721, 2.7721, 2.7721, 2.7721, 2.7721, 2.7721, 2.7721, 2.7721, 2.7721, 2.7721, 2.7442, 2.6344, 2.6344, 2.6344, 2.6344, 2.6344, 2.3142, 2.4543, 2.0378, 2.0265, 2.4312, 1.8435, 1.8718, 1.5751, 1.4775, 1.6802, 1.5259, 1.3071, 1.5036, 0.9199, 0.8026, 0.6931, 0.0519, 0.3669, -0.3507, 0.801, 1.2958, 1.0818, 0.5299, 0.091, 0.5353, 1.4966, 3.4307, 3.2765, 3.2646, 3.2644, 3.1838, 3.1838, 3.1652, 3.1448, 3.1042, 3.0295, 3.0252, 3.0252, 3.0252, 3.0252, 3.0252, 3.0252, 3.0252, 3.0252, 3.0252, 2.8673, 2.8673, 2.8673, 2.8673, 2.8673, 2.8673, 2.8673, 2.8673, 2.8673, 2.8673, 2.8673, 2.739, 1.7213, 1.8425, 1.9505, 1.9986, 1.7789, 2.4469, 1.9327, 2.395, 1.5744, 2.3701, 1.2517, 1.6745, 0.6602, 0.2546, 0.6035, 2.0586, 1.4673, 0.8914, 1.6233, 1.1997, 1.2057, 2.131]}, \"token.table\": {\"Topic\": [2, 5, 6, 7, 3, 6, 6, 1, 2, 4, 6, 7, 9, 10, 1, 7, 7, 7, 7, 6, 9, 9, 5, 2, 2, 9, 5, 5, 3, 4, 1, 2, 3, 4, 5, 6, 7, 8, 9, 4, 4, 2, 8, 2, 3, 6, 7, 4, 1, 7, 10, 1, 2, 5, 7, 1, 3, 4, 6, 9, 2, 10, 6, 10, 4, 6, 7, 10, 8, 1, 7, 6, 2, 1, 2, 3, 6, 2, 3, 5, 8, 7, 3, 6, 1, 2, 3, 4, 5, 6, 9, 3, 8, 1, 2, 3, 5, 6, 8, 9, 1, 2, 3, 4, 5, 7, 8, 9, 7, 9, 1, 2, 3, 5, 2, 5, 10, 5, 7, 5, 8, 7, 4, 9, 2, 3, 5, 6, 2, 4, 5, 9, 4, 8, 3, 7, 3, 8, 3, 3, 5, 1, 3, 7, 8, 1, 6, 5, 1, 2, 6, 10, 10, 9, 10, 6, 2, 4, 8, 1, 4, 8, 8, 1, 2, 3, 4, 5, 7, 8, 3, 4, 6, 7, 8, 10, 1, 2, 5, 7, 9, 7, 8, 3, 6, 5, 3, 7, 1, 1, 3, 5, 8, 6, 8, 2, 7, 1, 8, 10, 1, 2, 3, 4, 5, 6, 9, 8, 7, 9, 4, 1, 2, 6, 8, 8, 2, 2, 3, 1, 3, 5, 7, 9, 2, 8, 7, 5, 6, 1, 4, 7, 1, 4, 1, 2, 5, 2, 6, 9, 2, 3, 5, 6, 8, 5, 10, 7, 3, 1, 2, 4, 10, 1, 3, 4, 5, 7, 1, 2, 3, 5, 6, 7, 4, 5, 6, 7, 8, 8, 6, 7, 10, 1, 6, 10, 4, 4, 7, 9, 4, 2, 2, 4, 6, 8, 10, 2, 4, 5, 1, 2, 3, 4, 9, 6, 4, 2, 4, 7, 2, 3, 4, 8, 9, 1, 2, 4, 7, 4, 4, 8, 8, 6, 1, 1, 4, 7, 4, 1, 3, 4, 1, 2, 3, 4, 5, 2, 3, 4, 6, 7, 1, 2, 4, 6, 7, 9, 2, 4, 5, 6, 9, 1, 2, 4, 9, 1, 2, 3, 4, 5, 6, 9, 3, 6, 3, 6, 5, 7, 1, 7, 2, 3, 6, 3, 4, 5, 7, 10, 9, 8, 5, 3, 6, 1, 2, 5, 5, 2, 7, 1, 1, 4, 5, 7, 10, 2, 3, 1, 2, 4, 7, 8, 9, 10, 10, 3, 3, 1, 2, 3, 4, 5, 8, 8, 10, 5, 4, 6, 3, 4, 10, 6, 1, 3, 5, 1, 2, 4, 5, 7, 9, 1, 5, 7, 4, 1, 2, 4, 5, 1, 2, 5, 8, 10, 5, 9, 8, 6, 1, 2, 3, 4, 7, 8, 5, 2, 4, 5, 7, 2, 7, 4, 10, 9, 1, 6, 1, 2, 3, 4, 5, 6, 7, 9, 8, 4, 7, 1, 2, 3, 6, 7, 9, 10, 9, 4, 3, 3, 8, 2, 6, 1, 2, 8, 6, 1, 2, 4, 7, 8, 1, 2, 3, 5, 7, 1, 5, 7, 2, 3, 4, 7, 9, 4, 1, 2, 8, 9, 8, 3, 1, 2, 6, 2, 1, 2, 3, 5, 7, 10, 1, 1, 2, 3, 4, 5, 6, 7, 6, 4, 10, 4, 1, 4, 6, 8, 9, 2, 3, 5, 5, 8, 8, 2, 3, 5, 1, 2, 4, 5, 6, 9, 1, 4, 6, 1, 2, 3, 6, 9, 7, 1, 2, 3, 7, 5, 10, 10, 1, 6, 1, 4, 6, 9, 10, 4, 10, 3, 3, 2, 6, 10, 3, 8, 5, 7, 1, 1, 2, 4, 5, 7, 1, 3, 5, 6, 8, 2, 3, 8, 1, 8, 4, 5, 9, 1, 8, 6, 2, 1, 2, 5, 6, 8, 1, 6, 5, 6, 1, 6, 1, 2, 4, 8, 1, 4, 7, 1, 3, 6, 7, 2, 7, 8, 8, 1, 2, 3, 4, 5, 7, 8, 10, 2, 3, 4, 3, 6, 10, 1, 2, 3, 4, 5, 6, 8, 1, 2, 3, 1, 3, 4, 5, 9, 3, 1, 10, 1, 2, 4, 7, 1, 3, 2, 4, 2, 7, 10, 1, 2, 9, 10, 6, 7, 2, 2, 1, 2, 3, 4, 5, 7, 9, 10, 1, 2, 10, 10, 2, 6, 1, 4, 9, 2, 6, 1, 2, 3, 6, 7, 3, 7, 2, 3, 4, 5, 6, 7, 1, 3, 4, 7, 9, 10, 1, 2, 5, 6, 9, 4, 1, 2, 4, 5, 3, 2, 3, 4, 5, 2, 5, 6, 1, 2, 3, 4, 5, 6, 7, 10, 10, 2, 4, 5, 6, 9, 7, 1, 2, 3, 4, 5, 6, 8, 1, 4, 1, 2, 7, 1, 2, 3, 5, 6, 9, 1, 2, 4, 7, 3, 7, 1, 8, 1, 2, 4, 1, 2, 3, 4, 5, 6, 7, 6, 1, 2, 3, 4, 5, 6, 7, 10, 1, 2, 3, 4, 6, 8, 1, 2, 3, 4, 5, 6, 9, 3, 2, 2, 6, 7, 1, 2, 4, 6, 9, 1, 4, 6, 9, 1, 7, 1, 2, 5, 7, 3, 7, 2, 7, 9, 10, 2, 5, 8, 5, 2, 5, 1, 2, 3, 4, 5, 6, 7, 2, 3, 4, 5, 9, 5, 6, 9, 1, 3, 9, 5, 5, 6, 4, 1, 2, 3, 4, 5, 7, 1, 3, 5, 1, 2, 3, 4, 7, 3, 1, 2, 4, 6, 7, 10, 4, 2, 1, 2, 5, 2, 4, 7, 10, 5, 5, 1, 6, 8, 4, 1, 4, 1, 2, 3, 2, 4, 9, 1, 1, 4, 5, 9, 1, 2, 3, 4, 5, 6, 9, 6, 1, 2, 3, 4, 6, 8, 2, 1, 2, 4, 5, 7, 9, 2, 4, 7, 6, 5, 8, 3, 6, 10, 2, 2, 9, 4, 4, 1, 1, 2, 4, 5, 6, 7, 9, 10, 1, 2, 4, 1, 3, 6, 10, 9, 5, 9, 1, 4, 7, 2, 1, 3, 4, 1, 9, 2, 4, 5, 9, 9, 2, 10, 2, 3, 9, 2, 3, 10, 3, 10, 2, 7, 4, 3, 1, 2, 3, 4, 7, 9, 1, 2, 3, 6, 9, 9, 10, 1, 2, 3, 5, 7, 8, 3, 4, 3, 9, 1, 2, 3, 4, 5, 6, 7, 8, 9, 3, 1, 6, 7, 10, 4, 10, 9, 9, 2, 7, 2, 3, 5, 6, 9, 3, 4, 5, 9, 1, 3, 4, 10, 6], \"Freq\": [0.7048556167264213, 0.46881810910893035, 0.6452584015093612, 0.4945924268704414, 0.8424539553567276, 0.9204776462831967, 0.8271965352527079, 0.2582077342379383, 0.1721384894919589, 0.2582077342379383, 0.08606924474597945, 0.08606924474597945, 0.1721384894919589, 0.8088425934495154, 0.6321700745309382, 0.37930204471856294, 0.49459249301763675, 0.49459249301763675, 0.49459249301763675, 0.9205774012261604, 0.581808699867511, 0.5818087957225315, 0.8067001340692596, 0.6778183591568233, 0.813250013684034, 0.581808699867511, 0.46881810910893035, 0.46881810910893035, 0.8685866202414265, 0.876685813314475, 0.02117335679956949, 0.2540802815948339, 0.16938685439655593, 0.14821349759698643, 0.19056021119612543, 0.10586678399784746, 0.04234671359913898, 0.02117335679956949, 0.02117335679956949, 0.8489647943972927, 0.7342567385077038, 0.705076251321445, 0.5555809776797812, 0.38431023140022325, 0.19215511570011162, 0.38431023140022325, 0.09607755785005581, 0.9059883658639921, 0.2267121954171932, 0.2267121954171932, 0.2267121954171932, 0.18956910214902273, 0.18956910214902273, 0.5687073064470682, 0.49459249301763675, 0.3356004329032607, 0.3356004329032607, 0.22373362193550714, 0.055933405483876784, 0.055933405483876784, 0.6778194291119822, 0.7775234744841683, 0.3716507537333548, 0.3716507537333548, 0.18286465464314391, 0.5485939639294317, 0.09143232732157196, 0.18286465464314391, 0.5555809776797812, 0.8727056865018145, 0.49459249301763675, 0.9204776462831967, 0.7048742817013357, 0.8718539100937925, 0.7921031976223873, 0.1751919631308688, 0.7007678525234752, 0.7052350816575835, 0.23507836055252782, 0.46881810910893035, 0.8888021433414239, 0.8722406886120735, 0.621609862696073, 0.20720328756535766, 0.30078037091320936, 0.24062429673056748, 0.12031214836528374, 0.12031214836528374, 0.06015607418264187, 0.12031214836528374, 0.06015607418264187, 0.8424246006106861, 0.5555809776797812, 0.2683356972225882, 0.19166835515899158, 0.30666936825438657, 0.03833367103179832, 0.15333468412719328, 0.03833367103179832, 0.581808699867511, 0.15263106875207794, 0.3052621375041559, 0.15263106875207794, 0.20350809166943726, 0.10175404583471863, 0.050877022917359314, 0.050877022917359314, 0.581808699867511, 0.4234410556895926, 0.4234410556895926, 0.09224873909706319, 0.27674621729118953, 0.4612436954853159, 0.09224873909706319, 0.7048849359425076, 0.46881810910893035, 0.7775234744841683, 0.46881810910893035, 0.49459249301763675, 0.8498332236236724, 0.5555809776797812, 0.49459249301763675, 0.8489649906088643, 0.6966827981024343, 0.17680390435593502, 0.6482809826384284, 0.11786926957062334, 0.05893463478531167, 0.16781461241062903, 0.8390730620531451, 0.706322890265405, 0.581808699867511, 0.28074638344788627, 0.5614927668957725, 0.707441274225726, 0.9069578738497844, 0.4369391661614955, 0.4369391661614955, 0.9230902548677884, 0.931116482261568, 0.46881810910893035, 0.13241143091195431, 0.5296457236478173, 0.13241143091195431, 0.13241143091195431, 0.8031581854798933, 0.9703275304265074, 0.46881810910893035, 0.5370906795245115, 0.2148362718098046, 0.1074181359049023, 0.1074181359049023, 0.7775234744841683, 0.2322496559745977, 0.6967489679237931, 0.7793804690051113, 0.8099058334916783, 0.5075081176624331, 0.5075081176624331, 0.18662581240387113, 0.18662581240387113, 0.37325162480774227, 0.5555809776797812, 0.08093144406783524, 0.08093144406783524, 0.44512294237309386, 0.16186288813567049, 0.12139716610175287, 0.08093144406783524, 0.04046572203391762, 0.07112430939977141, 0.21337292819931422, 0.35562154699885706, 0.14224861879954281, 0.14224861879954281, 0.07112430939977141, 0.35243646855280786, 0.2114618811316847, 0.2114618811316847, 0.2114618811316847, 0.581808699867511, 0.6809621011568571, 0.5555809776797812, 0.6803444728145233, 0.9204776462831967, 0.46881810910893035, 0.842476287518863, 0.6810037571480293, 0.8031530544405867, 0.24776115590187153, 0.12388057795093577, 0.6194028897546788, 0.5555809776797812, 0.8271179411498472, 0.7822154938101357, 0.2671362869715118, 0.5342725739430236, 0.5305193636424912, 0.2652596818212456, 0.7775234744841683, 0.3804443355713539, 0.16304757238772308, 0.10869838159181539, 0.10869838159181539, 0.05434919079590769, 0.21739676318363077, 0.05434919079590769, 0.5555809776797812, 0.8722605902125693, 0.6966827981024343, 0.8500418671794424, 0.4347345685191821, 0.4347345685191821, 0.08694691370383642, 0.5555809776797812, 0.7822444027114998, 0.7048556167264213, 0.5484730017427676, 0.3656486678285117, 0.04239536016210544, 0.4239536016210544, 0.4239536016210544, 0.08479072032421088, 0.04239536016210544, 0.813250013684034, 0.5555809776797812, 0.49459249301763675, 0.5843980279591996, 0.2921990139795998, 0.29323721545912995, 0.5864744309182599, 0.8718195712297788, 0.3988826130216663, 0.5318434840288884, 0.7157861369689323, 0.07157861369689324, 0.2147358410906797, 0.6573731015549874, 0.21912436718499578, 0.6966827981024343, 0.12122804629948862, 0.36368413889846585, 0.12122804629948862, 0.12122804629948862, 0.24245609259897724, 0.46881810910893035, 0.6626812283164975, 0.49459249301763675, 0.922918501605444, 0.34938910290976616, 0.11646303430325539, 0.5240836543646492, 0.05823151715162769, 0.4214963267694924, 0.24085504386828138, 0.24085504386828138, 0.060213760967070346, 0.49459249301763675, 0.22607785321732018, 0.2825973165216502, 0.16955838991299013, 0.056519463304330046, 0.11303892660866009, 0.056519463304330046, 0.11352716206107104, 0.45410864824428415, 0.11352716206107104, 0.11352716206107104, 0.11352716206107104, 0.5555809776797812, 0.6646754285170554, 0.49459249301763675, 0.7775234744841683, 0.2709915291710132, 0.2709915291710132, 0.2709915291710132, 0.87662621529488, 0.7467601461082111, 0.1493520292216422, 0.5818087957225315, 0.8767727281888189, 0.838985766782178, 0.2526291238650966, 0.1263145619325483, 0.2526291238650966, 0.2526291238650966, 0.1263145619325483, 0.5326451938707917, 0.13316129846769792, 0.13316129846769792, 0.38510047288146143, 0.1283668242938205, 0.256733648587641, 0.06418341214691024, 0.1283668242938205, 0.6659090520755787, 0.7821351567178828, 0.31081318438002237, 0.15540659219001118, 0.31081318438002237, 0.2505875550792803, 0.2505875550792803, 0.12529377753964016, 0.2505875550792803, 0.12529377753964016, 0.2912482467490245, 0.0970827489163415, 0.0970827489163415, 0.388330995665366, 0.8069120387456415, 0.8069120387456415, 0.5555809776797812, 0.5555809776797812, 0.8166170533125234, 0.9195516889512513, 0.8447586341445404, 0.12951579835794885, 0.7770947901476931, 0.8768270416540742, 0.1371651815921643, 0.2743303631843286, 0.5486607263686571, 0.1693511881849428, 0.3387023763698856, 0.30483213873289705, 0.10161071291096568, 0.10161071291096568, 0.32590769198180236, 0.407384614977253, 0.16295384599090118, 0.08147692299545059, 0.08147692299545059, 0.31670717438875734, 0.21113811625917156, 0.10556905812958578, 0.10556905812958578, 0.10556905812958578, 0.21113811625917156, 0.13056792123661198, 0.5222716849464479, 0.08704528082440799, 0.17409056164881598, 0.043522640412203994, 0.16875153121883005, 0.08437576560941502, 0.5906303592659052, 0.08437576560941502, 0.2684030289644808, 0.2684030289644808, 0.05368060579289616, 0.21472242317158463, 0.1342015144822404, 0.02684030289644808, 0.02684030289644808, 0.5860347510235894, 0.2930173755117947, 0.26715587239963445, 0.5343117447992689, 0.7189191664049666, 0.23963972213498888, 0.7311464946512816, 0.49459249301763675, 0.26178482497819944, 0.26178482497819944, 0.5235696499563989, 0.5949725180149106, 0.2974862590074553, 0.6402555379831948, 0.49459249301763675, 0.7775234744841683, 0.581808699867511, 0.7821347440016735, 0.8118243176554638, 0.5080994603891964, 0.40647956831135706, 0.9246052208709153, 0.7048940730041172, 0.46881810910893035, 0.6398140062812345, 0.29387484979971384, 0.5877496995994277, 0.8727823584904676, 0.15284552767137785, 0.3056910553427557, 0.15284552767137785, 0.15284552767137785, 0.15284552767137785, 0.10136289883484567, 0.8109031906787654, 0.4628657236049083, 0.11571643090122707, 0.11571643090122707, 0.1735746463518406, 0.05785821545061354, 0.05785821545061354, 0.11571643090122707, 0.6626813364286569, 0.9310253273104313, 0.7746955951184984, 0.133217033325669, 0.133217033325669, 0.3330425833141725, 0.0666085166628345, 0.133217033325669, 0.133217033325669, 0.5555809776797812, 0.5275919264446782, 0.8498332236236724, 0.5967557288754531, 0.35805343732527184, 0.5785568167815007, 0.28927840839075036, 0.6626818769899828, 0.8271000573903645, 0.6776887813903726, 0.07529875348781917, 0.15059750697563834, 0.780659387295377, 0.09367912647544524, 0.03122637549181508, 0.03122637549181508, 0.03122637549181508, 0.03122637549181508, 0.9197584806386437, 0.07075065235681875, 0.8734865805326887, 0.7281220425282613, 0.6266740939149064, 0.10444568231915106, 0.10444568231915106, 0.10444568231915106, 0.26762897072442043, 0.26762897072442043, 0.33453621340552553, 0.06690724268110511, 0.5445975352308217, 0.26205372874105626, 0.5241074574821125, 0.5555809776797812, 0.7251072387651613, 0.12295415555707394, 0.06147707777853697, 0.43033954444975875, 0.1844312333356109, 0.06147707777853697, 0.06147707777853697, 0.7819835451092613, 0.44366106332894834, 0.36299541545095776, 0.0403328239389953, 0.1613312957559812, 0.4180545438377682, 0.6270818157566522, 0.30317080788524187, 0.6063416157704837, 0.581808699867511, 0.21918760977897894, 0.6575628293369368, 0.33841999333045353, 0.10412922871706262, 0.13016153589632828, 0.10412922871706262, 0.13016153589632828, 0.10412922871706262, 0.026032307179265655, 0.05206461435853131, 0.5555809776797812, 0.9461702217935362, 0.4945924599440369, 0.18031401353202717, 0.09015700676601358, 0.45078503383006796, 0.09015700676601358, 0.09015700676601358, 0.09015700676601358, 0.09015700676601358, 0.6966827981024343, 0.7064883035006198, 0.7746451199837436, 0.9228754423344131, 0.5555809776797812, 0.679398190528122, 0.226466063509374, 0.8031582503073511, 0.8389805605442608, 0.5555809776797812, 0.8530577493654847, 0.5344570007046875, 0.23753644475763888, 0.23753644475763888, 0.05938411118940972, 0.5555809776797812, 0.542865447367652, 0.04175888056674246, 0.16703552226696983, 0.08351776113348491, 0.12527664170022737, 0.15933675280043222, 0.6373470112017289, 0.15933675280043222, 0.1460235618753628, 0.2920471237507256, 0.1460235618753628, 0.2920471237507256, 0.1460235618753628, 0.8767293347288418, 0.2842250058027511, 0.37896667440366816, 0.09474166860091704, 0.18948333720183408, 0.5555809776797812, 0.707441274225726, 0.36032197135175237, 0.18016098567587618, 0.4504024641896905, 0.7920965724769916, 0.31783883369875354, 0.07063085193305635, 0.21189255579916902, 0.17657712983264084, 0.10594627789958451, 0.035315425966528174, 0.7245869813207811, 0.1730290004967203, 0.2595435007450804, 0.1730290004967203, 0.2595435007450804, 0.04325725012418007, 0.04325725012418007, 0.08651450024836015, 0.7317238039047924, 0.8766239999596102, 0.7775234744841683, 0.7342569051616652, 0.14198508959402498, 0.28397017918804995, 0.14198508959402498, 0.14198508959402498, 0.28397017918804995, 0.6960491183615649, 0.17401227959039123, 0.17401227959039123, 0.5302359444155352, 0.35349062961035677, 0.5555809776797812, 0.1710791944131514, 0.6843167776526056, 0.1710791944131514, 0.28348700892197864, 0.05669740178439573, 0.42523051338296797, 0.028348700892197865, 0.1700922053531872, 0.028348700892197865, 0.20648283388439162, 0.6194485016531748, 0.20648283388439162, 0.354521562976468, 0.11817385432548934, 0.11817385432548934, 0.354521562976468, 0.581808699867511, 0.9360455285238608, 0.19371374641910785, 0.3874274928382157, 0.29057061962866176, 0.09685687320955393, 0.8498332236236724, 0.7775234744841683, 0.6626813364286569, 0.7246094427989574, 0.827102949412681, 0.12210433805187795, 0.2442086761037559, 0.2442086761037559, 0.12210433805187795, 0.2442086761037559, 0.8766747290413546, 0.7775071710397731, 0.9228756650244446, 0.6803444728145233, 0.7048556167264213, 0.8058621192516181, 0.20146552981290453, 0.8164908524824545, 0.5555809776797812, 0.7181325120757189, 0.17953312801892973, 0.8032039944960454, 0.3721118734266283, 0.12403729114220945, 0.3100932278555236, 0.12403729114220945, 0.06201864557110472, 0.10241968928598184, 0.2560492232149546, 0.10241968928598184, 0.10241968928598184, 0.4096787571439274, 0.19720670607514498, 0.39441341215028997, 0.39441341215028997, 0.5391432390693552, 0.3594288260462368, 0.8500509496837106, 0.6396181211842333, 0.581808699867511, 0.30020597162535917, 0.6004119432507183, 0.8272056688551291, 0.7048748688764811, 0.7371881463409283, 0.06143234552841069, 0.06143234552841069, 0.12286469105682138, 0.06143234552841069, 0.7906283716390473, 0.22589382046829923, 0.706322890265405, 0.9225335214781735, 0.7246084825630706, 0.8272131888535105, 0.638099014706405, 0.09115700210091499, 0.27347100630274496, 0.5555809776797812, 0.74259072365106, 0.185647680912765, 0.0928238404563825, 0.6838530340165306, 0.27354121360661227, 0.7249541526861238, 0.9349310603703875, 0.5778371030925039, 0.14445927577312598, 0.14445927577312598, 0.8888021433414239, 0.5584122753834215, 0.1313911236196286, 0.0656955618098143, 0.0656955618098143, 0.03284778090490715, 0.0656955618098143, 0.09854334271472145, 0.03284778090490715, 0.17444535643474116, 0.6977814257389646, 0.17444535643474116, 0.35284948591692844, 0.35284948591692844, 0.35284948591692844, 0.4162644988072635, 0.11352668149289005, 0.07568445432859337, 0.037842227164296686, 0.1892111358214834, 0.037842227164296686, 0.07568445432859337, 0.34094617324835624, 0.454594897664475, 0.2272974488322375, 0.5421610156180302, 0.2033103808567613, 0.06777012695225378, 0.06777012695225378, 0.06777012695225378, 0.9231306736836131, 0.7034663488239351, 0.6626813364286569, 0.3910058386669806, 0.1955029193334903, 0.09775145966674514, 0.29325437900023543, 0.6370595772298177, 0.8425210825520426, 0.1706697466344332, 0.6826789865377328, 0.7121098508498197, 0.23736995028327323, 0.9000284109695983, 0.409002656060095, 0.30675199204507125, 0.10225066401502375, 0.2045013280300475, 0.8129230679411016, 0.9350621782503803, 0.7048556167264213, 0.7921024249141685, 0.06213515603283624, 0.3106757801641812, 0.24854062413134495, 0.06213515603283624, 0.24854062413134495, 0.06213515603283624, 0.06213515603283624, 0.6626818769899828, 0.2976107523036848, 0.5952215046073696, 0.6626818769899828, 0.9002427486346414, 0.6778186029759514, 0.8270972172705201, 0.8032119850383656, 0.41375485999351586, 0.41375485999351586, 0.39400485329346396, 0.591007279940196, 0.5424919144364659, 0.060276879381829546, 0.18083063814548864, 0.060276879381829546, 0.060276879381829546, 0.6803485498784879, 0.9069578738497844, 0.17628121089481685, 0.3525624217896337, 0.08814060544740843, 0.2644218163422253, 0.08814060544740843, 0.08814060544740843, 0.3760924317840933, 0.22565545907045598, 0.07521848635681866, 0.07521848635681866, 0.07521848635681866, 0.15043697271363732, 0.18747791220375087, 0.2812168683056263, 0.37495582440750175, 0.09373895610187544, 0.09373895610187544, 0.9058211478425299, 0.05434979685230204, 0.32609878111381224, 0.05434979685230204, 0.5978477653753225, 0.9228782849578356, 0.28140444414863636, 0.5628088882972727, 0.07035111103715909, 0.07035111103715909, 0.263121320870127, 0.1315606604350635, 0.526242641740254, 0.12387402352024551, 0.20645670586707587, 0.24774804704049103, 0.20645670586707587, 0.08258268234683035, 0.08258268234683035, 0.04129134117341517, 0.04129134117341517, 0.5275920634986181, 0.48521287721747175, 0.10782508382610484, 0.16173762573915726, 0.05391254191305242, 0.10782508382610484, 0.87249674541713, 0.16055281465789398, 0.10703520977192932, 0.26758802442982327, 0.10703520977192932, 0.16055281465789398, 0.05351760488596466, 0.10703520977192932, 0.872650954605327, 0.8770367226416969, 0.3408186416618825, 0.11360621388729418, 0.4544248555491767, 0.6568155622634532, 0.0547346301886211, 0.0547346301886211, 0.1094692603772422, 0.0547346301886211, 0.1094692603772422, 0.2025715714269033, 0.5064289285672583, 0.10128578571345165, 0.10128578571345165, 0.5792287699101323, 0.3861525132734215, 0.8728842249026215, 0.8285742983166459, 0.16769485395148723, 0.16769485395148723, 0.6707794158059489, 0.26037723541083024, 0.2083017883286642, 0.15622634124649815, 0.05207544708216605, 0.1041508941643321, 0.15622634124649815, 0.05207544708216605, 0.6452584015093612, 0.44943943688703225, 0.0998754304193405, 0.0998754304193405, 0.12484428802417562, 0.024968857604835124, 0.12484428802417562, 0.024968857604835124, 0.024968857604835124, 0.3964581832780661, 0.04955727290975826, 0.04955727290975826, 0.1486718187292748, 0.1486718187292748, 0.1486718187292748, 0.06398989383083142, 0.12797978766166285, 0.12797978766166285, 0.31994946915415706, 0.12797978766166285, 0.06398989383083142, 0.19196968149249424, 0.9695035161922864, 0.8390949119622803, 0.31436609562974654, 0.4715491434446198, 0.15718304781487327, 0.11172357290358666, 0.11172357290358666, 0.22344714580717331, 0.33517071871076, 0.11172357290358666, 0.17760836681510775, 0.3552167336302155, 0.17760836681510775, 0.3552167336302155, 0.784255219810889, 0.1568510439621778, 0.5624507556113612, 0.2410503238334405, 0.08035010794448016, 0.08035010794448016, 0.6803445333266277, 0.7505209229263402, 0.48585649425485017, 0.32390432950323345, 0.16195216475161672, 0.8764215884269951, 0.1566688284763941, 0.1566688284763941, 0.4700064854291823, 0.9487300670544897, 0.7048556167264213, 0.6396617918264111, 0.10970566886051818, 0.27426417215129545, 0.16455850329077726, 0.10970566886051818, 0.16455850329077726, 0.05485283443025909, 0.05485283443025909, 0.21496308895935823, 0.07165436298645274, 0.14330872597290548, 0.28661745194581095, 0.21496308895935823, 0.44622057773183643, 0.44622057773183643, 0.5189936824127614, 0.6499794266752617, 0.1624948566688154, 0.1624948566688154, 0.8190366731764674, 0.5846995553830953, 0.4385246665373214, 0.8843509052581331, 0.11184194182247474, 0.27960485455618683, 0.3914467963786616, 0.05592097091123737, 0.05592097091123737, 0.05592097091123737, 0.8447593960738808, 0.8506197229400063, 0.8118243176554638, 0.11245593511558512, 0.33736780534675537, 0.2811398377889628, 0.11245593511558512, 0.16868390267337768, 0.6803444728145233, 0.3590486753673039, 0.1196828917891013, 0.1196828917891013, 0.1196828917891013, 0.1196828917891013, 0.1196828917891013, 0.7064981079515464, 0.7048544043445839, 0.2880408966556664, 0.5040715691474161, 0.1440204483278332, 0.1016378250073506, 0.7114647750514542, 0.1016378250073506, 0.5980017108866615, 0.8118243176554638, 0.8498332655934152, 0.3816588943070294, 0.5724883414605441, 0.7822154938101357, 0.8545967953589513, 0.8604598639098949, 0.12292283770141357, 0.15455787773469382, 0.15455787773469382, 0.6182315109387753, 0.9195187134309225, 0.6396799232153679, 0.6966827981024343, 0.7311504389024187, 0.8031530544405867, 0.38308942034206933, 0.574634130513104, 0.5818087957225315, 0.092111889422545, 0.092111889422545, 0.18422377884509, 0.18422377884509, 0.092111889422545, 0.276335668267635, 0.092111889422545, 0.9225426047157548, 0.5903269540228041, 0.059032695402280407, 0.11806539080456081, 0.11806539080456081, 0.059032695402280407, 0.059032695402280407, 0.839447531350719, 0.12163774846061684, 0.12163774846061684, 0.12163774846061684, 0.12163774846061684, 0.12163774846061684, 0.24327549692123368, 0.6993675463936919, 0.13987350927873837, 0.13987350927873837, 0.9225437418485105, 0.30718544318355234, 0.6143708863671047, 0.8422881648736394, 0.827102949412681, 0.7775197427197206, 0.6778194291119822, 0.705076251321445, 0.581808699867511, 0.6397167132988045, 0.9058454119346125, 0.8718657580502917, 0.26070145180548593, 0.052140290361097186, 0.26070145180548593, 0.10428058072219437, 0.052140290361097186, 0.052140290361097186, 0.052140290361097186, 0.15642087108329156, 0.1672056332308712, 0.0836028166154356, 0.6688225329234848, 0.6478851921330538, 0.18511005489515825, 0.09255502744757912, 0.6626818769899828, 0.581808699867511, 0.6400250544588071, 0.581808699867511, 0.24375645748767988, 0.36563468623151985, 0.36563468623151985, 0.8391148492486288, 0.8718827563599367, 0.7561583245465625, 0.18903958113664063, 0.8600089427837803, 0.581808699867511, 0.1624415643006632, 0.1624415643006632, 0.6497662572026528, 0.1624415643006632, 0.581808699867511, 0.41482431614428283, 0.41482431614428283, 0.9275767270758779, 0.24182107664676, 0.72546322994028, 0.2933313507564389, 0.7333283768910973, 0.7775071710397731, 0.6803444728145233, 0.6626813364286569, 0.7048556167264213, 0.9069578738497844, 0.7064883035006198, 0.6803444728145233, 0.26094705490223874, 0.3653258768631342, 0.15656823294134325, 0.15656823294134325, 0.05218941098044775, 0.05218941098044775, 0.7488665563055794, 0.07882805855848204, 0.07882805855848204, 0.03941402927924102, 0.03941402927924102, 0.5456423695511453, 0.27282118477557266, 0.348631553596856, 0.043578944199607, 0.130736832598821, 0.087157888399214, 0.043578944199607, 0.305052609397249, 0.20153454295185014, 0.8061381718074005, 0.29105044738425495, 0.5821008947685099, 0.49280086772036746, 0.04693341597336833, 0.07040012396005249, 0.14080024792010498, 0.09386683194673666, 0.04693341597336833, 0.04693341597336833, 0.023466707986684165, 0.023466707986684165, 0.7746955951184984, 0.15876196329549994, 0.31752392659099987, 0.15876196329549994, 0.15876196329549994, 0.344175979822682, 0.344175979822682, 0.581808699867511, 0.8272610764314935, 0.5798085280102354, 0.19326950933674517, 0.222950255930936, 0.334425383896404, 0.111475127965468, 0.111475127965468, 0.222950255930936, 0.2871923383860766, 0.1435961691930383, 0.1435961691930383, 0.2871923383860766, 0.41208174600225933, 0.10302043650056483, 0.41208174600225933, 0.10302043650056483, 0.6452687679878326], \"Term\": [\"\\u0430\\u0432\\u0442\\u043e\\u043c\\u0430\\u0442\\u0438\\u0447\\u0435\\u0441\\u043a\\u0438\", \"\\u0430\\u0434\\u0435\\u043a\\u0432\\u0430\\u0442\\u043d\\u043e\\u0441\\u0442\\u044c\", \"\\u0430\\u0439\\u0442\\u0438\\u0448\\u0435\\u0447\\u043a\\u0430\", \"\\u0430\\u0439\\u0444\\u043e\\u043d\", \"\\u0430\\u043a\\u0442\\u0443\\u0430\\u043b\\u044c\\u043d\\u044b\\u0439\", \"\\u0430\\u043a\\u0442\\u0443\\u0430\\u0440\\u0438\\u0439\", \"\\u0430\\u043c\\u0435\\u0440\\u0438\\u043a\\u0430\\u043d\\u0441\\u043a\\u0438\\u0439\", \"\\u0430\\u043d\\u0430\\u043b\\u0438\\u0437\", \"\\u0430\\u043d\\u0430\\u043b\\u0438\\u0437\", \"\\u0430\\u043d\\u0430\\u043b\\u0438\\u0437\", \"\\u0430\\u043d\\u0430\\u043b\\u0438\\u0437\", \"\\u0430\\u043d\\u0430\\u043b\\u0438\\u0437\", \"\\u0430\\u043d\\u0430\\u043b\\u0438\\u0437\", \"\\u0430\\u043d\\u0430\\u043b\\u0438\\u0442\\u0438\\u043a\", \"\\u0430\\u043d\\u0430\\u043b\\u0438\\u0442\\u0438\\u043a\\u0430\", \"\\u0430\\u043d\\u0430\\u043b\\u0438\\u0442\\u0438\\u043a\\u0430\", \"\\u0430\\u043d\\u0442\\u0440\\u0435\\u0441\\u043e\\u043b\\u0438\", \"\\u0430\\u043d\\u0442\\u0440\\u0435\\u0441\\u043e\\u043b\\u044c\", \"\\u0430\\u043d\\u044f\", \"\\u0430\\u043f\\u0433\\u0440\\u0435\\u0439\\u0434\", \"\\u0430\\u0440\\u043a\\u0430\\u0434\\u0438\\u0439\", \"\\u0430\\u0440\\u0445\\u0438\\u043f\\u0435\\u043b\\u0430\\u0433\", \"\\u0430\\u0442\\u043b\\u0430\\u043d\\u0442\\u0430\", \"\\u0430\\u0443\\u0442\\u0441\\u043e\\u0440\\u0441\\u0438\\u043d\\u0433\", \"\\u0430\\u0443\\u0442\\u0441\\u0442\\u0430\\u0444\\u0444\\u0438\\u043d\\u0433\", \"\\u0431\\u0430\\u043b\", \"\\u0431\\u0435\\u0437\\u043e\\u043f\\u0430\\u0441\\u043d\\u043e\\u0441\\u0442\\u044c\", \"\\u0431\\u0435\\u0437\\u043e\\u043f\\u0430\\u0441\\u043d\\u044b\\u0439\", \"\\u0431\\u0435\\u0441\\u043f\\u043b\\u0430\\u0442\\u043d\\u044b\\u0439\", \"\\u0431\\u0438\\u0431\\u043b\\u0438\\u043e\\u0442\\u0435\\u043a\\u0430\", \"\\u0431\\u0438\\u0437\\u043d\\u0435\\u0441\", \"\\u0431\\u0438\\u0437\\u043d\\u0435\\u0441\", \"\\u0431\\u0438\\u0437\\u043d\\u0435\\u0441\", \"\\u0431\\u0438\\u0437\\u043d\\u0435\\u0441\", \"\\u0431\\u0438\\u0437\\u043d\\u0435\\u0441\", \"\\u0431\\u0438\\u0437\\u043d\\u0435\\u0441\", \"\\u0431\\u0438\\u0437\\u043d\\u0435\\u0441\", \"\\u0431\\u0438\\u0437\\u043d\\u0435\\u0441\", \"\\u0431\\u0438\\u0437\\u043d\\u0435\\u0441\", \"\\u0431\\u0438\\u043b\\u0430\\u0439\\u043d\", \"\\u0431\\u0438\\u043e\\u043c\\u0435\\u0442\\u0440\\u0438\\u044f\", \"\\u0431\\u043b\\u0438\\u0437\\u043a\\u0438\\u0439\", \"\\u0431\\u043e\\u043b\\u043e\\u0442\\u043e\", \"\\u0431\\u043e\\u043b\\u044c\\u0448\\u043e\\u0439\", \"\\u0431\\u043e\\u043b\\u044c\\u0448\\u043e\\u0439\", \"\\u0431\\u043e\\u043b\\u044c\\u0448\\u043e\\u0439\", \"\\u0431\\u043e\\u043b\\u044c\\u0448\\u043e\\u0439\", \"\\u0431\\u0440\\u0430\\u0442\\u044c\", \"\\u0431\\u044b\\u0441\\u0442\\u0440\\u043e\", \"\\u0431\\u044b\\u0441\\u0442\\u0440\\u043e\", \"\\u0431\\u044b\\u0441\\u0442\\u0440\\u043e\", \"\\u0431\\u044b\\u0441\\u0442\\u0440\\u044b\\u0439\", \"\\u0431\\u044b\\u0441\\u0442\\u0440\\u044b\\u0439\", \"\\u0431\\u044b\\u0441\\u0442\\u0440\\u044b\\u0439\", \"\\u0431\\u044b\\u0442\\u043e\\u0432\\u043e\\u0439\", \"\\u0432\\u0430\\u043a\\u0430\\u043d\\u0441\\u0438\\u044f\", \"\\u0432\\u0430\\u043a\\u0430\\u043d\\u0441\\u0438\\u044f\", \"\\u0432\\u0430\\u043a\\u0430\\u043d\\u0441\\u0438\\u044f\", \"\\u0432\\u0430\\u043a\\u0430\\u043d\\u0441\\u0438\\u044f\", \"\\u0432\\u0430\\u043a\\u0430\\u043d\\u0441\\u0438\\u044f\", \"\\u0432\\u0430\\u0440\\u0432\\u0430\\u0440\\u0430\", \"\\u0432\\u0433\\u043b\\u0443\\u0431\\u044c\", \"\\u0432\\u0434\\u043e\\u0445\\u043d\\u043e\\u0432\\u043b\\u044f\\u0442\\u044c\", \"\\u0432\\u0434\\u043e\\u0445\\u043d\\u043e\\u0432\\u043b\\u044f\\u0442\\u044c\", \"\\u0432\\u0435\\u0431\\u0438\\u043d\\u0430\\u0440\", \"\\u0432\\u0435\\u0431\\u0438\\u043d\\u0430\\u0440\", \"\\u0432\\u0435\\u0431\\u0438\\u043d\\u0430\\u0440\", \"\\u0432\\u0435\\u0431\\u0438\\u043d\\u0430\\u0440\", \"\\u0432\\u0435\\u0440\\u043d\\u0443\\u0442\\u044c\", \"\\u0432\\u0435\\u0441\\u0442\\u0438\", \"\\u0432\\u0438\\u0434\\u0438\\u043c\\u043e\", \"\\u0432\\u0438\\u043f\\u0430\\u0441\\u0441\\u0430\\u043d\", \"\\u0432\\u043a\\u043b\\u044e\\u0447\\u0430\\u044f\", \"\\u0432\\u043c\\u0435\\u0441\\u0442\\u0435\", \"\\u0432\\u043c\\u0435\\u0441\\u0442\\u043e\", \"\\u0432\\u043d\\u0443\\u0442\\u0440\\u0435\\u043d\\u043d\\u0438\\u0439\", \"\\u0432\\u043d\\u0443\\u0442\\u0440\\u0435\\u043d\\u043d\\u0438\\u0439\", \"\\u0432\\u043d\\u0443\\u0442\\u0440\\u0438\", \"\\u0432\\u043d\\u0443\\u0442\\u0440\\u0438\", \"\\u0432\\u043e\\u0432\\u043b\\u0435\\u0447\\u0435\\u043d\\u043d\\u043e\\u0441\\u0442\\u044c\", \"\\u0432\\u043e\\u0434\\u043d\\u044b\\u0439\", \"\\u0432\\u043e\\u0437\\u0434\\u0435\\u0439\\u0441\\u0442\\u0432\\u0438\\u0435\", \"\\u0432\\u043e\\u0437\\u043c\\u043e\\u0436\\u043d\\u043e\", \"\\u0432\\u043e\\u0437\\u043c\\u043e\\u0436\\u043d\\u043e\", \"\\u0432\\u043e\\u0437\\u043c\\u043e\\u0436\\u043d\\u043e\\u0441\\u0442\\u044c\", \"\\u0432\\u043e\\u0437\\u043c\\u043e\\u0436\\u043d\\u043e\\u0441\\u0442\\u044c\", \"\\u0432\\u043e\\u0437\\u043c\\u043e\\u0436\\u043d\\u043e\\u0441\\u0442\\u044c\", \"\\u0432\\u043e\\u0437\\u043c\\u043e\\u0436\\u043d\\u043e\\u0441\\u0442\\u044c\", \"\\u0432\\u043e\\u0437\\u043c\\u043e\\u0436\\u043d\\u043e\\u0441\\u0442\\u044c\", \"\\u0432\\u043e\\u0437\\u043c\\u043e\\u0436\\u043d\\u043e\\u0441\\u0442\\u044c\", \"\\u0432\\u043e\\u0437\\u043c\\u043e\\u0436\\u043d\\u043e\\u0441\\u0442\\u044c\", \"\\u0432\\u043e\\u0437\\u043c\\u043e\\u0436\\u043d\\u044b\\u0439\", \"\\u0432\\u043e\\u043b\\u043d\\u0430\", \"\\u0432\\u043e\\u043f\\u0440\\u043e\\u0441\", \"\\u0432\\u043e\\u043f\\u0440\\u043e\\u0441\", \"\\u0432\\u043e\\u043f\\u0440\\u043e\\u0441\", \"\\u0432\\u043e\\u043f\\u0440\\u043e\\u0441\", \"\\u0432\\u043e\\u043f\\u0440\\u043e\\u0441\", \"\\u0432\\u043e\\u043f\\u0440\\u043e\\u0441\", \"\\u0432\\u043e\\u0440\\u043a\\u0448\\u043e\\u043f\", \"\\u0432\\u0440\\u0435\\u043c\\u044f\", \"\\u0432\\u0440\\u0435\\u043c\\u044f\", \"\\u0432\\u0440\\u0435\\u043c\\u044f\", \"\\u0432\\u0440\\u0435\\u043c\\u044f\", \"\\u0432\\u0440\\u0435\\u043c\\u044f\", \"\\u0432\\u0440\\u0435\\u043c\\u044f\", \"\\u0432\\u0440\\u0435\\u043c\\u044f\", \"\\u0432\\u0441\\u0435\\u043b\\u0435\\u043d\\u043d\\u0430\\u044f\", \"\\u0432\\u0441\\u043f\\u043e\\u043c\\u043d\\u0438\\u0442\\u044c\", \"\\u0432\\u0441\\u043f\\u043e\\u043c\\u043d\\u0438\\u0442\\u044c\", \"\\u0432\\u0441\\u0442\\u0440\\u0435\\u0447\\u0430\", \"\\u0432\\u0441\\u0442\\u0440\\u0435\\u0447\\u0430\", \"\\u0432\\u0441\\u0442\\u0440\\u0435\\u0447\\u0430\", \"\\u0432\\u0441\\u0442\\u0440\\u0435\\u0447\\u0430\", \"\\u0432\\u044b\\u0433\\u043e\\u0440\\u0430\\u043d\\u0438\\u0435\", \"\\u0432\\u044b\\u043f\\u0430\\u0434\\u0430\\u0442\\u044c\", \"\\u0432\\u044b\\u043f\\u043e\\u043b\\u043d\\u044f\\u0442\\u044c\\u0441\\u044f\", \"\\u0432\\u044b\\u0441\\u0432\\u043e\\u0431\\u043e\\u0436\\u0434\\u0430\\u0442\\u044c\\u0441\\u044f\", \"\\u0432\\u044b\\u0441\\u043e\\u0442\\u0430\", \"\\u0432\\u044b\\u0445\\u043e\\u0434\", \"\\u0432\\u044b\\u044f\\u0432\\u043b\\u0435\\u043d\\u0438\\u0435\", \"\\u0433\\u0430\\u0437\\u043e\\u0432\\u044b\\u0439\", \"\\u0433\\u0430\\u0439\\u0434\", \"\\u0433\\u0430\\u043b\\u0438\\u043d\\u0430\", \"\\u0433\\u0438\\u043f\\u043e\\u0442\\u0435\\u0437\\u0430\", \"\\u0433\\u0438\\u043f\\u043e\\u0442\\u0435\\u0437\\u0430\", \"\\u0433\\u0438\\u043f\\u043e\\u0442\\u0435\\u0437\\u0430\", \"\\u0433\\u0438\\u043f\\u043e\\u0442\\u0435\\u0437\\u0430\", \"\\u0433\\u043b\\u0430\\u0432\\u043d\\u043e\\u0435\", \"\\u0433\\u043b\\u0430\\u0432\\u043d\\u043e\\u0435\", \"\\u0433\\u043b\\u0443\\u043f\\u043e\", \"\\u0433\\u043d\\u0430\\u0442\\u044c\\u0441\\u044f\", \"\\u0433\\u043e\\u0434\\u043e\\u0432\\u043e\\u0439\", \"\\u0433\\u043e\\u0434\\u043e\\u0432\\u043e\\u0439\", \"\\u0433\\u043e\\u043b\\u043e\\u0432\\u0430\", \"\\u0433\\u043e\\u0440\\u0435\\u043b\\u043a\\u0430\", \"\\u0433\\u043e\\u0440\\u0438\\u0437\\u043e\\u043d\\u0442\", \"\\u0433\\u043e\\u0440\\u0438\\u0437\\u043e\\u043d\\u0442\", \"\\u0433\\u043e\\u0440\\u043e\\u0434\", \"\\u0433\\u043e\\u0441\\u043f\\u043e\\u0434\\u0438\\u043d\", \"\\u0433\\u043e\\u0442\\u043e\\u0432\\u043d\\u043e\\u0441\\u0442\\u044c\", \"\\u0433\\u0440\\u0430\\u043d\\u0438\\u0446\\u0430\", \"\\u0433\\u0440\\u0430\\u043d\\u0438\\u0446\\u0430\", \"\\u0433\\u0440\\u0430\\u043d\\u0438\\u0446\\u0430\", \"\\u0433\\u0440\\u0430\\u043d\\u0438\\u0446\\u0430\", \"\\u0433\\u0440\\u0443\\u043f\\u043f\\u043e\\u0432\\u043e\\u0439\", \"\\u0433\\u0440\\u0443\\u043f\\u043f\\u043e\\u0432\\u043e\\u0439_\\u043c\\u0435\\u043d\\u0442\\u043e\\u0440\\u0438\\u043d\\u0433\", \"\\u0434\\u0430\\u043b\\u0435\\u0435\", \"\\u0434\\u0430\\u043b\\u0435\\u043a\\u043e\", \"\\u0434\\u0430\\u043b\\u0435\\u043a\\u043e\", \"\\u0434\\u0430\\u043b\\u0435\\u043a\\u043e\", \"\\u0434\\u0430\\u043b\\u0435\\u043a\\u043e\", \"\\u0434\\u0430\\u043b\\u044c\\u043d\\u0435\\u0439\\u0448\\u0438\\u0439\", \"\\u0434\\u0430\\u043d\\u043d\\u044b\\u0435\", \"\\u0434\\u0430\\u043d\\u043d\\u044b\\u0435\", \"\\u0434\\u0430\\u043d\\u043d\\u044b\\u0439\", \"\\u0434\\u0430\\u0442\\u0430\\u0441\\u0435\\u0442\", \"\\u0434\\u0432\\u0438\\u0433\\u0430\\u0442\\u044c\\u0441\\u044f\", \"\\u0434\\u0432\\u0438\\u0433\\u0430\\u0442\\u044c\\u0441\\u044f\", \"\\u0434\\u0432\\u0438\\u0436\\u0435\\u043d\\u0438\\u0435\", \"\\u0434\\u0432\\u0438\\u0436\\u0435\\u043d\\u0438\\u0435\", \"\\u0434\\u0432\\u0438\\u0436\\u0435\\u043d\\u0438\\u0435\", \"\\u0434\\u0435\\u043a\\u043e\\u043c\\u043f\\u043e\\u0437\\u0438\\u0446\\u0438\\u044f\", \"\\u0434\\u0435\\u043b\\u0430\\u0442\\u044c\", \"\\u0434\\u0435\\u043b\\u0430\\u0442\\u044c\", \"\\u0434\\u0435\\u043b\\u0430\\u0442\\u044c\", \"\\u0434\\u0435\\u043b\\u0430\\u0442\\u044c\", \"\\u0434\\u0435\\u043b\\u0430\\u0442\\u044c\", \"\\u0434\\u0435\\u043b\\u0430\\u0442\\u044c\", \"\\u0434\\u0435\\u043b\\u0430\\u0442\\u044c\", \"\\u0434\\u0435\\u043d\\u044c\", \"\\u0434\\u0435\\u043d\\u044c\", \"\\u0434\\u0435\\u043d\\u044c\", \"\\u0434\\u0435\\u043d\\u044c\", \"\\u0434\\u0435\\u043d\\u044c\", \"\\u0434\\u0435\\u043d\\u044c\", \"\\u0434\\u0435\\u043d\\u044c\\u0433\\u0438\", \"\\u0434\\u0435\\u043d\\u044c\\u0433\\u0438\", \"\\u0434\\u0435\\u043d\\u044c\\u0433\\u0438\", \"\\u0434\\u0435\\u043d\\u044c\\u0433\\u0438\", \"\\u0434\\u0435\\u0442\\u0430\\u043b\\u044c\", \"\\u0434\\u0435\\u0442\\u0441\\u0442\\u0432\\u043e\", \"\\u0434\\u0438\\u0430\\u0433\\u043d\\u043e\\u0441\\u0442\\u0438\\u043a\\u0430\", \"\\u0434\\u0438\\u0430\\u043b\\u043e\\u0433\", \"\\u0434\\u043d\\u0435\\u0432\\u043d\\u043e\\u0439\", \"\\u0434\\u043e\\u0431\\u0435\\u0436\\u0430\\u0442\\u044c\", \"\\u0434\\u043e\\u0432\\u0435\\u0440\\u0438\\u0435\", \"\\u0434\\u043e\\u043b\\u0433\\u043e\", \"\\u0434\\u043e\\u043b\\u0436\\u043d\\u043e\\u0441\\u0442\\u044c\", \"\\u0434\\u043e\\u043b\\u0436\\u043d\\u044b\\u0439\", \"\\u0434\\u043e\\u043b\\u0436\\u043d\\u044b\\u0439\", \"\\u0434\\u043e\\u043b\\u0436\\u043d\\u044b\\u0439\", \"\\u0434\\u043e\\u043c\\u0438\\u043a\", \"\\u0434\\u043e\\u0440\\u043e\\u0433\\u043e\\u0439\", \"\\u0434\\u043e\\u0441\\u0442\\u0438\\u0436\\u0435\\u043d\\u0438\\u0435\", \"\\u0434\\u043e\\u0441\\u0442\\u0443\\u043f\\u043d\\u044b\\u0439\", \"\\u0434\\u043e\\u0441\\u0442\\u0443\\u043f\\u043d\\u044b\\u0439\", \"\\u0434\\u043e\\u0445\\u043e\\u0434\\u0438\\u0442\\u044c\", \"\\u0434\\u043e\\u0445\\u043e\\u0434\\u0438\\u0442\\u044c\", \"\\u0434\\u0440\\u043e\\u0431\\u043b\\u0435\\u043d\\u0438\\u0435\", \"\\u0434\\u0440\\u0443\\u0433\", \"\\u0434\\u0440\\u0443\\u0433\", \"\\u0434\\u0440\\u0443\\u0433\", \"\\u0434\\u0440\\u0443\\u0433\", \"\\u0434\\u0440\\u0443\\u0433\", \"\\u0434\\u0440\\u0443\\u0433\", \"\\u0434\\u0440\\u0443\\u0433\", \"\\u0435\\u0436\\u0435\\u0433\\u043e\\u0434\\u043d\\u043e\", \"\\u0435\\u0436\\u0435\\u0434\\u043d\\u0435\\u0432\\u043d\\u043e\", \"\\u0435\\u043a\\u0430\\u0442\\u0435\\u0440\\u0438\\u043d\\u0431\\u0443\\u0440\\u0433\", \"\\u0436\\u0435\\u043d\\u0449\\u0438\\u043d\\u0430\", \"\\u0436\\u0438\\u0437\\u043d\\u044c\", \"\\u0436\\u0438\\u0437\\u043d\\u044c\", \"\\u0436\\u0438\\u0437\\u043d\\u044c\", \"\\u0436\\u0443\\u0442\\u044c\", \"\\u0437\\u0430\\u0432\\u0442\\u0440\\u0430\", \"\\u0437\\u0430\\u0433\\u0440\\u0443\\u0436\\u0430\\u0442\\u044c\", \"\\u0437\\u0430\\u0434\\u0430\\u0432\\u0430\\u0442\\u044c\", \"\\u0437\\u0430\\u0434\\u0430\\u0432\\u0430\\u0442\\u044c\", \"\\u0437\\u0430\\u0434\\u0430\\u0447\\u0430\", \"\\u0437\\u0430\\u0434\\u0430\\u0447\\u0430\", \"\\u0437\\u0430\\u0434\\u0430\\u0447\\u0430\", \"\\u0437\\u0430\\u0434\\u0430\\u0447\\u0430\", \"\\u0437\\u0430\\u0434\\u0430\\u0447\\u0430\", \"\\u0437\\u0430\\u043a\\u0430\\u0437\\u0447\\u0438\\u043a\", \"\\u0437\\u0430\\u043a\\u0440\\u044b\\u0442\\u0438\\u0435\", \"\\u0437\\u0430\\u043c\\u0435\\u0448\\u0430\\u0442\\u044c\", \"\\u0437\\u0430\\u043d\\u0438\\u043c\\u0430\\u0442\\u044c\", \"\\u0437\\u0430\\u043d\\u0438\\u043c\\u0430\\u0442\\u044c\", \"\\u0437\\u0430\\u043d\\u0438\\u043c\\u0430\\u0442\\u044c\\u0441\\u044f\", \"\\u0437\\u0430\\u043d\\u0438\\u043c\\u0430\\u0442\\u044c\\u0441\\u044f\", \"\\u0437\\u0430\\u043f\\u0438\\u0441\\u044b\\u0432\\u0430\\u0442\\u044c\", \"\\u0437\\u0430\\u043f\\u0438\\u0441\\u044c\", \"\\u0437\\u0430\\u043f\\u0438\\u0441\\u044c\", \"\\u0437\\u0430\\u043f\\u0440\\u043e\\u0441\", \"\\u0437\\u0430\\u043f\\u0440\\u043e\\u0441\", \"\\u0437\\u0430\\u043f\\u0440\\u043e\\u0441\", \"\\u0437\\u0430\\u043f\\u0443\\u0441\\u043a\\u0430\\u0442\\u044c\", \"\\u0437\\u0430\\u043f\\u0443\\u0441\\u043a\\u0430\\u0442\\u044c\", \"\\u0437\\u0430\\u0440\\u0443\\u0431\\u0435\\u0436\\u043d\\u044b\\u0439\", \"\\u0437\\u0430\\u0442\\u0440\\u0430\\u0442\\u0430\", \"\\u0437\\u0430\\u0442\\u0440\\u0430\\u0442\\u0430\", \"\\u0437\\u0430\\u0442\\u0440\\u0430\\u0442\\u0430\", \"\\u0437\\u0430\\u0442\\u0440\\u0430\\u0442\\u0430\", \"\\u0437\\u0430\\u0442\\u0440\\u0430\\u0442\\u0430\", \"\\u0437\\u0430\\u0445\\u043b\\u0435\\u0431\\u044b\\u0432\\u0430\\u0442\\u044c\\u0441\\u044f\", \"\\u0437\\u0430\\u0449\\u0438\\u0442\\u0430\", \"\\u0437\\u0432\\u0435\\u0440\\u0435\\u043a\", \"\\u0437\\u0432\\u043e\\u043d\\u043e\\u043a\", \"\\u0437\\u043d\\u0430\\u043d\\u0438\\u0435\", \"\\u0437\\u043d\\u0430\\u043d\\u0438\\u0435\", \"\\u0437\\u043d\\u0430\\u043d\\u0438\\u0435\", \"\\u0437\\u043d\\u0430\\u043d\\u0438\\u0435\", \"\\u0437\\u043d\\u0430\\u0442\\u044c\", \"\\u0437\\u043d\\u0430\\u0442\\u044c\", \"\\u0437\\u043d\\u0430\\u0442\\u044c\", \"\\u0437\\u043d\\u0430\\u0442\\u044c\", \"\\u0437\\u0440\\u0435\\u043b\\u0438\\u0449\\u0435\", \"\\u0438\\u0434\\u0442\\u0438\", \"\\u0438\\u0434\\u0442\\u0438\", \"\\u0438\\u0434\\u0442\\u0438\", \"\\u0438\\u0434\\u0442\\u0438\", \"\\u0438\\u0434\\u0442\\u0438\", \"\\u0438\\u0434\\u0442\\u0438\", \"\\u0438\\u0437\\u043c\\u0435\\u043d\\u0435\\u043d\\u0438\\u0435\", \"\\u0438\\u0437\\u043c\\u0435\\u043d\\u0435\\u043d\\u0438\\u0435\", \"\\u0438\\u0437\\u043c\\u0435\\u043d\\u0435\\u043d\\u0438\\u0435\", \"\\u0438\\u0437\\u043c\\u0435\\u043d\\u0435\\u043d\\u0438\\u0435\", \"\\u0438\\u0437\\u043c\\u0435\\u043d\\u0435\\u043d\\u0438\\u0435\", \"\\u0438\\u0437\\u043c\\u0435\\u043d\\u0447\\u0438\\u0432\\u043e\\u0441\\u0442\\u044c\", \"\\u0438\\u043d\\u0432\\u0435\\u0441\\u0442\\u0438\\u0446\\u0438\\u044f\", \"\\u0438\\u043d\\u0433\\u0440\\u0435\\u0434\\u0438\\u0435\\u043d\\u0442\", \"\\u0438\\u043d\\u0436\\u0435\\u043d\\u0435\\u0440\\u0438\\u044f\", \"\\u0438\\u043d\\u043e\\u0441\\u0442\\u0440\\u0430\\u043d\\u043d\\u044b\\u0439\", \"\\u0438\\u043d\\u043e\\u0441\\u0442\\u0440\\u0430\\u043d\\u043d\\u044b\\u0439\", \"\\u0438\\u043d\\u043e\\u0441\\u0442\\u0440\\u0430\\u043d\\u043d\\u044b\\u0439\", \"\\u0438\\u043d\\u0441\\u0442\\u0440\\u0443\\u043a\\u0446\\u0438\\u044f\", \"\\u0438\\u043d\\u0441\\u0442\\u0440\\u0443\\u043c\\u0435\\u043d\\u0442\", \"\\u0438\\u043d\\u0441\\u0442\\u0440\\u0443\\u043c\\u0435\\u043d\\u0442\", \"\\u0438\\u043d\\u0442\\u0435\\u043d\\u0441\\u0438\\u0432\", \"\\u0438\\u043d\\u0442\\u0435\\u0440\\u0432\\u044c\\u044e\", \"\\u0438\\u043d\\u0442\\u0435\\u0440\\u0435\\u0441\\u043d\\u043e\", \"\\u0438\\u043d\\u0442\\u0435\\u0440\\u0435\\u0441\\u043d\\u044b\\u0439\", \"\\u0438\\u043d\\u0442\\u0435\\u0440\\u0435\\u0441\\u043d\\u044b\\u0439\", \"\\u0438\\u043d\\u0442\\u0435\\u0440\\u0435\\u0441\\u043d\\u044b\\u0439\", \"\\u0438\\u043d\\u0442\\u0435\\u0440\\u0435\\u0441\\u043d\\u044b\\u0439\", \"\\u0438\\u043d\\u0442\\u0435\\u0440\\u0435\\u0441\\u043d\\u044b\\u0439\", \"\\u0438\\u043d\\u0442\\u0435\\u0440\\u043d\\u0435\\u0442\", \"\\u0438\\u043d\\u0442\\u0435\\u0440\\u043d\\u0435\\u0442\", \"\\u0438\\u043d\\u0442\\u0435\\u0440\\u043d\\u0435\\u0442\", \"\\u0438\\u0441\\u043a\\u0430\\u0442\\u044c\", \"\\u0438\\u0441\\u043a\\u0430\\u0442\\u044c\", \"\\u0438\\u0441\\u043a\\u0430\\u0442\\u044c\", \"\\u0438\\u0441\\u043a\\u0430\\u0442\\u044c\", \"\\u0438\\u0441\\u043a\\u0430\\u0442\\u044c\", \"\\u0438\\u0441\\u043f\\u043e\\u043b\\u044c\\u0437\\u043e\\u0432\\u0430\\u043d\\u0438\\u0435\", \"\\u0438\\u0441\\u043f\\u043e\\u043b\\u044c\\u0437\\u043e\\u0432\\u0430\\u0442\\u044c\", \"\\u0438\\u0441\\u0442\\u043e\\u0440\\u0438\\u044f\", \"\\u0438\\u0441\\u0442\\u043e\\u0440\\u0438\\u044f\", \"\\u0438\\u0441\\u0442\\u043e\\u0440\\u0438\\u044f\", \"\\u0438\\u0442\\u043e\\u0433\", \"\\u0438\\u0442\\u043e\\u0433\", \"\\u0438\\u0442\\u043e\\u0433\", \"\\u0438\\u0442\\u043e\\u0433\", \"\\u0438\\u0442\\u043e\\u0433\", \"\\u043a\\u0430\\u0436\\u0434\\u044b\\u0439\", \"\\u043a\\u0430\\u0436\\u0434\\u044b\\u0439\", \"\\u043a\\u0430\\u0436\\u0434\\u044b\\u0439\", \"\\u043a\\u0430\\u0436\\u0434\\u044b\\u0439\", \"\\u043a\\u0430\\u0437\\u0430\\u0445\\u0441\\u043a\\u0438\\u0439\", \"\\u043a\\u0430\\u0437\\u0430\\u0445\\u0441\\u0442\\u0430\\u043d\", \"\\u043a\\u0430\\u0440\\u0442\\u0430\", \"\\u043a\\u0430\\u0440\\u0442\\u043e\\u0447\\u043d\\u044b\\u0439\", \"\\u043a\\u0430\\u0440\\u044c\\u0435\\u0440\\u0430\", \"\\u043a\\u0430\\u0440\\u044c\\u0435\\u0440\\u043d\\u044b\\u0439\", \"\\u043a\\u0430\\u0442\\u044f\", \"\\u043a\\u0430\\u0447\\u0435\\u0441\\u0442\\u0432\\u043e\", \"\\u043a\\u0430\\u0447\\u0435\\u0441\\u0442\\u0432\\u043e\", \"\\u043a\\u0432\\u0430\\u0440\\u0442\\u0438\\u0440\\u0430\", \"\\u043a\\u043b\\u0430\\u0441\\u0441\", \"\\u043a\\u043b\\u0430\\u0441\\u0441\", \"\\u043a\\u043b\\u0430\\u0441\\u0441\", \"\\u043a\\u043b\\u0438\\u0435\\u043d\\u0442\", \"\\u043a\\u043b\\u0438\\u0435\\u043d\\u0442\", \"\\u043a\\u043b\\u0438\\u0435\\u043d\\u0442\", \"\\u043a\\u043b\\u0438\\u0435\\u043d\\u0442\", \"\\u043a\\u043b\\u0438\\u0435\\u043d\\u0442\", \"\\u043a\\u043d\\u0438\\u0433\\u0430\", \"\\u043a\\u043d\\u0438\\u0433\\u0430\", \"\\u043a\\u043d\\u0438\\u0433\\u0430\", \"\\u043a\\u043d\\u0438\\u0433\\u0430\", \"\\u043a\\u043d\\u0438\\u0433\\u0430\", \"\\u043a\\u043e\\u043b\\u043b\\u0435\\u0433\\u0430\", \"\\u043a\\u043e\\u043b\\u043b\\u0435\\u0433\\u0430\", \"\\u043a\\u043e\\u043b\\u043b\\u0435\\u0433\\u0430\", \"\\u043a\\u043e\\u043b\\u043b\\u0435\\u0433\\u0430\", \"\\u043a\\u043e\\u043b\\u043b\\u0435\\u0433\\u0430\", \"\\u043a\\u043e\\u043b\\u043b\\u0435\\u0433\\u0430\", \"\\u043a\\u043e\\u043c\\u0430\\u043d\\u0434\\u0430\", \"\\u043a\\u043e\\u043c\\u0430\\u043d\\u0434\\u0430\", \"\\u043a\\u043e\\u043c\\u0430\\u043d\\u0434\\u0430\", \"\\u043a\\u043e\\u043c\\u0430\\u043d\\u0434\\u0430\", \"\\u043a\\u043e\\u043c\\u0430\\u043d\\u0434\\u0430\", \"\\u043a\\u043e\\u043c\\u043c\\u0435\\u043d\\u0442\\u0430\\u0440\\u0438\\u0439\", \"\\u043a\\u043e\\u043c\\u043c\\u0435\\u043d\\u0442\\u0430\\u0440\\u0438\\u0439\", \"\\u043a\\u043e\\u043c\\u043c\\u0435\\u043d\\u0442\\u0430\\u0440\\u0438\\u0439\", \"\\u043a\\u043e\\u043c\\u043c\\u0435\\u043d\\u0442\\u0430\\u0440\\u0438\\u0439\", \"\\u043a\\u043e\\u043c\\u043f\\u0430\\u043d\\u0438\\u044f\", \"\\u043a\\u043e\\u043c\\u043f\\u0430\\u043d\\u0438\\u044f\", \"\\u043a\\u043e\\u043c\\u043f\\u0430\\u043d\\u0438\\u044f\", \"\\u043a\\u043e\\u043c\\u043f\\u0430\\u043d\\u0438\\u044f\", \"\\u043a\\u043e\\u043c\\u043f\\u0430\\u043d\\u0438\\u044f\", \"\\u043a\\u043e\\u043c\\u043f\\u0430\\u043d\\u0438\\u044f\", \"\\u043a\\u043e\\u043c\\u043f\\u0430\\u043d\\u0438\\u044f\", \"\\u043a\\u043e\\u043d\\u0432\\u0435\\u0440\\u0441\\u0438\\u044f\", \"\\u043a\\u043e\\u043d\\u0432\\u0435\\u0440\\u0441\\u0438\\u044f\", \"\\u043a\\u043e\\u043d\\u0435\\u0446\", \"\\u043a\\u043e\\u043d\\u0435\\u0446\", \"\\u043a\\u043e\\u043d\\u043a\\u0443\\u0440\\u0435\\u043d\\u0446\\u0438\\u044f\", \"\\u043a\\u043e\\u043d\\u043a\\u0443\\u0440\\u0435\\u043d\\u0446\\u0438\\u044f\", \"\\u043a\\u043e\\u043d\\u043a\\u0443\\u0440\\u0441\", \"\\u043a\\u043e\\u043d\\u0441\\u0442\\u0440\\u0443\\u043a\\u0446\\u0438\\u044f\", \"\\u043a\\u043e\\u043d\\u0442\\u0430\\u043a\\u0442\", \"\\u043a\\u043e\\u043d\\u0442\\u0430\\u043a\\u0442\", \"\\u043a\\u043e\\u043d\\u0442\\u0430\\u043a\\u0442\", \"\\u043a\\u043e\\u043d\\u0444\\u0435\\u0440\\u0435\\u043d\\u0446\\u0438\\u044f\", \"\\u043a\\u043e\\u043d\\u0444\\u0435\\u0440\\u0435\\u043d\\u0446\\u0438\\u044f\", \"\\u043a\\u043e\\u043d\\u0444\\u0438\\u0434\\u0435\\u043d\\u0446\\u0438\\u0430\\u043b\\u044c\\u043d\\u043e\\u0441\\u0442\\u044c\", \"\\u043a\\u043e\\u043d\\u0444\\u043e\\u0440\\u043a\\u0430\", \"\\u043a\\u043e\\u043f\\u0430\\u0442\\u044c\", \"\\u043a\\u043e\\u043f\\u0435\\u0439\\u043a\\u0430\", \"\\u043a\\u043e\\u043f\\u0438\\u043b\\u043e\\u0447\\u043a\\u0430\", \"\\u043a\\u043e\\u0441\\u0432\\u0435\\u043d\\u043d\\u044b\\u0439_\\u043a\\u043e\\u043d\\u043a\\u0443\\u0440\\u0435\\u043d\\u0442\", \"\\u043a\\u043e\\u0443\\u0447\", \"\\u043a\\u043e\\u0443\\u0447\", \"\\u043a\\u043e\\u0443\\u0447\\u0438\\u043d\\u0433\", \"\\u043a\\u043e\\u0443\\u0447\\u0438\\u043d\\u0433\\u043e\\u0432\\u044b\\u0439\", \"\\u043a\\u0440\\u0438\\u0442\\u0438\\u0447\\u0435\\u0441\\u043a\\u0438\\u0439\", \"\\u043a\\u0440\\u043e\\u043c\\u0435\", \"\\u043a\\u0440\\u0443\\u0433\", \"\\u043a\\u0440\\u0443\\u0433\", \"\\u043a\\u0440\\u0443\\u0442\\u043e\", \"\\u043a\\u0440\\u0443\\u0442\\u043e\\u0439\", \"\\u043a\\u0440\\u0443\\u0442\\u043e\\u0439\", \"\\u043a\\u0440\\u0443\\u0442\\u043e\\u0439\", \"\\u043a\\u0440\\u0443\\u0442\\u043e\\u0439\", \"\\u043a\\u0440\\u0443\\u0442\\u043e\\u0439\", \"\\u043a\\u0443\\u043f\\u0438\\u0442\\u044c\", \"\\u043a\\u0443\\u043f\\u0438\\u0442\\u044c\", \"\\u043a\\u0443\\u0440\\u0441\", \"\\u043a\\u0443\\u0440\\u0441\", \"\\u043a\\u0443\\u0440\\u0441\", \"\\u043a\\u0443\\u0440\\u0441\", \"\\u043a\\u0443\\u0440\\u0441\", \"\\u043a\\u0443\\u0440\\u0441\", \"\\u043a\\u0443\\u0440\\u0441\", \"\\u043b\\u0435\\u0442\\u0435\\u0442\\u044c\", \"\\u043b\\u0438\\u0431\\u043e\", \"\\u043b\\u0438\\u0442\\u0435\\u0440\\u0430\\u0442\\u0443\\u0440\\u0430\", \"\\u043b\\u0438\\u0447\\u043d\\u044b\\u0439\", \"\\u043b\\u0438\\u0447\\u043d\\u044b\\u0439\", \"\\u043b\\u0438\\u0447\\u043d\\u044b\\u0439\", \"\\u043b\\u0438\\u0447\\u043d\\u044b\\u0439\", \"\\u043b\\u0438\\u0447\\u043d\\u044b\\u0439\", \"\\u043b\\u0438\\u0447\\u043d\\u044b\\u0439\", \"\\u043b\\u043e\\u0433\\u0438\\u0441\\u0442\\u0438\\u0447\\u0435\\u0441\\u043a\\u0438\\u0439\", \"\\u043b\\u044e\\u0431\\u0438\\u0442\\u044c\", \"\\u043c\\u0430\\u0433\\u0430\\u0437\\u0438\\u043d\", \"\\u043c\\u0430\\u0441\\u0442\\u0435\\u0440\", \"\\u043c\\u0430\\u0441\\u0442\\u0435\\u0440\", \"\\u043c\\u0430\\u0448\\u0438\\u043d\\u043d\\u044b\\u0439_\\u043e\\u0431\\u0443\\u0447\\u0435\\u043d\\u0438\\u0435\", \"\\u043c\\u0430\\u0448\\u0438\\u043d\\u043d\\u044b\\u0439_\\u043e\\u0431\\u0443\\u0447\\u0435\\u043d\\u0438\\u0435\", \"\\u043c\\u0433\\u0443\", \"\\u043c\\u0435\\u0434\\u0438\\u0442\\u0430\\u0442\\u0438\\u0432\\u043d\\u044b\\u0439\", \"\\u043c\\u0435\\u043d\\u0442\\u0438\", \"\\u043c\\u0435\\u043d\\u0442\\u0438\", \"\\u043c\\u0435\\u043d\\u0442\\u0438\", \"\\u043c\\u0435\\u043d\\u0442\\u043e\\u0440\", \"\\u043c\\u0435\\u043d\\u0442\\u043e\\u0440\", \"\\u043c\\u0435\\u043d\\u0442\\u043e\\u0440\", \"\\u043c\\u0435\\u043d\\u0442\\u043e\\u0440\", \"\\u043c\\u0435\\u043d\\u0442\\u043e\\u0440\", \"\\u043c\\u0435\\u043d\\u0442\\u043e\\u0440\", \"\\u043c\\u0435\\u043d\\u0442\\u043e\\u0440\\u0438\\u043d\\u0433\", \"\\u043c\\u0435\\u043d\\u0442\\u043e\\u0440\\u0438\\u043d\\u0433\", \"\\u043c\\u0435\\u043d\\u044f\\u0442\\u044c\\u0441\\u044f\", \"\\u043c\\u0435\\u0440\\u043e\\u043f\\u0440\\u0438\\u044f\\u0442\\u0438\\u0435\", \"\\u043c\\u0435\\u0441\\u0442\\u043e\", \"\\u043c\\u0435\\u0441\\u0442\\u043e\", \"\\u043c\\u0435\\u0441\\u0442\\u043e\", \"\\u043c\\u0435\\u0441\\u0442\\u043e\", \"\\u043c\\u0435\\u0441\\u044f\\u0446\", \"\\u043c\\u0435\\u0441\\u044f\\u0446\", \"\\u043c\\u0435\\u0441\\u044f\\u0446\", \"\\u043c\\u0435\\u0441\\u044f\\u0446\", \"\\u043c\\u0435\\u0442\\u043e\\u0434\", \"\\u043c\\u0435\\u0442\\u043e\\u0434\\u0438\\u043a\\u0430\", \"\\u043c\\u0435\\u0442\\u043e\\u0434\\u0438\\u043a\\u0430\", \"\\u043c\\u0435\\u0447\\u0442\\u0430\\u043b\\u043a\\u0430\", \"\\u043c\\u0438\\u043b\\u043b\\u0438\\u043e\\u043d\", \"\\u043c\\u0438\\u0440\", \"\\u043c\\u0438\\u0440\", \"\\u043c\\u0438\\u0440\", \"\\u043c\\u0438\\u0440\", \"\\u043c\\u0438\\u0440\", \"\\u043c\\u0438\\u0440\", \"\\u043c\\u043b\\u043d\", \"\\u043c\\u043e\\u0434\\u0435\\u043b\\u044c\", \"\\u043c\\u043e\\u0434\\u0435\\u043b\\u044c\", \"\\u043c\\u043e\\u0434\\u0435\\u043b\\u044c\", \"\\u043c\\u043e\\u0434\\u0435\\u043b\\u044c\", \"\\u043c\\u043e\\u0434\\u043d\\u044b\\u0439\", \"\\u043c\\u043e\\u0434\\u043d\\u044b\\u0439\", \"\\u043c\\u043e\\u043d\\u0438\\u0442\\u043e\\u0440\\u0438\\u043d\\u0433\", \"\\u043c\\u043e\\u043d\\u0438\\u0442\\u043e\\u0440\\u0438\\u043d\\u0433\", \"\\u043c\\u043e\\u0440\\u0435\\u0439\\u043d\\u0438\\u0441\", \"\\u043c\\u043e\\u0441\\u043a\\u0432\\u0430\", \"\\u043c\\u043e\\u0441\\u043a\\u0432\\u0430\", \"\\u043c\\u043e\\u0447\\u044c\", \"\\u043c\\u043e\\u0447\\u044c\", \"\\u043c\\u043e\\u0447\\u044c\", \"\\u043c\\u043e\\u0447\\u044c\", \"\\u043c\\u043e\\u0447\\u044c\", \"\\u043c\\u043e\\u0447\\u044c\", \"\\u043c\\u043e\\u0447\\u044c\", \"\\u043c\\u043e\\u0447\\u044c\", \"\\u043c\\u043e\\u0449\\u044c\", \"\\u043c\\u0443\\u0436\\u0447\\u0438\\u043d\\u0430\", \"\\u043c\\u044f\\u0433\\u043a\\u0438\\u0439\", \"\\u043d\\u0430\\u0432\\u044b\\u043a\", \"\\u043d\\u0430\\u0432\\u044b\\u043a\", \"\\u043d\\u0430\\u0432\\u044b\\u043a\", \"\\u043d\\u0430\\u0432\\u044b\\u043a\", \"\\u043d\\u0430\\u0432\\u044b\\u043a\", \"\\u043d\\u0430\\u0432\\u044b\\u043a\", \"\\u043d\\u0430\\u0432\\u044b\\u043a\", \"\\u043d\\u0430\\u0433\\u043e\\u0432\\u0438\\u0446\\u044b\\u043d\", \"\\u043d\\u0430\\u0433\\u0440\\u0443\\u0437\\u043e\\u0447\\u043d\\u044b\\u0439\", \"\\u043d\\u0430\\u043c\\u0435\\u0440\\u0435\\u043d\\u0438\\u0435\", \"\\u043d\\u0430\\u043c\\u043d\\u043e\\u0433\\u043e\", \"\\u043d\\u0430\\u0440\\u0443\\u0448\\u0435\\u043d\\u0438\\u0435\", \"\\u043d\\u0430\\u0441\\u043a\\u043e\\u043b\\u044c\\u043a\\u043e\", \"\\u043d\\u0430\\u0441\\u043a\\u043e\\u043b\\u044c\\u043a\\u043e\", \"\\u043d\\u0430\\u0441\\u0442\\u0430\\u0432\\u043d\\u0438\\u0447\\u0435\\u0441\\u0442\\u0432\\u043e\", \"\\u043d\\u0430\\u0441\\u0442\\u0440\\u043e\\u0439\\u043a\\u0430\", \"\\u043d\\u0430\\u0441\\u0442\\u0443\\u043f\\u0430\\u0442\\u044c\", \"\\u043d\\u0430\\u0443\\u0447\\u0430\\u0442\\u044c\\u0441\\u044f\", \"\\u043d\\u0430\\u0445\\u043e\\u0434\\u0438\\u0442\\u044c\", \"\\u043d\\u0430\\u0445\\u043e\\u0434\\u0438\\u0442\\u044c\", \"\\u043d\\u0430\\u0445\\u043e\\u0434\\u0438\\u0442\\u044c\", \"\\u043d\\u0430\\u0445\\u043e\\u0434\\u0438\\u0442\\u044c\", \"\\u043d\\u0430\\u0446\\u0438\\u043e\\u043d\\u0430\\u043b\\u044c\\u043d\\u044b\\u0439\", \"\\u043d\\u0430\\u0447\\u0438\\u043d\\u0430\\u0442\\u044c\", \"\\u043d\\u0430\\u0447\\u0438\\u043d\\u0430\\u0442\\u044c\", \"\\u043d\\u0430\\u0447\\u0438\\u043d\\u0430\\u0442\\u044c\", \"\\u043d\\u0430\\u0447\\u0438\\u043d\\u0430\\u0442\\u044c\", \"\\u043d\\u0430\\u0447\\u0438\\u043d\\u0430\\u0442\\u044c\", \"\\u043d\\u0430\\u0447\\u0438\\u043d\\u0430\\u0442\\u044c\\u0441\\u044f\", \"\\u043d\\u0430\\u0447\\u0438\\u043d\\u0430\\u0442\\u044c\\u0441\\u044f\", \"\\u043d\\u0430\\u0447\\u0438\\u043d\\u0430\\u0442\\u044c\\u0441\\u044f\", \"\\u043d\\u0435\\u0431\\u043e\\u043b\\u044c\\u0448\\u043e\\u0439\", \"\\u043d\\u0435\\u0431\\u043e\\u043b\\u044c\\u0448\\u043e\\u0439\", \"\\u043d\\u0435\\u0431\\u043e\\u043b\\u044c\\u0448\\u043e\\u0439\", \"\\u043d\\u0435\\u0431\\u043e\\u043b\\u044c\\u0448\\u043e\\u0439\", \"\\u043d\\u0435\\u0431\\u043e\\u043b\\u044c\\u0448\\u043e\\u0439\", \"\\u043d\\u0435\\u0434\\u0430\\u0432\\u043d\\u043e\", \"\\u043d\\u0435\\u0434\\u0435\\u043b\\u044f\", \"\\u043d\\u0435\\u0434\\u0435\\u043b\\u044f\", \"\\u043d\\u0435\\u0434\\u0435\\u043b\\u044f\", \"\\u043d\\u0435\\u0434\\u0435\\u043b\\u044f\", \"\\u043d\\u0435\\u043e\\u043f\\u0440\\u0435\\u0434\\u0435\\u043b\\u0435\\u043d\\u043d\\u043e\", \"\\u043d\\u0435\\u043e\\u043f\\u0440\\u0435\\u0434\\u0435\\u043b\\u0435\\u043d\\u043d\\u043e\\u0441\\u0442\\u044c\", \"\\u043d\\u0435\\u0441\\u043a\\u043e\\u043b\\u044c\\u043a\\u043e\", \"\\u043d\\u0435\\u0441\\u043a\\u043e\\u043b\\u044c\\u043a\\u043e\", \"\\u043d\\u0435\\u0441\\u043a\\u043e\\u043b\\u044c\\u043a\\u043e\", \"\\u043d\\u043e\\u0432\\u0438\\u0447\\u043e\\u043a\", \"\\u043d\\u043e\\u0432\\u044b\\u0439\", \"\\u043d\\u043e\\u0432\\u044b\\u0439\", \"\\u043d\\u043e\\u0432\\u044b\\u0439\", \"\\u043d\\u043e\\u0432\\u044b\\u0439\", \"\\u043d\\u043e\\u0432\\u044b\\u0439\", \"\\u043d\\u043e\\u0432\\u044b\\u0439\", \"\\u043d\\u0440\\u0430\\u0432\\u0438\\u0442\\u044c\\u0441\\u044f\", \"\\u043d\\u0443\\u0436\\u043d\\u044b\\u0439\", \"\\u043d\\u0443\\u0436\\u043d\\u044b\\u0439\", \"\\u043d\\u0443\\u0436\\u043d\\u044b\\u0439\", \"\\u043d\\u0443\\u0436\\u043d\\u044b\\u0439\", \"\\u043d\\u0443\\u0436\\u043d\\u044b\\u0439\", \"\\u043d\\u0443\\u0436\\u043d\\u044b\\u0439\", \"\\u043d\\u0443\\u0436\\u043d\\u044b\\u0439\", \"\\u043e\\u0431\\u043e\", \"\\u043e\\u0431\\u0440\\u0430\\u0431\\u0430\\u0442\\u044b\\u0432\\u0430\\u0442\\u044c\", \"\\u043e\\u0431\\u0441\\u0443\\u0436\\u0434\\u0430\\u0442\\u044c\\u0441\\u044f\", \"\\u043e\\u0431\\u0443\\u0447\\u0430\\u0442\\u044c\", \"\\u043e\\u0431\\u0443\\u0447\\u0435\\u043d\\u0438\\u0435\", \"\\u043e\\u0431\\u0443\\u0447\\u0435\\u043d\\u0438\\u0435\", \"\\u043e\\u0431\\u0443\\u0447\\u0435\\u043d\\u0438\\u0435\", \"\\u043e\\u0431\\u0443\\u0447\\u0435\\u043d\\u0438\\u0435\", \"\\u043e\\u0431\\u0443\\u0447\\u0435\\u043d\\u0438\\u0435\", \"\\u043e\\u0431\\u0449\\u0438\\u0439\", \"\\u043e\\u0431\\u0449\\u0438\\u0439\", \"\\u043e\\u0431\\u0449\\u0438\\u0439\", \"\\u043e\\u0433\\u0440\\u0430\\u043d\\u0438\\u0447\\u0435\\u043d\\u0438\\u0435\", \"\\u043e\\u0433\\u0440\\u0430\\u043d\\u0438\\u0447\\u0435\\u043d\\u0438\\u0435\", \"\\u043e\\u0439\\u0432\\u0441\\u0435\\u043f\\u0440\\u043e\\u043f\\u0430\\u0434\\u0430\\u0442\\u044c\", \"\\u043e\\u043f\\u0440\\u0435\\u0434\\u0435\\u043b\\u044f\\u0442\\u044c\", \"\\u043e\\u043f\\u0440\\u0435\\u0434\\u0435\\u043b\\u044f\\u0442\\u044c\", \"\\u043e\\u043f\\u0440\\u0435\\u0434\\u0435\\u043b\\u044f\\u0442\\u044c\", \"\\u043e\\u043f\\u044b\\u0442\", \"\\u043e\\u043f\\u044b\\u0442\", \"\\u043e\\u043f\\u044b\\u0442\", \"\\u043e\\u043f\\u044b\\u0442\", \"\\u043e\\u043f\\u044b\\u0442\", \"\\u043e\\u043f\\u044b\\u0442\", \"\\u043e\\u043f\\u044b\\u0442_\\u0440\\u0430\\u0431\\u043e\\u0442\\u0430\", \"\\u043e\\u043f\\u044b\\u0442_\\u0440\\u0430\\u0431\\u043e\\u0442\\u0430\", \"\\u043e\\u043f\\u044b\\u0442_\\u0440\\u0430\\u0431\\u043e\\u0442\\u0430\", \"\\u043e\\u043f\\u044b\\u0442\\u043d\\u044b\\u0439\", \"\\u043e\\u043f\\u044b\\u0442\\u043d\\u044b\\u0439\", \"\\u043e\\u043f\\u044b\\u0442\\u043d\\u044b\\u0439\", \"\\u043e\\u043f\\u044b\\u0442\\u043d\\u044b\\u0439\", \"\\u043e\\u0441\\u043d\\u043e\\u0432\\u044b\\u0432\\u0430\\u0442\\u044c\\u0441\\u044f\", \"\\u043e\\u0441\\u043e\\u0437\\u043d\\u0430\\u0432\\u0430\\u0442\\u044c\", \"\\u043e\\u0442\\u0432\\u0435\\u0442\", \"\\u043e\\u0442\\u0432\\u0435\\u0442\", \"\\u043e\\u0442\\u0432\\u0435\\u0442\", \"\\u043e\\u0442\\u0432\\u0435\\u0442\", \"\\u043e\\u0442\\u0434\\u0430\\u0432\\u0430\\u0442\\u044c\", \"\\u043e\\u0442\\u0434\\u0435\\u043b\\u044f\\u0442\\u044c\\u0441\\u044f\", \"\\u043e\\u0442\\u043b\\u0438\\u0447\\u043d\\u043e\", \"\\u043e\\u0444\\u0438\\u0441\", \"\\u043e\\u0444\\u0438\\u0446\\u0438\\u0430\\u043b\\u044c\\u043d\\u044b\\u0439\", \"\\u043e\\u0446\\u0435\\u043d\\u043a\\u0430\", \"\\u043e\\u0446\\u0435\\u043d\\u043a\\u0430\", \"\\u043e\\u0446\\u0435\\u043d\\u043a\\u0430\", \"\\u043e\\u0446\\u0435\\u043d\\u043a\\u0430\", \"\\u043e\\u0446\\u0435\\u043d\\u043a\\u0430\", \"\\u043e\\u0447\\u0435\\u0440\\u0435\\u0434\\u044c\", \"\\u043e\\u0447\\u043d\\u043e\", \"\\u043e\\u0448\\u0438\\u0431\\u043a\\u0430\", \"\\u043f\\u0430\\u0434\\u0435\\u043d\\u0438\\u0435\", \"\\u043f\\u0430\\u0439\\u043f\\u043b\\u0430\\u0439\\u043d\", \"\\u043f\\u0430\\u0440\\u0442\\u043d\\u0435\\u0440\", \"\\u043f\\u0430\\u0440\\u0442\\u043d\\u0435\\u0440\", \"\\u043f\\u0435\\u0440\\u0435\\u0433\\u043e\\u0432\\u043e\\u0440\\u044b\", \"\\u043f\\u0435\\u0440\\u0435\\u043f\\u043b\\u0430\\u043d\\u0438\\u0440\\u043e\\u0432\\u0430\\u043d\\u0438\\u0435\", \"\\u043f\\u0435\\u0440\\u0435\\u0441\\u0442\\u0430\\u0432\\u0430\\u0442\\u044c\", \"\\u043f\\u0435\\u0440\\u0435\\u0441\\u0442\\u0430\\u0432\\u0430\\u0442\\u044c\", \"\\u043f\\u0435\\u0440\\u0441\\u043e\\u043d\\u0430\\u043b\\u044c\\u043d\\u044b\\u0439\", \"\\u043f\\u0438\\u0441\\u0430\\u0442\\u044c\", \"\\u043f\\u0438\\u0441\\u0430\\u0442\\u044c\", \"\\u043f\\u0438\\u0441\\u0430\\u0442\\u044c\", \"\\u043f\\u0438\\u0441\\u0430\\u0442\\u044c\", \"\\u043f\\u0438\\u0441\\u0430\\u0442\\u044c\", \"\\u043f\\u043b\\u0430\\u043d\", \"\\u043f\\u043b\\u0430\\u043d\", \"\\u043f\\u043b\\u0430\\u043d\", \"\\u043f\\u043b\\u0430\\u043d\", \"\\u043f\\u043b\\u0430\\u043d\", \"\\u043f\\u043b\\u0430\\u043d\\u0438\\u0440\\u043e\\u0432\\u0430\\u043d\\u0438\\u0435\", \"\\u043f\\u043b\\u0430\\u043d\\u0438\\u0440\\u043e\\u0432\\u0430\\u043d\\u0438\\u0435\", \"\\u043f\\u043b\\u0430\\u043d\\u0438\\u0440\\u043e\\u0432\\u0430\\u043d\\u0438\\u0435\", \"\\u043f\\u043b\\u0430\\u043d\\u0438\\u0440\\u043e\\u0432\\u0430\\u0442\\u044c\", \"\\u043f\\u043b\\u0430\\u043d\\u0438\\u0440\\u043e\\u0432\\u0430\\u0442\\u044c\", \"\\u043f\\u043b\\u0435\\u0432\\u0430\\u0442\\u044c\", \"\\u043f\\u043e\\u0431\\u0435\\u0434\\u0430\", \"\\u043f\\u043e\\u0431\\u043b\\u0430\\u0433\\u043e\\u0434\\u0430\\u0440\\u0438\\u0442\\u044c\", \"\\u043f\\u043e\\u0434\\u0432\\u043e\\u0434\\u0438\\u0442\\u044c\", \"\\u043f\\u043e\\u0434\\u0432\\u043e\\u0434\\u0438\\u0442\\u044c\", \"\\u043f\\u043e\\u0434\\u0433\\u043e\\u0442\\u043e\\u0432\\u0438\\u0442\\u044c\", \"\\u043f\\u043e\\u0434\\u0434\\u0435\\u0440\\u0436\\u0438\\u0432\\u0430\\u0442\\u044c\", \"\\u043f\\u043e\\u0434\\u0434\\u0435\\u0440\\u0436\\u043a\\u0430\", \"\\u043f\\u043e\\u0434\\u0434\\u0435\\u0440\\u0436\\u043a\\u0430\", \"\\u043f\\u043e\\u0434\\u0434\\u0435\\u0440\\u0436\\u043a\\u0430\", \"\\u043f\\u043e\\u0434\\u0434\\u0435\\u0440\\u0436\\u043a\\u0430\", \"\\u043f\\u043e\\u0434\\u0434\\u0435\\u0440\\u0436\\u043a\\u0430\", \"\\u043f\\u043e\\u0434\\u0435\\u043b\\u0438\\u0442\\u044c\\u0441\\u044f\", \"\\u043f\\u043e\\u0434\\u0435\\u043b\\u0438\\u0442\\u044c\\u0441\\u044f\", \"\\u043f\\u043e\\u0434\\u043e\\u043f\\u0435\\u0447\\u043d\\u044b\\u0439\", \"\\u043f\\u043e\\u0434\\u043f\\u0438\\u0441\\u0447\\u0438\\u043a\", \"\\u043f\\u043e\\u0434\\u043f\\u0438\\u0441\\u044b\\u0432\\u0430\\u0442\\u044c\\u0441\\u044f\", \"\\u043f\\u043e\\u0434\\u0440\\u043e\\u0431\\u043d\\u043e\\u0441\\u0442\\u044c\", \"\\u043f\\u043e\\u0434\\u0445\\u043e\\u0434\\u0438\\u0442\\u044c\", \"\\u043f\\u043e\\u0434\\u0445\\u043e\\u0434\\u0438\\u0442\\u044c\", \"\\u043f\\u043e\\u0434\\u0445\\u043e\\u0434\\u0438\\u0442\\u044c\", \"\\u043f\\u043e\\u0434\\u0447\\u0438\\u043d\\u0435\\u043d\\u043d\\u043e\\u0441\\u0442\\u044c\", \"\\u043f\\u043e\\u0438\\u0441\\u043a\", \"\\u043f\\u043e\\u0438\\u0441\\u043a\", \"\\u043f\\u043e\\u0438\\u0441\\u043a\", \"\\u043f\\u043e\\u0438\\u0441\\u043a_\\u0440\\u0430\\u0431\\u043e\\u0442\\u0430\", \"\\u043f\\u043e\\u0438\\u0441\\u043a_\\u0440\\u0430\\u0431\\u043e\\u0442\\u0430\", \"\\u043f\\u043e\\u043b\\u0433\\u043e\\u0434\\u0430\", \"\\u043f\\u043e\\u043b\\u0435\\u0437\\u043d\\u043e\", \"\\u043f\\u043e\\u043b\\u043d\\u044b\\u0439\", \"\\u043f\\u043e\\u043b\\u043d\\u044b\\u0439\", \"\\u043f\\u043e\\u043b\\u043d\\u044b\\u0439\", \"\\u043f\\u043e\\u043b\\u043e\", \"\\u043f\\u043e\\u043b\\u0443\\u0447\\u0430\\u0442\\u044c\", \"\\u043f\\u043e\\u043b\\u0443\\u0447\\u0430\\u0442\\u044c\", \"\\u043f\\u043e\\u043b\\u0443\\u0447\\u0430\\u0442\\u044c\", \"\\u043f\\u043e\\u043b\\u0443\\u0447\\u0430\\u0442\\u044c\", \"\\u043f\\u043e\\u043b\\u0443\\u0447\\u0430\\u0442\\u044c\", \"\\u043f\\u043e\\u043b\\u0443\\u0447\\u0430\\u0442\\u044c\", \"\\u043f\\u043e\\u043b\\u0443\\u0447\\u0430\\u0442\\u044c\", \"\\u043f\\u043e\\u043b\\u0443\\u0447\\u0430\\u0442\\u044c\", \"\\u043f\\u043e\\u043b\\u0443\\u0447\\u0430\\u0442\\u044c\\u0441\\u044f\", \"\\u043f\\u043e\\u043b\\u0443\\u0447\\u0430\\u0442\\u044c\\u0441\\u044f\", \"\\u043f\\u043e\\u043b\\u0443\\u0447\\u0430\\u0442\\u044c\\u0441\\u044f\", \"\\u043f\\u043e\\u043b\\u0443\\u0447\\u0435\\u043d\\u0438\\u0435\", \"\\u043f\\u043e\\u043b\\u0443\\u0447\\u0435\\u043d\\u0438\\u0435\", \"\\u043f\\u043e\\u043b\\u0443\\u0447\\u0435\\u043d\\u0438\\u0435\", \"\\u043f\\u043e\\u043c\\u043e\\u0433\\u0430\\u0442\\u044c\", \"\\u043f\\u043e\\u043c\\u043e\\u0433\\u0430\\u0442\\u044c\", \"\\u043f\\u043e\\u043c\\u043e\\u0433\\u0430\\u0442\\u044c\", \"\\u043f\\u043e\\u043c\\u043e\\u0433\\u0430\\u0442\\u044c\", \"\\u043f\\u043e\\u043c\\u043e\\u0433\\u0430\\u0442\\u044c\", \"\\u043f\\u043e\\u043c\\u043e\\u0433\\u0430\\u0442\\u044c\", \"\\u043f\\u043e\\u043c\\u043e\\u0433\\u0430\\u0442\\u044c\", \"\\u043f\\u043e\\u043d\\u0438\\u043c\\u0430\\u043d\\u0438\\u0435\", \"\\u043f\\u043e\\u043d\\u0438\\u043c\\u0430\\u043d\\u0438\\u0435\", \"\\u043f\\u043e\\u043d\\u0438\\u043c\\u0430\\u043d\\u0438\\u0435\", \"\\u043f\\u043e\\u043d\\u0438\\u043c\\u0430\\u0442\\u044c\", \"\\u043f\\u043e\\u043d\\u0438\\u043c\\u0430\\u0442\\u044c\", \"\\u043f\\u043e\\u043d\\u0438\\u043c\\u0430\\u0442\\u044c\", \"\\u043f\\u043e\\u043d\\u0438\\u043c\\u0430\\u0442\\u044c\", \"\\u043f\\u043e\\u043d\\u0438\\u043c\\u0430\\u0442\\u044c\", \"\\u043f\\u043e\\u043f\\u0443\\u043b\\u044f\\u0440\\u043d\\u044b\\u0439\", \"\\u043f\\u043e\\u0440\\u0448\\u0435\", \"\\u043f\\u043e\\u0441\\u043b\\u0435\\u0437\\u0430\\u0432\\u0442\\u0440\\u0430\", \"\\u043f\\u043e\\u0441\\u0442\", \"\\u043f\\u043e\\u0441\\u0442\", \"\\u043f\\u043e\\u0441\\u0442\", \"\\u043f\\u043e\\u0441\\u0442\", \"\\u043f\\u043e\\u0441\\u0442\\u0430\\u0432\\u043b\\u044f\\u0442\\u044c\", \"\\u043f\\u043e\\u0441\\u0442\\u0440\\u043e\\u0438\\u0442\\u044c\", \"\\u043f\\u043e\\u0442\\u043e\\u043a\", \"\\u043f\\u043e\\u0442\\u043e\\u043a\", \"\\u043f\\u043e\\u0445\\u043e\\u0436\\u0438\\u0439\", \"\\u043f\\u043e\\u0445\\u043e\\u0436\\u0438\\u0439\", \"\\u043f\\u043e\\u0448\\u0430\\u0433\\u043e\\u0432\\u044b\\u0439\", \"\\u043f\\u0440\\u0430\\u043a\\u0442\\u0438\\u043a\\u0430\", \"\\u043f\\u0440\\u0430\\u043a\\u0442\\u0438\\u043a\\u0430\", \"\\u043f\\u0440\\u0430\\u043a\\u0442\\u0438\\u043a\\u0430\", \"\\u043f\\u0440\\u0430\\u043a\\u0442\\u0438\\u043a\\u0430\", \"\\u043f\\u0440\\u0430\\u043a\\u0442\\u0438\\u043a\\u0443\\u043c\", \"\\u043f\\u0440\\u0430\\u043a\\u0442\\u0438\\u0447\\u0435\\u0441\\u043a\\u0438\", \"\\u043f\\u0440\\u0435\\u0434\\u043e\\u0431\\u0443\\u0447\\u0435\\u043d\\u043d\\u044b\\u0439\", \"\\u043f\\u0440\\u0435\\u0434\\u043e\\u0441\\u0442\\u0430\\u0432\\u043b\\u044f\\u0442\\u044c\", \"\\u043f\\u0440\\u0435\\u0434\\u043f\\u0440\\u0438\\u043d\\u0438\\u043c\\u0430\\u0442\\u0435\\u043b\\u044c\", \"\\u043f\\u0440\\u0435\\u0434\\u043f\\u0440\\u0438\\u043d\\u0438\\u043c\\u0430\\u0442\\u0435\\u043b\\u044c\", \"\\u043f\\u0440\\u0435\\u0434\\u043f\\u0440\\u0438\\u043d\\u0438\\u043c\\u0430\\u0442\\u0435\\u043b\\u044c\", \"\\u043f\\u0440\\u0435\\u0434\\u043f\\u0440\\u0438\\u043d\\u0438\\u043c\\u0430\\u0442\\u0435\\u043b\\u044c\", \"\\u043f\\u0440\\u0435\\u0434\\u043f\\u0440\\u0438\\u043d\\u0438\\u043c\\u0430\\u0442\\u0435\\u043b\\u044c\", \"\\u043f\\u0440\\u0435\\u0434\\u043f\\u0440\\u0438\\u043d\\u0438\\u043c\\u0430\\u0442\\u0435\\u043b\\u044c\", \"\\u043f\\u0440\\u0435\\u0434\\u043f\\u0440\\u0438\\u043d\\u0438\\u043c\\u0430\\u0442\\u0435\\u043b\\u044c\", \"\\u043f\\u0440\\u0435\\u0434\\u043f\\u0440\\u0438\\u043d\\u0438\\u043c\\u0430\\u0442\\u0435\\u043b\\u044c\\u0441\\u0442\\u0432\\u043e\", \"\\u043f\\u0440\\u0435\\u0434\\u0441\\u0442\\u0430\\u0432\\u043b\\u044f\\u0442\\u044c\", \"\\u043f\\u0440\\u0435\\u0434\\u0441\\u0442\\u0430\\u0432\\u043b\\u044f\\u0442\\u044c\", \"\\u043f\\u0440\\u0435\\u043f\\u043e\\u0434\\u0430\\u0432\\u0430\\u043d\\u0438\\u0435\", \"\\u043f\\u0440\\u0438\\u0432\\u0435\\u0442\\u0441\\u0442\\u0432\\u043e\\u0432\\u0430\\u0442\\u044c\", \"\\u043f\\u0440\\u0438\\u0432\\u043b\\u0435\\u0447\\u0435\\u043d\\u0438\\u0435\", \"\\u043f\\u0440\\u0438\\u043b\\u043e\\u0436\\u0435\\u043d\\u0438\\u0435\", \"\\u043f\\u0440\\u0438\\u043d\\u043e\\u0441\\u0438\\u0442\\u044c\", \"\\u043f\\u0440\\u0438\\u043d\\u044f\\u0442\\u0438\\u0435\", \"\\u043f\\u0440\\u0438\\u043d\\u044f\\u0442\\u0438\\u0435\", \"\\u043f\\u0440\\u0438\\u0441\\u043e\\u0435\\u0434\\u0438\\u043d\\u044f\\u0442\\u044c\\u0441\\u044f\", \"\\u043f\\u0440\\u0438\\u0441\\u043e\\u0435\\u0434\\u0438\\u043d\\u044f\\u0442\\u044c\\u0441\\u044f\", \"\\u043f\\u0440\\u0438\\u0445\\u043e\\u0434\\u0438\\u0442\\u044c\", \"\\u043f\\u0440\\u0438\\u0445\\u043e\\u0434\\u0438\\u0442\\u044c\", \"\\u043f\\u0440\\u0438\\u0445\\u043e\\u0434\\u0438\\u0442\\u044c\", \"\\u043f\\u0440\\u0438\\u0445\\u043e\\u0434\\u0438\\u0442\\u044c\", \"\\u043f\\u0440\\u0438\\u0445\\u043e\\u0434\\u0438\\u0442\\u044c\", \"\\u043f\\u0440\\u0438\\u044f\\u0442\\u043d\\u044b\\u0439\", \"\\u043f\\u0440\\u043e\\u0431\\u0438\\u0440\\u043a\\u0430\", \"\\u043f\\u0440\\u043e\\u0432\\u0435\\u0440\\u044f\\u0442\\u044c\", \"\\u043f\\u0440\\u043e\\u0432\\u0435\\u0440\\u044f\\u0442\\u044c\", \"\\u043f\\u0440\\u043e\\u0432\\u0435\\u0440\\u044f\\u0442\\u044c\", \"\\u043f\\u0440\\u043e\\u0432\\u0435\\u0440\\u044f\\u0442\\u044c\", \"\\u043f\\u0440\\u043e\\u0432\\u0435\\u0440\\u044f\\u0442\\u044c\", \"\\u043f\\u0440\\u043e\\u0432\\u0435\\u0440\\u044f\\u0442\\u044c\", \"\\u043f\\u0440\\u043e\\u0432\\u043e\\u0434\\u0438\\u0442\\u044c\", \"\\u043f\\u0440\\u043e\\u0432\\u043e\\u0434\\u0438\\u0442\\u044c\", \"\\u043f\\u0440\\u043e\\u0432\\u043e\\u0434\\u0438\\u0442\\u044c\", \"\\u043f\\u0440\\u043e\\u0432\\u043e\\u0434\\u0438\\u0442\\u044c\", \"\\u043f\\u0440\\u043e\\u0432\\u043e\\u0434\\u0438\\u0442\\u044c\", \"\\u043f\\u0440\\u043e\\u0432\\u043e\\u0434\\u0438\\u0442\\u044c\", \"\\u043f\\u0440\\u043e\\u0433\\u0440\\u0430\\u043c\\u043c\\u0430\", \"\\u043f\\u0440\\u043e\\u0433\\u0440\\u0430\\u043c\\u043c\\u0430\", \"\\u043f\\u0440\\u043e\\u0433\\u0440\\u0430\\u043c\\u043c\\u0430\", \"\\u043f\\u0440\\u043e\\u0433\\u0440\\u0430\\u043c\\u043c\\u0430\", \"\\u043f\\u0440\\u043e\\u0433\\u0440\\u0430\\u043c\\u043c\\u0430\", \"\\u043f\\u0440\\u043e\\u0433\\u0440\\u0430\\u043c\\u043c\\u0438\\u0440\\u043e\\u0432\\u0430\\u043d\\u0438\\u0435\", \"\\u043f\\u0440\\u043e\\u0434\\u0430\\u0432\\u0430\\u0442\\u044c\", \"\\u043f\\u0440\\u043e\\u0434\\u0430\\u0432\\u0430\\u0442\\u044c\", \"\\u043f\\u0440\\u043e\\u0434\\u0430\\u0432\\u0430\\u0442\\u044c\", \"\\u043f\\u0440\\u043e\\u0434\\u0430\\u0432\\u0430\\u0442\\u044c\", \"\\u043f\\u0440\\u043e\\u0434\\u0430\\u0432\\u0430\\u0442\\u044c\\u0441\\u044f\", \"\\u043f\\u0440\\u043e\\u0434\\u0430\\u0436\\u0430\", \"\\u043f\\u0440\\u043e\\u0434\\u0430\\u0436\\u0430\", \"\\u043f\\u0440\\u043e\\u0434\\u0430\\u0436\\u0430\", \"\\u043f\\u0440\\u043e\\u0434\\u0430\\u0436\\u0430\", \"\\u043f\\u0440\\u043e\\u0434\\u043e\\u043b\\u0436\\u0430\\u0442\\u044c\", \"\\u043f\\u0440\\u043e\\u0434\\u043e\\u043b\\u0436\\u0430\\u0442\\u044c\", \"\\u043f\\u0440\\u043e\\u0434\\u043e\\u043b\\u0436\\u0430\\u0442\\u044c\", \"\\u043f\\u0440\\u043e\\u0434\\u0443\\u043a\\u0442\", \"\\u043f\\u0440\\u043e\\u0434\\u0443\\u043a\\u0442\", \"\\u043f\\u0440\\u043e\\u0434\\u0443\\u043a\\u0442\", \"\\u043f\\u0440\\u043e\\u0434\\u0443\\u043a\\u0442\", \"\\u043f\\u0440\\u043e\\u0434\\u0443\\u043a\\u0442\", \"\\u043f\\u0440\\u043e\\u0434\\u0443\\u043a\\u0442\", \"\\u043f\\u0440\\u043e\\u0434\\u0443\\u043a\\u0442\", \"\\u043f\\u0440\\u043e\\u0434\\u0443\\u043a\\u0442\", \"\\u043f\\u0440\\u043e\\u0434\\u0443\\u043a\\u0442\\u043e\\u0432\\u044b\\u0439\", \"\\u043f\\u0440\\u043e\\u0435\\u043a\\u0442\", \"\\u043f\\u0440\\u043e\\u0435\\u043a\\u0442\", \"\\u043f\\u0440\\u043e\\u0435\\u043a\\u0442\", \"\\u043f\\u0440\\u043e\\u0435\\u043a\\u0442\", \"\\u043f\\u0440\\u043e\\u0435\\u043a\\u0442\", \"\\u043f\\u0440\\u043e\\u0435\\u043a\\u0442\\u0438\\u0440\\u043e\\u0432\\u0430\\u043d\\u0438\\u0435\", \"\\u043f\\u0440\\u043e\\u0441\\u0442\\u043e\", \"\\u043f\\u0440\\u043e\\u0441\\u0442\\u043e\", \"\\u043f\\u0440\\u043e\\u0441\\u0442\\u043e\", \"\\u043f\\u0440\\u043e\\u0441\\u0442\\u043e\", \"\\u043f\\u0440\\u043e\\u0441\\u0442\\u043e\", \"\\u043f\\u0440\\u043e\\u0441\\u0442\\u043e\", \"\\u043f\\u0440\\u043e\\u0441\\u0442\\u043e\", \"\\u043f\\u0440\\u043e\\u0441\\u0442\\u0440\\u0430\\u043d\\u0441\\u0442\\u0432\\u043e\", \"\\u043f\\u0440\\u043e\\u0444\\u0435\\u0441\\u0441\\u0438\\u043e\\u043d\\u0430\\u043b\\u044c\\u043d\\u044b\\u0439\", \"\\u043f\\u0440\\u043e\\u0444\\u0435\\u0441\\u0441\\u0438\\u044f\", \"\\u043f\\u0440\\u043e\\u0444\\u0435\\u0441\\u0441\\u0438\\u044f\", \"\\u043f\\u0440\\u043e\\u0444\\u0435\\u0441\\u0441\\u0438\\u044f\", \"\\u043f\\u0440\\u043e\\u0445\\u043e\\u0434\\u0438\\u0442\\u044c\", \"\\u043f\\u0440\\u043e\\u0445\\u043e\\u0434\\u0438\\u0442\\u044c\", \"\\u043f\\u0440\\u043e\\u0445\\u043e\\u0434\\u0438\\u0442\\u044c\", \"\\u043f\\u0440\\u043e\\u0445\\u043e\\u0434\\u0438\\u0442\\u044c\", \"\\u043f\\u0440\\u043e\\u0445\\u043e\\u0434\\u0438\\u0442\\u044c\", \"\\u043f\\u0440\\u043e\\u0445\\u043e\\u0434\\u0438\\u0442\\u044c\", \"\\u043f\\u0440\\u043e\\u0447\\u0438\\u0439\", \"\\u043f\\u0440\\u043e\\u0447\\u0438\\u0439\", \"\\u043f\\u0440\\u043e\\u0447\\u0438\\u0439\", \"\\u043f\\u0440\\u043e\\u0447\\u0438\\u0439\", \"\\u043f\\u0440\\u043e\\u0447\\u0438\\u0442\\u044b\\u0432\\u0430\\u0442\\u044c\", \"\\u043f\\u0440\\u043e\\u0447\\u0438\\u0442\\u044b\\u0432\\u0430\\u0442\\u044c\", \"\\u043f\\u0440\\u044f\\u043c\\u043e\", \"\\u043f\\u0441\\u0438\\u0445\\u043e\\u043b\\u043e\\u0433\", \"\\u043f\\u0443\\u043d\\u043a\\u0442\", \"\\u043f\\u0443\\u043d\\u043a\\u0442\", \"\\u043f\\u0443\\u043d\\u043a\\u0442\", \"\\u043f\\u0443\\u0442\\u044c\", \"\\u043f\\u0443\\u0442\\u044c\", \"\\u043f\\u0443\\u0442\\u044c\", \"\\u043f\\u0443\\u0442\\u044c\", \"\\u043f\\u0443\\u0442\\u044c\", \"\\u043f\\u0443\\u0442\\u044c\", \"\\u043f\\u0443\\u0442\\u044c\", \"\\u043f\\u044f\\u0442\\u043d\\u0438\\u0447\\u043d\\u044b\\u0439\", \"\\u0440\\u0430\\u0431\\u043e\\u0442\\u0430\", \"\\u0440\\u0430\\u0431\\u043e\\u0442\\u0430\", \"\\u0440\\u0430\\u0431\\u043e\\u0442\\u0430\", \"\\u0440\\u0430\\u0431\\u043e\\u0442\\u0430\", \"\\u0440\\u0430\\u0431\\u043e\\u0442\\u0430\", \"\\u0440\\u0430\\u0431\\u043e\\u0442\\u0430\", \"\\u0440\\u0430\\u0431\\u043e\\u0442\\u0430\", \"\\u0440\\u0430\\u0431\\u043e\\u0442\\u0430\", \"\\u0440\\u0430\\u0431\\u043e\\u0442\\u0430\\u0442\\u044c\", \"\\u0440\\u0430\\u0431\\u043e\\u0442\\u0430\\u0442\\u044c\", \"\\u0440\\u0430\\u0431\\u043e\\u0442\\u0430\\u0442\\u044c\", \"\\u0440\\u0430\\u0431\\u043e\\u0442\\u0430\\u0442\\u044c\", \"\\u0440\\u0430\\u0431\\u043e\\u0442\\u0430\\u0442\\u044c\", \"\\u0440\\u0430\\u0431\\u043e\\u0442\\u0430\\u0442\\u044c\", \"\\u0440\\u0430\\u0437\\u0432\\u0438\\u0442\\u0438\\u0435\", \"\\u0440\\u0430\\u0437\\u0432\\u0438\\u0442\\u0438\\u0435\", \"\\u0440\\u0430\\u0437\\u0432\\u0438\\u0442\\u0438\\u0435\", \"\\u0440\\u0430\\u0437\\u0432\\u0438\\u0442\\u0438\\u0435\", \"\\u0440\\u0430\\u0437\\u0432\\u0438\\u0442\\u0438\\u0435\", \"\\u0440\\u0430\\u0437\\u0432\\u0438\\u0442\\u0438\\u0435\", \"\\u0440\\u0430\\u0437\\u0432\\u0438\\u0442\\u0438\\u0435\", \"\\u0440\\u0430\\u0437\\u043d\\u0438\\u0446\\u0430\", \"\\u0440\\u0430\\u0437\\u0440\\u0430\\u0431\\u0430\\u0442\\u044b\\u0432\\u0430\\u0442\\u044c\", \"\\u0440\\u0430\\u0437\\u0440\\u0430\\u0431\\u043e\\u0442\\u043a\\u0430\", \"\\u0440\\u0430\\u0437\\u0440\\u0430\\u0431\\u043e\\u0442\\u043a\\u0430\", \"\\u0440\\u0430\\u0437\\u0440\\u0430\\u0431\\u043e\\u0442\\u043a\\u0430\", \"\\u0440\\u0430\\u0437\\u0440\\u0430\\u0431\\u043e\\u0442\\u0447\\u0438\\u043a\", \"\\u0440\\u0430\\u0437\\u0440\\u0430\\u0431\\u043e\\u0442\\u0447\\u0438\\u043a\", \"\\u0440\\u0430\\u0437\\u0440\\u0430\\u0431\\u043e\\u0442\\u0447\\u0438\\u043a\", \"\\u0440\\u0430\\u0437\\u0440\\u0430\\u0431\\u043e\\u0442\\u0447\\u0438\\u043a\", \"\\u0440\\u0430\\u0437\\u0440\\u0430\\u0431\\u043e\\u0442\\u0447\\u0438\\u043a\", \"\\u0440\\u0430\\u043c\\u043a\\u0430\", \"\\u0440\\u0430\\u043c\\u043a\\u0430\", \"\\u0440\\u0430\\u043c\\u043a\\u0430\", \"\\u0440\\u0430\\u043c\\u043a\\u0430\", \"\\u0440\\u0430\\u043d\\u043e\", \"\\u0440\\u0430\\u043d\\u043e\", \"\\u0440\\u0430\\u0441\\u0441\\u043a\\u0430\\u0437\\u044b\\u0432\\u0430\\u0442\\u044c\", \"\\u0440\\u0430\\u0441\\u0441\\u043a\\u0430\\u0437\\u044b\\u0432\\u0430\\u0442\\u044c\", \"\\u0440\\u0430\\u0441\\u0441\\u043a\\u0430\\u0437\\u044b\\u0432\\u0430\\u0442\\u044c\", \"\\u0440\\u0430\\u0441\\u0441\\u043a\\u0430\\u0437\\u044b\\u0432\\u0430\\u0442\\u044c\", \"\\u0440\\u0430\\u0441\\u0447\\u0435\\u0442\", \"\\u0440\\u0430\\u0441\\u0448\\u0438\\u0440\\u0435\\u043d\\u0438\\u0435\", \"\\u0440\\u0435\\u0430\\u043b\\u044c\\u043d\\u044b\\u0439\", \"\\u0440\\u0435\\u0430\\u043b\\u044c\\u043d\\u044b\\u0439\", \"\\u0440\\u0435\\u0430\\u043b\\u044c\\u043d\\u044b\\u0439\", \"\\u0440\\u0435\\u0432\\u044c\\u044e\\u0435\\u0440\", \"\\u0440\\u0435\\u0433\\u0443\\u043b\\u044f\\u0440\\u043d\\u044b\\u0439\", \"\\u0440\\u0435\\u0433\\u0443\\u043b\\u044f\\u0440\\u043d\\u044b\\u0439\", \"\\u0440\\u0435\\u0433\\u0443\\u043b\\u044f\\u0440\\u043d\\u044b\\u0439\", \"\\u0440\\u0435\\u043a\\u043b\\u0430\\u043c\\u0430\", \"\\u0440\\u0435\\u043f\\u043e\\u0437\\u0438\\u0442\\u043e\\u0440\\u0438\\u0439\", \"\\u0440\\u0435\\u0441\\u0442\\u043e\\u0440\\u0430\\u043d\", \"\\u0440\\u0435\\u0448\\u0430\\u0442\\u044c\", \"\\u0440\\u0435\\u0448\\u0430\\u0442\\u044c\", \"\\u0440\\u0435\\u0448\\u0430\\u0442\\u044c\", \"\\u0440\\u0435\\u0448\\u0430\\u0442\\u044c\", \"\\u0440\\u0435\\u0448\\u0430\\u0442\\u044c\", \"\\u0440\\u0435\\u0448\\u0430\\u0442\\u044c\", \"\\u0440\\u0435\\u0448\\u0430\\u0442\\u044c\", \"\\u0440\\u0435\\u0448\\u0435\\u043d\\u0438\\u0435\", \"\\u0440\\u0435\\u0448\\u0435\\u043d\\u0438\\u0435\", \"\\u0440\\u0435\\u0448\\u0435\\u043d\\u0438\\u0435\", \"\\u0440\\u0435\\u0448\\u0435\\u043d\\u0438\\u0435\", \"\\u0440\\u0435\\u0448\\u0435\\u043d\\u0438\\u0435\", \"\\u0440\\u043e\\u043b\\u044c\", \"\\u0440\\u043e\\u043b\\u044c\", \"\\u0440\\u043e\\u0441\\u0441\\u0438\\u0439\\u0441\\u043a\\u0438\\u0439\", \"\\u0440\\u043e\\u0441\\u0441\\u0438\\u044f\", \"\\u0440\\u043e\\u0441\\u0441\\u0438\\u044f\", \"\\u0440\\u043e\\u0441\\u0441\\u0438\\u044f\", \"\\u0440\\u043e\\u0441\\u0442\", \"\\u0440\\u0443\\u0431\\u043b\\u044c\", \"\\u0440\\u0443\\u0431\\u043b\\u044c\", \"\\u0440\\u0443\\u0447\\u043d\\u043e\\u0439\", \"\\u0440\\u044b\\u043d\\u043e\\u043a\", \"\\u0440\\u044b\\u043d\\u043e\\u043a\", \"\\u0440\\u044b\\u043d\\u043e\\u043a\", \"\\u0440\\u044b\\u043d\\u043e\\u043a\", \"\\u0440\\u044b\\u043d\\u043e\\u043a\", \"\\u0440\\u044b\\u043d\\u043e\\u043a\", \"\\u0440\\u044f\\u0434\\u043e\\u043c\", \"\\u0441\\u0430\\u0439\\u0442_\\u043f\\u043e\\u0438\\u0441\\u043a\", \"\\u0441\\u0432\\u0435\\u0440\\u0445\\u0437\\u0430\\u0434\\u0430\\u0447\\u0430\", \"\\u0441\\u0434\\u0435\\u043b\\u0430\\u0442\\u044c\", \"\\u0441\\u0434\\u0435\\u043b\\u0430\\u0442\\u044c\", \"\\u0441\\u0434\\u0435\\u043b\\u0430\\u0442\\u044c\", \"\\u0441\\u0434\\u0435\\u043b\\u0430\\u0442\\u044c\", \"\\u0441\\u0434\\u0435\\u043b\\u0430\\u0442\\u044c\", \"\\u0441\\u0434\\u0435\\u043b\\u043a\\u0430\", \"\\u0441\\u0435\\u0433\\u043e\\u0434\\u043d\\u044f\", \"\\u0441\\u0435\\u0433\\u043e\\u0434\\u043d\\u044f\", \"\\u0441\\u0435\\u0433\\u043e\\u0434\\u043d\\u044f\", \"\\u0441\\u0435\\u0433\\u043e\\u0434\\u043d\\u044f\", \"\\u0441\\u0435\\u0433\\u043e\\u0434\\u043d\\u044f\", \"\\u0441\\u0435\\u0433\\u043e\\u0434\\u043d\\u044f\", \"\\u0441\\u0435\\u043a\\u0446\\u0438\\u044f\", \"\\u0441\\u0435\\u043c\\u0438\\u043d\\u0430\\u0440\", \"\\u0441\\u0435\\u0441\\u0441\\u0438\\u044f\", \"\\u0441\\u0435\\u0441\\u0441\\u0438\\u044f\", \"\\u0441\\u0435\\u0441\\u0441\\u0438\\u044f\", \"\\u0441\\u0438\\u0441\\u0442\\u0435\\u043c\\u0430\", \"\\u0441\\u0438\\u0441\\u0442\\u0435\\u043c\\u0430\", \"\\u0441\\u0438\\u0441\\u0442\\u0435\\u043c\\u0430\", \"\\u0441\\u043a\\u0430\\u0447\\u0430\\u0442\\u044c\", \"\\u0441\\u043a\\u043e\\u0440\\u043e\\u0441\\u0442\\u044c\", \"\\u0441\\u043b\\u043e\\u0442\", \"\\u0441\\u043c\\u0435\\u043d\\u0430\", \"\\u0441\\u043c\\u0435\\u043d\\u0430\", \"\\u0441\\u043d\\u0430\\u0447\\u0430\\u043b\\u0430\", \"\\u0441\\u043e\\u0431\\u0435\\u0441\", \"\\u0441\\u043e\\u0431\\u0435\\u0441\\u0435\\u0434\\u043e\\u0432\\u0430\\u043d\\u0438\\u0435\", \"\\u0441\\u043e\\u0431\\u0435\\u0441\\u0435\\u0434\\u043e\\u0432\\u0430\\u043d\\u0438\\u0435\", \"\\u0441\\u043e\\u0431\\u0438\\u0440\\u0430\\u0442\\u044c\", \"\\u0441\\u043e\\u0431\\u0438\\u0440\\u0430\\u0442\\u044c\", \"\\u0441\\u043e\\u0431\\u0438\\u0440\\u0430\\u0442\\u044c\", \"\\u0441\\u043e\\u0431\\u0438\\u0440\\u0430\\u0442\\u044c\\u0441\\u044f\", \"\\u0441\\u043e\\u0432\\u043c\\u0435\\u0441\\u0442\\u043d\\u043e\", \"\\u0441\\u043e\\u0434\\u0435\\u0440\\u0436\\u0430\\u043d\\u0438\\u0435\", \"\\u0441\\u043e\\u0437\\u0432\\u0430\\u043d\\u0438\\u0432\\u0430\\u0442\\u044c\\u0441\\u044f\", \"\\u0441\\u043e\\u043e\\u0431\\u0449\\u0430\\u0442\\u044c\", \"\\u0441\\u043e\\u043e\\u0431\\u0449\\u0435\\u043d\\u0438\\u0435\", \"\\u0441\\u043e\\u043e\\u0431\\u0449\\u0435\\u043d\\u0438\\u0435\", \"\\u0441\\u043e\\u0446\\u0438\\u0430\\u043b\\u044c\\u043d\\u043e\", \"\\u0441\\u0441\\u044b\\u043b\\u043a\\u0430\", \"\\u0441\\u0441\\u044b\\u043b\\u043a\\u0430\", \"\\u0441\\u0441\\u044b\\u043b\\u043a\\u0430\", \"\\u0441\\u0441\\u044b\\u043b\\u043a\\u0430\", \"\\u0441\\u0441\\u044b\\u043b\\u043a\\u0430\", \"\\u0441\\u0441\\u044b\\u043b\\u043a\\u0430\", \"\\u0441\\u0441\\u044b\\u043b\\u043a\\u0430\", \"\\u0441\\u0442\\u0430\\u043d\\u0434\\u0430\\u0440\\u0442\", \"\\u0441\\u0442\\u0430\\u043d\\u043e\\u0432\\u0438\\u0442\\u044c\\u0441\\u044f\", \"\\u0441\\u0442\\u0430\\u043d\\u043e\\u0432\\u0438\\u0442\\u044c\\u0441\\u044f\", \"\\u0441\\u0442\\u0430\\u043d\\u043e\\u0432\\u0438\\u0442\\u044c\\u0441\\u044f\", \"\\u0441\\u0442\\u0430\\u043d\\u043e\\u0432\\u0438\\u0442\\u044c\\u0441\\u044f\", \"\\u0441\\u0442\\u0430\\u043d\\u043e\\u0432\\u0438\\u0442\\u044c\\u0441\\u044f\", \"\\u0441\\u0442\\u0430\\u043d\\u043e\\u0432\\u0438\\u0442\\u044c\\u0441\\u044f\", \"\\u0441\\u0442\\u0430\\u0440\\u0442\\u0430\\u043f\\u0430\", \"\\u0441\\u0442\\u043e\\u0438\\u0442\\u044c\", \"\\u0441\\u0442\\u043e\\u0438\\u0442\\u044c\", \"\\u0441\\u0442\\u043e\\u0438\\u0442\\u044c\", \"\\u0441\\u0442\\u043e\\u0438\\u0442\\u044c\", \"\\u0441\\u0442\\u043e\\u0438\\u0442\\u044c\", \"\\u0441\\u0442\\u043e\\u0438\\u0442\\u044c\", \"\\u0441\\u0442\\u043e\\u0440\\u043e\\u043d\\u0430\", \"\\u0441\\u0442\\u043e\\u0440\\u043e\\u043d\\u0430\", \"\\u0441\\u0442\\u043e\\u0440\\u043e\\u043d\\u0430\", \"\\u0441\\u0442\\u0440\\u0430\\u043d\\u0438\\u0447\\u043a\\u0430\", \"\\u0441\\u0442\\u0440\\u0430\\u0442\\u0435\\u0433\\u0438\\u0447\\u0435\\u0441\\u043a\\u0438\\u0439\", \"\\u0441\\u0442\\u0440\\u0430\\u0442\\u0435\\u0433\\u0438\\u0447\\u0435\\u0441\\u043a\\u0438\\u0439\", \"\\u0441\\u0442\\u0440\\u0430\\u0445\", \"\\u0441\\u0442\\u0440\\u0430\\u0445\\u043e\\u0432\\u0430\\u043d\\u0438\\u0435\", \"\\u0441\\u0442\\u0440\\u043e\\u0438\\u0442\\u0435\\u043b\\u044c\\u043d\\u044b\\u0439\", \"\\u0441\\u0442\\u0443\\u0434\\u0438\\u044f\", \"\\u0441\\u0445\\u0435\\u043c\\u0430\", \"\\u0441\\u0445\\u043e\\u0434\\u0438\\u043c\\u043e\\u0441\\u0442\\u044c\", \"\\u0441\\u0447\\u0438\\u0442\\u0430\\u0442\\u044c\\u0441\\u044f\", \"\\u0442\\u0435\\u043a\\u0441\\u0442\", \"\\u0442\\u0435\\u043b\\u0435\\u0433\\u0440\\u0430\\u043c\\u043c\\u0430\", \"\\u0442\\u0435\\u043c\\u0430\", \"\\u0442\\u0435\\u043c\\u0430\", \"\\u0442\\u0435\\u043c\\u0430\", \"\\u0442\\u0435\\u043c\\u0430\", \"\\u0442\\u0435\\u043c\\u0430\", \"\\u0442\\u0435\\u043c\\u0430\", \"\\u0442\\u0435\\u043c\\u0430\", \"\\u0442\\u0435\\u043c\\u0430\", \"\\u0442\\u0435\\u0441\\u0442\\u0438\\u0440\\u043e\\u0432\\u0430\\u043d\\u0438\\u0435\", \"\\u0442\\u0435\\u0441\\u0442\\u0438\\u0440\\u043e\\u0432\\u0430\\u043d\\u0438\\u0435\", \"\\u0442\\u0435\\u0441\\u0442\\u0438\\u0440\\u043e\\u0432\\u0430\\u043d\\u0438\\u0435\", \"\\u0442\\u0435\\u0445\\u043d\\u0438\\u0447\\u0435\\u0441\\u043a\\u0438\\u0439\", \"\\u0442\\u0435\\u0445\\u043d\\u0438\\u0447\\u0435\\u0441\\u043a\\u0438\\u0439\", \"\\u0442\\u0435\\u0445\\u043d\\u0438\\u0447\\u0435\\u0441\\u043a\\u0438\\u0439\", \"\\u0442\\u0435\\u0445\\u043d\\u043e\\u043b\\u043e\\u0433\\u0438\\u0447\\u043d\\u044b\\u0439\", \"\\u0442\\u043e\\u0447\\u043d\\u044b\\u0439\", \"\\u0442\\u0440\\u0430\\u043d\\u0441\\u0444\\u043e\\u0440\\u043c\\u0430\\u0446\\u0438\\u044f\", \"\\u0442\\u0440\\u0430\\u0442\\u0438\\u0442\\u044c\\u0441\\u044f\", \"\\u0442\\u0440\\u0435\\u0431\\u043e\\u0432\\u0430\\u043d\\u0438\\u0435\", \"\\u0442\\u0440\\u0435\\u0431\\u043e\\u0432\\u0430\\u043d\\u0438\\u0435\", \"\\u0442\\u0440\\u0435\\u0431\\u043e\\u0432\\u0430\\u043d\\u0438\\u0435\", \"\\u0442\\u0440\\u0435\\u043d\\u0438\\u043d\\u0433\", \"\\u0443\\u0432\\u0435\\u0440\\u0435\\u043d\\u043d\\u043e\\u0441\\u0442\\u044c\", \"\\u0443\\u0432\\u0435\\u0440\\u0435\\u043d\\u043d\\u044b\\u0439\", \"\\u0443\\u0432\\u0435\\u0440\\u0435\\u043d\\u043d\\u044b\\u0439\", \"\\u0443\\u0434\\u043e\\u0432\\u043e\\u043b\\u044c\\u0441\\u0442\\u0432\\u0438\\u0435\", \"\\u0443\\u043c\\u043e\\u0437\\u0430\\u043a\\u043b\\u044e\\u0447\\u0435\\u043d\\u0438\\u0435\", \"\\u0443\\u043f\\u0440\\u0430\\u0432\\u043b\\u0435\\u043d\\u0438\\u0435\", \"\\u0443\\u043f\\u0440\\u0430\\u0432\\u043b\\u0435\\u043d\\u0438\\u0435\", \"\\u0443\\u043f\\u0440\\u0430\\u0432\\u043b\\u0435\\u043d\\u0438\\u0435\", \"\\u0443\\u043f\\u0440\\u0430\\u0432\\u043b\\u0435\\u043d\\u0438\\u0435\", \"\\u0443\\u0441\\u043b\\u043e\\u0436\\u043d\\u044f\\u0442\\u044c\", \"\\u0443\\u0441\\u043b\\u0443\\u0433\\u0430\", \"\\u0443\\u0441\\u043b\\u0443\\u0433\\u0430\", \"\\u0443\\u0447\\u0430\\u0441\\u0442\\u0432\\u043e\\u0432\\u0430\\u0442\\u044c\", \"\\u0443\\u0447\\u0435\\u0442\", \"\\u0443\\u0447\\u0435\\u0442\", \"\\u0443\\u0447\\u0438\\u0442\\u044c\\u0441\\u044f\", \"\\u0443\\u0447\\u0438\\u0442\\u044c\\u0441\\u044f\", \"\\u0444\\u0438\\u043d\\u0442\\u0435\\u0445\\u0443\", \"\\u0444\\u0438\\u0442\\u0446\\u043f\\u0430\\u0442\\u0440\\u0438\\u043a\", \"\\u0444\\u0438\\u0448\\u0435\\u0447\\u043a\\u0430\", \"\\u0444\\u043b\\u043e\\u0443\", \"\\u0444\\u043e\\u043d\\u0442\\u0430\\u043d\", \"\\u0444\\u043e\\u0440\\u043c\\u0430\\u043b\\u044c\\u043d\\u043e\", \"\\u0445\\u043e\\u043b\\u043e\\u0434\\u043d\\u044b\\u0439\", \"\\u0445\\u043e\\u0440\\u043e\\u0448\\u0438\\u0439\", \"\\u0445\\u043e\\u0440\\u043e\\u0448\\u0438\\u0439\", \"\\u0445\\u043e\\u0440\\u043e\\u0448\\u0438\\u0439\", \"\\u0445\\u043e\\u0440\\u043e\\u0448\\u0438\\u0439\", \"\\u0445\\u043e\\u0440\\u043e\\u0448\\u0438\\u0439\", \"\\u0445\\u043e\\u0440\\u043e\\u0448\\u0438\\u0439\", \"\\u0445\\u043e\\u0442\\u0435\\u0442\\u044c\", \"\\u0445\\u043e\\u0442\\u0435\\u0442\\u044c\", \"\\u0445\\u043e\\u0442\\u0435\\u0442\\u044c\", \"\\u0445\\u043e\\u0442\\u0435\\u0442\\u044c\", \"\\u0445\\u043e\\u0442\\u0435\\u0442\\u044c\", \"\\u0445\\u043e\\u0442\\u0435\\u0442\\u044c\\u0441\\u044f\", \"\\u0445\\u043e\\u0442\\u0435\\u0442\\u044c\\u0441\\u044f\", \"\\u0446\\u0435\\u043b\\u044c\", \"\\u0446\\u0435\\u043b\\u044c\", \"\\u0446\\u0435\\u043b\\u044c\", \"\\u0446\\u0435\\u043b\\u044c\", \"\\u0446\\u0435\\u043b\\u044c\", \"\\u0446\\u0435\\u043b\\u044c\", \"\\u0446\\u0435\\u043d\\u043d\\u043e\\u0441\\u0442\\u044c\", \"\\u0446\\u0435\\u043d\\u043d\\u043e\\u0441\\u0442\\u044c\", \"\\u0446\\u0438\\u0444\\u0440\\u0430\", \"\\u0446\\u0438\\u0444\\u0440\\u0430\", \"\\u0447\\u0435\\u043b\\u043e\\u0432\\u0435\\u043a\", \"\\u0447\\u0435\\u043b\\u043e\\u0432\\u0435\\u043a\", \"\\u0447\\u0435\\u043b\\u043e\\u0432\\u0435\\u043a\", \"\\u0447\\u0435\\u043b\\u043e\\u0432\\u0435\\u043a\", \"\\u0447\\u0435\\u043b\\u043e\\u0432\\u0435\\u043a\", \"\\u0447\\u0435\\u043b\\u043e\\u0432\\u0435\\u043a\", \"\\u0447\\u0435\\u043b\\u043e\\u0432\\u0435\\u043a\", \"\\u0447\\u0435\\u043b\\u043e\\u0432\\u0435\\u043a\", \"\\u0447\\u0435\\u043b\\u043e\\u0432\\u0435\\u043a\", \"\\u0447\\u0442\\u0435\\u043d\\u0438\\u0435\", \"\\u0448\\u043a\\u043e\\u043b\\u0430\", \"\\u0448\\u043a\\u043e\\u043b\\u0430\", \"\\u0448\\u043a\\u043e\\u043b\\u0430\", \"\\u0448\\u043a\\u043e\\u043b\\u0430\", \"\\u044d\\u043a\\u0437\\u0430\\u043c\\u0435\\u043d\\u0430\\u0446\\u0438\\u043e\\u043d\\u043d\\u044b\\u0439\", \"\\u044d\\u043a\\u0437\\u0430\\u043c\\u0435\\u043d\\u0430\\u0446\\u0438\\u043e\\u043d\\u043d\\u044b\\u0439\", \"\\u044d\\u043a\\u043d\\u043e\\u043c\\u0438\\u043a\", \"\\u044d\\u043a\\u043e\\u043d\\u043e\\u043c\\u0438\\u0447\\u0435\\u0441\\u043a\\u0438\\u0439\", \"\\u044d\\u043a\\u0441\\u043f\\u0435\\u0440\\u0438\\u043c\\u0435\\u043d\\u0442\", \"\\u044d\\u043a\\u0441\\u043f\\u0435\\u0440\\u0438\\u043c\\u0435\\u043d\\u0442\", \"\\u044d\\u043a\\u0441\\u043f\\u0435\\u0440\\u0442\", \"\\u044d\\u043a\\u0441\\u043f\\u0435\\u0440\\u0442\", \"\\u044d\\u043a\\u0441\\u043f\\u0435\\u0440\\u0442\", \"\\u044d\\u043a\\u0441\\u043f\\u0435\\u0440\\u0442\", \"\\u044d\\u043a\\u0441\\u043f\\u0435\\u0440\\u0442\", \"\\u044e\\u043d\\u0438\\u0442\", \"\\u044e\\u043d\\u0438\\u0442\", \"\\u044e\\u043d\\u0438\\u0442\", \"\\u044e\\u043d\\u0438\\u0442\", \"\\u044f\\u0437\\u044b\\u043a\", \"\\u044f\\u0437\\u044b\\u043a\", \"\\u044f\\u0437\\u044b\\u043a\", \"\\u044f\\u0437\\u044b\\u043a\", \"\\u044f\\u043d\\u0434\\u0435\\u043a\\u0441\"]}, \"R\": 30, \"lambda.step\": 0.01, \"plot.opts\": {\"xlab\": \"PC1\", \"ylab\": \"PC2\"}, \"topic.order\": [2, 1, 3, 10, 8, 7, 5, 9, 4, 6]};\n",
       "\n",
       "function LDAvis_load_lib(url, callback){\n",
       "  var s = document.createElement('script');\n",
       "  s.src = url;\n",
       "  s.async = true;\n",
       "  s.onreadystatechange = s.onload = callback;\n",
       "  s.onerror = function(){console.warn(\"failed to load library \" + url);};\n",
       "  document.getElementsByTagName(\"head\")[0].appendChild(s);\n",
       "}\n",
       "\n",
       "if(typeof(LDAvis) !== \"undefined\"){\n",
       "   // already loaded: just create the visualization\n",
       "   !function(LDAvis){\n",
       "       new LDAvis(\"#\" + \"ldavis_el431651403968096020964830557139\", ldavis_el431651403968096020964830557139_data);\n",
       "   }(LDAvis);\n",
       "}else if(typeof define === \"function\" && define.amd){\n",
       "   // require.js is available: use it to load d3/LDAvis\n",
       "   require.config({paths: {d3: \"https://d3js.org/d3.v5\"}});\n",
       "   require([\"d3\"], function(d3){\n",
       "      window.d3 = d3;\n",
       "      LDAvis_load_lib(\"https://cdn.jsdelivr.net/gh/bmabey/pyLDAvis@3.3.1/pyLDAvis/js/ldavis.v3.0.0.js\", function(){\n",
       "        new LDAvis(\"#\" + \"ldavis_el431651403968096020964830557139\", ldavis_el431651403968096020964830557139_data);\n",
       "      });\n",
       "    });\n",
       "}else{\n",
       "    // require.js not available: dynamically load d3 & LDAvis\n",
       "    LDAvis_load_lib(\"https://d3js.org/d3.v5.js\", function(){\n",
       "         LDAvis_load_lib(\"https://cdn.jsdelivr.net/gh/bmabey/pyLDAvis@3.3.1/pyLDAvis/js/ldavis.v3.0.0.js\", function(){\n",
       "                 new LDAvis(\"#\" + \"ldavis_el431651403968096020964830557139\", ldavis_el431651403968096020964830557139_data);\n",
       "            })\n",
       "         });\n",
       "}\n",
       "</script>"
      ],
      "text/plain": [
       "PreparedData(topic_coordinates=              x         y  topics  cluster       Freq\n",
       "topic                                                \n",
       "1     -0.005283 -0.130982       1        1  20.619116\n",
       "0      0.063431 -0.019881       2        1  16.221885\n",
       "2      0.171783 -0.025999       3        1  13.986624\n",
       "9     -0.115472 -0.021627       4        1  13.571981\n",
       "7      0.083361  0.042348       5        1   9.325852\n",
       "6     -0.062944 -0.114497       6        1   8.041266\n",
       "4     -0.048095  0.108441       7        1   7.232440\n",
       "8      0.000768  0.097376       8        1   4.579993\n",
       "3     -0.020562  0.027651       9        1   3.786978\n",
       "5     -0.066987  0.037169      10        1   2.633865, topic_info=            Term       Freq      Total Category  logprob  loglift\n",
       "273         план  19.000000  19.000000  Default  30.0000  30.0000\n",
       "301         цель  22.000000  22.000000  Default  29.0000  29.0000\n",
       "278    продавать  18.000000  18.000000  Default  28.0000  28.0000\n",
       "468       задача  23.000000  23.000000  Default  27.0000  27.0000\n",
       "233         тема  19.000000  19.000000  Default  26.0000  26.0000\n",
       "..           ...        ...        ...      ...      ...      ...\n",
       "194         день   0.902997  14.059890  Topic10  -5.4561   0.8914\n",
       "624       крутой   0.873644   6.542553  Topic10  -5.4892   1.6233\n",
       "222         язык   0.848606   9.706812  Topic10  -5.5183   1.1997\n",
       "995       далеко   0.818734   9.309415  Topic10  -5.5541   1.2057\n",
       "990  иностранный   0.818729   3.690152  Topic10  -5.5541   2.1310\n",
       "\n",
       "[607 rows x 6 columns], token_table=      Topic      Freq           Term\n",
       "term                                \n",
       "2576      2  0.704856  автоматически\n",
       "235       5  0.468818   адекватность\n",
       "980       6  0.645258      айтишечка\n",
       "1136      7  0.494592          айфон\n",
       "1999      3  0.842454     актуальный\n",
       "...     ...       ...            ...\n",
       "222       1  0.412082           язык\n",
       "222       3  0.103020           язык\n",
       "222       4  0.412082           язык\n",
       "222      10  0.103020           язык\n",
       "9         6  0.645269         яндекс\n",
       "\n",
       "[1059 rows x 3 columns], R=30, lambda_step=0.01, plot_opts={'xlab': 'PC1', 'ylab': 'PC2'}, topic_order=[2, 1, 3, 10, 8, 7, 5, 9, 4, 6])"
      ]
     },
     "execution_count": 72,
     "metadata": {},
     "output_type": "execute_result"
    }
   ],
   "source": [
    "# Visualize the topics\n",
    "pyLDAvis.enable_notebook()\n",
    "vis = pyLDAvis.gensim_models.prepare(lda_model, corpus, id2word) \n",
    "vis"
   ]
  },
  {
   "attachments": {},
   "cell_type": "markdown",
   "metadata": {},
   "source": [
    "#### <a id='toc1_1_3_3_'></a>[Топ-10 тем по ключевым словам (рус)](#toc0_)\n",
    "\n",
    "Темы расположены по частоте встречаемости в публикациях.\n",
    "\n",
    "**Тема 1: истории о работе ментором**\n",
    "\n",
    "*Ключевые слова: ментор, работа, менторинг, поддержка, проходить, помогать, коучинг, находить, понимать, работать, а также цель, курс, рассказывать*\n",
    "\n",
    "В публикациях на эту тему наставники рассказывают о своей профессии: цели, проекты, курсы, а также о коучинге и поддержке начинающих специалистов.\n",
    "\n",
    "**Тема 2: истории о работе в сфере аналитики данных, менторы делятся своим опытом работы**\n",
    "\n",
    "*Ключевые слова: бизнес, компания, клиент, проект, сессия, хороший, продукт, рынок, интернет, датасет, модель, а также возможность, книга, понимание*\n",
    "\n",
    "Многие наставники в первую очередь сами являются дата саентистами и аналитиками данных, поэтому многие их публикации посвящены рассказам о своей основной деятельности.\n",
    "\n",
    "**Тема 3: поиск работы в сфере дата саенс**\n",
    "\n",
    "*Ключевые слова: рынок, вакансия, сайт поиск, машинное обучение, встреча, навык, коуч, учиться, конверсия, граница (поиск работы за границей) и др.*\n",
    "\n",
    "Также наставники рассказывают о поиске работы (в т.ч. за границей), делятся инсайдами рынка трудоустройства, делятся новыми вакансиями, анонсами тематических встреч.\n",
    "\n",
    "**Тема 4: навыки, востребованные у работодателей**\n",
    "\n",
    "*Ключевые слова: опыт, команда, модель, знание, тестирование, компания, система, бизнес, собес (собеседование), опыт работы, нужный, а также развитие, инструмент, использовать, мочь, гайд, язык*\n",
    "\n",
    "Еще одна тема, связанная трудоустройством – это навыки, которые по мнению работадателей необходимы для соискателя на позицию в сфере дата саенс. Другими словами, какие навыки необходимо прокачать тем, кто хочет трудоустроиться в этой сфере.\n",
    "\n",
    "**Тема 5: перспективы экономического роста и развития в сфере дата саенс**\n",
    "\n",
    "*Ключевые слова: рост, реклама, продавать, бизнес, предприниматель, человек, скорость, косвенный конкурент, сверхзадача, изменение, а также рубль, млн., делать, деньги*\n",
    "\n",
    "Наставники также обсуждают перспективы IT-специалистов, проектов, в т.ч. стартапы, предпринимателей – эта тема связана с бизнесом и экономикой.\n",
    "\n",
    "**Тема 6: рассказы о задачах наставников и менторов**\n",
    "\n",
    "*Ключевые слова: групповой менторинг, вебинар, карьерный, коуч, друг, партнер, команда, опытный, разработка, мастер, научиться, продолжать, а также специфические: Практикум, Москва*\n",
    "\n",
    "Не спроста данная тема на графике расположена близко к **Теме 1** – они близки по содержанию. Но в отличае от темы 1, где фокус повествования смещен на описание профессии в целом, в **Теме 6** менторы рассказывают о задачах, которые перед ними стоят: групповой менторинг, проведение вебинаров и карьерных консультаций, работа в команде, обучение, поддержка, ментор – это друг для своих подопечных. В теме также часто упоминался Практикум – скорее всего менторы из Яндекс Практикума часто публикуют посты на эту тему.\n",
    "\n",
    "**Тема 7: полезные советы от менторов**\n",
    "\n",
    "*Ключевые слова: полезно, качество, каждый, профессия, требование, курс, аналитика, практически, осознавать, история, расширение, круг, прочитывать*\n",
    "\n",
    "Менторы также в публикациями часто делаться полезными советами, ссылками на курсы, книги, полезные для расширения кругозора и погружения в профессию аналитика или дата саентиста.\n",
    "\n",
    "**Тема 8: важность стратегического планирования, как разработать стратегию своего карьерного развития**\n",
    "\n",
    "*Ключевые слова: план, цель, работать, регулярный, горизонт (планирования), движение, двигаться, планирование, планировать, копилочка, стратегический, достижение, подводить, итог, завтра, ограничение, месяц* \n",
    "\n",
    "В качестве отдельного тематического блока можно выделить стратегическое планирование: менторы часто пишут о стратегиях карьерного развития, подчеркивают необходимость ставить чёткие цели и строить планы, двигаться на пути их достижения.\n",
    "\n",
    "**Тема 9: рассказы о методиках обучения, в т. ч. от коллег**\n",
    "\n",
    "*Ключевые слова: методика, учет, развитие, решение, эксперт, обучение, цифра, стоить искать, анализ, проводить, коллега*\n",
    "\n",
    "Темы 9 и 10 наименее популярные (их меньше всего поднимают в своих публикациях менторы). **Тема 9** скорее посвещена методикам менторинга и наставничества, скорее всего аудитория таких постов – коллеги-менторы. \n",
    "\n",
    "**Тема 10: образование, освоение навыков в сфере анализа данных, анонсы и приглашения на вебинары**\n",
    "\n",
    "*Ключевые слова: аналитика, тема, данные, практика, мониторинг, приветствовать, вебинар, ревьюер, оценка, курс, школа, навык, быстро, а также работа, любить*\n",
    "\n",
    "Исходя из ключевых слов в **Теме 10**, можно предположить, что эти публикации направлены на анонсирование вебинаров, курсов, школ и матерских, возможность получить практических опыт в сфере аналитики, по работе с данными."
   ]
  },
  {
   "attachments": {},
   "cell_type": "markdown",
   "metadata": {},
   "source": [
    "#### <a id='toc1_1_3_4_'></a>[Модель на англоязчных текстах](#toc0_)"
   ]
  },
  {
   "cell_type": "code",
   "execution_count": 73,
   "metadata": {},
   "outputs": [
    {
     "data": {
      "text/html": [
       "<div>\n",
       "<style scoped>\n",
       "    .dataframe tbody tr th:only-of-type {\n",
       "        vertical-align: middle;\n",
       "    }\n",
       "\n",
       "    .dataframe tbody tr th {\n",
       "        vertical-align: top;\n",
       "    }\n",
       "\n",
       "    .dataframe thead th {\n",
       "        text-align: right;\n",
       "    }\n",
       "</style>\n",
       "<table border=\"1\" class=\"dataframe\">\n",
       "  <thead>\n",
       "    <tr style=\"text-align: right;\">\n",
       "      <th></th>\n",
       "      <th>name</th>\n",
       "      <th>works_at</th>\n",
       "      <th>profile_url</th>\n",
       "      <th>posts</th>\n",
       "      <th>language</th>\n",
       "    </tr>\n",
       "  </thead>\n",
       "  <tbody>\n",
       "    <tr>\n",
       "      <th>0</th>\n",
       "      <td>Елена Хасанова</td>\n",
       "      <td>QA Head, QA Team-lead, QA-Lead, Наставник Янде...</td>\n",
       "      <td>https://www.linkedin.com/in/yelena-khassanova/</td>\n",
       "      <td>[['Минск, кто ищет стажировки QA - для вас 🙂 '...</td>\n",
       "      <td>RUSSIAN</td>\n",
       "    </tr>\n",
       "    <tr>\n",
       "      <th>1</th>\n",
       "      <td>Алексей Становкин</td>\n",
       "      <td>Ведущий Software QA Engineer</td>\n",
       "      <td>https://www.linkedin.com/in/alex7cri/</td>\n",
       "      <td>[['https://lnkd.in/gx-UipHF#нетУбийствам'], ['...</td>\n",
       "      <td>ENGLISH</td>\n",
       "    </tr>\n",
       "    <tr>\n",
       "      <th>2</th>\n",
       "      <td>Дмитрий Липин</td>\n",
       "      <td>СТО в Yandex Platform Engineering</td>\n",
       "      <td>https://www.linkedin.com/in/dmitrylipin/</td>\n",
       "      <td>[['Очередной митап команды Yandex Infrastructu...</td>\n",
       "      <td>ENGLISH</td>\n",
       "    </tr>\n",
       "    <tr>\n",
       "      <th>3</th>\n",
       "      <td>Ramil Gataullin</td>\n",
       "      <td>Data Engineer at Toptal</td>\n",
       "      <td>https://www.linkedin.com/in/yaugear/</td>\n",
       "      <td>[]</td>\n",
       "      <td>None</td>\n",
       "    </tr>\n",
       "    <tr>\n",
       "      <th>4</th>\n",
       "      <td>Александр Романов</td>\n",
       "      <td>CTO (CIO) at iRidi | Создаю и трансформирую си...</td>\n",
       "      <td>https://www.linkedin.com/in/romanovalexander/</td>\n",
       "      <td>[['Два дня преподавания в МГУ )))Провел 120 ст...</td>\n",
       "      <td>RUSSIAN</td>\n",
       "    </tr>\n",
       "    <tr>\n",
       "      <th>5</th>\n",
       "      <td>Aleksandr Shabanov</td>\n",
       "      <td>ML engineer</td>\n",
       "      <td>https://www.linkedin.com/in/alshabanov/</td>\n",
       "      <td>[['Hi everyone - I am looking for a new role a...</td>\n",
       "      <td>ENGLISH</td>\n",
       "    </tr>\n",
       "    <tr>\n",
       "      <th>6</th>\n",
       "      <td>Pavel Kiryanov</td>\n",
       "      <td>QA Lead</td>\n",
       "      <td>https://www.linkedin.com/in/pavel-kiryanov-974...</td>\n",
       "      <td>[['Я вот человек простой, чет написал и коммен...</td>\n",
       "      <td>RUSSIAN</td>\n",
       "    </tr>\n",
       "    <tr>\n",
       "      <th>7</th>\n",
       "      <td>Amir Safiullin</td>\n",
       "      <td>Machine Learning Engineer</td>\n",
       "      <td>https://www.linkedin.com/in/safiullinamir/</td>\n",
       "      <td>[['22 июня, в 19:00, приглашаем на VK Tech Tal...</td>\n",
       "      <td>ENGLISH</td>\n",
       "    </tr>\n",
       "    <tr>\n",
       "      <th>8</th>\n",
       "      <td>Soslan Tabuev</td>\n",
       "      <td>datascience.xyz</td>\n",
       "      <td>https://www.linkedin.com/in/soslan-tabuev/</td>\n",
       "      <td>[['An interesting review of Transformer Zoo by...</td>\n",
       "      <td>ENGLISH</td>\n",
       "    </tr>\n",
       "    <tr>\n",
       "      <th>9</th>\n",
       "      <td>Alexander Konkin</td>\n",
       "      <td>Business Data Science Team Lead – Exness</td>\n",
       "      <td>https://www.linkedin.com/in/alexander-konkin-0...</td>\n",
       "      <td>[]</td>\n",
       "      <td>None</td>\n",
       "    </tr>\n",
       "  </tbody>\n",
       "</table>\n",
       "</div>"
      ],
      "text/plain": [
       "                 name                                           works_at  \\\n",
       "0      Елена Хасанова  QA Head, QA Team-lead, QA-Lead, Наставник Янде...   \n",
       "1   Алексей Становкин                       Ведущий Software QA Engineer   \n",
       "2       Дмитрий Липин                  СТО в Yandex Platform Engineering   \n",
       "3     Ramil Gataullin                            Data Engineer at Toptal   \n",
       "4   Александр Романов  CTO (CIO) at iRidi | Создаю и трансформирую си...   \n",
       "5  Aleksandr Shabanov                                        ML engineer   \n",
       "6      Pavel Kiryanov                                            QA Lead   \n",
       "7      Amir Safiullin                          Machine Learning Engineer   \n",
       "8       Soslan Tabuev                                    datascience.xyz   \n",
       "9    Alexander Konkin           Business Data Science Team Lead – Exness   \n",
       "\n",
       "                                         profile_url  \\\n",
       "0     https://www.linkedin.com/in/yelena-khassanova/   \n",
       "1              https://www.linkedin.com/in/alex7cri/   \n",
       "2           https://www.linkedin.com/in/dmitrylipin/   \n",
       "3               https://www.linkedin.com/in/yaugear/   \n",
       "4      https://www.linkedin.com/in/romanovalexander/   \n",
       "5            https://www.linkedin.com/in/alshabanov/   \n",
       "6  https://www.linkedin.com/in/pavel-kiryanov-974...   \n",
       "7         https://www.linkedin.com/in/safiullinamir/   \n",
       "8         https://www.linkedin.com/in/soslan-tabuev/   \n",
       "9  https://www.linkedin.com/in/alexander-konkin-0...   \n",
       "\n",
       "                                               posts language  \n",
       "0  [['Минск, кто ищет стажировки QA - для вас 🙂 '...  RUSSIAN  \n",
       "1  [['https://lnkd.in/gx-UipHF#нетУбийствам'], ['...  ENGLISH  \n",
       "2  [['Очередной митап команды Yandex Infrastructu...  ENGLISH  \n",
       "3                                                 []     None  \n",
       "4  [['Два дня преподавания в МГУ )))Провел 120 ст...  RUSSIAN  \n",
       "5  [['Hi everyone - I am looking for a new role a...  ENGLISH  \n",
       "6  [['Я вот человек простой, чет написал и коммен...  RUSSIAN  \n",
       "7  [['22 июня, в 19:00, приглашаем на VK Tech Tal...  ENGLISH  \n",
       "8  [['An interesting review of Transformer Zoo by...  ENGLISH  \n",
       "9                                                 []     None  "
      ]
     },
     "execution_count": 73,
     "metadata": {},
     "output_type": "execute_result"
    }
   ],
   "source": [
    "data.head(10)"
   ]
  },
  {
   "cell_type": "code",
   "execution_count": 74,
   "metadata": {},
   "outputs": [],
   "source": [
    "texts_list = []\n",
    "def get_texts(series):\n",
    "    texts = re.findall(r\"'(.+?)',\\s*\\d+\\b|\\['(.+?)'\", series)\n",
    "    for text in range(len(texts)):\n",
    "        texts_list.append(texts[text][1])\n",
    "\n",
    "data.loc[data['language'] == 'ENGLISH', 'posts'].apply(get_texts);"
   ]
  },
  {
   "cell_type": "code",
   "execution_count": 75,
   "metadata": {},
   "outputs": [
    {
     "name": "stdout",
     "output_type": "stream",
     "text": [
      "Всего текстов 321\n"
     ]
    }
   ],
   "source": [
    "print(f'Всего текстов {len(texts_list)}')"
   ]
  },
  {
   "cell_type": "code",
   "execution_count": 76,
   "metadata": {},
   "outputs": [],
   "source": [
    "processed_texts = []\n",
    "for text in texts_list:\n",
    "    processed_texts.append(preprocess_eng_texts(text))"
   ]
  },
  {
   "cell_type": "code",
   "execution_count": 77,
   "metadata": {},
   "outputs": [],
   "source": [
    "processed_texts = [i.split() for i in processed_texts if i != '']"
   ]
  },
  {
   "attachments": {},
   "cell_type": "markdown",
   "metadata": {},
   "source": [
    "Публикаций на английском больше: 301 текст."
   ]
  },
  {
   "cell_type": "code",
   "execution_count": 79,
   "metadata": {},
   "outputs": [
    {
     "name": "stdout",
     "output_type": "stream",
     "text": [
      "Всего опубликовано англоязычных текстов: 301\n"
     ]
    }
   ],
   "source": [
    "print(f'Всего опубликовано англоязычных текстов: {len(processed_texts)}')"
   ]
  },
  {
   "cell_type": "code",
   "execution_count": 80,
   "metadata": {},
   "outputs": [],
   "source": [
    "bigram = gensim.models.Phrases(processed_texts) # higher threshold fewer phrases. min_count=5, threshold=10\n",
    "bigram_mod = gensim.models.phrases.Phraser(bigram)\n",
    "\n",
    "def make_bigrams(texts):\n",
    "    return [bigram_mod[doc] for doc in texts]"
   ]
  },
  {
   "cell_type": "code",
   "execution_count": 81,
   "metadata": {},
   "outputs": [],
   "source": [
    "# Create bigrams\n",
    "data_words_bigrams = make_bigrams(processed_texts)"
   ]
  },
  {
   "cell_type": "code",
   "execution_count": 82,
   "metadata": {},
   "outputs": [
    {
     "name": "stdout",
     "output_type": "stream",
     "text": [
      "[[(0, 1)], [(1, 1), (2, 1), (3, 1), (4, 1), (5, 1), (6, 1), (7, 1), (8, 1), (9, 1), (10, 1), (11, 2), (12, 1), (13, 1), (14, 1), (15, 2), (16, 1), (17, 1), (18, 1), (19, 1), (20, 1), (21, 1), (22, 1), (23, 1), (24, 1), (25, 1), (26, 1), (27, 1), (28, 1), (29, 1)]]\n"
     ]
    }
   ],
   "source": [
    "# Create Dictionary\n",
    "id2word = corpora.Dictionary(data_words_bigrams)\n",
    "# Create Corpus\n",
    "texts = data_words_bigrams\n",
    "# Term Document Frequency\n",
    "corpus = [id2word.doc2bow(text) for text in texts]\n",
    "# View\n",
    "print(corpus[:2])"
   ]
  },
  {
   "cell_type": "code",
   "execution_count": 83,
   "metadata": {},
   "outputs": [
    {
     "data": {
      "text/plain": [
       "'opportun'"
      ]
     },
     "execution_count": 83,
     "metadata": {},
     "output_type": "execute_result"
    }
   ],
   "source": [
    "id2word[55]"
   ]
  },
  {
   "cell_type": "code",
   "execution_count": 84,
   "metadata": {},
   "outputs": [
    {
     "data": {
      "text/plain": [
       "[[('highli_recommend', 1),\n",
       "  ('anoth', 1),\n",
       "  ('challeng', 1),\n",
       "  ('cours', 1),\n",
       "  ('edx', 1),\n",
       "  ('excel', 1),\n",
       "  ('mitx', 1),\n",
       "  ('veri', 1)]]"
      ]
     },
     "execution_count": 84,
     "metadata": {},
     "output_type": "execute_result"
    }
   ],
   "source": [
    "# Human readable format of corpus (term-frequency)\n",
    "[[(id2word[id], freq) for id, freq in cp] for cp in corpus[10:11]]"
   ]
  },
  {
   "cell_type": "code",
   "execution_count": 85,
   "metadata": {},
   "outputs": [],
   "source": [
    "# Build LDA model\n",
    "lda_model = gensim.models.ldamodel.LdaModel(corpus=corpus, \n",
    "                                            id2word=id2word,\n",
    "                                            num_topics=10, \n",
    "                                            random_state=100,\n",
    "                                            update_every=5,#как часто параметры модели должны обновляться\n",
    "                                            chunksize=5, #количество документов, которые будут использоваться в каждом обучающем чанке\n",
    "                                            passes=80, #общее количество проходов обучения\n",
    "                                            alpha='asymmetric', #влияет на разреженность тем\n",
    "                                            per_word_topics=True)"
   ]
  },
  {
   "cell_type": "code",
   "execution_count": 86,
   "metadata": {},
   "outputs": [
    {
     "name": "stderr",
     "output_type": "stream",
     "text": [
      "/Users/anshilina/opt/anaconda3/lib/python3.9/site-packages/pyLDAvis/_prepare.py:246: FutureWarning: In a future version of pandas all arguments of DataFrame.drop except for the argument 'labels' will be keyword-only.\n",
      "  default_term_info = default_term_info.sort_values(\n"
     ]
    },
    {
     "data": {
      "text/html": [
       "\n",
       "<link rel=\"stylesheet\" type=\"text/css\" href=\"https://cdn.jsdelivr.net/gh/bmabey/pyLDAvis@3.3.1/pyLDAvis/js/ldavis.v1.0.0.css\">\n",
       "\n",
       "\n",
       "<div id=\"ldavis_el431651403965611604484152817691\"></div>\n",
       "<script type=\"text/javascript\">\n",
       "\n",
       "var ldavis_el431651403965611604484152817691_data = {\"mdsDat\": {\"x\": [0.02178104453872815, -0.31179415586913783, 0.09341932877024454, 0.09070747647143354, 0.06564872016696646, -0.03944191371507867, -0.0005153299187442189, 0.03817092170502041, 0.023538011660975973, 0.018485896189591483], \"y\": [0.3014370648723263, -0.019886909163219606, -0.07358903811925774, 0.01080605638838132, -0.11585560692987963, -0.03813777239559676, -0.04187276868007462, -0.016421808336173977, -0.008948874092885853, 0.0024696564563805095], \"topics\": [1, 2, 3, 4, 5, 6, 7, 8, 9, 10], \"cluster\": [1, 1, 1, 1, 1, 1, 1, 1, 1, 1], \"Freq\": [25.695271007697862, 14.20261239169436, 12.124046053784655, 10.577085882981379, 9.527307239964012, 9.23157567342914, 8.096304443226847, 5.442413533594601, 3.748273627376168, 1.3551101462509771]}, \"tinfo\": {\"Term\": [\"happi_share\", \"start_new\", \"use\", \"posit\", \"data\", \"analyst\", \"python\", \"product\", \"thi\", \"profi\", \"learn\", \"develop\", \"model\", \"thank\", \"program\", \"year\", \"microsoft\", \"engin\", \"bil\", \"certif\", \"experi\", \"great\", \"english\", \"work\", \"manag\", \"market\", \"opportun\", \"servic\", \"provid\", \"veri\", \"thi\", \"work\", \"data_scienc\", \"share\", \"project\", \"xgboost\", \"chatgpt\", \"help\", \"also\", \"excit\", \"way\", \"datasci\", \"machin_learn\", \"topic\", \"intern\", \"creat\", \"meet\", \"complet\", \"skill\", \"ani\", \"softwar\", \"organ\", \"take\", \"becom\", \"gener\", \"free\", \"app\", \"updat\", \"extens\", \"student\", \"research\", \"analyt\", \"peopl\", \"profession\", \"want\", \"get\", \"part\", \"team\", \"start_new\", \"posit\", \"data\", \"analyst\", \"profi\", \"train\", \"tech\", \"need\", \"look\", \"code\", \"happi\", \"day\", \"posit_junior\", \"technolog\", \"product\", \"month\", \"com\", \"would\", \"start\", \"announc\", \"like\", \"data_scientist\", \"growth\", \"databas\", \"hire\", \"machinelearn\", \"tool\", \"implement\", \"happi_share\", \"compani\", \"well\", \"startup\", \"busi\", \"analyt\", \"use\", \"model\", \"program\", \"english\", \"manag\", \"veri\", \"futur\", \"particip\", \"dedic\", \"challeng\", \"open\", \"russia\", \"confer\", \"articl\", \"first\", \"analysi\", \"chang\", \"insurtech\", \"crypto\", \"dure\", \"anoth\", \"lot\", \"check\", \"fintech\", \"may\", \"interest\", \"discus\", \"invest\", \"altern\", \"plea\", \"new\", \"market\", \"great\", \"russian\", \"includ\", \"present\", \"learn\", \"develop\", \"thank\", \"year\", \"sql\", \"one\", \"academi\", \"knowledg\", \"complex\", \"html\", \"finish\", \"bit\", \"end\", \"set\", \"algorithm\", \"give\", \"gradient\", \"industri\", \"azur\", \"regress\", \"queri\", \"datascientist\", \"javascript\", \"deeplearn\", \"definit\", \"inform\", \"front\", \"concept\", \"last\", \"improv\", \"experi\", \"great\", \"cours\", \"week\", \"team\", \"educ\", \"present\", \"nda\", \"video\", \"etm\", \"mentor\", \"inki\", \"haz\", \"namiz\", \"mani\", \"ist\", \"credit\", \"dili\", \"proqram\", \"net\", \"proqramla\", \"rin\", \"edil\", \"dig\", \"ich\", \"vergi\", \"onlin\", \"forma\", \"rlanma\", \"aid\", \"ingili\", \"sah\", \"lif\", \"yeni\", \"vzu\", \"nil\", \"bilikl\", \"bil\", \"global\", \"daha\", \"olan\", \"resourc\", \"econom\", \"webinar\", \"import\", \"layih\", \"rini\", \"linkedin\", \"insight\", \"olma\", \"core\", \"medic\", \"talent\", \"xahi\", \"made\", \"rind\", \"acceler\", \"print\", \"vue\", \"final\", \"edir\", \"nvan\", \"stage\", \"payla\", \"govern\", \"imag\", \"member\", \"peopl_analyt\", \"leader\", \"busi\", \"includ\", \"time\", \"startup\", \"experi\", \"python\", \"certif\", \"statist\", \"obtain_new\", \"find\", \"datasci_machinelearn\", \"test\", \"valu\", \"daysofdata\", \"round\", \"platform\", \"languag\", \"vision\", \"comput\", \"onli\", \"engin\", \"effici\", \"linux\", \"github\", \"postgresql\", \"differ\", \"design\", \"pypi\", \"mongodb\", \"tri\", \"hope\", \"section\", \"repo\", \"senior\", \"best\", \"happi_share\", \"microsoft\", \"servic\", \"provid\", \"achiev\", \"web\", \"case\", \"system\", \"view\", \"mobil\", \"googl\", \"cloud\", \"verifi\", \"amazon\", \"gdg_russia\", \"epam\", \"forecast\", \"think\", \"brent\", \"uncertainti\", \"usd\", \"million\", \"pandem\", \"certifi\", \"amount\", \"electr\", \"water\", \"oval\", \"allahveran\", \"daa\", \"haciyev\", \"oil\", \"comment\", \"market\", \"opportun\", \"connect\", \"opentowork\", \"opportun_offer\", \"everyon_look\", \"new_role\", \"would_appreci\", \"advanc_ani\", \"connect_advic\", \"support_thank\", \"sin\", \"art\", \"oldu\", \"unu\", \"var\", \"ger\", \"sonra\", \"sizin\", \"hayal\", \"hayatta\", \"istedi\", \"kolay\", \"yapmak\", \"frontend\", \"aca\", \"anlad\", \"anlam\", \"armak\", \"asla\", \"atmakt\", \"bir\", \"sberbank\", \"lad\", \"write\", \"magento\", \"adob\", \"commerc\", \"dsrtsz\", \"debt\", \"commod\", \"sar\", \"shelf\", \"academstar\", \"big\", \"hashimli\", \"ielt\", \"overal\", \"score\", \"chernenko\", \"ehwmj\", \"hxp\", \"serhii\", \"oil\", \"crisi\", \"cbc\", \"gave\", \"recess\", \"comment\", \"covid\", \"compani\", \"recent\", \"makushenko\", \"olga\", \"market\", \"anar\"], \"Freq\": [50.0, 39.0, 32.0, 35.0, 33.0, 31.0, 22.0, 32.0, 42.0, 26.0, 21.0, 18.0, 18.0, 17.0, 18.0, 16.0, 9.0, 13.0, 12.0, 11.0, 16.0, 18.0, 13.0, 22.0, 12.0, 13.0, 7.0, 8.0, 8.0, 11.0, 42.37744645374214, 22.24237382026082, 16.963747180454476, 15.396852057211015, 15.167596994277318, 14.587847618619843, 13.725831063192015, 13.21397738378562, 12.686229538948297, 11.476872498167388, 11.100783577956717, 10.216398744191325, 9.462735357121998, 9.441328097258406, 9.263517485151864, 8.925137627787029, 8.233768804662063, 8.171668811817513, 8.013233930144597, 7.334328014804468, 7.308638711116904, 7.2925410968173505, 7.172297636762426, 6.933795637796276, 6.236499424360724, 6.182883989151839, 6.130731536261874, 6.058887822238398, 6.019851532955069, 5.987223883033378, 8.21672570798396, 18.924909935180665, 9.797961387116136, 7.792433462376821, 7.765920745631883, 7.779957237938765, 8.341220139672012, 8.250899939214223, 39.14246606963975, 34.64582578839593, 33.13027596274073, 30.687889261132156, 25.964351105480866, 11.898090392476625, 10.194954559031906, 10.076322978515407, 9.318190670212395, 8.30913075327189, 6.247178449820223, 5.885203487076348, 5.543921885926481, 5.492156790695073, 29.28855757423616, 5.439095012337202, 5.365789274705093, 5.267662952900805, 5.242939282604682, 5.154815535999505, 5.077562909204163, 5.057571253143113, 5.055775279541278, 4.9582880986157845, 4.50833251102462, 4.439644699140581, 4.2494677786139885, 4.147999768222679, 43.93315531841468, 6.471291174819202, 8.757933597333098, 8.675698288766727, 9.01279010268426, 5.0603445438916665, 32.14793546065033, 18.339565467853397, 17.713440593893687, 12.706090625732289, 12.348862703289546, 11.171276998118644, 9.97778051990117, 9.94175263736197, 8.693051571294054, 8.54949297366261, 8.146463807036135, 8.024756516363212, 7.822950805697607, 7.8195689810096916, 6.894972246897696, 6.442264326938705, 6.401965878417676, 6.062646127954645, 5.882156943547531, 5.738383316600673, 5.608948584441748, 5.330123631691398, 5.221420029424157, 5.138054979019675, 5.132854481063381, 5.128818143442988, 5.073656142567351, 4.8748660784210385, 4.763780049079579, 4.588355223938802, 10.419451431913991, 11.089743885777972, 9.010574470274546, 6.3251243147770015, 6.154519497407771, 5.361949366667311, 20.96137390921289, 17.904343650702387, 16.84376836368503, 16.08614445747466, 9.950829921803457, 8.566583996573055, 7.47514116986085, 7.4124169648897675, 5.915887623215705, 5.802735067483478, 5.709134186805402, 5.4096812895818305, 5.3999106291283026, 5.229740221609702, 5.1568555530003115, 4.909363420308054, 4.256751578476485, 4.136282599686161, 4.12353116300401, 3.9357270339138766, 3.685945416578507, 3.6676794829666575, 3.6245352746873705, 3.6093493953027673, 3.489139270189836, 3.4715143800967083, 3.4317748590094936, 3.429849596717161, 3.4052913870084778, 3.321412136852094, 11.91490564812578, 8.834575513312462, 5.736995978505105, 4.24959259936099, 4.6715359703284625, 4.157936471134486, 3.720860209652842, 6.542840308287122, 5.818262154057266, 4.973914245859938, 4.537785111873451, 4.330684800053897, 4.330408022593764, 4.3301027170307025, 4.1785710350836895, 3.9148523140655977, 3.5519062676572912, 3.477018900237874, 3.477018900237874, 3.4766343194657168, 3.338780217020348, 3.2004562238027217, 3.2002661278860987, 3.197755380519797, 2.9238002824156903, 2.9237775147950846, 2.8767072421994366, 2.623343673926664, 2.623343673926664, 2.6233140485890085, 2.6233093853414147, 2.6233093853414147, 2.6232923782031308, 2.622776952189662, 2.485106087943866, 2.4850830460145783, 2.4847706084257855, 11.795415826024037, 8.144853943871396, 7.681426110532089, 6.506722298169985, 5.8223133109625556, 5.679193859300506, 5.622557936485342, 5.305945154956488, 5.195521026529123, 4.9551193663000115, 4.7748865630900745, 4.337586016789595, 4.172099997773682, 4.116808461145991, 4.0251645412690955, 4.002307052347762, 3.9319064542675415, 3.8449402434680153, 3.766521171187779, 3.7223427486139493, 3.366999790472281, 3.1477311475187286, 3.069208681362073, 2.908731284986875, 2.9081994311392805, 2.821614900562216, 2.8213921651677714, 2.777590904317948, 2.7083446496960497, 2.575945734310301, 5.670330691683371, 3.95058752164602, 5.550023809752128, 4.486919467003825, 4.52664876336332, 4.600892477276808, 4.372318385445553, 22.258741592221718, 10.703737979885402, 7.817958264766768, 7.5949396745972635, 6.675581481797204, 5.277290447014666, 4.872837776602823, 4.36275524801698, 4.279273397921817, 4.279273397921817, 4.175519122547909, 3.612769688126131, 3.446617668188095, 3.4250995165255946, 3.369694530206204, 11.498668060948821, 3.272698040735187, 3.165436430187257, 3.1209870293064337, 3.067278133026002, 3.0647631364028114, 2.972177273598528, 2.827824532946272, 2.771578261724379, 2.5373625867649654, 2.4915695543579512, 2.396738167179658, 2.3787870262065693, 2.339641519863465, 2.338214668966204, 6.0484160582322275, 9.369929789974883, 7.614748804823356, 7.424647033858721, 6.226077916637401, 5.254842424836178, 4.917060544855367, 4.393764044409616, 4.041776319993429, 3.979468857631151, 3.6099702338386974, 3.400074486952722, 3.304073390340046, 2.7154254299366416, 2.7015216974833436, 2.06016898555056, 1.9899672806855813, 1.8974931220877682, 1.7711932335959388, 1.7711932335959388, 1.7711932335959388, 1.7548132170903534, 1.7215143027999436, 1.6868881641899187, 1.6805397384419989, 1.6805397384419989, 1.6805397384419989, 1.6470333572095384, 1.5438730841252482, 1.5438730841252482, 1.5438730841252482, 2.533999663237467, 2.6795772107518023, 1.9457622491997522, 6.562941402189685, 4.942479843710686, 4.198674494091383, 4.147719998867868, 3.8936774915012284, 3.8936774915012284, 3.8936774915012284, 3.5295489191372327, 3.5295489191372327, 3.5295489191372327, 2.641071187956792, 2.5861679114504947, 2.5293462546194427, 2.0194954579963342, 1.9626675418235386, 1.906103813040201, 1.3431913893393455, 1.341264051680717, 1.287206433827928, 1.287206433827928, 1.287206433827928, 1.287206433827928, 1.287206433827928, 1.0567328302790193, 0.6682733331998421, 0.6682733331998421, 0.6682733331998421, 0.6682733331998421, 0.6682733331998421, 0.6682733331998421, 2.693771823687425, 0.8449452504294988, 0.6682747901155927, 2.3413663496759707, 1.801692691173679, 1.5064142361678252, 1.5064142361678252, 0.7733633092941801, 0.5599306283276438, 0.4007932358222791, 0.4007932358222791, 0.4007932358222791, 0.38083633890773466, 0.38083633890773466, 0.38083633890773466, 0.38083633890773466, 0.38083633890773466, 0.38083633890773466, 0.32384527126318735, 0.32384527126318735, 0.32384527126318735, 0.32384527126318735, 0.7534543241641203, 0.4736377589240344, 0.4007906607589436, 0.400670374088287, 0.4006094699387914, 0.4007906607589436, 0.40072484057944385, 0.40685282804403666, 0.4114015213617471, 0.028237400792438725, 0.028237400792438725, 0.41656822987997677, 0.02831743259042263], \"Total\": [50.0, 39.0, 32.0, 35.0, 33.0, 31.0, 22.0, 32.0, 42.0, 26.0, 21.0, 18.0, 18.0, 17.0, 18.0, 16.0, 9.0, 13.0, 12.0, 11.0, 16.0, 18.0, 13.0, 22.0, 12.0, 13.0, 7.0, 8.0, 8.0, 11.0, 42.96657837766176, 22.83153423472692, 17.552865282819027, 15.9859631684945, 15.756678568762796, 15.176884754603513, 14.314825559357129, 13.80298848648206, 13.275302074261381, 12.065959242497303, 11.689827983390984, 10.805572134130426, 10.052022146040382, 10.030349885154836, 9.852613413076522, 9.514191254246855, 8.822847812492123, 8.760746347838817, 8.602342517324574, 7.923345940313062, 7.897870585520074, 7.8815926815556985, 7.761373799437927, 7.522841471718188, 6.825692611294237, 6.771887409602923, 6.721924140089008, 6.647876781130988, 6.608940747547827, 6.5762791320815905, 9.360340773514825, 24.50482448538209, 11.754594133321836, 9.085311144223947, 10.053778684443703, 10.188287886688444, 12.063957111836125, 13.432764128200827, 39.752507218667354, 35.25587343189241, 33.740504599548544, 31.297934377762562, 26.574386883354176, 12.508361937332044, 10.805219376408514, 10.686644237994265, 9.928408128376194, 8.919663582008797, 6.8573859186724695, 6.49552619184852, 6.154004206250714, 6.102239221172678, 32.568046660865015, 6.049650014681087, 5.9774032206838035, 5.877831467608007, 5.854454180283026, 5.764989571132281, 5.687821867510081, 5.66764346439176, 5.665865716172943, 5.568424194916376, 5.118484537659658, 5.0500486121945, 4.860027908701968, 4.758465872773703, 50.524231261311684, 7.460127576530493, 10.781033354580673, 13.811614394560834, 15.097941356275717, 24.50482448538209, 32.73430605213714, 18.92601503154206, 18.29995506521979, 13.292731973287694, 12.935277934221833, 11.757565253823568, 10.56403120381781, 10.528016628988143, 9.279210844365423, 9.135951498129632, 8.732757292287372, 8.611007412649462, 8.409318271749745, 8.405870972251423, 7.481264403862273, 7.028557261762332, 6.98828461391232, 6.648804901887631, 6.468319713391817, 6.32461607477073, 6.195271399377891, 5.916415126491363, 5.807682622996137, 5.724273820649957, 5.719229648163196, 5.715352786556291, 5.6599679568219665, 5.4613816920279765, 5.3499740043804405, 5.174670331661073, 12.017195114025977, 13.94541900528828, 18.352670858922952, 9.667964326215417, 11.152724669708078, 9.590402312491971, 21.562586045461256, 18.505338247160612, 17.44490021988758, 16.687087872455777, 10.552518791651401, 9.167537409844114, 8.076031541113489, 8.013391645086378, 6.516757209123825, 6.403599518313052, 6.310087942956546, 6.010733043842398, 6.0009348598845085, 5.830718123627536, 5.757914600067567, 5.510294386637165, 4.857788117454657, 4.737343444033653, 4.724723228182824, 4.5366759213132966, 4.286842317625658, 4.268618291202729, 4.225459585171764, 4.210411038599601, 4.090024579329001, 4.072454126851434, 4.0327440354220805, 4.030711309649327, 4.00643044674739, 3.9223787998379387, 16.81305972962889, 18.352670858922952, 9.424319720752916, 6.948830201291158, 13.432764128200827, 8.845516585303283, 9.590402312491971, 7.1598330764746425, 6.435924467592971, 5.590878574389476, 5.155012366039048, 4.947658072983896, 4.947460445046367, 4.94724258599009, 4.796582978711038, 4.532101871676349, 4.16911941734832, 4.093988067255747, 4.093988067255747, 4.093713355202036, 3.9557417077759505, 3.8174215460209915, 3.8172857858361002, 3.81531523063892, 3.540759874011241, 3.5407426938463886, 3.4939531692324985, 3.2403099556562083, 3.2403099556562083, 3.240288142960221, 3.24028519891451, 3.24028519891451, 3.240272953911576, 3.239905299347604, 3.102069000848174, 3.1020525546459665, 3.101829320256304, 12.400110650124516, 8.749315121647726, 8.28657793678745, 7.111541554581589, 6.427560863217035, 6.28389098840102, 6.227176126900193, 5.9105416418599965, 5.800194974349259, 5.560197029841401, 5.379581010575253, 4.942138071931208, 4.776577000031708, 4.721579917603118, 4.62967567566146, 4.606824047708714, 4.536737845288451, 4.449943288032767, 4.371245847202453, 4.3268719001051865, 3.9714672329358907, 3.7522096526966076, 3.673820964585528, 3.5133143012123482, 3.512894342624296, 3.426308213312571, 3.4260954404088464, 3.3827917086277037, 3.312847904596961, 3.1806449933894516, 8.362601424519305, 5.67162661085914, 15.097941356275717, 11.152724669708078, 11.62039185581577, 13.811614394560834, 16.81305972962889, 22.870912597423207, 11.315857951822377, 8.430054078639817, 8.207040842209931, 7.288148750715616, 5.88941989715453, 5.485687043931632, 4.975047162821539, 4.891371684529479, 4.891371684529479, 4.78861248662832, 4.2251905335655975, 4.058855927952039, 4.037358458333253, 3.9821453130714914, 13.625800334771052, 3.884958861696593, 3.778638412750302, 3.733168919090381, 3.679423969650325, 3.6768670174248017, 3.5845355799950775, 3.439957148382388, 3.383665270735659, 3.1496692052995257, 3.1039209586402317, 3.0088451999671846, 2.9912548508725556, 2.9517439781750485, 2.950917069309824, 50.524231261311684, 9.984816897911449, 8.229861336096658, 8.039924679669952, 6.841178940142474, 5.869712855928766, 5.532321268854873, 5.008961188373527, 4.657016823185206, 4.5951150138200045, 4.225007455537537, 4.014915492373098, 3.9189046256617366, 3.3304867641678926, 3.3163511180248153, 2.675004352688534, 2.6051131103932486, 2.51287496324224, 2.3860226541374105, 2.3860226541374105, 2.3860226541374105, 2.3697393093411816, 2.337402363858886, 2.3017467653353414, 2.2953919767093964, 2.2953919767093964, 2.2953919767093964, 2.261959693947944, 2.1587198275556907, 2.1587198275556907, 2.1587198275556907, 3.874113755330696, 5.606481981204037, 13.94541900528828, 7.19337874387915, 5.572996125489813, 4.828703403202735, 4.777908392049655, 4.523656726743776, 4.523656726743776, 4.523656726743776, 4.159519249528177, 4.159519249528177, 4.159519249528177, 3.272102730541357, 3.2164401475750766, 3.1594979446769287, 2.6497987759357975, 2.592870071264218, 2.5360767738507386, 1.9736055145079088, 1.9722862587590044, 1.9171797850234422, 1.9171797850234422, 1.9171797850234422, 1.9171797850234422, 1.9171797850234422, 1.6874793725673927, 1.2982482402316857, 1.2982482402316857, 1.2982482402316857, 1.2982482402316857, 1.2982482402316857, 1.2982482402316857, 5.599294981286117, 2.5905648313924683, 2.079214538529516, 2.9929853451463218, 2.4531394758129577, 2.15771071876534, 2.15771071876534, 1.4246266242889591, 1.21125432990859, 1.0520565508170583, 1.0520565508170583, 1.0520565508170583, 1.0321637051622559, 1.0321637051622559, 1.0321637051622559, 1.0321637051622559, 1.0321637051622559, 1.0321637051622559, 0.9751085971665154, 0.9751085971665154, 0.9751085971665154, 0.9751085971665154, 3.874113755330696, 3.104904971578052, 3.080508207007784, 4.575923405598067, 4.683728656331996, 5.606481981204037, 6.287624111409211, 7.460127576530493, 9.274231009484758, 0.6818112657194569, 0.6818112657194569, 13.94541900528828, 3.039865007322155], \"Category\": [\"Default\", \"Default\", \"Default\", \"Default\", \"Default\", \"Default\", \"Default\", \"Default\", \"Default\", \"Default\", \"Default\", \"Default\", \"Default\", \"Default\", \"Default\", \"Default\", \"Default\", \"Default\", \"Default\", \"Default\", \"Default\", \"Default\", \"Default\", \"Default\", \"Default\", \"Default\", \"Default\", \"Default\", \"Default\", \"Default\", \"Topic1\", \"Topic1\", \"Topic1\", \"Topic1\", \"Topic1\", \"Topic1\", \"Topic1\", \"Topic1\", \"Topic1\", \"Topic1\", \"Topic1\", \"Topic1\", \"Topic1\", \"Topic1\", \"Topic1\", \"Topic1\", \"Topic1\", \"Topic1\", \"Topic1\", \"Topic1\", \"Topic1\", \"Topic1\", \"Topic1\", \"Topic1\", \"Topic1\", \"Topic1\", \"Topic1\", \"Topic1\", \"Topic1\", \"Topic1\", \"Topic1\", \"Topic1\", \"Topic1\", \"Topic1\", \"Topic1\", \"Topic1\", \"Topic1\", \"Topic1\", \"Topic2\", \"Topic2\", \"Topic2\", \"Topic2\", \"Topic2\", \"Topic2\", \"Topic2\", \"Topic2\", \"Topic2\", \"Topic2\", \"Topic2\", \"Topic2\", \"Topic2\", \"Topic2\", \"Topic2\", \"Topic2\", \"Topic2\", \"Topic2\", \"Topic2\", \"Topic2\", \"Topic2\", \"Topic2\", \"Topic2\", \"Topic2\", \"Topic2\", \"Topic2\", \"Topic2\", \"Topic2\", \"Topic2\", \"Topic2\", \"Topic2\", \"Topic2\", \"Topic2\", \"Topic2\", \"Topic3\", \"Topic3\", \"Topic3\", \"Topic3\", \"Topic3\", \"Topic3\", \"Topic3\", \"Topic3\", \"Topic3\", \"Topic3\", \"Topic3\", \"Topic3\", \"Topic3\", \"Topic3\", \"Topic3\", \"Topic3\", \"Topic3\", \"Topic3\", \"Topic3\", \"Topic3\", \"Topic3\", \"Topic3\", \"Topic3\", \"Topic3\", \"Topic3\", \"Topic3\", \"Topic3\", \"Topic3\", \"Topic3\", \"Topic3\", \"Topic3\", \"Topic3\", \"Topic3\", \"Topic3\", \"Topic3\", \"Topic3\", \"Topic4\", \"Topic4\", \"Topic4\", \"Topic4\", \"Topic4\", \"Topic4\", \"Topic4\", \"Topic4\", \"Topic4\", \"Topic4\", \"Topic4\", \"Topic4\", \"Topic4\", \"Topic4\", \"Topic4\", \"Topic4\", \"Topic4\", \"Topic4\", \"Topic4\", \"Topic4\", \"Topic4\", \"Topic4\", \"Topic4\", \"Topic4\", \"Topic4\", \"Topic4\", \"Topic4\", \"Topic4\", \"Topic4\", \"Topic4\", \"Topic4\", \"Topic4\", \"Topic4\", \"Topic4\", \"Topic4\", \"Topic4\", \"Topic4\", \"Topic5\", \"Topic5\", \"Topic5\", \"Topic5\", \"Topic5\", \"Topic5\", \"Topic5\", \"Topic5\", \"Topic5\", \"Topic5\", \"Topic5\", \"Topic5\", \"Topic5\", \"Topic5\", \"Topic5\", \"Topic5\", \"Topic5\", \"Topic5\", \"Topic5\", \"Topic5\", \"Topic5\", \"Topic5\", \"Topic5\", \"Topic5\", \"Topic5\", \"Topic5\", \"Topic5\", \"Topic5\", \"Topic5\", \"Topic5\", \"Topic6\", \"Topic6\", \"Topic6\", \"Topic6\", \"Topic6\", \"Topic6\", \"Topic6\", \"Topic6\", \"Topic6\", \"Topic6\", \"Topic6\", \"Topic6\", \"Topic6\", \"Topic6\", \"Topic6\", \"Topic6\", \"Topic6\", \"Topic6\", \"Topic6\", \"Topic6\", \"Topic6\", \"Topic6\", \"Topic6\", \"Topic6\", \"Topic6\", \"Topic6\", \"Topic6\", \"Topic6\", \"Topic6\", \"Topic6\", \"Topic6\", \"Topic6\", \"Topic6\", \"Topic6\", \"Topic6\", \"Topic6\", \"Topic6\", \"Topic7\", \"Topic7\", \"Topic7\", \"Topic7\", \"Topic7\", \"Topic7\", \"Topic7\", \"Topic7\", \"Topic7\", \"Topic7\", \"Topic7\", \"Topic7\", \"Topic7\", \"Topic7\", \"Topic7\", \"Topic7\", \"Topic7\", \"Topic7\", \"Topic7\", \"Topic7\", \"Topic7\", \"Topic7\", \"Topic7\", \"Topic7\", \"Topic7\", \"Topic7\", \"Topic7\", \"Topic7\", \"Topic7\", \"Topic7\", \"Topic7\", \"Topic8\", \"Topic8\", \"Topic8\", \"Topic8\", \"Topic8\", \"Topic8\", \"Topic8\", \"Topic8\", \"Topic8\", \"Topic8\", \"Topic8\", \"Topic8\", \"Topic8\", \"Topic8\", \"Topic8\", \"Topic8\", \"Topic8\", \"Topic8\", \"Topic8\", \"Topic8\", \"Topic8\", \"Topic8\", \"Topic8\", \"Topic8\", \"Topic8\", \"Topic8\", \"Topic8\", \"Topic8\", \"Topic8\", \"Topic8\", \"Topic8\", \"Topic8\", \"Topic8\", \"Topic9\", \"Topic9\", \"Topic9\", \"Topic9\", \"Topic9\", \"Topic9\", \"Topic9\", \"Topic9\", \"Topic9\", \"Topic9\", \"Topic9\", \"Topic9\", \"Topic9\", \"Topic9\", \"Topic9\", \"Topic9\", \"Topic9\", \"Topic9\", \"Topic9\", \"Topic9\", \"Topic9\", \"Topic9\", \"Topic9\", \"Topic9\", \"Topic9\", \"Topic9\", \"Topic9\", \"Topic9\", \"Topic9\", \"Topic9\", \"Topic9\", \"Topic9\", \"Topic9\", \"Topic10\", \"Topic10\", \"Topic10\", \"Topic10\", \"Topic10\", \"Topic10\", \"Topic10\", \"Topic10\", \"Topic10\", \"Topic10\", \"Topic10\", \"Topic10\", \"Topic10\", \"Topic10\", \"Topic10\", \"Topic10\", \"Topic10\", \"Topic10\", \"Topic10\", \"Topic10\", \"Topic10\", \"Topic10\", \"Topic10\", \"Topic10\", \"Topic10\", \"Topic10\", \"Topic10\", \"Topic10\", \"Topic10\", \"Topic10\", \"Topic10\", \"Topic10\"], \"logprob\": [30.0, 29.0, 28.0, 27.0, 26.0, 25.0, 24.0, 23.0, 22.0, 21.0, 20.0, 19.0, 18.0, 17.0, 16.0, 15.0, 14.0, 13.0, 12.0, 11.0, 10.0, 9.0, 8.0, 7.0, 6.0, 5.0, 4.0, 3.0, 2.0, 1.0, -3.6241, -4.2687, -4.5396, -4.6365, -4.6515, -4.6905, -4.7514, -4.7894, -4.8302, -4.9304, -4.9637, -5.0467, -5.1233, -5.1256, -5.1446, -5.1818, -5.2625, -5.27, -5.2896, -5.3781, -5.3816, -5.3838, -5.4005, -5.4343, -5.5403, -5.5489, -5.5574, -5.5692, -5.5756, -5.5811, -5.2645, -4.4302, -5.0885, -5.3175, -5.321, -5.3191, -5.2495, -5.2604, -3.1106, -3.2326, -3.2774, -3.3539, -3.5211, -4.3014, -4.4559, -4.4676, -4.5458, -4.6605, -4.9457, -5.0054, -5.0651, -5.0745, -3.4006, -5.0842, -5.0978, -5.1162, -5.1209, -5.1379, -5.153, -5.1569, -5.1573, -5.1768, -5.2719, -5.2872, -5.331, -5.3552, -2.9951, -4.9104, -4.6079, -4.6173, -4.5792, -5.1564, -3.1492, -3.7105, -3.7453, -4.0775, -4.106, -4.2062, -4.3192, -4.3228, -4.4571, -4.4737, -4.522, -4.537, -4.5625, -4.563, -4.6888, -4.7567, -4.763, -4.8174, -4.8477, -4.8724, -4.8952, -4.9462, -4.9668, -4.9829, -4.9839, -4.9847, -4.9955, -5.0355, -5.0585, -5.0961, -4.2759, -4.2136, -4.4212, -4.775, -4.8024, -4.9403, -3.4404, -3.598, -3.6591, -3.7051, -4.1854, -4.3352, -4.4715, -4.4799, -4.7054, -4.7247, -4.741, -4.7949, -4.7967, -4.8287, -4.8428, -4.8919, -5.0346, -5.0633, -5.0664, -5.113, -5.1786, -5.1835, -5.1954, -5.1996, -5.2334, -5.2385, -5.25, -5.2506, -5.2577, -5.2827, -4.0053, -4.3044, -4.7361, -5.0363, -4.9416, -5.0581, -5.1691, -4.5002, -4.6175, -4.7743, -4.8661, -4.9128, -4.9129, -4.913, -4.9486, -5.0138, -5.1111, -5.1324, -5.1324, -5.1325, -5.1729, -5.2153, -5.2153, -5.2161, -5.3057, -5.3057, -5.3219, -5.4141, -5.4141, -5.4141, -5.4141, -5.4141, -5.4141, -5.4143, -5.4682, -5.4682, -5.4684, -3.8793, -4.2496, -4.3082, -4.4742, -4.5853, -4.6102, -4.6202, -4.6782, -4.6992, -4.7466, -4.7836, -4.8797, -4.9186, -4.9319, -4.9545, -4.9601, -4.9779, -5.0003, -5.0209, -5.0327, -5.133, -5.2003, -5.2256, -5.2793, -5.2795, -5.3097, -5.3098, -5.3254, -5.3507, -5.4008, -4.6118, -4.9732, -4.6332, -4.8459, -4.837, -4.8208, -4.8717, -3.1131, -3.8452, -4.1594, -4.1883, -4.3173, -4.5524, -4.6321, -4.7427, -4.762, -4.762, -4.7866, -4.9313, -4.9784, -4.9847, -5.001, -3.7736, -5.0302, -5.0635, -5.0776, -5.095, -5.0958, -5.1265, -5.1763, -5.1964, -5.2847, -5.3029, -5.3417, -5.3492, -5.3658, -5.3664, -4.416, -3.5811, -3.7885, -3.8138, -3.9899, -4.1595, -4.2259, -4.3384, -4.4219, -4.4375, -4.5349, -4.5948, -4.6235, -4.8197, -4.8248, -5.0958, -5.1305, -5.1781, -5.247, -5.247, -5.247, -5.2562, -5.2754, -5.2957, -5.2995, -5.2995, -5.2995, -5.3196, -5.3843, -5.3843, -5.3843, -4.8888, -4.833, -5.153, -3.5642, -3.8478, -4.0109, -4.0231, -4.0863, -4.0863, -4.0863, -4.1845, -4.1845, -4.1845, -4.4745, -4.4955, -4.5177, -4.7428, -4.7714, -4.8006, -5.1506, -5.1521, -5.1932, -5.1932, -5.1932, -5.1932, -5.1932, -5.3905, -5.8487, -5.8487, -5.8487, -5.8487, -5.8487, -5.8487, -4.4547, -5.6142, -5.8487, -3.5775, -3.8395, -4.0185, -4.0185, -4.6853, -5.0082, -5.3426, -5.3426, -5.3426, -5.3937, -5.3937, -5.3937, -5.3937, -5.3937, -5.3937, -5.5558, -5.5558, -5.5558, -5.5558, -4.7114, -5.1756, -5.3426, -5.3429, -5.343, -5.3426, -5.3428, -5.3276, -5.3165, -7.9954, -7.9954, -5.304, -7.9925], \"loglift\": [30.0, 29.0, 28.0, 27.0, 26.0, 25.0, 24.0, 23.0, 22.0, 21.0, 20.0, 19.0, 18.0, 17.0, 16.0, 15.0, 14.0, 13.0, 12.0, 11.0, 10.0, 9.0, 8.0, 7.0, 6.0, 5.0, 4.0, 3.0, 2.0, 1.0, 1.3451, 1.3327, 1.3247, 1.3213, 1.3208, 1.3193, 1.3168, 1.3153, 1.3135, 1.3088, 1.3072, 1.3028, 1.2985, 1.2983, 1.2972, 1.295, 1.2898, 1.2893, 1.2879, 1.2816, 1.2813, 1.2812, 1.2799, 1.2773, 1.2686, 1.2679, 1.2668, 1.2661, 1.2655, 1.265, 1.2286, 1.1005, 1.1768, 1.2054, 1.1007, 1.0892, 0.9899, 0.8715, 1.9363, 1.9343, 1.9335, 1.9321, 1.9285, 1.9017, 1.8936, 1.8929, 1.8883, 1.8808, 1.8585, 1.8531, 1.8473, 1.8464, 1.8456, 1.8454, 1.8438, 1.8421, 1.8414, 1.8399, 1.8382, 1.8379, 1.8378, 1.8357, 1.8248, 1.8229, 1.8175, 1.8144, 1.812, 1.8095, 1.7439, 1.4868, 1.4358, 0.3743, 2.0919, 2.0785, 2.0774, 2.0648, 2.0636, 2.0588, 2.0529, 2.0527, 2.0447, 2.0436, 2.0405, 2.0395, 2.0377, 2.0377, 2.0284, 2.0229, 2.0223, 2.0177, 2.015, 2.0127, 2.0106, 2.0056, 2.0036, 2.0019, 2.0018, 2.0017, 2.0006, 1.9964, 1.9939, 1.9897, 1.9673, 1.8808, 1.3986, 1.6857, 1.5155, 1.5285, 2.2182, 2.2135, 2.2114, 2.2098, 2.1878, 2.1787, 2.1692, 2.1685, 2.1497, 2.1479, 2.1464, 2.1411, 2.1409, 2.1377, 2.1362, 2.131, 2.1144, 2.1108, 2.1104, 2.1044, 2.0955, 2.0947, 2.0931, 2.0924, 2.0876, 2.0868, 2.0851, 2.0851, 2.0839, 2.0802, 1.9021, 1.5154, 1.7501, 1.7547, 1.1903, 1.4916, 1.2997, 2.2609, 2.2501, 2.2341, 2.2235, 2.2178, 2.2178, 2.2178, 2.2131, 2.2046, 2.1908, 2.1877, 2.1877, 2.1876, 2.1814, 2.1747, 2.1747, 2.1744, 2.1596, 2.1595, 2.1566, 2.1398, 2.1398, 2.1398, 2.1398, 2.1398, 2.1398, 2.1397, 2.1293, 2.1293, 2.1292, 2.3325, 2.311, 2.3067, 2.2937, 2.2836, 2.2814, 2.2804, 2.2746, 2.2724, 2.2673, 2.2633, 2.2521, 2.2472, 2.2455, 2.2426, 2.2419, 2.2395, 2.2364, 2.2336, 2.232, 2.2174, 2.2069, 2.2027, 2.1937, 2.1936, 2.1884, 2.1883, 2.1854, 2.1811, 2.1717, 1.994, 2.0209, 1.3818, 1.472, 1.4398, 1.2833, 1.0357, 2.4866, 2.4582, 2.4384, 2.4363, 2.426, 2.404, 2.3953, 2.3824, 2.3801, 2.3801, 2.3768, 2.3572, 2.3503, 2.3493, 2.3468, 2.344, 2.3423, 2.3367, 2.3347, 2.3318, 2.3317, 2.3264, 2.3178, 2.3142, 2.2976, 2.294, 2.2863, 2.2847, 2.2814, 2.281, 0.3911, 2.8474, 2.8333, 2.8313, 2.8167, 2.8003, 2.7931, 2.7799, 2.7693, 2.7671, 2.7536, 2.7447, 2.7403, 2.7068, 2.7059, 2.6498, 2.6416, 2.6301, 2.613, 2.613, 2.613, 2.6105, 2.6051, 2.6002, 2.5992, 2.5992, 2.5992, 2.5937, 2.5757, 2.5757, 2.5757, 2.4864, 2.1727, 0.9415, 3.1922, 3.1638, 3.1441, 3.1424, 3.1339, 3.1339, 3.1339, 3.1196, 3.1196, 3.1196, 3.0696, 3.0658, 3.0614, 3.0122, 3.0054, 2.9983, 2.8991, 2.8983, 2.8855, 2.8855, 2.8855, 2.8855, 2.8855, 2.8158, 2.6198, 2.6198, 2.6198, 2.6198, 2.6198, 2.6198, 2.5522, 2.1635, 2.1488, 4.0558, 3.9926, 3.942, 3.942, 3.6904, 3.5297, 3.3362, 3.3362, 3.3362, 3.3042, 3.3042, 3.3042, 3.3042, 3.3042, 3.3042, 3.199, 3.199, 3.199, 3.199, 2.6639, 2.421, 2.2619, 1.8659, 1.8424, 1.663, 1.5482, 1.3924, 1.1859, 1.1172, 1.1172, 0.7904, -0.3748]}, \"token.table\": {\"Topic\": [9, 4, 6, 8, 10, 9, 5, 4, 8, 1, 3, 8, 8, 3, 2, 1, 2, 1, 1, 9, 9, 2, 3, 1, 9, 9, 3, 9, 9, 4, 1, 7, 6, 5, 5, 9, 4, 8, 2, 6, 8, 6, 8, 7, 8, 3, 3, 1, 3, 8, 2, 2, 4, 6, 8, 10, 2, 1, 4, 7, 4, 3, 9, 9, 6, 3, 4, 3, 4, 8, 1, 5, 3, 3, 8, 6, 2, 1, 2, 2, 1, 7, 4, 2, 7, 10, 3, 4, 4, 7, 4, 7, 5, 5, 3, 10, 3, 6, 5, 6, 1, 4, 7, 8, 4, 6, 7, 3, 8, 5, 9, 1, 4, 6, 1, 6, 7, 4, 3, 3, 8, 5, 1, 4, 9, 3, 3, 4, 8, 1, 9, 1, 4, 7, 4, 6, 8, 6, 4, 3, 4, 2, 8, 2, 2, 7, 9, 9, 5, 1, 2, 7, 4, 5, 6, 2, 6, 4, 3, 6, 4, 4, 5, 5, 6, 3, 3, 1, 3, 5, 9, 4, 4, 9, 5, 9, 7, 4, 6, 2, 6, 4, 5, 2, 6, 7, 2, 3, 1, 2, 6, 10, 3, 5, 3, 8, 3, 6, 1, 6, 5, 8, 8, 8, 3, 7, 2, 5, 5, 2, 5, 3, 8, 9, 5, 6, 7, 8, 10, 6, 9, 6, 4, 7, 5, 3, 9, 9, 9, 1, 8, 8, 1, 4, 3, 6, 1, 2, 2, 6, 7, 3, 2, 2, 7, 3, 4, 6, 1, 2, 1, 2, 2, 3, 1, 5, 5, 8, 7, 7, 4, 3, 4, 6, 3, 4, 7, 1, 7, 6, 5, 6, 6, 5, 7, 3, 3, 4, 5, 2, 9, 7, 7, 8, 4, 1, 9, 9, 1, 1, 9, 4, 6, 2, 2, 2, 6, 7, 1, 9, 8, 1, 6, 1, 4, 2, 2, 7, 4, 1, 8, 1, 6, 2, 1, 2, 7, 8, 9, 1, 8, 3, 7, 9, 5, 3, 8, 5, 8, 7, 6, 5, 1, 2, 8, 1, 8, 6, 1, 4, 2, 6, 1, 2, 9, 10, 6, 1, 9, 4, 5], \"Freq\": [0.7702687121082018, 0.8667623404347019, 0.9244553784693186, 0.8770418158182315, 0.926908311946662, 0.9616495945904634, 0.9258435878666329, 0.868369947678857, 0.9264750221266979, 0.9792620858854018, 0.9345839803905795, 0.9007692305750798, 0.8713108786182736, 0.8536602572254732, 0.99048070156431, 0.7753575224068266, 0.2040414532649544, 0.6579239522750447, 0.8834651487807461, 0.7702687121082018, 0.7702687121082018, 0.867304257589137, 0.9684805738458045, 0.8926015639207364, 0.7702687121082018, 0.9327081687690492, 0.9517157741783997, 0.7702687121082018, 0.7702687121082018, 0.8466104376527555, 0.9304994696905698, 0.6777554072259206, 0.9677333000153109, 0.6447808030374605, 0.357187825732413, 0.5357817385986194, 0.8318452946637136, 0.8382150087854197, 0.5961077598343563, 0.3974051732229042, 0.903779762059072, 0.32462176134610543, 0.32462176134610543, 0.9720871406156606, 0.8689053157889939, 0.9851190652492556, 0.858579799119109, 0.978007027885063, 0.8609285879710382, 0.7472137348093443, 0.896894812954181, 0.8364836393667299, 0.1783649717153362, 0.1783649717153362, 0.5350949151460086, 0.926908311946662, 0.8042757899846051, 0.9131642079756727, 0.9207033202955089, 0.7430601050069983, 0.7442855043520844, 0.9513256296738335, 0.8971834696117876, 0.9616495945904634, 0.8471740539828829, 0.31832536340992557, 0.6366507268198511, 0.31808517248524754, 0.4771277587278713, 0.15904258624262377, 0.945955337610295, 0.9594352187071954, 0.6441420972003243, 0.9275979335990115, 0.9264750221266979, 0.9654166123852869, 0.978052948278715, 0.9685028470331747, 0.8822008708581655, 0.8979200982146239, 0.9254484515830541, 0.8489800502110143, 0.9370713723088502, 0.9237126943664126, 0.8177665199010073, 0.8255904439784064, 0.969910065732048, 0.9500260101280789, 0.7334919245136107, 0.8369285038604972, 0.9726922988160916, 0.8159120212351697, 0.7863046219375206, 0.7327818134093729, 0.8833972273594753, 0.701938306466164, 0.9486741849729594, 0.9548224199106837, 0.7858987166041879, 0.8538945687167193, 0.45220648917734785, 0.45220648917734785, 0.7722089491289685, 0.8713108786182736, 0.8332035119101806, 0.14678036892235183, 0.8072920290729351, 0.9779780428977316, 0.7476623348256927, 0.8943138244682768, 0.8842403925903733, 0.9116556569540772, 0.7137308849770483, 0.23791029499234945, 0.9078610671802788, 0.8165885134085332, 0.960463382324994, 0.9508583801430734, 0.8734732398654332, 0.9356707131465885, 0.767720983791792, 0.9258373553935083, 0.8860159121209927, 0.7439103433416919, 0.5925998363337405, 0.9466083360664468, 0.43707025287032814, 0.21853512643516407, 0.9046086778009107, 0.879031673660781, 0.7886196587665727, 0.7852153461871094, 0.19630383654677735, 0.8036068190375312, 0.9073925364360453, 0.9143572826867608, 0.9467438914829299, 0.8868414784003976, 0.8234200222993436, 0.49039183828790006, 0.49039183828790006, 0.8824776742815733, 0.9264750221266979, 0.874968985435422, 0.8708692621651517, 0.11875489938615706, 0.5215994909876293, 0.5215994909876293, 0.8084955997990828, 0.9418250267129857, 0.9768516370836137, 0.6443463047706478, 0.9369730231944026, 0.847275756263407, 0.9055652678280678, 0.8406070584401197, 0.8459461590776549, 0.7648419882658838, 0.537985127194667, 0.35865675146311127, 0.844355079435441, 0.736656548251757, 0.9258444290659955, 0.8084633054659797, 0.8093662989138112, 0.9024178162148461, 0.8748366350649515, 0.9134632226668995, 0.9155192370638626, 0.8825926939105777, 0.5215994909876293, 0.9466425886635005, 0.8735377365827658, 0.5215994909876293, 0.48095085017404243, 0.48095085017404243, 0.9467028689530927, 0.7487962264353153, 0.8620399869507773, 0.17631626138528883, 0.7052650455411553, 0.9739091570799934, 0.925847927835362, 0.8790711306486143, 0.929440413699679, 0.7939367762411631, 0.9064897296352344, 0.8451063512450269, 0.8953422375362765, 0.7920715832994326, 0.8988878601570498, 0.8152818132516539, 0.9276955671940034, 0.8339269888071237, 0.7887894939426818, 0.14341627162594217, 0.8742436145409572, 0.8639914067908233, 0.9067367101893035, 0.9432049179443484, 0.9699297780427723, 0.9013685570821589, 0.8439746904295672, 0.8704896369230867, 0.9510718431746584, 0.8866125222096084, 0.8264940926939853, 0.8085312030842088, 0.9776764241892996, 0.9357474411328266, 0.7328309873449705, 0.8321409368088241, 0.08321409368088241, 0.8842403925903733, 0.6447344023893423, 0.8539966498846817, 0.9747727778878482, 0.7743706533841618, 0.25812355112805396, 0.9843154182921523, 0.9495179463732052, 0.8374197673299201, 0.9817249276055081, 0.7533627640740345, 0.8586262765104539, 0.9160909587016083, 0.8283797255691702, 0.9731171191224017, 0.8371864154314722, 0.8881453638655067, 0.8841890531255537, 0.8556507133406597, 0.6631323309456301, 0.24867462410461125, 0.9498465240324292, 0.8756323494718526, 0.8507312023349299, 0.085073120233493, 0.23916002909524808, 0.7174800872857443, 0.8353150335654774, 0.9662451285848381, 0.9927423885161515, 0.9749749592152879, 0.8153450172487477, 0.5213545623093677, 0.4170836498474942, 0.7553883298143851, 0.0921148274945489, 0.890443332447306, 0.8805422151211694, 0.11006777689014617, 0.9783856957499943, 0.9836089725821309, 0.9519772796366557, 0.7327818134093729, 0.7583912756747456, 0.8706549226388224, 0.8721038869367096, 0.9619205139404307, 0.9330877376930135, 0.5391282570906956, 0.32347695425441736, 0.10782565141813912, 0.8540204383087705, 0.8817028303053357, 0.6686157147113679, 0.8546697383749188, 0.10683371729686485, 0.9334800755191857, 0.7858707674364616, 0.9150709293918926, 0.8992487088434382, 0.9258373553935083, 0.8177665199010073, 0.9290434459791662, 0.6206063445776838, 0.3103031722888419, 0.9258444290659955, 0.38601620306197265, 0.38601620306197265, 0.6647068450121039, 0.6775655391483255, 0.9720698409475659, 0.8575273052111271, 0.9383231927846764, 0.9168416296953065, 0.5070257907841516, 0.9299792450589482, 0.8863148521113746, 0.506686869614537, 0.9476410511499372, 0.8755779729166823, 0.8540505820063111, 0.9810701947797148, 0.6516254901776217, 0.36201416120978985, 0.9489856085586101, 0.9123700316687773, 0.9616495945904634, 0.7985687749556811, 0.9019021865055559, 0.8682771381271814, 0.5955587341256705, 0.37222420882854407, 0.9254786646750937, 0.8193713518558423, 0.9114628596122872, 0.9744968320666929, 0.977503948088073, 0.7959011209294304, 0.6023893244612609, 0.4302780889009007, 0.8230405411536685, 0.8972767752917793, 0.9593582325264507, 0.9524809763997764, 0.8382150087854197, 0.7547742938682898, 0.9025438042158227, 0.8382150087854197, 0.9775676914926015, 0.8040124784930576, 0.7713460162023662, 0.8472798673605487, 0.9355678461085124, 0.7655200334183758, 0.9322670006790793, 0.8589189500209206, 0.7391245349064898, 0.7995288850248504, 0.6447309842086543, 0.795720718656605, 0.19893017966415125, 0.8713108786182736, 0.9409890389857662, 0.8518304255632704, 0.9635185961869882, 0.2878182286895399, 0.5756364573790798, 0.8347993836950757, 0.09275548707723062, 0.9635795726131208, 0.8506538555170174, 0.8842403925903733, 0.66822913224195, 0.8816907955468772, 0.988345121053261, 0.5215994909876293, 0.9588251780234281, 0.92595299023218], \"Term\": [\"aca\", \"academi\", \"acceler\", \"achiev\", \"adob\", \"advanc_ani\", \"aid\", \"algorithm\", \"allahveran\", \"also\", \"altern\", \"amazon\", \"amount\", \"analysi\", \"analyst\", \"analyt\", \"analyt\", \"anar\", \"ani\", \"anlad\", \"anlam\", \"announc\", \"anoth\", \"app\", \"armak\", \"art\", \"articl\", \"asla\", \"atmakt\", \"azur\", \"becom\", \"best\", \"bil\", \"bilikl\", \"bir\", \"bir\", \"bit\", \"brent\", \"busi\", \"busi\", \"case\", \"cbc\", \"cbc\", \"certif\", \"certifi\", \"challeng\", \"chang\", \"chatgpt\", \"check\", \"cloud\", \"code\", \"com\", \"comment\", \"comment\", \"comment\", \"commerc\", \"compani\", \"complet\", \"complex\", \"comput\", \"concept\", \"confer\", \"connect\", \"connect_advic\", \"core\", \"cours\", \"cours\", \"covid\", \"covid\", \"covid\", \"creat\", \"credit\", \"crisi\", \"crypto\", \"daa\", \"daha\", \"data\", \"data_scienc\", \"data_scientist\", \"databas\", \"datasci\", \"datasci_machinelearn\", \"datascientist\", \"day\", \"daysofdata\", \"debt\", \"dedic\", \"deeplearn\", \"definit\", \"design\", \"develop\", \"differ\", \"dig\", \"dili\", \"discus\", \"dsrtsz\", \"dure\", \"econom\", \"edil\", \"edir\", \"educ\", \"educ\", \"effici\", \"electr\", \"end\", \"engin\", \"engin\", \"english\", \"epam\", \"etm\", \"everyon_look\", \"excit\", \"experi\", \"experi\", \"extens\", \"final\", \"find\", \"finish\", \"fintech\", \"first\", \"forecast\", \"forma\", \"free\", \"front\", \"frontend\", \"futur\", \"gave\", \"gave\", \"gdg_russia\", \"gener\", \"ger\", \"get\", \"get\", \"github\", \"give\", \"global\", \"googl\", \"govern\", \"gradient\", \"great\", \"great\", \"growth\", \"haciyev\", \"happi\", \"happi_share\", \"happi_share\", \"hayal\", \"hayatta\", \"haz\", \"help\", \"hire\", \"hope\", \"html\", \"ich\", \"imag\", \"implement\", \"import\", \"improv\", \"includ\", \"includ\", \"industri\", \"inform\", \"ingili\", \"inki\", \"insight\", \"insurtech\", \"interest\", \"intern\", \"invest\", \"ist\", \"istedi\", \"javascript\", \"knowledg\", \"kolay\", \"lad\", \"lad\", \"languag\", \"last\", \"layih\", \"leader\", \"leader\", \"learn\", \"lif\", \"like\", \"linkedin\", \"linux\", \"look\", \"lot\", \"machin_learn\", \"machinelearn\", \"made\", \"magento\", \"manag\", \"mani\", \"market\", \"market\", \"may\", \"medic\", \"meet\", \"member\", \"mentor\", \"microsoft\", \"million\", \"mobil\", \"model\", \"mongodb\", \"month\", \"namiz\", \"nda\", \"need\", \"net\", \"new\", \"new\", \"new_role\", \"nil\", \"nvan\", \"obtain_new\", \"oil\", \"oil\", \"olan\", \"oldu\", \"olma\", \"one\", \"onli\", \"onlin\", \"open\", \"opentowork\", \"opportun\", \"opportun_offer\", \"organ\", \"oval\", \"pandem\", \"part\", \"part\", \"particip\", \"payla\", \"peopl\", \"peopl\", \"peopl_analyt\", \"peopl_analyt\", \"platform\", \"plea\", \"posit\", \"posit_junior\", \"postgresql\", \"present\", \"present\", \"print\", \"product\", \"product\", \"profession\", \"profession\", \"profi\", \"program\", \"project\", \"proqram\", \"proqramla\", \"provid\", \"pypi\", \"python\", \"queri\", \"recent\", \"recent\", \"recent\", \"recess\", \"regress\", \"repo\", \"research\", \"research\", \"resourc\", \"rin\", \"rind\", \"rini\", \"rlanma\", \"round\", \"russia\", \"russian\", \"russian\", \"sah\", \"sberbank\", \"sberbank\", \"section\", \"senior\", \"servic\", \"set\", \"share\", \"sin\", \"sizin\", \"skill\", \"softwar\", \"sonra\", \"sql\", \"stage\", \"start\", \"start_new\", \"startup\", \"startup\", \"statist\", \"student\", \"support_thank\", \"system\", \"take\", \"talent\", \"team\", \"team\", \"tech\", \"technolog\", \"test\", \"thank\", \"thi\", \"think\", \"time\", \"time\", \"tool\", \"topic\", \"train\", \"tri\", \"uncertainti\", \"unu\", \"updat\", \"usd\", \"use\", \"valu\", \"var\", \"vergi\", \"veri\", \"verifi\", \"video\", \"view\", \"vision\", \"vue\", \"vzu\", \"want\", \"want\", \"water\", \"way\", \"web\", \"webinar\", \"week\", \"week\", \"well\", \"well\", \"work\", \"would\", \"would_appreci\", \"write\", \"xahi\", \"xgboost\", \"yapmak\", \"year\", \"yeni\"]}, \"R\": 30, \"lambda.step\": 0.01, \"plot.opts\": {\"xlab\": \"PC1\", \"ylab\": \"PC2\"}, \"topic.order\": [10, 2, 1, 9, 6, 3, 4, 7, 5, 8]};\n",
       "\n",
       "function LDAvis_load_lib(url, callback){\n",
       "  var s = document.createElement('script');\n",
       "  s.src = url;\n",
       "  s.async = true;\n",
       "  s.onreadystatechange = s.onload = callback;\n",
       "  s.onerror = function(){console.warn(\"failed to load library \" + url);};\n",
       "  document.getElementsByTagName(\"head\")[0].appendChild(s);\n",
       "}\n",
       "\n",
       "if(typeof(LDAvis) !== \"undefined\"){\n",
       "   // already loaded: just create the visualization\n",
       "   !function(LDAvis){\n",
       "       new LDAvis(\"#\" + \"ldavis_el431651403965611604484152817691\", ldavis_el431651403965611604484152817691_data);\n",
       "   }(LDAvis);\n",
       "}else if(typeof define === \"function\" && define.amd){\n",
       "   // require.js is available: use it to load d3/LDAvis\n",
       "   require.config({paths: {d3: \"https://d3js.org/d3.v5\"}});\n",
       "   require([\"d3\"], function(d3){\n",
       "      window.d3 = d3;\n",
       "      LDAvis_load_lib(\"https://cdn.jsdelivr.net/gh/bmabey/pyLDAvis@3.3.1/pyLDAvis/js/ldavis.v3.0.0.js\", function(){\n",
       "        new LDAvis(\"#\" + \"ldavis_el431651403965611604484152817691\", ldavis_el431651403965611604484152817691_data);\n",
       "      });\n",
       "    });\n",
       "}else{\n",
       "    // require.js not available: dynamically load d3 & LDAvis\n",
       "    LDAvis_load_lib(\"https://d3js.org/d3.v5.js\", function(){\n",
       "         LDAvis_load_lib(\"https://cdn.jsdelivr.net/gh/bmabey/pyLDAvis@3.3.1/pyLDAvis/js/ldavis.v3.0.0.js\", function(){\n",
       "                 new LDAvis(\"#\" + \"ldavis_el431651403965611604484152817691\", ldavis_el431651403965611604484152817691_data);\n",
       "            })\n",
       "         });\n",
       "}\n",
       "</script>"
      ],
      "text/plain": [
       "PreparedData(topic_coordinates=              x         y  topics  cluster       Freq\n",
       "topic                                                \n",
       "9      0.021781  0.301437       1        1  25.695271\n",
       "1     -0.311794 -0.019887       2        1  14.202612\n",
       "0      0.093419 -0.073589       3        1  12.124046\n",
       "8      0.090707  0.010806       4        1  10.577086\n",
       "5      0.065649 -0.115856       5        1   9.527307\n",
       "2     -0.039442 -0.038138       6        1   9.231576\n",
       "3     -0.000515 -0.041873       7        1   8.096304\n",
       "6      0.038171 -0.016422       8        1   5.442414\n",
       "4      0.023538 -0.008949       9        1   3.748274\n",
       "7      0.018486  0.002470      10        1   1.355110, topic_info=             Term       Freq      Total Category  logprob  loglift\n",
       "384   happi_share  50.000000  50.000000  Default  30.0000  30.0000\n",
       "386     start_new  39.000000  39.000000  Default  29.0000  29.0000\n",
       "81            use  32.000000  32.000000  Default  28.0000  28.0000\n",
       "385         posit  35.000000  35.000000  Default  27.0000  27.0000\n",
       "381          data  33.000000  33.000000  Default  26.0000  26.0000\n",
       "...           ...        ...        ...      ...      ...      ...\n",
       "146        recent   0.411402   9.274231  Topic10  -5.3165   1.1859\n",
       "377    makushenko   0.028237   0.681811  Topic10  -7.9954   1.1172\n",
       "378          olga   0.028237   0.681811  Topic10  -7.9954   1.1172\n",
       "140        market   0.416568  13.945419  Topic10  -5.3040   0.7904\n",
       "1909         anar   0.028317   3.039865  Topic10  -7.9925  -0.3748\n",
       "\n",
       "[371 rows x 6 columns], token_table=      Topic      Freq     Term\n",
       "term                          \n",
       "1919      9  0.770269      aca\n",
       "1504      4  0.866762  academi\n",
       "477       6  0.924455  acceler\n",
       "373       8  0.877042   achiev\n",
       "1483     10  0.926908     adob\n",
       "...     ...       ...      ...\n",
       "1561      6  0.881691     xahi\n",
       "1838      1  0.988345  xgboost\n",
       "1984      9  0.521599   yapmak\n",
       "132       4  0.958825     year\n",
       "2226      5  0.925953     yeni\n",
       "\n",
       "[351 rows x 3 columns], R=30, lambda_step=0.01, plot_opts={'xlab': 'PC1', 'ylab': 'PC2'}, topic_order=[10, 2, 1, 9, 6, 3, 4, 7, 5, 8])"
      ]
     },
     "execution_count": 86,
     "metadata": {},
     "output_type": "execute_result"
    }
   ],
   "source": [
    "# Visualize the topics\n",
    "pyLDAvis.enable_notebook()\n",
    "vis = pyLDAvis.gensim_models.prepare(lda_model, corpus, id2word) \n",
    "vis"
   ]
  },
  {
   "attachments": {},
   "cell_type": "markdown",
   "metadata": {},
   "source": [
    "#### <a id='toc1_1_3_5_'></a>[Топ-10 тем по ключевым словам (англ)](#toc0_)\n",
    "\n",
    "Темы расположены по частоте встречаемости в публикациях.\n",
    "\n",
    "**Тема 1: Рассказы о проектах**\n",
    "\n",
    "*Ключевые слова:* work, analytics, data science, project, xgboost, chatgpt, help, machin learning, intern, team, research\n",
    "\n",
    "Рассказы о своих исследовательских проектах в области анализа данных и data science, также упоминание инструментов машинного обучения (xgboost).\n",
    "\n",
    "**Тема 2: Личный профессиональный рост**\n",
    "\n",
    "*Ключевые слова:* start new position, data, analyst, product, profi, train, teach, data scientist, growth, junior position\n",
    "\n",
    "Истории о личном профессиональном росте, начале своей карьеры.\n",
    "\n",
    "**Тема 3: Финтех сфера**\n",
    "\n",
    "*Ключевые слова:* fintech, crypto, conference, participation, market, challenge, future, model, program, use\n",
    "\n",
    "Публикации, связанные с финтех сферой, криптовалюте, рынках, участиях в конференциях\n",
    "\n",
    "**Тема 4: Возможности обучения**\n",
    "\n",
    "*Ключевые слова:* learn, develop, experience, knowledge, academic, sql,  course, finish, education, team, algorithm, data scientist\n",
    "\n",
    "Рассказы о возможностях обучения, развития навыков, получения опыта в сфере data science. Также упоминаются отдельные курсы, возможности по изучению SQL.\n",
    "\n",
    "**Тема 5:** –\n",
    "\n",
    "*Ключевые слова:* - \n",
    "\n",
    "В этой теме алгоритм собрал слова, которые не относятся к английскому языку. Видимо, некоторые авторы писали не только на английском, либо дублировали свои текты на других языках. \n",
    "\n",
    "**Тема 6: Полезные ресурсы**\n",
    "\n",
    "*Ключевые слова:* people analysts, webinar, important, insight, core, talent, leader, acceleration, global, resource \n",
    "\n",
    "Рассказы о вебинарах, возможностях по акселерации, о талантривых людях в сфере аналитики. Делятся важными ресурсами, своими инсайтами и проч.\n",
    "\n",
    "**Тема 7: Возможности повышения квалификации**\n",
    "\n",
    "*Ключевые слова:* python, engine, certificate, statistics, obtain new, happy share, data science, machine learning, platform, language, vision, github, repro, senior\n",
    "\n",
    "Делятся информацией о возможностях повысить квалификацию, получить новые навыки и сертификаты в сфере data science и machine learning. Также по-видимому делятся платформами для изучения языков програмирования.\n",
    "\n",
    "**Тема 8: Крупные игроки на рынке**\n",
    "\n",
    "*Ключевые слова:* Microsoft, Google, Amazon, provide, achieved, forecast, market, uncertainty, pandemic, usd, million \n",
    "\n",
    "Тема посвящена обсуждению крупных игроков на рынке IT (они же работадатели) Microsoft, Google, Amazon, а также рынку, нестабильности на рынке. Делятся своими прогнозами.\n",
    "\n",
    "**Тема 9-10: Поиск работы**\n",
    "\n",
    "*Ключевые слова:* opportunity, connect, open to work, opportunity offer, everyone look, new offer, advanced analytics, frontend\n",
    "\n",
    "Темы 9 и 10 модель не смогла разделить. В этих темах собраны публикации, связанные с поиском работы, вакансий в сфере data science и data analytics.\n"
   ]
  },
  {
   "attachments": {},
   "cell_type": "markdown",
   "metadata": {},
   "source": [
    "### <a id='toc1_1_4_'></a>[Подготовка данных для языковой модели по самым популярным постам](#toc0_)\n",
    "\n",
    "Популярность постов определялась по количеству реакций."
   ]
  },
  {
   "cell_type": "code",
   "execution_count": 87,
   "metadata": {},
   "outputs": [
    {
     "data": {
      "text/html": [
       "<div>\n",
       "<style scoped>\n",
       "    .dataframe tbody tr th:only-of-type {\n",
       "        vertical-align: middle;\n",
       "    }\n",
       "\n",
       "    .dataframe tbody tr th {\n",
       "        vertical-align: top;\n",
       "    }\n",
       "\n",
       "    .dataframe thead th {\n",
       "        text-align: right;\n",
       "    }\n",
       "</style>\n",
       "<table border=\"1\" class=\"dataframe\">\n",
       "  <thead>\n",
       "    <tr style=\"text-align: right;\">\n",
       "      <th></th>\n",
       "      <th>name</th>\n",
       "      <th>works_at</th>\n",
       "      <th>profile_url</th>\n",
       "      <th>posts</th>\n",
       "      <th>language</th>\n",
       "      <th>posts_processed</th>\n",
       "      <th>words</th>\n",
       "    </tr>\n",
       "  </thead>\n",
       "  <tbody>\n",
       "    <tr>\n",
       "      <th>0</th>\n",
       "      <td>Елена Хасанова</td>\n",
       "      <td>QA Head, QA Team-lead, QA-Lead, Наставник Янде...</td>\n",
       "      <td>https://www.linkedin.com/in/yelena-khassanova/</td>\n",
       "      <td>[['Минск, кто ищет стажировки QA - для вас 🙂 '...</td>\n",
       "      <td>RUSSIAN</td>\n",
       "      <td>минск искать стажировка созревать поделиться п...</td>\n",
       "      <td>[минск, искать, стажировка, созревать, поделит...</td>\n",
       "    </tr>\n",
       "    <tr>\n",
       "      <th>1</th>\n",
       "      <td>Александр Романов</td>\n",
       "      <td>CTO (CIO) at iRidi | Создаю и трансформирую си...</td>\n",
       "      <td>https://www.linkedin.com/in/romanovalexander/</td>\n",
       "      <td>[['Два дня преподавания в МГУ )))Провел 120 ст...</td>\n",
       "      <td>RUSSIAN</td>\n",
       "      <td>день преподавание мгу проводить студент получе...</td>\n",
       "      <td>[день, преподавание, мгу, проводить, студент, ...</td>\n",
       "    </tr>\n",
       "    <tr>\n",
       "      <th>2</th>\n",
       "      <td>Pavel Kiryanov</td>\n",
       "      <td>QA Lead</td>\n",
       "      <td>https://www.linkedin.com/in/pavel-kiryanov-974...</td>\n",
       "      <td>[['Я вот человек простой, чет написал и коммен...</td>\n",
       "      <td>RUSSIAN</td>\n",
       "      <td>человек простой чета написать коммент читаюно ...</td>\n",
       "      <td>[человек, простой, чета, написать, коммент, чи...</td>\n",
       "    </tr>\n",
       "    <tr>\n",
       "      <th>3</th>\n",
       "      <td>Александр Шобухов</td>\n",
       "      <td>CrowdFunding - Народное финансирование.</td>\n",
       "      <td>https://www.linkedin.com/in/%D0%B0%D0%BB%D0%B5...</td>\n",
       "      <td>[['Здравствуй Друг! Посмотри новый проект! Вы ...</td>\n",
       "      <td>RUSSIAN</td>\n",
       "      <td>друг посмотреть новый проект человек предприим...</td>\n",
       "      <td>[друг, посмотреть, новый, проект, человек, пре...</td>\n",
       "    </tr>\n",
       "    <tr>\n",
       "      <th>4</th>\n",
       "      <td>Aleksandr Romanov</td>\n",
       "      <td>CTO (CIO) at iRidium mobile | I Create and Tra...</td>\n",
       "      <td>https://www.linkedin.com/in/romanovalexander/</td>\n",
       "      <td>[['Два дня преподавания в МГУ )))Провел 120 ст...</td>\n",
       "      <td>RUSSIAN</td>\n",
       "      <td>день преподавание мгу проводить студент получе...</td>\n",
       "      <td>[день, преподавание, мгу, проводить, студент, ...</td>\n",
       "    </tr>\n",
       "  </tbody>\n",
       "</table>\n",
       "</div>"
      ],
      "text/plain": [
       "                name                                           works_at  \\\n",
       "0     Елена Хасанова  QA Head, QA Team-lead, QA-Lead, Наставник Янде...   \n",
       "1  Александр Романов  CTO (CIO) at iRidi | Создаю и трансформирую си...   \n",
       "2     Pavel Kiryanov                                            QA Lead   \n",
       "3  Александр Шобухов            CrowdFunding - Народное финансирование.   \n",
       "4  Aleksandr Romanov  CTO (CIO) at iRidium mobile | I Create and Tra...   \n",
       "\n",
       "                                         profile_url  \\\n",
       "0     https://www.linkedin.com/in/yelena-khassanova/   \n",
       "1      https://www.linkedin.com/in/romanovalexander/   \n",
       "2  https://www.linkedin.com/in/pavel-kiryanov-974...   \n",
       "3  https://www.linkedin.com/in/%D0%B0%D0%BB%D0%B5...   \n",
       "4      https://www.linkedin.com/in/romanovalexander/   \n",
       "\n",
       "                                               posts language  \\\n",
       "0  [['Минск, кто ищет стажировки QA - для вас 🙂 '...  RUSSIAN   \n",
       "1  [['Два дня преподавания в МГУ )))Провел 120 ст...  RUSSIAN   \n",
       "2  [['Я вот человек простой, чет написал и коммен...  RUSSIAN   \n",
       "3  [['Здравствуй Друг! Посмотри новый проект! Вы ...  RUSSIAN   \n",
       "4  [['Два дня преподавания в МГУ )))Провел 120 ст...  RUSSIAN   \n",
       "\n",
       "                                     posts_processed  \\\n",
       "0  минск искать стажировка созревать поделиться п...   \n",
       "1  день преподавание мгу проводить студент получе...   \n",
       "2  человек простой чета написать коммент читаюно ...   \n",
       "3  друг посмотреть новый проект человек предприим...   \n",
       "4  день преподавание мгу проводить студент получе...   \n",
       "\n",
       "                                               words  \n",
       "0  [минск, искать, стажировка, созревать, поделит...  \n",
       "1  [день, преподавание, мгу, проводить, студент, ...  \n",
       "2  [человек, простой, чета, написать, коммент, чи...  \n",
       "3  [друг, посмотреть, новый, проект, человек, пре...  \n",
       "4  [день, преподавание, мгу, проводить, студент, ...  "
      ]
     },
     "execution_count": 87,
     "metadata": {},
     "output_type": "execute_result"
    }
   ],
   "source": [
    "data_russian.head()"
   ]
  },
  {
   "attachments": {},
   "cell_type": "markdown",
   "metadata": {},
   "source": [
    "Для того, чтобы получить топ-10 постов по количеству реакций воспользуемся простыми регулярными выражениями."
   ]
  },
  {
   "cell_type": "code",
   "execution_count": 88,
   "metadata": {},
   "outputs": [],
   "source": [
    "post_to_sort_rus = []\n",
    "\n",
    "def get_best_posts(series):\n",
    "    texts = series.split('], [')\n",
    "    for text in texts:\n",
    "        text_react = re.findall(r\"'(.+?)'\", text)\n",
    "        try:\n",
    "            text_low = text_react[0].lower()\n",
    "            text_proc = ' '.join(re.sub(r'[^а-яё ]', ' ', text_low).split())\n",
    "            if len(text_proc) > 1:\n",
    "                post_to_sort_rus.append([text_proc, int(text_react[1])])\n",
    "        except:\n",
    "            continue\n",
    "\n",
    "data_russian['posts'].apply(get_best_posts);"
   ]
  },
  {
   "attachments": {},
   "cell_type": "markdown",
   "metadata": {},
   "source": [
    "Изучим самые популярные публикации: анонсы конкурсов, приглашение людей на наставничество (помощь новичкам), рассказы про опыт работы наставником, истории про работу в сфере анализа данных, полезные советы и полезные ресурсы, поиск работы. Все эти посты иллюстрируют многие из русскоязычных тем, которые мы выявили в ходе моделирования."
   ]
  },
  {
   "cell_type": "code",
   "execution_count": 89,
   "metadata": {},
   "outputs": [
    {
     "data": {
      "text/plain": [
       "[['новогодние подарки от для специалистов стать сертифицированным бесплатно что бы получать всю информацию раньше других подписывайся на мой телеграмм лучшая благодарность лайк коммент репост что бы получать всю информацию раньше других подписывайся на мой телеграмм польша релокация',\n",
       "  917],\n",
       " ['друзья приветствую я готов взять себе еще несколько человек на наставничество по наставничество по простому это когда более опытный человек помогает менее опытному пройти тот же путь который он уже прошел с каким запросами я работаю в основном я хочу сменить профессию и стать я хочу стать я хочу стать я хочу стать я хочу получать в раза больше денегкак это все проходит сначала мы созваниваемся и знакомимся обсуждаем твой запрос и твои желания составляем план движения к цели сюда может входить технический подтягивание пробелов в теории и практике подготовка подготовка к собеседованиям один раз в неделю мы созваниваемся на час и двигаемся к твоей целичто ты получаешь персонального ментора наставника персональный план достижения цели поддержку более опытного наставникаосновные факты обо мне опыт в лет еще лет в аналитике опыт смены профессии на пишите познакомимся и будем идти к вашим целям почта',\n",
       "  458],\n",
       " ['как и тед лассо решил покинуть фк ричмонд так и я решил покинуть билайн казахстан за время работы на позиции руководителем подразделения аналитики и было достигнуто много вершин за что я благодарен команде я горд и рад что был частью этой команды мы стали лучшей большой компанией казахстана для работы дата специалиста мы добились почти трехкратного роста выручки за год совместно с бизнесом проект биометрия в котором я начинал свою работу в билайне теперь работает во всех продуктах билайна мы уже превысили отметку в миллион обработанных нашей биометрией сессий максимально за день мы обработали более сессий создали и запустили внутреннею систему грейдинга и развития сотрудников провели конференцию куда отобрали самых топовых докладчиков приняли активное участие в развитии движения в казахстане и развитии рисерча для казахского языка а именно зарелизили датасет для казахского языка из открытых источников млн текстов млн на казахском млн новости на русском и выложили в открытый доступ ссылки контрибутим и в другие решения например в библиотеку для мониторинга моделей в проде и было еще много всего сделано внутри команды внедрили и развили практику улучшили разработали внутренний инструмент для быстрой проверки гипотез делали модели что бы помочь бизнесу появились внутренние регулярные митапы стандартизировали процессы и многое другое уверен что команда аналитики и продолжит свое победное шествие и впереди их ждет еще много успехов и побед',\n",
       "  197],\n",
       " ['список лучших каналов по поиску работы в фул тайм удаленка вакансии с переездом геймдев ваши резюме если вы в активном поиске агрегатор вакансии отовсюду удаленка для стажеров и джунов вакансии с блокчейном криптой и прочим веб бот с вакансиями классифицированными по стеку и локациямдополняйте список в комментариях',\n",
       "  191],\n",
       " ['большая солянка полезных советов и моего опыта которая возможно кому то пригодится следующая часть уже в работе',\n",
       "  125],\n",
       " ['ищу к себе в команду сильного дизайнера с опытом проектирования продуктов и внутренних сервисов присылайте резюме и портфолио в личку здесь или на почту рассматриваем людей из москвы или подмосковья потому что нужно будет периодически выезжать в офисы к нашим пользователям для проведения исследований',\n",
       "  63],\n",
       " ['привет я в поиске новой карьерной возможности и буду признательна за вашу поддержку заранее благодарю за все рекомендации контактов советы или возможности которые вы можете предложить',\n",
       "  55],\n",
       " ['подборка площадок для поиска работы на международном рынке крупнейший агрегатор вакансий с сайтов по всему миру собранных из тысяч сайтов как прямых работодателей так и площадок популярен и среди соискателей сайт для поиска вакансий по большинству стран мира возможность изучить профили компаний обзоры зарплат по основным специальностям крупнейший международный портал позволяющий искать работу в конкретных странах и городах агрегатор вакансий который входит в самых посещаемых сайтов по трудоустройству работает в россии только через агрегатор для поиска вакансий руководителей и топ менеджеров сайт по поиску вакансий по всему миру возможность искать стажировки проектную работу волонтерские предложения один из крупнейших сайтов для поиска вакансий технических специалистов и инженеров сосайт для поиска работы в стартапах по всему миру которые часто предлагают не только зарплату но и участие в доле компании один из крупнейших сайтов для поиска работы в сша сайт по поиску вакансий в сша сайт по поиску вакансий в великобритании агрегатор вакансий со всех работных сайтов великобритании очень популярный сайт для поиска работы в германии аналог на местном рынке',\n",
       "  53],\n",
       " ['старался отобрать самых топовых спикеров уверен что получилось', 52],\n",
       " ['немного обо мне когда вы идете ко мне на менторинг или коучинг то хорошо если у вас есть какое то представление обо мне кроме списка моих мест работы поэтому несколько фактов обо мне интересных и не очень математико статистическое образование мат мех спбгу лет опыта работы страхование успешное прохождение экзамена цб на актуария один из официальных актуариев в россии смена профессии с на в лет года работы в стартапе где мы прошли путь от отсутствия денег в течении месяцев до с за секунд рост в зп раза в раза за последние года не участвовал практически ни в одном соревновании не панацея сертифицированный коуч по стандартам опыт дневной випассаны в непале медитативный молчаливый ретрит несколько дневных випассан опыт медитация при ходьбе дня по часа медитирую практически каждый день по минут уже года года в терапии интересуюсь философиями такими как убеждён что каждый человек уникален и у каждого свой путь',\n",
       "  42]]"
      ]
     },
     "execution_count": 89,
     "metadata": {},
     "output_type": "execute_result"
    }
   ],
   "source": [
    "sorted(post_to_sort_rus, key=lambda x: x[1], reverse = True)[:10]"
   ]
  },
  {
   "attachments": {},
   "cell_type": "markdown",
   "metadata": {},
   "source": [
    "Всего 102 из 117 постов были отмечены получили реакциями. Для построения языковой модели по самым популярным постам возьмем топ-50 постов по количеству реакций."
   ]
  },
  {
   "cell_type": "code",
   "execution_count": 90,
   "metadata": {},
   "outputs": [
    {
     "name": "stdout",
     "output_type": "stream",
     "text": [
      "Кол-во публикаций с реакциями: 102\n"
     ]
    }
   ],
   "source": [
    "sorted_posts_rus = sorted(post_to_sort_rus, key=lambda x: x[1], reverse = True)\n",
    "sorted_posts_rus = [i[0] for i in sorted_posts_rus]\n",
    "print(f'Кол-во публикаций с реакциями: {len(sorted_posts_rus)}')\n",
    "sorted_posts_rus = sorted_posts_rus[:51]"
   ]
  },
  {
   "attachments": {},
   "cell_type": "markdown",
   "metadata": {},
   "source": [
    "Теперь подготовим топ-50 англоязычных постов."
   ]
  },
  {
   "cell_type": "code",
   "execution_count": 91,
   "metadata": {},
   "outputs": [
    {
     "data": {
      "text/html": [
       "<div>\n",
       "<style scoped>\n",
       "    .dataframe tbody tr th:only-of-type {\n",
       "        vertical-align: middle;\n",
       "    }\n",
       "\n",
       "    .dataframe tbody tr th {\n",
       "        vertical-align: top;\n",
       "    }\n",
       "\n",
       "    .dataframe thead th {\n",
       "        text-align: right;\n",
       "    }\n",
       "</style>\n",
       "<table border=\"1\" class=\"dataframe\">\n",
       "  <thead>\n",
       "    <tr style=\"text-align: right;\">\n",
       "      <th></th>\n",
       "      <th>name</th>\n",
       "      <th>works_at</th>\n",
       "      <th>profile_url</th>\n",
       "      <th>posts</th>\n",
       "      <th>language</th>\n",
       "      <th>posts_processed</th>\n",
       "      <th>words</th>\n",
       "    </tr>\n",
       "  </thead>\n",
       "  <tbody>\n",
       "    <tr>\n",
       "      <th>0</th>\n",
       "      <td>Алексей Становкин</td>\n",
       "      <td>Ведущий Software QA Engineer</td>\n",
       "      <td>https://www.linkedin.com/in/alex7cri/</td>\n",
       "      <td>[['https://lnkd.in/gx-UipHF#нетУбийствам'], ['...</td>\n",
       "      <td>ENGLISH</td>\n",
       "      <td>uiphf engin interview without look resum crede...</td>\n",
       "      <td>[uiphf, engin, interview, without, look, resum...</td>\n",
       "    </tr>\n",
       "    <tr>\n",
       "      <th>1</th>\n",
       "      <td>Дмитрий Липин</td>\n",
       "      <td>СТО в Yandex Platform Engineering</td>\n",
       "      <td>https://www.linkedin.com/in/dmitrylipin/</td>\n",
       "      <td>[['Очередной митап команды Yandex Infrastructu...</td>\n",
       "      <td>ENGLISH</td>\n",
       "      <td>yandex infrastructur backend devop sre open so...</td>\n",
       "      <td>[yandex, infrastructur, backend, devop, sre, o...</td>\n",
       "    </tr>\n",
       "    <tr>\n",
       "      <th>2</th>\n",
       "      <td>Aleksandr Shabanov</td>\n",
       "      <td>ML engineer</td>\n",
       "      <td>https://www.linkedin.com/in/alshabanov/</td>\n",
       "      <td>[['Hi everyone - I am looking for a new role a...</td>\n",
       "      <td>ENGLISH</td>\n",
       "      <td>everyon look new role would appreci support th...</td>\n",
       "      <td>[everyon, look, new, role, would, appreci, sup...</td>\n",
       "    </tr>\n",
       "    <tr>\n",
       "      <th>3</th>\n",
       "      <td>Amir Safiullin</td>\n",
       "      <td>Machine Learning Engineer</td>\n",
       "      <td>https://www.linkedin.com/in/safiullinamir/</td>\n",
       "      <td>[['22 июня, в 19:00, приглашаем на VK Tech Tal...</td>\n",
       "      <td>ENGLISH</td>\n",
       "      <td>tech talk coheua implicit feedback need vktech...</td>\n",
       "      <td>[tech, talk, coheua, implicit, feedback, need,...</td>\n",
       "    </tr>\n",
       "    <tr>\n",
       "      <th>4</th>\n",
       "      <td>Soslan Tabuev</td>\n",
       "      <td>datascience.xyz</td>\n",
       "      <td>https://www.linkedin.com/in/soslan-tabuev/</td>\n",
       "      <td>[['An interesting review of Transformer Zoo by...</td>\n",
       "      <td>ENGLISH</td>\n",
       "      <td>interest review transform zoo grigori sapunov ...</td>\n",
       "      <td>[interest, review, transform, zoo, grigori, sa...</td>\n",
       "    </tr>\n",
       "  </tbody>\n",
       "</table>\n",
       "</div>"
      ],
      "text/plain": [
       "                 name                           works_at  \\\n",
       "0   Алексей Становкин       Ведущий Software QA Engineer   \n",
       "1       Дмитрий Липин  СТО в Yandex Platform Engineering   \n",
       "2  Aleksandr Shabanov                        ML engineer   \n",
       "3      Amir Safiullin          Machine Learning Engineer   \n",
       "4       Soslan Tabuev                    datascience.xyz   \n",
       "\n",
       "                                  profile_url  \\\n",
       "0       https://www.linkedin.com/in/alex7cri/   \n",
       "1    https://www.linkedin.com/in/dmitrylipin/   \n",
       "2     https://www.linkedin.com/in/alshabanov/   \n",
       "3  https://www.linkedin.com/in/safiullinamir/   \n",
       "4  https://www.linkedin.com/in/soslan-tabuev/   \n",
       "\n",
       "                                               posts language  \\\n",
       "0  [['https://lnkd.in/gx-UipHF#нетУбийствам'], ['...  ENGLISH   \n",
       "1  [['Очередной митап команды Yandex Infrastructu...  ENGLISH   \n",
       "2  [['Hi everyone - I am looking for a new role a...  ENGLISH   \n",
       "3  [['22 июня, в 19:00, приглашаем на VK Tech Tal...  ENGLISH   \n",
       "4  [['An interesting review of Transformer Zoo by...  ENGLISH   \n",
       "\n",
       "                                     posts_processed  \\\n",
       "0  uiphf engin interview without look resum crede...   \n",
       "1  yandex infrastructur backend devop sre open so...   \n",
       "2  everyon look new role would appreci support th...   \n",
       "3  tech talk coheua implicit feedback need vktech...   \n",
       "4  interest review transform zoo grigori sapunov ...   \n",
       "\n",
       "                                               words  \n",
       "0  [uiphf, engin, interview, without, look, resum...  \n",
       "1  [yandex, infrastructur, backend, devop, sre, o...  \n",
       "2  [everyon, look, new, role, would, appreci, sup...  \n",
       "3  [tech, talk, coheua, implicit, feedback, need,...  \n",
       "4  [interest, review, transform, zoo, grigori, sa...  "
      ]
     },
     "execution_count": 91,
     "metadata": {},
     "output_type": "execute_result"
    }
   ],
   "source": [
    "data_english.head()"
   ]
  },
  {
   "cell_type": "code",
   "execution_count": 92,
   "metadata": {},
   "outputs": [],
   "source": [
    "post_to_sort_eng = []\n",
    "\n",
    "def get_best_posts(series):\n",
    "    texts = series.split('], [')\n",
    "    for text in texts:\n",
    "        text_react = re.findall(r\"'(.+?)'\", text)\n",
    "        try:\n",
    "            text_low = text_react[0].lower()\n",
    "            text_proc = ' '.join(re.sub(r'[^a-z ]', ' ', text_low).split())\n",
    "            if len(text_proc) > 1:\n",
    "                post_to_sort_eng.append([text_proc, int(text_react[1])])\n",
    "        except:\n",
    "            continue\n",
    "\n",
    "data_english['posts'].apply(get_best_posts);"
   ]
  },
  {
   "cell_type": "code",
   "execution_count": 93,
   "metadata": {},
   "outputs": [
    {
     "data": {
      "text/plain": [
       "[['vacancy cv job ps', 520],\n",
       " ['monai the medical open network for ai is continuing to expand its capabilities to help developers accelerate their medical imaging ai workflows the release of monai brings exciting updates including monai model zoo auto d segmentation and active learning in monai label https nvda ws s naql',\n",
       "  407],\n",
       " ['s the news https lnkd in dkhyxsmbthis must be great for people like me who struggled to get past this work permit wall when applying for a job if there are swiss recruiters in my network who are looking for someone in machine learning or neurotech send me a message fyi i hold a phd degree from swiss university epfl which should make things even easier i would also highly appreciate if anyone could refer me this whole cold approach of applying through linkedin doesn',\n",
       "  399],\n",
       " ['xa xa xa xa we want to hire a chief data officer xa xa xa xa xa xa xa xa xa xa xa xa ok great xa xa xa xa xa yeah we would like to be more data driven xa xa xa xa xa xa xa xa xa xa xa xa xa sure xa what s the business strategy xa xa xa xa we don t want to discuss that xa xa xa xa xa xa xa xa xa xa xa xa oh ok xa xa so what do you want me to do xa xa xa xa could you just do an interim gig for months and oversee some technology implementation xa xa xa xa xa xa xa xa xa xa xa xa xa ok that s it xa xa xa xa xa yeah xa xa xa xa xa xa xa xa xa xa xa xa xa ok but i can still have the cdo title right xa xa xa xa xa yeah xa xa xa xa xa xa xa xa xa xa xa xa xa xa cool and so it goes on data xa datastrategy xa chiefdataofficer',\n",
       "  284],\n",
       " ['t wait to grow and learn in this new chapter of my life it wouldn', 256],\n",
       " ['python for machine learning real world projects and case studiesplease reshare to your linkedin network so everyone can take advantage of these resources visit shivam modi k followers and learn complete data science and analytics from scratch through my old posts checkout datascience blogs and other free resources on my website https lnkd in d xyvmac datascience datascientist machinelearning data dataanalytic',\n",
       "  220],\n",
       " ['ger ekten yapmak istedi in eyden asla vazge me b y k hayalleri olan ki i t m ger ekleri olandan daha g l d r hayatta ne elde etmek isterseniz isteyin b y k hayaller kurmal ve k k ba lamal s n z g r yorsunuz hepimizin hayatta ba armak istedi i bir ey var pe inden ko aca m z hayallerimiz ve hedeflerimiz var ve hayallerinizi ger ekle tiren ey d ncelerinizin yo unlu u ve eylemlerinizin g c d r b y k ve heyecan verici hayalleriniz oldu unda bundan sonra yapman z gereken ey k kten ba lamakt r bir ok insan n yanl anlad yer buras d r b y k hayaller kurduklar i in b y k ve cesur ad mlar atmalar gerekti ini d n rler ki bu o u zaman b yle de ildir ba ar n n bir yolculuk oldu unu anlamal s n z ve yolculu a kman n tek yolu ilk ad m atmakt r art k k ba lad n zda i ler sizin i in daha kolay kolay olan bir eyi yapmak zor olan eylerden daha az motivasyon ve irade gerektirir',\n",
       "  220],\n",
       " ['senior software engineer epam systems', 209],\n",
       " ['i m happy to share that i m starting a new position as executive director data at uzum data',\n",
       "  207],\n",
       " ['m currently working at foreign relations department on different ongoing projects and so excited to learn and grow in this role as a specialist i',\n",
       "  207]]"
      ]
     },
     "execution_count": 93,
     "metadata": {},
     "output_type": "execute_result"
    }
   ],
   "source": [
    "sorted(post_to_sort_eng, key=lambda x: x[1], reverse = True)[1:11] # first one not english language"
   ]
  },
  {
   "cell_type": "code",
   "execution_count": 94,
   "metadata": {},
   "outputs": [
    {
     "name": "stdout",
     "output_type": "stream",
     "text": [
      "Кол-во публикаций с реакциями: 250\n"
     ]
    }
   ],
   "source": [
    "sorted_posts_eng = sorted(post_to_sort_eng, key=lambda x: x[1], reverse = True)\n",
    "sorted_posts_eng = [i[0] for i in sorted_posts_eng]\n",
    "print(f'Кол-во публикаций с реакциями: {len(sorted_posts_eng)}')\n",
    "sorted_posts_eng = sorted_posts_eng[:51]"
   ]
  },
  {
   "attachments": {},
   "cell_type": "markdown",
   "metadata": {},
   "source": [
    "### <a id='toc1_1_5_'></a>[Построение языковой модели по топ-50 популярным постам](#toc0_)"
   ]
  },
  {
   "attachments": {},
   "cell_type": "markdown",
   "metadata": {},
   "source": [
    "Построим модель по русскоязычным текстам."
   ]
  },
  {
   "cell_type": "code",
   "execution_count": 95,
   "metadata": {},
   "outputs": [],
   "source": [
    "processed_texts_rus = []\n",
    "for text in sorted_posts_rus:\n",
    "    processed_texts_rus.append(preprocess_rus_texts(text))"
   ]
  },
  {
   "cell_type": "code",
   "execution_count": 96,
   "metadata": {},
   "outputs": [
    {
     "name": "stdout",
     "output_type": "stream",
     "text": [
      "51\n"
     ]
    }
   ],
   "source": [
    "processed_texts_rus = [i.split() for i in processed_texts_rus if i != '']\n",
    "print(len(processed_texts_rus))"
   ]
  },
  {
   "cell_type": "code",
   "execution_count": 97,
   "metadata": {},
   "outputs": [],
   "source": [
    "bigram = gensim.models.Phrases(processed_texts_rus)\n",
    "bigram_mod = gensim.models.phrases.Phraser(bigram)\n",
    "\n",
    "def make_bigrams(texts):\n",
    "    return [bigram_mod[doc] for doc in texts]"
   ]
  },
  {
   "cell_type": "code",
   "execution_count": 98,
   "metadata": {},
   "outputs": [],
   "source": [
    "# Create bigrams\n",
    "data_words_bigrams = make_bigrams(processed_texts_rus)"
   ]
  },
  {
   "cell_type": "code",
   "execution_count": 99,
   "metadata": {},
   "outputs": [
    {
     "name": "stdout",
     "output_type": "stream",
     "text": [
      "[[(0, 1), (1, 1), (2, 2), (3, 1), (4, 1), (5, 1), (6, 1), (7, 2), (8, 2), (9, 1), (10, 2), (11, 1), (12, 1), (13, 1), (14, 1), (15, 1), (16, 2), (17, 1)], [(8, 2), (15, 4), (18, 1), (19, 1), (20, 1), (21, 1), (22, 1), (23, 1), (24, 1), (25, 1), (26, 1), (27, 1), (28, 2), (29, 1), (30, 1), (31, 1), (32, 1), (33, 1), (34, 1), (35, 1), (36, 2), (37, 1), (38, 1), (39, 1), (40, 1), (41, 2), (42, 3), (43, 1), (44, 2), (45, 1), (46, 2), (47, 2), (48, 1), (49, 1), (50, 1), (51, 1), (52, 1), (53, 1), (54, 1), (55, 1), (56, 1), (57, 2), (58, 3), (59, 1), (60, 1), (61, 1), (62, 1), (63, 1), (64, 1), (65, 2), (66, 1), (67, 1), (68, 1), (69, 1), (70, 1), (71, 5), (72, 1), (73, 3), (74, 1), (75, 2)]]\n"
     ]
    }
   ],
   "source": [
    "# Create Dictionary\n",
    "id2word = corpora.Dictionary(data_words_bigrams)\n",
    "# Create Corpus\n",
    "texts = data_words_bigrams\n",
    "# Term Document Frequency\n",
    "corpus = [id2word.doc2bow(text) for text in texts]\n",
    "# View\n",
    "print(corpus[:2])"
   ]
  },
  {
   "cell_type": "code",
   "execution_count": 100,
   "metadata": {},
   "outputs": [
    {
     "data": {
      "text/plain": [
       "[[('информация', 1),\n",
       "  ('подписываться', 1),\n",
       "  ('получать', 2),\n",
       "  ('становиться', 1),\n",
       "  ('хороший', 2),\n",
       "  ('готовый', 2),\n",
       "  ('друг', 1),\n",
       "  ('мочь', 1),\n",
       "  ('обсуждать', 1),\n",
       "  ('подготовка', 1),\n",
       "  ('помогать', 1),\n",
       "  ('работать', 1),\n",
       "  ('составлять', 1),\n",
       "  ('хотеть', 1),\n",
       "  ('человек', 2),\n",
       "  ('внутри', 1),\n",
       "  ('достигать', 1),\n",
       "  ('именно', 1),\n",
       "  ('решать', 1),\n",
       "  ('сделать', 2),\n",
       "  ('ссылка', 1),\n",
       "  ('канал', 1),\n",
       "  ('комментарий', 1),\n",
       "  ('полезный', 1),\n",
       "  ('нужно', 1),\n",
       "  ('заранее', 1),\n",
       "  ('предложение', 1),\n",
       "  ('собирать', 1),\n",
       "  ('деньги', 1),\n",
       "  ('поэтому', 1),\n",
       "  ('актуальный', 1),\n",
       "  ('алгоритм', 1),\n",
       "  ('важный', 1),\n",
       "  ('вилка', 1),\n",
       "  ('волшебный', 1),\n",
       "  ('встреча', 1),\n",
       "  ('выписывать', 1),\n",
       "  ('глаз', 1),\n",
       "  ('договоренность', 1),\n",
       "  ('заинтересованный', 1),\n",
       "  ('итак', 1),\n",
       "  ('итог', 1),\n",
       "  ('компромисс', 1),\n",
       "  ('конец', 1),\n",
       "  ('краткий', 1),\n",
       "  ('максимум', 1),\n",
       "  ('напряжение', 1),\n",
       "  ('настраиваться', 1),\n",
       "  ('ничто', 1),\n",
       "  ('образ', 1),\n",
       "  ('общение', 1),\n",
       "  ('оказываться', 1),\n",
       "  ('определять', 1),\n",
       "  ('переговоры', 2),\n",
       "  ('планировать', 1),\n",
       "  ('повышение', 1),\n",
       "  ('подготавливаться', 1),\n",
       "  ('подумать', 1),\n",
       "  ('пойти', 1),\n",
       "  ('получение', 1),\n",
       "  ('посмотреть', 2),\n",
       "  ('представлять', 2),\n",
       "  ('предстоящий', 2),\n",
       "  ('прием', 1),\n",
       "  ('приятный', 1),\n",
       "  ('продвижение', 1),\n",
       "  ('происходить', 1),\n",
       "  ('просто', 2),\n",
       "  ('разговор', 4),\n",
       "  ('результат', 2),\n",
       "  ('ситуация', 2),\n",
       "  ('случаться', 1),\n",
       "  ('снимать', 1),\n",
       "  ('собеседник', 1),\n",
       "  ('телеграм', 1),\n",
       "  ('тема', 1),\n",
       "  ('удовольствие', 1),\n",
       "  ('участница', 1),\n",
       "  ('цифра', 1),\n",
       "  ('четко', 1),\n",
       "  ('широко', 1)]]"
      ]
     },
     "execution_count": 100,
     "metadata": {},
     "output_type": "execute_result"
    }
   ],
   "source": [
    "[[(id2word[id], freq) for id, freq in cp] for cp in corpus[10:11]]"
   ]
  },
  {
   "cell_type": "code",
   "execution_count": 101,
   "metadata": {},
   "outputs": [],
   "source": [
    "# Build LDA model\n",
    "lda_model = gensim.models.ldamodel.LdaModel(corpus=corpus, \n",
    "                                            id2word=id2word,\n",
    "                                            num_topics=5, \n",
    "                                            random_state=100,\n",
    "                                            update_every=5,#как часто параметры модели должны обновляться\n",
    "                                            chunksize=5, #количество документов, которые будут использоваться в каждом обучающем чанке\n",
    "                                            passes=100, #общее количество проходов обучения\n",
    "                                            alpha='auto', #влияет на разреженность тем\n",
    "                                            per_word_topics=True)"
   ]
  },
  {
   "cell_type": "code",
   "execution_count": 102,
   "metadata": {},
   "outputs": [
    {
     "name": "stderr",
     "output_type": "stream",
     "text": [
      "/Users/anshilina/opt/anaconda3/lib/python3.9/site-packages/pyLDAvis/_prepare.py:246: FutureWarning: In a future version of pandas all arguments of DataFrame.drop except for the argument 'labels' will be keyword-only.\n",
      "  default_term_info = default_term_info.sort_values(\n"
     ]
    },
    {
     "data": {
      "text/html": [
       "\n",
       "<link rel=\"stylesheet\" type=\"text/css\" href=\"https://cdn.jsdelivr.net/gh/bmabey/pyLDAvis@3.3.1/pyLDAvis/js/ldavis.v1.0.0.css\">\n",
       "\n",
       "\n",
       "<div id=\"ldavis_el431651403970045149129146153172\"></div>\n",
       "<script type=\"text/javascript\">\n",
       "\n",
       "var ldavis_el431651403970045149129146153172_data = {\"mdsDat\": {\"x\": [0.06101367832677972, 0.08163267128948291, 0.05702876072779507, 0.039878805953073644, -0.23955391629713144], \"y\": [0.11865012882731846, -0.003284363325279063, -0.10401876825038812, -0.013446262112077945, 0.002099264860426732], \"topics\": [1, 2, 3, 4, 5], \"cluster\": [1, 1, 1, 1, 1], \"Freq\": [32.81820256584748, 27.24505530772923, 19.00769459123897, 11.640664822634744, 9.288382712549575]}, \"tinfo\": {\"Term\": [\"\\u043f\\u0440\\u043e\\u0435\\u043a\\u0442\", \"\\u0440\\u0435\\u0448\\u0435\\u043d\\u0438\\u0435\", \"\\u0447\\u0435\\u043b\\u043e\\u0432\\u0435\\u043a\", \"\\u0432\\u0430\\u043a\\u0430\\u043d\\u0441\\u0438\\u044f\", \"\\u043d\\u0430\\u0447\\u0438\\u043d\\u0430\\u0442\\u044c\", \"\\u043f\\u0440\\u0438\\u043d\\u0438\\u043c\\u0430\\u0442\\u044c\", \"\\u0440\\u0443\\u043a\\u0430\", \"\\u043d\\u0430\\u0445\\u043e\\u0434\\u0438\\u0442\\u044c\", \"\\u0431\\u0440\\u0430\\u0442\\u044c\", \"\\u0437\\u0430\\u043d\\u0438\\u043c\\u0430\\u0442\\u044c\\u0441\\u044f\", \"\\u043e\\u043f\\u0443\\u0441\\u043a\\u0430\\u0442\\u044c\\u0441\\u044f\", \"\\u0434\\u043e\\u043b\\u0433\\u043e\", \"\\u0430\\u043f\\u0430\\u0442\\u0438\\u044f\", \"\\u0431\\u044b\\u0432\\u0430\\u0442\\u044c\", \"\\u0430\\u043d\\u0430\\u043b\\u0438\\u0437\", \"\\u0432\\u043e\\u0432\\u043b\\u0435\\u043a\\u0430\\u0442\\u044c\", \"\\u0442\\u044f\\u043d\\u0443\\u0442\\u044c\\u0441\\u044f\", \"\\u0441\\u043a\\u0440\\u044b\\u0442\\u044b\\u0439\", \"\\u043f\\u043e\\u0440\\u0430\", \"\\u0441\\u0442\\u0440\\u0430\\u0441\\u0442\\u043d\\u044b\\u0439\", \"\\u043f\\u043e\\u043b\\u0435\\u0437\\u043d\\u043e\", \"\\u043c\\u043d\\u043e\\u0436\\u0435\\u0441\\u0442\\u0432\\u043e\", \"\\u043e\\u0442\\u0434\\u0435\\u043b\", \"\\u0440\\u0438\\u0441\\u043a\", \"\\u0432\\u044b\\u0433\\u043e\\u0434\\u0430\", \"\\u043f\\u043e\\u043b\\u0443\\u0447\\u0430\\u0442\\u044c\", \"\\u043e\\u043f\\u044b\\u0442\", \"\\u0441\\u0435\\u0441\\u0441\\u0438\\u044f\", \"\\u0445\\u043e\\u0442\\u0435\\u0442\\u044c\", \"\\u043c\\u0435\\u043d\\u0442\\u0438\", \"\\u0432\\u0430\\u043a\\u0430\\u043d\\u0441\\u0438\\u044f\", \"\\u0442\\u0435\\u0441\\u0442\\u0438\\u0440\\u043e\\u0432\\u0430\\u043d\\u0438\\u0435\", \"\\u043f\\u043e\\u0434\\u0445\\u043e\\u0434\\u0438\\u0442\\u044c\", \"\\u043d\\u043e\\u0432\\u044b\\u0439\", \"\\u0441\\u0430\\u0439\\u0442_\\u043f\\u043e\\u0438\\u0441\\u043a\", \"\\u0440\\u0430\\u0437\\u0440\\u0430\\u0431\\u043e\\u0442\\u0447\\u0438\\u043a\", \"\\u043a\\u0440\\u0443\\u043f\\u043d\\u044b\\u0439\", \"\\u0430\\u0433\\u0440\\u0435\\u0433\\u0430\\u0442\\u043e\\u0440\", \"\\u0438\\u043d\\u0436\\u0435\\u043d\\u0435\\u0440\", \"\\u0441\\u0430\\u0439\\u0442\", \"\\u043c\\u0443\\u0436\\u0447\\u0438\\u043d\\u0430\", \"\\u043c\\u0430\\u0442\\u0435\\u0440\\u0438\\u0430\\u043b\", \"\\u0436\\u0435\\u043d\\u0449\\u0438\\u043d\\u0430\", \"\\u0440\\u0443\\u0447\\u043d\\u043e\\u0439\", \"\\u043a\\u0430\\u0442\\u044f\", \"\\u043f\\u0443\\u043d\\u043a\\u0442\", \"\\u043a\\u043e\\u043c\\u043c\\u0435\\u043d\\u0442\\u0430\\u0440\\u0438\\u0439\", \"\\u0440\\u043e\\u043b\\u044c\", \"\\u0434\\u0430\\u043d\\u043d\\u044b\\u0435\", \"\\u043e\\u0446\\u0435\\u043d\\u043a\\u0430\", \"\\u043c\\u0435\\u043d\\u0435\\u0434\\u0436\\u0435\\u0440\", \"\\u043d\\u0430\\u0433\\u0440\\u0443\\u0437\\u043e\\u0447\\u043d\\u044b\\u0439\", \"\\u0440\\u0430\\u0437\\u0431\\u0438\\u0440\\u0430\\u0442\\u044c\\u0441\\u044f\", \"\\u0441\\u0447\\u0438\\u0442\\u0430\\u0442\\u044c\\u0441\\u044f\", \"\\u0444\\u043e\\u0440\\u043c\\u0430\\u043b\\u044c\\u043d\\u043e\", \"\\u043c\\u043e\\u0434\\u0435\\u043b\\u044c\", \"\\u0440\\u044b\\u043d\\u043e\\u043a\", \"\\u0440\\u0430\\u0431\\u043e\\u0442\\u043e\\u0434\\u0430\\u0442\\u0435\\u043b\\u044c\", \"\\u0430\\u0439\\u0442\\u0438\\u0448\\u0435\\u0447\\u043a\\u0430\", \"\\u043c\\u0430\\u0441\\u0442\\u0435\\u0440\", \"\\u043a\\u043e\\u043c\\u043f\\u0430\\u043d\\u0438\\u044f\", \"\\u043f\\u043e\\u0438\\u0441\\u043a\", \"\\u043e\\u043f\\u044b\\u0442_\\u0440\\u0430\\u0431\\u043e\\u0442\\u0430\", \"\\u0438\\u0441\\u043a\\u0430\\u0442\\u044c\", \"\\u0440\\u0430\\u0431\\u043e\\u0442\\u0430\", \"\\u043e\\u043f\\u044b\\u0442\", \"\\u043f\\u0438\\u0441\\u0430\\u0442\\u044c\", \"\\u0442\\u0435\\u043c\\u0430\", \"\\u043f\\u043e\\u0438\\u0441\\u043a_\\u0440\\u0430\\u0431\\u043e\\u0442\\u0430\", \"\\u0432\\u043e\\u0437\\u043c\\u043e\\u0436\\u043d\\u043e\\u0441\\u0442\\u044c\", \"\\u043c\\u0438\\u0440\", \"\\u0440\\u0430\\u0431\\u043e\\u0442\\u0430\\u0442\\u044c\", \"\\u0447\\u0435\\u043b\\u043e\\u0432\\u0435\\u043a\", \"\\u0434\\u0440\\u0443\\u0433\", \"\\u043c\\u043e\\u0447\\u044c\", \"\\u0432\\u043e\\u043f\\u0440\\u043e\\u0441\", \"\\u0438\\u0434\\u0442\\u0438\", \"\\u043a\\u0430\\u0440\\u044c\\u0435\\u0440\\u0430\", \"\\u0447\\u0430\\u0441\", \"\\u0442\\u0435\\u043b\\u0435\\u0433\\u0440\\u0430\\u043c\\u043c\\u0430\", \"\\u043d\\u0435\\u0441\\u043a\\u043e\\u043b\\u044c\\u043a\\u043e\", \"\\u043a\\u043e\\u0443\\u0447\", \"\\u043d\\u0430\\u0443\\u0447\\u0430\\u0442\\u044c\\u0441\\u044f\", \"\\u043a\\u043e\\u0443\\u0447\\u0438\\u043d\\u0433\\u0430\", \"\\u043e\\u0431\\u043e\", \"\\u043f\\u043e\\u0439\\u0442\\u0438\", \"\\u0440\\u0430\\u043d\\u043e\", \"\\u0440\\u0435\\u0437\\u0443\\u043b\\u044c\\u0442\\u0430\\u0442\", \"\\u0430\\u043f\\u0433\\u0440\\u0435\\u0439\\u0434\", \"\\u043c\\u0435\\u0441\\u0442\\u043e\", \"\\u043e\\u0441\\u0442\\u0430\\u0432\\u0430\\u0442\\u044c\\u0441\\u044f\", \"\\u0438\\u043d\\u0432\\u0435\\u0441\\u0442\\u0438\\u0446\\u0438\\u044f\", \"\\u0441\\u043e\\u0436\\u0430\\u043b\\u0435\\u043d\\u0438\\u0435\", \"\\u0430\\u043a\\u0442\\u0443\\u0430\\u0440\\u0438\\u0439\", \"\\u0432\\u0438\\u043f\\u0430\\u0441\\u0441\\u0430\\u043d\", \"\\u0434\\u043d\\u0435\\u0432\\u043d\\u043e\\u0439\", \"\\u0441\\u043e\\u0441\\u0442\\u0430\\u0432\\u043b\\u044f\\u0442\\u044c\", \"\\u043e\\u0431\\u0441\\u0443\\u0436\\u0434\\u0430\\u0442\\u044c\", \"\\u0438\\u043d\\u0444\\u043e\\u0440\\u043c\\u0430\\u0446\\u0438\\u044f\", \"\\u043f\\u043e\\u0434\\u0433\\u043e\\u0442\\u043e\\u0432\\u043a\\u0430\", \"\\u0441\\u043b\\u0443\\u0447\\u0430\\u0442\\u044c\\u0441\\u044f\", \"\\u043f\\u043e\\u0434\\u0440\\u043e\\u0431\\u043d\\u043e\\u0441\\u0442\\u044c\", \"\\u043f\\u0440\\u0438\\u0432\\u0435\\u0442\\u0441\\u0442\\u0432\\u043e\\u0432\\u0430\\u0442\\u044c\", \"\\u043c\\u0435\\u0434\\u0438\\u0442\\u0430\\u0442\\u0438\\u0432\\u043d\\u044b\\u0439\", \"\\u043e\\u0444\\u0438\\u0446\\u0438\\u0430\\u043b\\u044c\\u043d\\u044b\\u0439\", \"\\u043f\\u043e\\u043b\\u0443\\u0447\\u0430\\u0442\\u044c\", \"\\u043f\\u0443\\u0442\\u044c\", \"\\u043f\\u0440\\u0430\\u043a\\u0442\\u0438\\u043a\\u0430\", \"\\u0437\\u0430\\u043f\\u0440\\u043e\\u0441\", \"\\u0445\\u043e\\u0442\\u0435\\u0442\\u044c\", \"\\u043f\\u0440\\u043e\\u0445\\u043e\\u0434\\u0438\\u0442\\u044c\", \"\\u043c\\u043e\\u0447\\u044c\", \"\\u0441\\u0442\\u0430\\u043d\\u043e\\u0432\\u0438\\u0442\\u044c\\u0441\\u044f\", \"\\u0434\\u0440\\u0443\\u0433\", \"\\u043e\\u043f\\u044b\\u0442\", \"\\u0440\\u0430\\u0437\\u0433\\u043e\\u0432\\u043e\\u0440\", \"\\u043a\\u0430\\u0436\\u0434\\u044b\\u0439\", \"\\u0447\\u0435\\u043b\\u043e\\u0432\\u0435\\u043a\", \"\\u043f\\u043e\\u044d\\u0442\\u043e\\u043c\\u0443\", \"\\u043c\\u0435\\u043d\\u0442\\u043e\\u0440\", \"\\u043f\\u0440\\u043e\\u0441\\u0442\\u043e\", \"\\u043f\\u043b\\u0430\\u043d\", \"\\u043c\\u0435\\u043d\\u0442\\u043e\\u0440\\u0438\\u043d\\u0433\", \"\\u0440\\u0430\\u0431\\u043e\\u0442\\u0430\", \"\\u0446\\u0435\\u043b\\u044c\", \"\\u0433\\u0440\\u0443\\u043f\\u043f\\u043e\\u0432\\u043e\\u0439_\\u043c\\u0435\\u043d\\u0442\\u043e\\u0440\\u0438\\u043d\\u0433\", \"\\u043f\\u0440\\u043e\\u0444\\u0435\\u0441\\u0441\\u0438\\u044f\", \"\\u043a\\u0443\\u0440\\u0441\", \"\\u043b\\u0438\\u0447\\u043d\\u044b\\u0439\", \"\\u043c\\u0435\\u043d\\u0442\\u0438\", \"\\u0433\\u043e\\u0440\\u0438\\u0437\\u043e\\u043d\\u0442\", \"\\u043a\\u043d\\u0438\\u0433\\u0430\", \"\\u043b\\u0438\\u0442\\u0435\\u0440\\u0430\\u0442\\u0443\\u0440\\u0430\", \"\\u0447\\u0442\\u0435\\u043d\\u0438\\u0435\", \"\\u043e\\u0442\\u043d\\u043e\\u0448\\u0435\\u043d\\u0438\\u0435\", \"\\u0433\\u0440\\u0443\\u043f\\u043f\\u043e\\u0432\\u043e\\u0439\", \"\\u0440\\u0435\\u0433\\u0443\\u043b\\u044f\\u0440\\u043d\\u044b\\u0439\", \"\\u043f\\u043e\\u044f\\u0432\\u043b\\u044f\\u0442\\u044c\\u0441\\u044f\", \"\\u0433\\u043e\\u0434\\u043e\\u0432\\u043e\\u0439\", \"\\u043e\\u0433\\u0440\\u0430\\u043d\\u0438\\u0447\\u0435\\u043d\\u0438\\u0435\", \"\\u043f\\u043b\\u0430\\u043d\\u0438\\u0440\\u043e\\u0432\\u0430\\u043d\\u0438\\u0435\", \"\\u043f\\u0441\\u0438\\u0445\\u043e\\u043b\\u043e\\u0433\", \"\\u0433\\u043e\\u0440\\u0435\\u043b\\u043a\\u0430\", \"\\u043f\\u0440\\u043e\\u0431\\u0438\\u0440\\u043a\\u0430\", \"\\u043f\\u0440\\u043e\\u0447\\u0438\\u0442\\u044b\\u0432\\u0430\\u0442\\u044c\", \"\\u0444\\u043e\\u043d\\u0442\\u0430\\u043d\", \"\\u0440\\u0438\\u0434\\u0435\\u0440\", \"\\u0431\\u0443\\u043c\\u0430\\u0436\\u043d\\u044b\\u0439\", \"\\u0432\\u044b\\u0441\\u0442\\u0440\\u0430\\u0438\\u0432\\u0430\\u0442\\u044c\", \"\\u0434\\u043e\\u0445\\u043e\\u0434\\u0438\\u0442\\u044c\", \"\\u0437\\u0432\\u0430\\u0442\\u044c\", \"\\u0443\\u0447\\u0435\\u043d\\u0438\\u043a\", \"\\u0434\\u0435\\u043b\\u0438\\u0442\\u044c\\u0441\\u044f\", \"\\u043e\\u0431\\u0449\\u0430\\u0442\\u044c\\u0441\\u044f\", \"\\u043c\\u0435\\u0441\\u044f\\u0446\", \"\\u0432\\u043c\\u0435\\u0441\\u0442\\u0435\", \"\\u0430\\u0443\\u0434\\u0438\\u0442\", \"\\u043f\\u043b\\u0430\\u043d\", \"\\u0446\\u0435\\u043b\\u044c\", \"\\u0442\\u0435\\u0445\\u043d\\u0438\\u0447\\u0435\\u0441\\u043a\\u0438\\u0439\", \"\\u043f\\u0440\\u0438\\u0445\\u043e\\u0434\\u0438\\u0442\\u044c\", \"\\u0433\\u0440\\u0443\\u043f\\u043f\\u043e\\u0432\\u043e\\u0439_\\u043c\\u0435\\u043d\\u0442\\u043e\\u0440\\u0438\\u043d\\u0433\", \"\\u0441\\u043e\\u0431\\u0435\\u0441\\u0435\\u0434\\u043e\\u0432\\u0430\\u043d\\u0438\\u0435\", \"\\u043f\\u043e\\u043b\\u0443\\u0447\\u0430\\u0442\\u044c\", \"\\u0440\\u0430\\u0431\\u043e\\u0442\\u0430\\u0442\\u044c\", \"\\u043f\\u043e\\u043c\\u043e\\u0433\\u0430\\u0442\\u044c\", \"\\u043f\\u0440\\u043e\\u0445\\u043e\\u0434\\u0438\\u0442\\u044c\", \"\\u0432\\u0440\\u0435\\u043c\\u044f\", \"\\u043c\\u0438\\u0440\", \"\\u043f\\u043b\\u0430\\u043d\\u0438\\u0440\\u043e\\u0432\\u0430\\u0442\\u044c\", \"\\u043f\\u0440\\u043e\\u0441\\u0442\\u043e\", \"\\u0434\\u0435\\u043b\\u043e\", \"\\u0440\\u0443\\u043a\\u0430\", \"\\u043f\\u043e\\u043b\\u043d\\u044b\\u0439\", \"\\u0441\\u0435\\u0441\\u0441\\u0438\\u044f\", \"\\u043d\\u0430\\u043c\\u0435\\u0440\\u0435\\u043d\\u0438\\u0435\", \"\\u0441\\u0442\\u0430\\u0431\\u0438\\u043b\\u044c\\u043d\\u043e\\u0441\\u0442\\u044c\", \"\\u0432\\u0438\\u0434\\u0435\\u0442\\u044c\", \"\\u0433\\u043e\\u043b\\u043e\\u0432\\u0430\", \"\\u0436\\u0438\\u0442\\u044c\", \"\\u043b\\u0438\\u0431\\u043e\", \"\\u043d\\u0435\\u043e\\u043f\\u0440\\u0435\\u0434\\u0435\\u043b\\u0435\\u043d\\u043d\\u043e\\u0441\\u0442\\u044c\", \"\\u043e\\u0441\\u043e\\u0437\\u043d\\u0430\\u0432\\u0430\\u0442\\u044c\", \"\\u043e\\u0441\\u043e\\u0437\\u043d\\u0430\\u043d\\u0438\\u0435\", \"\\u043f\\u0440\\u043e\\u043a\\u0430\\u0447\\u0438\\u0432\\u0430\\u0442\\u044c\", \"\\u0441\\u0442\\u0440\\u0430\\u0445\", \"\\u0443\\u0440\\u043e\\u043a\", \"\\u0443\\u0447\\u0438\\u0442\\u044c\\u0441\\u044f\", \"\\u0445\\u043e\\u0442\\u0435\\u0442\\u044c\\u0441\\u044f\", \"\\u0443\\u0432\\u043e\\u043b\\u044c\\u043d\\u044f\\u0442\\u044c\\u0441\\u044f\", \"\\u0432\\u044b\\u0433\\u043e\\u0440\\u0430\\u043d\\u0438\\u0435\", \"\\u043a\\u043e\\u0443\\u0447\\u0438\\u043d\\u0433\\u043e\\u0432\\u044b\\u0439\", \"\\u0438\\u043d\\u0442\\u0435\\u0440\\u0432\\u044c\\u044e\", \"\\u043a\\u043e\\u0443\\u0447\\u0438\\u043d\\u0433\", \"\\u0436\\u0438\\u0437\\u043d\\u044c\", \"\\u0434\\u0435\\u043b\\u0430\\u0442\\u044c\", \"\\u043f\\u0440\\u043e\\u0432\\u043e\\u0434\\u0438\\u0442\\u044c\", \"\\u0432\\u043e\\u0437\\u043c\\u043e\\u0436\\u043d\\u044b\\u0439\", \"\\u0433\\u043e\\u0434\\u0430\\u044d\\u0442\\u043e\\u0442\", \"\\u0434\\u0435\\u0439\\u0441\\u0442\\u0432\\u0438\\u0435\", \"\\u043a\\u043e\\u0443\\u0447\\u0438\\u0432\\u0430\\u0442\\u044c\", \"\\u043d\\u0430\\u043c\\u043d\\u043e\\u0433\\u043e\", \"\\u043d\\u0435\\u043e\\u0441\\u043e\\u0437\\u043d\\u0430\\u043d\\u043d\\u044b\\u0439\", \"\\u043e\\u043f\\u043e\\u0440\\u0430\", \"\\u043d\\u0430\\u0432\\u044b\\u043a\", \"\\u0443\\u043c\\u0435\\u0442\\u044c\", \"\\u0437\\u043d\\u0430\\u0442\\u044c\", \"\\u043e\\u043a\\u043e\\u043b\\u043e\", \"\\u0441\\u043e\\u0441\\u0442\\u043e\\u044f\\u043d\\u0438\\u0435\", \"\\u043f\\u043e\\u043d\\u0438\\u043c\\u0430\\u043d\\u0438\\u0435\", \"\\u043e\\u0441\\u043d\\u043e\\u0432\\u043d\\u043e\\u0439\", \"\\u0440\\u0430\\u0437\\u0432\\u0438\\u0432\\u0430\\u0442\\u044c\", \"\\u043a\\u043b\\u0438\\u0435\\u043d\\u0442\", \"\\u043d\\u0430\\u0445\\u043e\\u0434\\u0438\\u0442\\u044c\", \"\\u0445\\u043e\\u0442\\u0435\\u0442\\u044c\", \"\\u043b\\u044e\\u0431\\u043e\\u0439\", \"\\u043c\\u0435\\u043d\\u0442\\u043e\\u0440\\u0438\\u043d\\u0433\", \"\\u043f\\u043e\\u043c\\u043e\\u0433\\u0430\\u0442\\u044c\", \"\\u0441\\u043e\\u0437\\u0434\\u0430\\u0432\\u0430\\u0442\\u044c\", \"\\u043f\\u0440\\u0438\\u043d\\u0438\\u043c\\u0430\\u0442\\u044c\", \"\\u0430\\u043d\\u0430\\u043b\\u0438\\u0437\", \"\\u0430\\u043f\\u0430\\u0442\\u0438\\u044f\", \"\\u0431\\u044b\\u0432\\u0430\\u0442\\u044c\", \"\\u0432\\u043e\\u0432\\u043b\\u0435\\u043a\\u0430\\u0442\\u044c\", \"\\u0432\\u044b\\u0433\\u043e\\u0434\\u0430\", \"\\u043c\\u043d\\u043e\\u0436\\u0435\\u0441\\u0442\\u0432\\u043e\", \"\\u043e\\u0442\\u0434\\u0435\\u043b\", \"\\u043f\\u043e\\u043b\\u0435\\u0437\\u043d\\u043e\", \"\\u043f\\u043e\\u0440\\u0430\", \"\\u0440\\u0438\\u0441\\u043a\", \"\\u0441\\u043a\\u0440\\u044b\\u0442\\u044b\\u0439\", \"\\u0441\\u0442\\u0440\\u0430\\u0441\\u0442\\u043d\\u044b\\u0439\", \"\\u0442\\u044f\\u043d\\u0443\\u0442\\u044c\\u0441\\u044f\", \"\\u043e\\u043f\\u0443\\u0441\\u043a\\u0430\\u0442\\u044c\\u0441\\u044f\", \"\\u0434\\u043e\\u043b\\u0433\\u043e\", \"\\u043f\\u0440\\u043e\\u0435\\u043a\\u0442\", \"\\u0431\\u0440\\u0430\\u0442\\u044c\", \"\\u0437\\u0430\\u043d\\u0438\\u043c\\u0430\\u0442\\u044c\\u0441\\u044f\", \"\\u0440\\u0435\\u0448\\u0435\\u043d\\u0438\\u0435\", \"\\u043d\\u0430\\u0445\\u043e\\u0434\\u0438\\u0442\\u044c\", \"\\u0440\\u0443\\u043a\\u0430\", \"\\u043d\\u0430\\u0447\\u0438\\u043d\\u0430\\u0442\\u044c\", \"\\u043a\\u043e\\u043d\\u0444\\u0435\\u0440\\u0435\\u043d\\u0446\\u0438\\u044f\", \"\\u0431\\u0438\\u043b\\u0430\\u0439\\u043d\", \"\\u043a\\u0430\\u0437\\u0430\\u0445\\u0441\\u043a\\u0438\\u0439\", \"\\u043a\\u0430\\u0437\\u0430\\u0445\\u0441\\u0442\\u0430\\u043d\", \"\\u043c\\u043b\\u043d\", \"\\u0447\\u0435\\u0442\\u0432\\u0435\\u0440\\u0433\", \"\\u043c\\u043d\\u043e\\u0433\\u0438\\u0439\", \"\\u0447\\u0435\\u043b\\u043e\\u0432\\u0435\\u043a\", \"\\u0440\\u0430\\u0437\\u0432\\u0438\\u0442\\u0438\\u0435\", \"\\u0431\\u0438\\u0437\\u043d\\u0435\\u0441\", \"\\u043a\\u043e\\u043c\\u0430\\u043d\\u0434\\u0430\", \"\\u043a\\u043e\\u043c\\u043f\\u0430\\u043d\\u0438\\u044f\", \"\\u043c\\u043e\\u0434\\u0435\\u043b\\u044c\", \"\\u0440\\u0430\\u0431\\u043e\\u0442\\u0430\"], \"Freq\": [7.0, 8.0, 16.0, 15.0, 8.0, 5.0, 7.0, 7.0, 7.0, 7.0, 6.0, 6.0, 5.0, 5.0, 5.0, 5.0, 5.0, 5.0, 5.0, 5.0, 5.0, 5.0, 5.0, 5.0, 5.0, 13.0, 17.0, 4.0, 10.0, 5.0, 15.024240663175842, 6.246226260496251, 6.6108947522431345, 5.1174368193332445, 4.906770250782714, 4.308600578346326, 4.23704207216771, 3.567313198519769, 3.567313198519769, 3.567313198519769, 3.567313198519769, 3.1048087427978306, 2.897583282322421, 2.897583282322421, 2.897583282322421, 2.8975829348059525, 5.5764984293977164, 2.2994101347213447, 2.2979022607627555, 2.291272689085407, 2.2912725153271727, 2.2278519760591977, 2.2278519760591977, 2.2278519760591977, 2.2278519760591977, 4.174998566907781, 2.246283902053582, 2.278852971761357, 1.6296720518869778, 1.6296720518869778, 9.085528945884073, 3.700735543943889, 5.771959067334731, 5.324321366152655, 10.043526205655462, 9.665094671673968, 2.963643730446452, 4.307932651693086, 3.3717257170716026, 2.8975829348059525, 3.6342170691138382, 4.531840640258399, 4.026787658149304, 3.1246682664464864, 2.9376877253837517, 4.968181231454792, 4.170677000567196, 4.170677000567196, 3.4865155453206094, 3.4864067802005647, 3.417831381768042, 2.8051260138761216, 2.8783742734475473, 2.8252241924512, 2.673227677954144, 2.7663115796039883, 2.765826608339279, 2.755706836148793, 2.2477738697901573, 2.187190976671063, 2.187190976671063, 2.186648160826595, 2.1699896431102297, 2.121374230964983, 2.121374230964983, 2.121374230964983, 2.1211930519321234, 2.116842014377862, 2.0553549571043366, 2.0553549571043366, 2.0553549571043366, 1.5600587955352094, 1.5034974710921503, 1.5034974710921503, 1.5034974710921503, 9.345381845865454, 3.3570175430823803, 3.6290013145991016, 3.365546228702449, 6.1207966552493565, 4.6584051869930425, 4.686139138597901, 4.526838627962449, 4.687461053133831, 7.346178540868729, 2.6732279664557885, 2.7361014183828303, 6.46057312023658, 2.728668173507616, 3.480038971899159, 2.7391182800812626, 3.755478993119162, 3.1268956487105615, 3.754210739889143, 2.905657296981769, 2.7608063912201795, 2.739246086309856, 3.030745865814644, 2.458184434216771, 4.15681864489998, 1.8868044874385765, 1.8868042861634795, 1.8868042861634795, 1.8868042861634795, 1.8856465518052528, 1.8838372899578781, 1.8868044874385765, 1.8797230256990967, 1.3141763331460317, 1.3141763331460317, 1.3141763331460317, 1.3141763331460317, 1.3141763331460317, 1.3141763331460317, 1.3141763331460317, 1.3141763331460317, 1.3141762325084831, 1.3141759305958376, 1.313243825621403, 1.313243825621403, 1.313243825621403, 1.3122599929470267, 1.3113179248552882, 1.310163511536163, 2.289548308180217, 1.883115718734957, 0.7415370080856005, 4.401137629103661, 4.021819411807181, 1.8868042861634795, 2.3256343165048663, 2.0329972325035692, 1.9939428190476394, 2.959164189024991, 2.4594305283426023, 1.6994558156293638, 1.5009580130068567, 1.3141763331460317, 1.3141763331460317, 1.3141763331460317, 1.3141763331460317, 1.3141763331460317, 1.3141763331460317, 1.3141763331460317, 3.0841328964174917, 1.5167289158505757, 1.4724240425911659, 1.4391805650780083, 1.0562854521698146, 1.0562854521698146, 1.0562854521698146, 1.0562854521698146, 1.0562854521698146, 1.0562854521698146, 1.0562854521698146, 1.0562854521698146, 1.0562854521698146, 1.0562854521698146, 1.0120586054045753, 1.0120586054045753, 0.9677759814061413, 0.9677759814061413, 0.9677759814061413, 2.2487432843302315, 1.8371895208451698, 2.3932133443865222, 1.3837463772756828, 0.5957749325446161, 0.5957749325446161, 0.5957749325446161, 0.5957749325446161, 0.5957749325446161, 0.5957749325446161, 0.5957749325446161, 2.402958890487798, 1.5167289158505757, 1.9758162223609361, 0.9677759814061413, 0.9677759814061413, 1.4099906440590002, 1.0120586054045753, 1.4724240425911659, 1.9596615331879466, 1.9127498600885404, 2.187796333654625, 1.4794855019458975, 1.479244149851765, 1.397970742754028, 1.0562854521698146, 5.249096514438193, 5.084827497264049, 5.084827497264049, 5.084827497264049, 5.084827497264049, 5.084827497264049, 5.084827497264049, 5.084827497264049, 5.084827497264049, 5.084827497264049, 5.084827497264049, 5.084827497264049, 5.084827497264049, 5.084827497264049, 5.084827497264049, 5.084827497264049, 5.599562027482264, 5.084827497264049, 5.084827497264049, 5.405062714524408, 5.084827497264049, 5.084827497264049, 5.249096514438193, 0.5797224960033958, 0.5464377557462932, 0.5464377557462932, 0.5464377557462932, 0.5464377557462932, 0.4167182873530175, 0.39956731853272903, 5.084827497264049, 0.5464377557462932, 0.8775232587496467, 0.7107078056580635, 0.7023439095162618, 0.613339728598038, 0.5530516533921107], \"Total\": [7.0, 8.0, 16.0, 15.0, 8.0, 5.0, 7.0, 7.0, 7.0, 7.0, 6.0, 6.0, 5.0, 5.0, 5.0, 5.0, 5.0, 5.0, 5.0, 5.0, 5.0, 5.0, 5.0, 5.0, 5.0, 13.0, 17.0, 4.0, 10.0, 5.0, 15.584614806926881, 6.80660040424729, 7.2293670246004575, 5.678776867832341, 5.467144394533753, 4.868974722097365, 4.797416215918749, 4.127687342270808, 4.127687342270808, 4.127687342270808, 4.127687342270808, 3.670244450377097, 3.45795742607346, 3.45795742607346, 3.45795742607346, 3.4579570785569915, 6.754625944474429, 2.8597842784723837, 2.8586396576791895, 2.857872535761741, 2.8578723620035067, 2.7882261198102367, 2.7882261198102367, 2.7882261198102367, 2.7882261198102367, 5.298129956780479, 2.8553753350931457, 2.9224181869018664, 2.190046195638017, 2.190046195638017, 12.822660124057748, 5.100421854170239, 8.137558125787704, 7.5509355149818616, 15.563895840628543, 17.403340905672444, 4.1459757313441985, 7.235879869559225, 5.115712505328808, 4.075710449882665, 5.801462253138305, 10.015726391898301, 16.766035400279335, 8.601322632410085, 7.983790716749535, 5.5600518023920555, 4.749953816002339, 4.749953816002339, 4.065971330140436, 4.065978285743667, 3.999465350110845, 3.3825848027295957, 3.4954045329378607, 3.433419800396687, 3.2505419433961116, 3.369733811993682, 3.369645909683987, 3.362060775142714, 2.8297169385844345, 2.7647132307196713, 2.7647132307196713, 2.7645632622868583, 2.7522810422800488, 2.6986884964069504, 2.6986884964069504, 2.6986884964069504, 2.6986999066572035, 2.697846986859866, 2.632669222546304, 2.632669222546304, 2.632669222546304, 2.1450761587129046, 2.080811736534118, 2.080811736534118, 2.080811736534118, 13.514408364530968, 4.766332840641047, 5.1975263175043205, 4.85875744824691, 10.103515888268301, 7.339403342074042, 7.983790716749535, 7.849998624956355, 8.601322632410085, 17.403340905672444, 3.823081372278631, 3.9855625860961132, 16.766035400279335, 4.041789103476094, 6.281448402656013, 4.461747889013727, 9.246695228773172, 6.632518455790182, 15.563895840628543, 8.439274454903977, 5.204009533234141, 4.655901659310842, 3.6425618943467946, 3.0697860954086753, 5.244861790447543, 2.4969556080077497, 2.4969554067326527, 2.4969554067326527, 2.4969554067326527, 2.497270468889435, 2.4973831365449617, 2.6611850676424758, 2.662446550557948, 1.924327453715205, 1.924327453715205, 1.924327453715205, 1.924327453715205, 1.924327453715205, 1.924327453715205, 1.924327453715205, 1.924327453715205, 1.9243273530776566, 1.924327051165011, 1.924580542063813, 1.924580542063813, 1.924580542063813, 1.9248491804631584, 1.9247984941314025, 1.924791487573732, 3.7202847620077053, 3.16696889932076, 1.351688128654774, 9.246695228773172, 8.439274454903977, 3.784296798937463, 6.065440462345594, 5.204009533234141, 5.145586650854492, 13.514408364530968, 10.015726391898301, 8.023756703489223, 7.339403342074042, 3.634561191958983, 5.801462253138305, 2.9579989104942057, 4.461747889013727, 4.836857522870021, 7.6250824473355845, 2.7562224064297705, 4.066260335485523, 2.1605027810982005, 2.116000987434943, 2.1257455285622138, 1.700100555121276, 1.700100555121276, 1.700100555121276, 1.700100555121276, 1.700100555121276, 1.700100555121276, 1.700100555121276, 1.700100555121276, 1.700100555121276, 1.700100555121276, 1.655565246003814, 1.655565246003814, 1.6110439409884645, 1.6110439409884645, 1.6110439409884645, 4.2105863913364585, 3.6811061411035695, 4.884957088158605, 2.8749940106761778, 1.2397184547906663, 1.2397184547906663, 1.2397184547906663, 1.2397184547906663, 1.2397184547906663, 1.2397184547906663, 1.2397184547906663, 5.055229105492929, 3.402629892039438, 4.762738419384148, 2.1835830813693393, 2.1835830813693393, 3.448000235452228, 2.3251532668829507, 3.687447609625615, 5.821610615414482, 7.613611204591086, 10.103515888268301, 4.87506972941898, 6.632518455790182, 8.023756703489223, 2.5339180356351387, 5.974584978189286, 5.810315961015142, 5.810315961015142, 5.810315961015142, 5.810315961015142, 5.810315961015142, 5.810315961015142, 5.810315961015142, 5.810315961015142, 5.810315961015142, 5.810315961015142, 5.810315961015142, 5.810315961015142, 5.810315961015142, 6.382855101396017, 6.382855101396017, 7.048194701223431, 7.05244307195638, 7.311798934608845, 8.035724181593753, 7.613611204591086, 7.6250824473355845, 8.931636352359451, 1.3125101956674214, 1.271926219497386, 1.271926219497386, 1.271926219497386, 1.271926219497386, 1.1444037502205435, 1.1256190456823565, 16.766035400279335, 1.8896795908230593, 5.58335434597409, 4.695077085101226, 12.822660124057748, 5.298129956780479, 15.563895840628543], \"Category\": [\"Default\", \"Default\", \"Default\", \"Default\", \"Default\", \"Default\", \"Default\", \"Default\", \"Default\", \"Default\", \"Default\", \"Default\", \"Default\", \"Default\", \"Default\", \"Default\", \"Default\", \"Default\", \"Default\", \"Default\", \"Default\", \"Default\", \"Default\", \"Default\", \"Default\", \"Default\", \"Default\", \"Default\", \"Default\", \"Default\", \"Topic1\", \"Topic1\", \"Topic1\", \"Topic1\", \"Topic1\", \"Topic1\", \"Topic1\", \"Topic1\", \"Topic1\", \"Topic1\", \"Topic1\", \"Topic1\", \"Topic1\", \"Topic1\", \"Topic1\", \"Topic1\", \"Topic1\", \"Topic1\", \"Topic1\", \"Topic1\", \"Topic1\", \"Topic1\", \"Topic1\", \"Topic1\", \"Topic1\", \"Topic1\", \"Topic1\", \"Topic1\", \"Topic1\", \"Topic1\", \"Topic1\", \"Topic1\", \"Topic1\", \"Topic1\", \"Topic1\", \"Topic1\", \"Topic1\", \"Topic1\", \"Topic1\", \"Topic1\", \"Topic1\", \"Topic1\", \"Topic1\", \"Topic1\", \"Topic1\", \"Topic2\", \"Topic2\", \"Topic2\", \"Topic2\", \"Topic2\", \"Topic2\", \"Topic2\", \"Topic2\", \"Topic2\", \"Topic2\", \"Topic2\", \"Topic2\", \"Topic2\", \"Topic2\", \"Topic2\", \"Topic2\", \"Topic2\", \"Topic2\", \"Topic2\", \"Topic2\", \"Topic2\", \"Topic2\", \"Topic2\", \"Topic2\", \"Topic2\", \"Topic2\", \"Topic2\", \"Topic2\", \"Topic2\", \"Topic2\", \"Topic2\", \"Topic2\", \"Topic2\", \"Topic2\", \"Topic2\", \"Topic2\", \"Topic2\", \"Topic2\", \"Topic2\", \"Topic2\", \"Topic2\", \"Topic2\", \"Topic2\", \"Topic2\", \"Topic2\", \"Topic2\", \"Topic2\", \"Topic2\", \"Topic2\", \"Topic2\", \"Topic2\", \"Topic2\", \"Topic3\", \"Topic3\", \"Topic3\", \"Topic3\", \"Topic3\", \"Topic3\", \"Topic3\", \"Topic3\", \"Topic3\", \"Topic3\", \"Topic3\", \"Topic3\", \"Topic3\", \"Topic3\", \"Topic3\", \"Topic3\", \"Topic3\", \"Topic3\", \"Topic3\", \"Topic3\", \"Topic3\", \"Topic3\", \"Topic3\", \"Topic3\", \"Topic3\", \"Topic3\", \"Topic3\", \"Topic3\", \"Topic3\", \"Topic3\", \"Topic3\", \"Topic3\", \"Topic3\", \"Topic3\", \"Topic3\", \"Topic3\", \"Topic3\", \"Topic3\", \"Topic3\", \"Topic3\", \"Topic3\", \"Topic3\", \"Topic3\", \"Topic3\", \"Topic3\", \"Topic3\", \"Topic3\", \"Topic4\", \"Topic4\", \"Topic4\", \"Topic4\", \"Topic4\", \"Topic4\", \"Topic4\", \"Topic4\", \"Topic4\", \"Topic4\", \"Topic4\", \"Topic4\", \"Topic4\", \"Topic4\", \"Topic4\", \"Topic4\", \"Topic4\", \"Topic4\", \"Topic4\", \"Topic4\", \"Topic4\", \"Topic4\", \"Topic4\", \"Topic4\", \"Topic4\", \"Topic4\", \"Topic4\", \"Topic4\", \"Topic4\", \"Topic4\", \"Topic4\", \"Topic4\", \"Topic4\", \"Topic4\", \"Topic4\", \"Topic4\", \"Topic4\", \"Topic4\", \"Topic4\", \"Topic4\", \"Topic4\", \"Topic4\", \"Topic4\", \"Topic4\", \"Topic4\", \"Topic5\", \"Topic5\", \"Topic5\", \"Topic5\", \"Topic5\", \"Topic5\", \"Topic5\", \"Topic5\", \"Topic5\", \"Topic5\", \"Topic5\", \"Topic5\", \"Topic5\", \"Topic5\", \"Topic5\", \"Topic5\", \"Topic5\", \"Topic5\", \"Topic5\", \"Topic5\", \"Topic5\", \"Topic5\", \"Topic5\", \"Topic5\", \"Topic5\", \"Topic5\", \"Topic5\", \"Topic5\", \"Topic5\", \"Topic5\", \"Topic5\", \"Topic5\", \"Topic5\", \"Topic5\", \"Topic5\", \"Topic5\", \"Topic5\"], \"logprob\": [30.0, 29.0, 28.0, 27.0, 26.0, 25.0, 24.0, 23.0, 22.0, 21.0, 20.0, 19.0, 18.0, 17.0, 16.0, 15.0, 14.0, 13.0, 12.0, 11.0, 10.0, 9.0, 8.0, 7.0, 6.0, 5.0, 4.0, 3.0, 2.0, 1.0, -3.9054, -4.7831, -4.7264, -4.9825, -5.0245, -5.1545, -5.1712, -5.3433, -5.3433, -5.3433, -5.3433, -5.4822, -5.5512, -5.5512, -5.5512, -5.5512, -4.8965, -5.7825, -5.7831, -5.786, -5.786, -5.8141, -5.8141, -5.8141, -5.8141, -5.186, -5.8058, -5.7914, -6.1267, -6.1267, -4.4084, -5.3066, -4.8621, -4.9428, -4.3082, -4.3466, -5.5287, -5.1547, -5.3997, -5.5512, -5.3247, -5.104, -5.2221, -5.4758, -5.5375, -4.8259, -5.0009, -5.0009, -5.1801, -5.1801, -5.2, -5.3975, -5.3718, -5.3904, -5.4457, -5.4115, -5.4117, -5.4153, -5.6191, -5.6464, -5.6464, -5.6466, -5.6543, -5.6769, -5.6769, -5.6769, -5.677, -5.6791, -5.7085, -5.7085, -5.7085, -5.9843, -6.0212, -6.0212, -6.0212, -4.1941, -5.2179, -5.14, -5.2154, -4.6173, -4.8903, -4.8844, -4.919, -4.8841, -4.4348, -5.4457, -5.4225, -4.5633, -5.4252, -5.182, -5.4214, -5.1058, -5.289, -5.1061, -5.3623, -5.4135, -5.4213, -4.9602, -5.1695, -4.6442, -5.4341, -5.4341, -5.4341, -5.4341, -5.4347, -5.4357, -5.4341, -5.4378, -5.7958, -5.7958, -5.7958, -5.7958, -5.7958, -5.7958, -5.7958, -5.7958, -5.7958, -5.7958, -5.7965, -5.7965, -5.7965, -5.7972, -5.7979, -5.7988, -5.2406, -5.436, -6.368, -4.5871, -4.6772, -5.4341, -5.225, -5.3595, -5.3789, -4.9841, -5.169, -5.5387, -5.6629, -5.7958, -5.7958, -5.7958, -5.7958, -5.7958, -5.7958, -5.7958, -4.4524, -5.1621, -5.1917, -5.2146, -5.5239, -5.5239, -5.5239, -5.5239, -5.5239, -5.5239, -5.5239, -5.5239, -5.5239, -5.5239, -5.5666, -5.5666, -5.6114, -5.6114, -5.6114, -4.7683, -4.9704, -4.706, -5.2538, -6.0965, -6.0965, -6.0965, -6.0965, -6.0965, -6.0965, -6.0965, -4.7019, -5.1621, -4.8976, -5.6114, -5.6114, -5.235, -5.5666, -5.1917, -4.9059, -4.9301, -4.7957, -5.1869, -5.1871, -5.2436, -5.5239, -3.6948, -3.7266, -3.7266, -3.7266, -3.7266, -3.7266, -3.7266, -3.7266, -3.7266, -3.7266, -3.7266, -3.7266, -3.7266, -3.7266, -3.7266, -3.7266, -3.6302, -3.7266, -3.7266, -3.6656, -3.7266, -3.7266, -3.6948, -5.8981, -5.9572, -5.9572, -5.9572, -5.9572, -6.2282, -6.2703, -3.7266, -5.9572, -5.4835, -5.6944, -5.7062, -5.8417, -5.9452], \"loglift\": [30.0, 29.0, 28.0, 27.0, 26.0, 25.0, 24.0, 23.0, 22.0, 21.0, 20.0, 19.0, 18.0, 17.0, 16.0, 15.0, 14.0, 13.0, 12.0, 11.0, 10.0, 9.0, 8.0, 7.0, 6.0, 5.0, 4.0, 3.0, 2.0, 1.0, 1.0776, 1.0283, 1.0248, 1.0101, 1.006, 0.9919, 0.99, 0.9683, 0.9683, 0.9683, 0.9683, 0.9469, 0.9374, 0.9374, 0.9374, 0.9374, 0.9225, 0.8961, 0.8958, 0.8932, 0.8932, 0.8898, 0.8898, 0.8898, 0.8898, 0.8759, 0.8743, 0.8654, 0.8186, 0.8186, 0.7697, 0.7934, 0.7707, 0.7648, 0.6762, 0.526, 0.7785, 0.5956, 0.6973, 0.773, 0.6465, 0.3212, -0.3122, 0.1016, 0.1144, 1.1877, 1.1702, 1.1702, 1.1465, 1.1465, 1.1431, 1.1131, 1.1061, 1.1053, 1.1048, 1.103, 1.1028, 1.1014, 1.0701, 1.066, 1.066, 1.0658, 1.0626, 1.0596, 1.0596, 1.0596, 1.0595, 1.0578, 1.0527, 1.0527, 1.0527, 0.9818, 0.9753, 0.9753, 0.9753, 0.9314, 0.9498, 0.9411, 0.9331, 0.7991, 0.8457, 0.7675, 0.7498, 0.6933, 0.4378, 0.9425, 0.9242, 0.3467, 0.9074, 0.7097, 0.8124, 0.3992, 0.5484, -0.1218, 0.2341, 0.6664, 0.7698, 1.4764, 1.4381, 1.4278, 1.3801, 1.3801, 1.3801, 1.3801, 1.3794, 1.3784, 1.3164, 1.3122, 1.279, 1.279, 1.279, 1.279, 1.279, 1.279, 1.279, 1.279, 1.279, 1.279, 1.2781, 1.2781, 1.2781, 1.2772, 1.2765, 1.2757, 1.1749, 1.1405, 1.0599, 0.9179, 0.9192, 0.9644, 0.7017, 0.7204, 0.7123, 0.1415, 0.2561, 0.1082, 0.0732, 0.643, 0.1754, 0.849, 0.438, 0.3573, -0.0979, 0.9197, 1.8742, 1.7969, 1.788, 1.7606, 1.6747, 1.6747, 1.6747, 1.6747, 1.6747, 1.6747, 1.6747, 1.6747, 1.6747, 1.6747, 1.6585, 1.6585, 1.641, 1.641, 1.641, 1.5234, 1.4557, 1.4371, 1.4194, 1.4179, 1.4179, 1.4179, 1.4179, 1.4179, 1.4179, 1.4179, 1.4069, 1.3427, 1.2708, 1.3369, 1.3369, 1.2565, 1.3189, 1.2326, 1.0619, 0.7693, 0.6207, 0.9582, 0.6502, 0.4033, 1.2757, 2.2469, 2.243, 2.243, 2.243, 2.243, 2.243, 2.243, 2.243, 2.243, 2.243, 2.243, 2.243, 2.243, 2.243, 2.1491, 2.1491, 2.1463, 2.0493, 2.0132, 1.9798, 1.9727, 1.9712, 1.8449, 1.5593, 1.5315, 1.5315, 1.5315, 1.5315, 1.3662, 1.3407, 1.1833, 1.1357, 0.526, 0.4884, -0.5281, 0.2202, -0.9609]}, \"token.table\": {\"Topic\": [1, 1, 2, 5, 5, 2, 3, 1, 2, 3, 5, 5, 1, 3, 5, 3, 5, 1, 4, 2, 1, 3, 5, 1, 2, 4, 2, 1, 3, 4, 5, 4, 3, 4, 3, 4, 3, 3, 3, 2, 3, 1, 4, 1, 4, 3, 1, 3, 4, 2, 3, 5, 3, 1, 2, 4, 1, 2, 3, 4, 4, 1, 4, 5, 2, 4, 3, 1, 4, 2, 2, 1, 4, 2, 1, 2, 1, 2, 5, 5, 2, 1, 1, 2, 4, 3, 1, 2, 5, 1, 2, 1, 2, 5, 5, 2, 4, 2, 4, 2, 4, 1, 3, 4, 3, 3, 1, 2, 4, 1, 1, 2, 1, 3, 4, 1, 2, 1, 2, 3, 4, 2, 2, 3, 1, 3, 4, 5, 5, 1, 5, 1, 2, 1, 1, 2, 4, 1, 4, 4, 2, 4, 5, 1, 4, 5, 4, 4, 2, 1, 2, 2, 3, 3, 3, 4, 4, 3, 5, 1, 2, 1, 2, 1, 4, 4, 4, 2, 5, 3, 2, 1, 1, 2, 1, 2, 3, 3, 2, 3, 4, 2, 2, 1, 1, 4, 1, 3, 4, 2, 5, 3, 4, 1, 2, 3, 1, 2, 3, 4, 2, 4, 5, 1, 2, 3, 2, 4, 2, 5, 1, 3, 4, 3, 2, 4, 1, 5, 4, 2, 3, 1, 2, 2, 3, 4, 3, 3, 1, 2, 4, 1, 2, 4, 5, 1, 2, 3, 4, 1, 1, 1, 4, 2, 5, 2, 3, 1, 2, 3, 2, 1, 4, 5, 3, 5, 1, 1, 3, 5, 1, 1, 1, 1, 4, 5, 2, 1, 2, 3, 2, 1, 4, 2, 3, 4, 4, 1, 2, 3, 5, 4, 1, 2, 1, 2, 4, 1, 1, 2, 3, 5, 4, 1, 3, 4, 4, 3, 4, 3, 1, 1, 2, 4, 4, 1, 2, 3, 4, 2, 1, 2, 3, 5, 3], \"Freq\": [0.9690656458004491, 0.9132227457043883, 0.7411007245418697, 0.8605383998990704, 0.8605383998990704, 0.7067844747045617, 0.7398156266972762, 0.35820760712457944, 0.35820760712457944, 0.17910380356228972, 0.17910380356228972, 0.7862091249248402, 0.14179483475399335, 0.14179483475399335, 0.7089741737699666, 0.5196621849672528, 0.8605383998990704, 0.9624876960919793, 0.47042319344609795, 0.7411007245418697, 0.3157593370160586, 0.6315186740321173, 0.8605383998990704, 0.7360679903270279, 0.24535599677567596, 0.8066347614135145, 0.8992721970412022, 0.2751363774566174, 0.2751363774566174, 0.2751363774566174, 0.8605383998990704, 0.6207155339204744, 0.5195937390739989, 0.8066347614135145, 0.5196620762590841, 0.5882005020159913, 0.5196620762590841, 0.8009753932292547, 0.8008382737648044, 0.5764785749989945, 0.38431904999932964, 0.6996334758833216, 0.8066347614135145, 0.40942017788612844, 0.40942017788612844, 0.5195349035490943, 0.41349160907540444, 0.20674580453770222, 0.20674580453770222, 0.7411007245418697, 0.15666970095894647, 0.7833485047947324, 0.5195937390739989, 0.3487835683195855, 0.5813059471993092, 0.11626118943986184, 0.8675641803394107, 0.27165747513604893, 0.27165747513604893, 0.5433149502720979, 0.5882005020159913, 0.13676524873608226, 0.13676524873608226, 0.6838262436804113, 0.6174418114002441, 0.20581393713341473, 0.5195937390739989, 0.4199264842805733, 0.4199264842805733, 0.8421134509822422, 0.7234415747627319, 0.9690656458004491, 0.6207155339204744, 0.7596852589272914, 0.6621696066771418, 0.2648678426708567, 0.2509056070248559, 0.7527168210745678, 0.7862091249248402, 0.7862091249248402, 0.8421134509822422, 0.8675641803394107, 0.3435475390099765, 0.3435475390099765, 0.3435475390099765, 0.8009754577944446, 0.42597809657833974, 0.42597809657833974, 0.21298904828916987, 0.8882801282146874, 0.14804668803578122, 0.7018824419368559, 0.23396081397895196, 0.07798693799298399, 0.7618988433773594, 0.8868957247070741, 0.8066347614135145, 0.47499322282405215, 0.47499322282405215, 0.8737644023761351, 0.6207155339204744, 0.8337821485505534, 0.8235961630894888, 0.5882005020159913, 0.8009754577944446, 0.6515111925848187, 0.41025054224985696, 0.20512527112492848, 0.20512527112492848, 0.9132227457043883, 0.8173842479870154, 0.9611633598968828, 0.6998213169316992, 0.7626511736277193, 0.19066279340692982, 0.318397903126026, 0.477596854689039, 0.15077229059604064, 0.4523168717881219, 0.15077229059604064, 0.15077229059604064, 0.7234023325737071, 0.2687966282076578, 0.5375932564153156, 0.6894813454722035, 0.17237033636805088, 0.17237033636805088, 0.7862091249248402, 0.8605383998990704, 0.7549833682129392, 0.1887458420532348, 0.3757613527752139, 0.6262689212920232, 0.9690656458004491, 0.39562994243462335, 0.19781497121731167, 0.39562994243462335, 0.7173019382431284, 0.9257104492054319, 0.8066347614135145, 0.8582697572571159, 0.2626874352073533, 0.6567185880183832, 0.2239231335780553, 0.11196156678902765, 0.5598078339451382, 0.5882005020159913, 0.8066347614135145, 0.7501002602552501, 0.8804712909786436, 0.9229230239883169, 0.7413318878873414, 0.5195367947416141, 0.5196620762590841, 0.4579628815281411, 0.4579628815281411, 0.8066347614135145, 0.15666970095894647, 0.7833485047947324, 0.5746023165437506, 0.4022216215806254, 0.7373219222835607, 0.24577397409452026, 0.4300791755291805, 0.4300791755291805, 0.5882005020159913, 0.5882005020159913, 0.7234023325737071, 0.8605383998990704, 0.8008744046412494, 0.9611633598968828, 0.699821274382665, 0.7235932370080099, 0.24119774566933666, 0.1081467459734452, 0.4325869838937808, 0.4325869838937808, 0.5196620762590841, 0.3380663855055057, 0.3380663855055057, 0.3380663855055057, 0.7596852589272914, 0.9323678284691049, 0.9682728759212313, 0.7842488551666554, 0.19606221379166386, 0.5864285760536845, 0.19547619201789485, 0.19547619201789485, 0.8902780360045913, 0.8605383998990704, 0.3628154236273459, 0.3628154236273459, 0.07399510012029344, 0.6659559010826409, 0.2219853003608803, 0.3738897016525209, 0.24925980110168058, 0.24925980110168058, 0.12462990055084029, 0.5800463641028977, 0.29002318205144884, 0.8605383998990704, 0.24741518530493378, 0.7422455559148013, 0.7511887889658764, 0.7695968727524726, 0.19239921818811814, 0.9611633598968828, 0.8368782130060768, 0.32973697663278534, 0.32973697663278534, 0.16486848831639267, 0.5196620762590841, 0.347826811564316, 0.347826811564316, 0.14188030302659194, 0.8512818181595516, 0.5882005020159913, 0.6723822310505204, 0.2241274103501735, 0.42956233751209344, 0.6443435062681402, 0.6812542882521361, 0.27250171530085443, 0.13625085765042722, 0.5196620762590841, 0.5196620762590841, 0.8675642675275491, 0.6294147094428504, 0.2098049031476168, 0.6425126525131096, 0.25700506100524384, 0.06425126525131096, 0.06425126525131096, 0.49921491506042825, 0.1996859660241713, 0.1996859660241713, 0.09984298301208565, 0.6843647527803861, 0.7173019382431284, 0.5423805872602103, 0.27119029363010516, 0.5291902420158144, 0.5291902420158144, 0.7847073362741274, 0.2615691120913758, 0.8215281919305089, 0.8903012602535875, 0.7515448753708006, 0.8923098660739275, 0.24888858238577982, 0.12444429119288991, 0.6222214559644496, 0.519662103436122, 0.8605383998990704, 0.6993534495085565, 0.13114612293135633, 0.13114612293135633, 0.6557306146567817, 0.8675641803394107, 0.7004333109625175, 0.9690656458004491, 0.9145542241392379, 0.7377786350321792, 0.8605383998990704, 0.7596852589272914, 0.19434130019634144, 0.3886826003926829, 0.3886826003926829, 0.7266699763855354, 0.39464575646755096, 0.39464575646755096, 0.741097591127625, 0.4579628815281411, 0.4579628815281411, 0.4725895715257767, 0.25477711469167547, 0.6369427867291887, 0.12738855734583773, 0.8605383998990704, 0.5882005020159913, 0.7173019382431284, 0.7378298134347513, 0.5528007750415653, 0.27640038752078266, 0.13820019376039133, 0.8814973178469571, 0.2642498866052935, 0.2642498866052935, 0.528499773210587, 0.8605383998990704, 0.6040233101134428, 0.2938903235816308, 0.2938903235816308, 0.5877806471632616, 0.5882005020159913, 0.5195212228312762, 0.5882005020159913, 0.5196620762590841, 0.7173019382431284, 0.19795089374009894, 0.5938526812202969, 0.19795089374009894, 0.6040233101134428, 0.11849359863144517, 0.3554807958943355, 0.47397439452578066, 0.11849359863144517, 0.7378310756304279, 0.2385775709344713, 0.35786635640170694, 0.059644392733617824, 0.2982219636680891, 0.8009754577944446], \"Term\": [\"\\u0430\\u0433\\u0440\\u0435\\u0433\\u0430\\u0442\\u043e\\u0440\", \"\\u0430\\u0439\\u0442\\u0438\\u0448\\u0435\\u0447\\u043a\\u0430\", \"\\u0430\\u043a\\u0442\\u0443\\u0430\\u0440\\u0438\\u0439\", \"\\u0430\\u043d\\u0430\\u043b\\u0438\\u0437\", \"\\u0430\\u043f\\u0430\\u0442\\u0438\\u044f\", \"\\u0430\\u043f\\u0433\\u0440\\u0435\\u0439\\u0434\", \"\\u0430\\u0443\\u0434\\u0438\\u0442\", \"\\u0431\\u0438\\u0437\\u043d\\u0435\\u0441\", \"\\u0431\\u0438\\u0437\\u043d\\u0435\\u0441\", \"\\u0431\\u0438\\u0437\\u043d\\u0435\\u0441\", \"\\u0431\\u0438\\u0437\\u043d\\u0435\\u0441\", \"\\u0431\\u0438\\u043b\\u0430\\u0439\\u043d\", \"\\u0431\\u0440\\u0430\\u0442\\u044c\", \"\\u0431\\u0440\\u0430\\u0442\\u044c\", \"\\u0431\\u0440\\u0430\\u0442\\u044c\", \"\\u0431\\u0443\\u043c\\u0430\\u0436\\u043d\\u044b\\u0439\", \"\\u0431\\u044b\\u0432\\u0430\\u0442\\u044c\", \"\\u0432\\u0430\\u043a\\u0430\\u043d\\u0441\\u0438\\u044f\", \"\\u0432\\u0438\\u0434\\u0435\\u0442\\u044c\", \"\\u0432\\u0438\\u043f\\u0430\\u0441\\u0441\\u0430\\u043d\", \"\\u0432\\u043c\\u0435\\u0441\\u0442\\u0435\", \"\\u0432\\u043c\\u0435\\u0441\\u0442\\u0435\", \"\\u0432\\u043e\\u0432\\u043b\\u0435\\u043a\\u0430\\u0442\\u044c\", \"\\u0432\\u043e\\u0437\\u043c\\u043e\\u0436\\u043d\\u043e\\u0441\\u0442\\u044c\", \"\\u0432\\u043e\\u0437\\u043c\\u043e\\u0436\\u043d\\u043e\\u0441\\u0442\\u044c\", \"\\u0432\\u043e\\u0437\\u043c\\u043e\\u0436\\u043d\\u044b\\u0439\", \"\\u0432\\u043e\\u043f\\u0440\\u043e\\u0441\", \"\\u0432\\u0440\\u0435\\u043c\\u044f\", \"\\u0432\\u0440\\u0435\\u043c\\u044f\", \"\\u0432\\u0440\\u0435\\u043c\\u044f\", \"\\u0432\\u044b\\u0433\\u043e\\u0434\\u0430\", \"\\u0432\\u044b\\u0433\\u043e\\u0440\\u0430\\u043d\\u0438\\u0435\", \"\\u0432\\u044b\\u0441\\u0442\\u0440\\u0430\\u0438\\u0432\\u0430\\u0442\\u044c\", \"\\u0433\\u043e\\u0434\\u0430\\u044d\\u0442\\u043e\\u0442\", \"\\u0433\\u043e\\u0434\\u043e\\u0432\\u043e\\u0439\", \"\\u0433\\u043e\\u043b\\u043e\\u0432\\u0430\", \"\\u0433\\u043e\\u0440\\u0435\\u043b\\u043a\\u0430\", \"\\u0433\\u043e\\u0440\\u0438\\u0437\\u043e\\u043d\\u0442\", \"\\u0433\\u0440\\u0443\\u043f\\u043f\\u043e\\u0432\\u043e\\u0439\", \"\\u0433\\u0440\\u0443\\u043f\\u043f\\u043e\\u0432\\u043e\\u0439_\\u043c\\u0435\\u043d\\u0442\\u043e\\u0440\\u0438\\u043d\\u0433\", \"\\u0433\\u0440\\u0443\\u043f\\u043f\\u043e\\u0432\\u043e\\u0439_\\u043c\\u0435\\u043d\\u0442\\u043e\\u0440\\u0438\\u043d\\u0433\", \"\\u0434\\u0430\\u043d\\u043d\\u044b\\u0435\", \"\\u0434\\u0435\\u0439\\u0441\\u0442\\u0432\\u0438\\u0435\", \"\\u0434\\u0435\\u043b\\u0430\\u0442\\u044c\", \"\\u0434\\u0435\\u043b\\u0430\\u0442\\u044c\", \"\\u0434\\u0435\\u043b\\u0438\\u0442\\u044c\\u0441\\u044f\", \"\\u0434\\u0435\\u043b\\u043e\", \"\\u0434\\u0435\\u043b\\u043e\", \"\\u0434\\u0435\\u043b\\u043e\", \"\\u0434\\u043d\\u0435\\u0432\\u043d\\u043e\\u0439\", \"\\u0434\\u043e\\u043b\\u0433\\u043e\", \"\\u0434\\u043e\\u043b\\u0433\\u043e\", \"\\u0434\\u043e\\u0445\\u043e\\u0434\\u0438\\u0442\\u044c\", \"\\u0434\\u0440\\u0443\\u0433\", \"\\u0434\\u0440\\u0443\\u0433\", \"\\u0434\\u0440\\u0443\\u0433\", \"\\u0436\\u0435\\u043d\\u0449\\u0438\\u043d\\u0430\", \"\\u0436\\u0438\\u0437\\u043d\\u044c\", \"\\u0436\\u0438\\u0437\\u043d\\u044c\", \"\\u0436\\u0438\\u0437\\u043d\\u044c\", \"\\u0436\\u0438\\u0442\\u044c\", \"\\u0437\\u0430\\u043d\\u0438\\u043c\\u0430\\u0442\\u044c\\u0441\\u044f\", \"\\u0437\\u0430\\u043d\\u0438\\u043c\\u0430\\u0442\\u044c\\u0441\\u044f\", \"\\u0437\\u0430\\u043d\\u0438\\u043c\\u0430\\u0442\\u044c\\u0441\\u044f\", \"\\u0437\\u0430\\u043f\\u0440\\u043e\\u0441\", \"\\u0437\\u0430\\u043f\\u0440\\u043e\\u0441\", \"\\u0437\\u0432\\u0430\\u0442\\u044c\", \"\\u0437\\u043d\\u0430\\u0442\\u044c\", \"\\u0437\\u043d\\u0430\\u0442\\u044c\", \"\\u0438\\u0434\\u0442\\u0438\", \"\\u0438\\u043d\\u0432\\u0435\\u0441\\u0442\\u0438\\u0446\\u0438\\u044f\", \"\\u0438\\u043d\\u0436\\u0435\\u043d\\u0435\\u0440\", \"\\u0438\\u043d\\u0442\\u0435\\u0440\\u0432\\u044c\\u044e\", \"\\u0438\\u043d\\u0444\\u043e\\u0440\\u043c\\u0430\\u0446\\u0438\\u044f\", \"\\u0438\\u0441\\u043a\\u0430\\u0442\\u044c\", \"\\u0438\\u0441\\u043a\\u0430\\u0442\\u044c\", \"\\u043a\\u0430\\u0436\\u0434\\u044b\\u0439\", \"\\u043a\\u0430\\u0436\\u0434\\u044b\\u0439\", \"\\u043a\\u0430\\u0437\\u0430\\u0445\\u0441\\u043a\\u0438\\u0439\", \"\\u043a\\u0430\\u0437\\u0430\\u0445\\u0441\\u0442\\u0430\\u043d\", \"\\u043a\\u0430\\u0440\\u044c\\u0435\\u0440\\u0430\", \"\\u043a\\u0430\\u0442\\u044f\", \"\\u043a\\u043b\\u0438\\u0435\\u043d\\u0442\", \"\\u043a\\u043b\\u0438\\u0435\\u043d\\u0442\", \"\\u043a\\u043b\\u0438\\u0435\\u043d\\u0442\", \"\\u043a\\u043d\\u0438\\u0433\\u0430\", \"\\u043a\\u043e\\u043c\\u0430\\u043d\\u0434\\u0430\", \"\\u043a\\u043e\\u043c\\u0430\\u043d\\u0434\\u0430\", \"\\u043a\\u043e\\u043c\\u0430\\u043d\\u0434\\u0430\", \"\\u043a\\u043e\\u043c\\u043c\\u0435\\u043d\\u0442\\u0430\\u0440\\u0438\\u0439\", \"\\u043a\\u043e\\u043c\\u043c\\u0435\\u043d\\u0442\\u0430\\u0440\\u0438\\u0439\", \"\\u043a\\u043e\\u043c\\u043f\\u0430\\u043d\\u0438\\u044f\", \"\\u043a\\u043e\\u043c\\u043f\\u0430\\u043d\\u0438\\u044f\", \"\\u043a\\u043e\\u043c\\u043f\\u0430\\u043d\\u0438\\u044f\", \"\\u043a\\u043e\\u043d\\u0444\\u0435\\u0440\\u0435\\u043d\\u0446\\u0438\\u044f\", \"\\u043a\\u043e\\u0443\\u0447\", \"\\u043a\\u043e\\u0443\\u0447\\u0438\\u0432\\u0430\\u0442\\u044c\", \"\\u043a\\u043e\\u0443\\u0447\\u0438\\u043d\\u0433\", \"\\u043a\\u043e\\u0443\\u0447\\u0438\\u043d\\u0433\", \"\\u043a\\u043e\\u0443\\u0447\\u0438\\u043d\\u0433\\u0430\", \"\\u043a\\u043e\\u0443\\u0447\\u0438\\u043d\\u0433\\u043e\\u0432\\u044b\\u0439\", \"\\u043a\\u0440\\u0443\\u043f\\u043d\\u044b\\u0439\", \"\\u043a\\u0443\\u0440\\u0441\", \"\\u043b\\u0438\\u0431\\u043e\", \"\\u043b\\u0438\\u0442\\u0435\\u0440\\u0430\\u0442\\u0443\\u0440\\u0430\", \"\\u043b\\u0438\\u0447\\u043d\\u044b\\u0439\", \"\\u043b\\u044e\\u0431\\u043e\\u0439\", \"\\u043b\\u044e\\u0431\\u043e\\u0439\", \"\\u043b\\u044e\\u0431\\u043e\\u0439\", \"\\u043c\\u0430\\u0441\\u0442\\u0435\\u0440\", \"\\u043c\\u0430\\u0442\\u0435\\u0440\\u0438\\u0430\\u043b\", \"\\u043c\\u0435\\u0434\\u0438\\u0442\\u0430\\u0442\\u0438\\u0432\\u043d\\u044b\\u0439\", \"\\u043c\\u0435\\u043d\\u0435\\u0434\\u0436\\u0435\\u0440\", \"\\u043c\\u0435\\u043d\\u0442\\u0438\", \"\\u043c\\u0435\\u043d\\u0442\\u0438\", \"\\u043c\\u0435\\u043d\\u0442\\u043e\\u0440\", \"\\u043c\\u0435\\u043d\\u0442\\u043e\\u0440\", \"\\u043c\\u0435\\u043d\\u0442\\u043e\\u0440\\u0438\\u043d\\u0433\", \"\\u043c\\u0435\\u043d\\u0442\\u043e\\u0440\\u0438\\u043d\\u0433\", \"\\u043c\\u0435\\u043d\\u0442\\u043e\\u0440\\u0438\\u043d\\u0433\", \"\\u043c\\u0435\\u043d\\u0442\\u043e\\u0440\\u0438\\u043d\\u0433\", \"\\u043c\\u0435\\u0441\\u0442\\u043e\", \"\\u043c\\u0435\\u0441\\u044f\\u0446\", \"\\u043c\\u0435\\u0441\\u044f\\u0446\", \"\\u043c\\u0438\\u0440\", \"\\u043c\\u0438\\u0440\", \"\\u043c\\u0438\\u0440\", \"\\u043c\\u043b\\u043d\", \"\\u043c\\u043d\\u043e\\u0436\\u0435\\u0441\\u0442\\u0432\\u043e\", \"\\u043c\\u043e\\u0434\\u0435\\u043b\\u044c\", \"\\u043c\\u043e\\u0434\\u0435\\u043b\\u044c\", \"\\u043c\\u043e\\u0447\\u044c\", \"\\u043c\\u043e\\u0447\\u044c\", \"\\u043c\\u0443\\u0436\\u0447\\u0438\\u043d\\u0430\", \"\\u043d\\u0430\\u0432\\u044b\\u043a\", \"\\u043d\\u0430\\u0432\\u044b\\u043a\", \"\\u043d\\u0430\\u0432\\u044b\\u043a\", \"\\u043d\\u0430\\u0433\\u0440\\u0443\\u0437\\u043e\\u0447\\u043d\\u044b\\u0439\", \"\\u043d\\u0430\\u043c\\u0435\\u0440\\u0435\\u043d\\u0438\\u0435\", \"\\u043d\\u0430\\u043c\\u043d\\u043e\\u0433\\u043e\", \"\\u043d\\u0430\\u0443\\u0447\\u0430\\u0442\\u044c\\u0441\\u044f\", \"\\u043d\\u0430\\u0445\\u043e\\u0434\\u0438\\u0442\\u044c\", \"\\u043d\\u0430\\u0445\\u043e\\u0434\\u0438\\u0442\\u044c\", \"\\u043d\\u0430\\u0447\\u0438\\u043d\\u0430\\u0442\\u044c\", \"\\u043d\\u0430\\u0447\\u0438\\u043d\\u0430\\u0442\\u044c\", \"\\u043d\\u0430\\u0447\\u0438\\u043d\\u0430\\u0442\\u044c\", \"\\u043d\\u0435\\u043e\\u043f\\u0440\\u0435\\u0434\\u0435\\u043b\\u0435\\u043d\\u043d\\u043e\\u0441\\u0442\\u044c\", \"\\u043d\\u0435\\u043e\\u0441\\u043e\\u0437\\u043d\\u0430\\u043d\\u043d\\u044b\\u0439\", \"\\u043d\\u0435\\u0441\\u043a\\u043e\\u043b\\u044c\\u043a\\u043e\", \"\\u043d\\u043e\\u0432\\u044b\\u0439\", \"\\u043e\\u0431\\u043e\", \"\\u043e\\u0431\\u0441\\u0443\\u0436\\u0434\\u0430\\u0442\\u044c\", \"\\u043e\\u0431\\u0449\\u0430\\u0442\\u044c\\u0441\\u044f\", \"\\u043e\\u0433\\u0440\\u0430\\u043d\\u0438\\u0447\\u0435\\u043d\\u0438\\u0435\", \"\\u043e\\u043a\\u043e\\u043b\\u043e\", \"\\u043e\\u043a\\u043e\\u043b\\u043e\", \"\\u043e\\u043f\\u043e\\u0440\\u0430\", \"\\u043e\\u043f\\u0443\\u0441\\u043a\\u0430\\u0442\\u044c\\u0441\\u044f\", \"\\u043e\\u043f\\u0443\\u0441\\u043a\\u0430\\u0442\\u044c\\u0441\\u044f\", \"\\u043e\\u043f\\u044b\\u0442\", \"\\u043e\\u043f\\u044b\\u0442\", \"\\u043e\\u043f\\u044b\\u0442_\\u0440\\u0430\\u0431\\u043e\\u0442\\u0430\", \"\\u043e\\u043f\\u044b\\u0442_\\u0440\\u0430\\u0431\\u043e\\u0442\\u0430\", \"\\u043e\\u0441\\u043d\\u043e\\u0432\\u043d\\u043e\\u0439\", \"\\u043e\\u0441\\u043d\\u043e\\u0432\\u043d\\u043e\\u0439\", \"\\u043e\\u0441\\u043e\\u0437\\u043d\\u0430\\u0432\\u0430\\u0442\\u044c\", \"\\u043e\\u0441\\u043e\\u0437\\u043d\\u0430\\u043d\\u0438\\u0435\", \"\\u043e\\u0441\\u0442\\u0430\\u0432\\u0430\\u0442\\u044c\\u0441\\u044f\", \"\\u043e\\u0442\\u0434\\u0435\\u043b\", \"\\u043e\\u0442\\u043d\\u043e\\u0448\\u0435\\u043d\\u0438\\u0435\", \"\\u043e\\u0444\\u0438\\u0446\\u0438\\u0430\\u043b\\u044c\\u043d\\u044b\\u0439\", \"\\u043e\\u0446\\u0435\\u043d\\u043a\\u0430\", \"\\u043f\\u0438\\u0441\\u0430\\u0442\\u044c\", \"\\u043f\\u0438\\u0441\\u0430\\u0442\\u044c\", \"\\u043f\\u043b\\u0430\\u043d\", \"\\u043f\\u043b\\u0430\\u043d\", \"\\u043f\\u043b\\u0430\\u043d\", \"\\u043f\\u043b\\u0430\\u043d\\u0438\\u0440\\u043e\\u0432\\u0430\\u043d\\u0438\\u0435\", \"\\u043f\\u043b\\u0430\\u043d\\u0438\\u0440\\u043e\\u0432\\u0430\\u0442\\u044c\", \"\\u043f\\u043b\\u0430\\u043d\\u0438\\u0440\\u043e\\u0432\\u0430\\u0442\\u044c\", \"\\u043f\\u043b\\u0430\\u043d\\u0438\\u0440\\u043e\\u0432\\u0430\\u0442\\u044c\", \"\\u043f\\u043e\\u0434\\u0433\\u043e\\u0442\\u043e\\u0432\\u043a\\u0430\", \"\\u043f\\u043e\\u0434\\u0440\\u043e\\u0431\\u043d\\u043e\\u0441\\u0442\\u044c\", \"\\u043f\\u043e\\u0434\\u0445\\u043e\\u0434\\u0438\\u0442\\u044c\", \"\\u043f\\u043e\\u0438\\u0441\\u043a\", \"\\u043f\\u043e\\u0438\\u0441\\u043a\", \"\\u043f\\u043e\\u0438\\u0441\\u043a_\\u0440\\u0430\\u0431\\u043e\\u0442\\u0430\", \"\\u043f\\u043e\\u0438\\u0441\\u043a_\\u0440\\u0430\\u0431\\u043e\\u0442\\u0430\", \"\\u043f\\u043e\\u0438\\u0441\\u043a_\\u0440\\u0430\\u0431\\u043e\\u0442\\u0430\", \"\\u043f\\u043e\\u0439\\u0442\\u0438\", \"\\u043f\\u043e\\u043b\\u0435\\u0437\\u043d\\u043e\", \"\\u043f\\u043e\\u043b\\u043d\\u044b\\u0439\", \"\\u043f\\u043e\\u043b\\u043d\\u044b\\u0439\", \"\\u043f\\u043e\\u043b\\u0443\\u0447\\u0430\\u0442\\u044c\", \"\\u043f\\u043e\\u043b\\u0443\\u0447\\u0430\\u0442\\u044c\", \"\\u043f\\u043e\\u043b\\u0443\\u0447\\u0430\\u0442\\u044c\", \"\\u043f\\u043e\\u043c\\u043e\\u0433\\u0430\\u0442\\u044c\", \"\\u043f\\u043e\\u043c\\u043e\\u0433\\u0430\\u0442\\u044c\", \"\\u043f\\u043e\\u043c\\u043e\\u0433\\u0430\\u0442\\u044c\", \"\\u043f\\u043e\\u043c\\u043e\\u0433\\u0430\\u0442\\u044c\", \"\\u043f\\u043e\\u043d\\u0438\\u043c\\u0430\\u043d\\u0438\\u0435\", \"\\u043f\\u043e\\u043d\\u0438\\u043c\\u0430\\u043d\\u0438\\u0435\", \"\\u043f\\u043e\\u0440\\u0430\", \"\\u043f\\u043e\\u044d\\u0442\\u043e\\u043c\\u0443\", \"\\u043f\\u043e\\u044d\\u0442\\u043e\\u043c\\u0443\", \"\\u043f\\u043e\\u044f\\u0432\\u043b\\u044f\\u0442\\u044c\\u0441\\u044f\", \"\\u043f\\u0440\\u0430\\u043a\\u0442\\u0438\\u043a\\u0430\", \"\\u043f\\u0440\\u0430\\u043a\\u0442\\u0438\\u043a\\u0430\", \"\\u043f\\u0440\\u0438\\u0432\\u0435\\u0442\\u0441\\u0442\\u0432\\u043e\\u0432\\u0430\\u0442\\u044c\", \"\\u043f\\u0440\\u0438\\u043d\\u0438\\u043c\\u0430\\u0442\\u044c\", \"\\u043f\\u0440\\u0438\\u0445\\u043e\\u0434\\u0438\\u0442\\u044c\", \"\\u043f\\u0440\\u0438\\u0445\\u043e\\u0434\\u0438\\u0442\\u044c\", \"\\u043f\\u0440\\u0438\\u0445\\u043e\\u0434\\u0438\\u0442\\u044c\", \"\\u043f\\u0440\\u043e\\u0431\\u0438\\u0440\\u043a\\u0430\", \"\\u043f\\u0440\\u043e\\u0432\\u043e\\u0434\\u0438\\u0442\\u044c\", \"\\u043f\\u0440\\u043e\\u0432\\u043e\\u0434\\u0438\\u0442\\u044c\", \"\\u043f\\u0440\\u043e\\u0435\\u043a\\u0442\", \"\\u043f\\u0440\\u043e\\u0435\\u043a\\u0442\", \"\\u043f\\u0440\\u043e\\u043a\\u0430\\u0447\\u0438\\u0432\\u0430\\u0442\\u044c\", \"\\u043f\\u0440\\u043e\\u0441\\u0442\\u043e\", \"\\u043f\\u0440\\u043e\\u0441\\u0442\\u043e\", \"\\u043f\\u0440\\u043e\\u0444\\u0435\\u0441\\u0441\\u0438\\u044f\", \"\\u043f\\u0440\\u043e\\u0444\\u0435\\u0441\\u0441\\u0438\\u044f\", \"\\u043f\\u0440\\u043e\\u0445\\u043e\\u0434\\u0438\\u0442\\u044c\", \"\\u043f\\u0440\\u043e\\u0445\\u043e\\u0434\\u0438\\u0442\\u044c\", \"\\u043f\\u0440\\u043e\\u0445\\u043e\\u0434\\u0438\\u0442\\u044c\", \"\\u043f\\u0440\\u043e\\u0447\\u0438\\u0442\\u044b\\u0432\\u0430\\u0442\\u044c\", \"\\u043f\\u0441\\u0438\\u0445\\u043e\\u043b\\u043e\\u0433\", \"\\u043f\\u0443\\u043d\\u043a\\u0442\", \"\\u043f\\u0443\\u0442\\u044c\", \"\\u043f\\u0443\\u0442\\u044c\", \"\\u0440\\u0430\\u0431\\u043e\\u0442\\u0430\", \"\\u0440\\u0430\\u0431\\u043e\\u0442\\u0430\", \"\\u0440\\u0430\\u0431\\u043e\\u0442\\u0430\", \"\\u0440\\u0430\\u0431\\u043e\\u0442\\u0430\", \"\\u0440\\u0430\\u0431\\u043e\\u0442\\u0430\\u0442\\u044c\", \"\\u0440\\u0430\\u0431\\u043e\\u0442\\u0430\\u0442\\u044c\", \"\\u0440\\u0430\\u0431\\u043e\\u0442\\u0430\\u0442\\u044c\", \"\\u0440\\u0430\\u0431\\u043e\\u0442\\u0430\\u0442\\u044c\", \"\\u0440\\u0430\\u0431\\u043e\\u0442\\u043e\\u0434\\u0430\\u0442\\u0435\\u043b\\u044c\", \"\\u0440\\u0430\\u0437\\u0431\\u0438\\u0440\\u0430\\u0442\\u044c\\u0441\\u044f\", \"\\u0440\\u0430\\u0437\\u0432\\u0438\\u0432\\u0430\\u0442\\u044c\", \"\\u0440\\u0430\\u0437\\u0432\\u0438\\u0432\\u0430\\u0442\\u044c\", \"\\u0440\\u0430\\u0437\\u0432\\u0438\\u0442\\u0438\\u0435\", \"\\u0440\\u0430\\u0437\\u0432\\u0438\\u0442\\u0438\\u0435\", \"\\u0440\\u0430\\u0437\\u0433\\u043e\\u0432\\u043e\\u0440\", \"\\u0440\\u0430\\u0437\\u0433\\u043e\\u0432\\u043e\\u0440\", \"\\u0440\\u0430\\u0437\\u0440\\u0430\\u0431\\u043e\\u0442\\u0447\\u0438\\u043a\", \"\\u0440\\u0430\\u043d\\u043e\", \"\\u0440\\u0435\\u0433\\u0443\\u043b\\u044f\\u0440\\u043d\\u044b\\u0439\", \"\\u0440\\u0435\\u0437\\u0443\\u043b\\u044c\\u0442\\u0430\\u0442\", \"\\u0440\\u0435\\u0448\\u0435\\u043d\\u0438\\u0435\", \"\\u0440\\u0435\\u0448\\u0435\\u043d\\u0438\\u0435\", \"\\u0440\\u0435\\u0448\\u0435\\u043d\\u0438\\u0435\", \"\\u0440\\u0438\\u0434\\u0435\\u0440\", \"\\u0440\\u0438\\u0441\\u043a\", \"\\u0440\\u043e\\u043b\\u044c\", \"\\u0440\\u0443\\u043a\\u0430\", \"\\u0440\\u0443\\u043a\\u0430\", \"\\u0440\\u0443\\u043a\\u0430\", \"\\u0440\\u0443\\u0447\\u043d\\u043e\\u0439\", \"\\u0440\\u044b\\u043d\\u043e\\u043a\", \"\\u0441\\u0430\\u0439\\u0442\", \"\\u0441\\u0430\\u0439\\u0442_\\u043f\\u043e\\u0438\\u0441\\u043a\", \"\\u0441\\u0435\\u0441\\u0441\\u0438\\u044f\", \"\\u0441\\u043a\\u0440\\u044b\\u0442\\u044b\\u0439\", \"\\u0441\\u043b\\u0443\\u0447\\u0430\\u0442\\u044c\\u0441\\u044f\", \"\\u0441\\u043e\\u0431\\u0435\\u0441\\u0435\\u0434\\u043e\\u0432\\u0430\\u043d\\u0438\\u0435\", \"\\u0441\\u043e\\u0431\\u0435\\u0441\\u0435\\u0434\\u043e\\u0432\\u0430\\u043d\\u0438\\u0435\", \"\\u0441\\u043e\\u0431\\u0435\\u0441\\u0435\\u0434\\u043e\\u0432\\u0430\\u043d\\u0438\\u0435\", \"\\u0441\\u043e\\u0436\\u0430\\u043b\\u0435\\u043d\\u0438\\u0435\", \"\\u0441\\u043e\\u0437\\u0434\\u0430\\u0432\\u0430\\u0442\\u044c\", \"\\u0441\\u043e\\u0437\\u0434\\u0430\\u0432\\u0430\\u0442\\u044c\", \"\\u0441\\u043e\\u0441\\u0442\\u0430\\u0432\\u043b\\u044f\\u0442\\u044c\", \"\\u0441\\u043e\\u0441\\u0442\\u043e\\u044f\\u043d\\u0438\\u0435\", \"\\u0441\\u043e\\u0441\\u0442\\u043e\\u044f\\u043d\\u0438\\u0435\", \"\\u0441\\u0442\\u0430\\u0431\\u0438\\u043b\\u044c\\u043d\\u043e\\u0441\\u0442\\u044c\", \"\\u0441\\u0442\\u0430\\u043d\\u043e\\u0432\\u0438\\u0442\\u044c\\u0441\\u044f\", \"\\u0441\\u0442\\u0430\\u043d\\u043e\\u0432\\u0438\\u0442\\u044c\\u0441\\u044f\", \"\\u0441\\u0442\\u0430\\u043d\\u043e\\u0432\\u0438\\u0442\\u044c\\u0441\\u044f\", \"\\u0441\\u0442\\u0440\\u0430\\u0441\\u0442\\u043d\\u044b\\u0439\", \"\\u0441\\u0442\\u0440\\u0430\\u0445\", \"\\u0441\\u0447\\u0438\\u0442\\u0430\\u0442\\u044c\\u0441\\u044f\", \"\\u0442\\u0435\\u043b\\u0435\\u0433\\u0440\\u0430\\u043c\\u043c\\u0430\", \"\\u0442\\u0435\\u043c\\u0430\", \"\\u0442\\u0435\\u043c\\u0430\", \"\\u0442\\u0435\\u043c\\u0430\", \"\\u0442\\u0435\\u0441\\u0442\\u0438\\u0440\\u043e\\u0432\\u0430\\u043d\\u0438\\u0435\", \"\\u0442\\u0435\\u0445\\u043d\\u0438\\u0447\\u0435\\u0441\\u043a\\u0438\\u0439\", \"\\u0442\\u0435\\u0445\\u043d\\u0438\\u0447\\u0435\\u0441\\u043a\\u0438\\u0439\", \"\\u0442\\u0435\\u0445\\u043d\\u0438\\u0447\\u0435\\u0441\\u043a\\u0438\\u0439\", \"\\u0442\\u044f\\u043d\\u0443\\u0442\\u044c\\u0441\\u044f\", \"\\u0443\\u0432\\u043e\\u043b\\u044c\\u043d\\u044f\\u0442\\u044c\\u0441\\u044f\", \"\\u0443\\u043c\\u0435\\u0442\\u044c\", \"\\u0443\\u043c\\u0435\\u0442\\u044c\", \"\\u0443\\u043c\\u0435\\u0442\\u044c\", \"\\u0443\\u0440\\u043e\\u043a\", \"\\u0443\\u0447\\u0435\\u043d\\u0438\\u043a\", \"\\u0443\\u0447\\u0438\\u0442\\u044c\\u0441\\u044f\", \"\\u0444\\u043e\\u043d\\u0442\\u0430\\u043d\", \"\\u0444\\u043e\\u0440\\u043c\\u0430\\u043b\\u044c\\u043d\\u043e\", \"\\u0445\\u043e\\u0442\\u0435\\u0442\\u044c\", \"\\u0445\\u043e\\u0442\\u0435\\u0442\\u044c\", \"\\u0445\\u043e\\u0442\\u0435\\u0442\\u044c\", \"\\u0445\\u043e\\u0442\\u0435\\u0442\\u044c\\u0441\\u044f\", \"\\u0446\\u0435\\u043b\\u044c\", \"\\u0446\\u0435\\u043b\\u044c\", \"\\u0446\\u0435\\u043b\\u044c\", \"\\u0446\\u0435\\u043b\\u044c\", \"\\u0447\\u0430\\u0441\", \"\\u0447\\u0435\\u043b\\u043e\\u0432\\u0435\\u043a\", \"\\u0447\\u0435\\u043b\\u043e\\u0432\\u0435\\u043a\", \"\\u0447\\u0435\\u043b\\u043e\\u0432\\u0435\\u043a\", \"\\u0447\\u0435\\u043b\\u043e\\u0432\\u0435\\u043a\", \"\\u0447\\u0442\\u0435\\u043d\\u0438\\u0435\"]}, \"R\": 30, \"lambda.step\": 0.01, \"plot.opts\": {\"xlab\": \"PC1\", \"ylab\": \"PC2\"}, \"topic.order\": [3, 4, 5, 1, 2]};\n",
       "\n",
       "function LDAvis_load_lib(url, callback){\n",
       "  var s = document.createElement('script');\n",
       "  s.src = url;\n",
       "  s.async = true;\n",
       "  s.onreadystatechange = s.onload = callback;\n",
       "  s.onerror = function(){console.warn(\"failed to load library \" + url);};\n",
       "  document.getElementsByTagName(\"head\")[0].appendChild(s);\n",
       "}\n",
       "\n",
       "if(typeof(LDAvis) !== \"undefined\"){\n",
       "   // already loaded: just create the visualization\n",
       "   !function(LDAvis){\n",
       "       new LDAvis(\"#\" + \"ldavis_el431651403970045149129146153172\", ldavis_el431651403970045149129146153172_data);\n",
       "   }(LDAvis);\n",
       "}else if(typeof define === \"function\" && define.amd){\n",
       "   // require.js is available: use it to load d3/LDAvis\n",
       "   require.config({paths: {d3: \"https://d3js.org/d3.v5\"}});\n",
       "   require([\"d3\"], function(d3){\n",
       "      window.d3 = d3;\n",
       "      LDAvis_load_lib(\"https://cdn.jsdelivr.net/gh/bmabey/pyLDAvis@3.3.1/pyLDAvis/js/ldavis.v3.0.0.js\", function(){\n",
       "        new LDAvis(\"#\" + \"ldavis_el431651403970045149129146153172\", ldavis_el431651403970045149129146153172_data);\n",
       "      });\n",
       "    });\n",
       "}else{\n",
       "    // require.js not available: dynamically load d3 & LDAvis\n",
       "    LDAvis_load_lib(\"https://d3js.org/d3.v5.js\", function(){\n",
       "         LDAvis_load_lib(\"https://cdn.jsdelivr.net/gh/bmabey/pyLDAvis@3.3.1/pyLDAvis/js/ldavis.v3.0.0.js\", function(){\n",
       "                 new LDAvis(\"#\" + \"ldavis_el431651403970045149129146153172\", ldavis_el431651403970045149129146153172_data);\n",
       "            })\n",
       "         });\n",
       "}\n",
       "</script>"
      ],
      "text/plain": [
       "PreparedData(topic_coordinates=              x         y  topics  cluster       Freq\n",
       "topic                                                \n",
       "2      0.061014  0.118650       1        1  32.818203\n",
       "3      0.081633 -0.003284       2        1  27.245055\n",
       "4      0.057029 -0.104019       3        1  19.007695\n",
       "0      0.039879 -0.013446       4        1  11.640665\n",
       "1     -0.239554  0.002099       5        1   9.288383, topic_info=         Term       Freq      Total Category  logprob  loglift\n",
       "142    проект   7.000000   7.000000  Default  30.0000  30.0000\n",
       "151   решение   8.000000   8.000000  Default  29.0000  29.0000\n",
       "75    человек  16.000000  16.000000  Default  28.0000  28.0000\n",
       "179  вакансия  15.000000  15.000000  Default  27.0000  27.0000\n",
       "123  начинать   8.000000   8.000000  Default  26.0000  26.0000\n",
       "..        ...        ...        ...      ...      ...      ...\n",
       "79     бизнес   0.877523   5.583354   Topic5  -5.4835   0.5260\n",
       "112   команда   0.710708   4.695077   Topic5  -5.6944   0.4884\n",
       "113  компания   0.702344  12.822660   Topic5  -5.7062  -0.5281\n",
       "121    модель   0.613340   5.298130   Topic5  -5.8417   0.2202\n",
       "144    работа   0.553052  15.563896   Topic5  -5.9452  -0.9609\n",
       "\n",
       "[256 rows x 6 columns], token_table=      Topic      Freq       Term\n",
       "term                            \n",
       "176       1  0.969066  агрегатор\n",
       "596       1  0.913223  айтишечка\n",
       "282       2  0.741101   актуарий\n",
       "1083      5  0.860538     анализ\n",
       "1084      5  0.860538     апатия\n",
       "...     ...       ...        ...\n",
       "75        1  0.238578    человек\n",
       "75        2  0.357866    человек\n",
       "75        3  0.059644    человек\n",
       "75        5  0.298222    человек\n",
       "724       3  0.800975     чтение\n",
       "\n",
       "[315 rows x 3 columns], R=30, lambda_step=0.01, plot_opts={'xlab': 'PC1', 'ylab': 'PC2'}, topic_order=[3, 4, 5, 1, 2])"
      ]
     },
     "execution_count": 102,
     "metadata": {},
     "output_type": "execute_result"
    }
   ],
   "source": [
    "# Visualize the topics\n",
    "pyLDAvis.enable_notebook()\n",
    "vis = pyLDAvis.gensim_models.prepare(lda_model, corpus, id2word) \n",
    "vis"
   ]
  },
  {
   "attachments": {},
   "cell_type": "markdown",
   "metadata": {},
   "source": [
    "#### <a id='toc1_1_5_1_'></a>[Топ-5 популярных тем по реакциям (рус)](#toc0_)\n",
    "\n",
    "Темы расположены по частоте встречаемости в публикациях.\n",
    "\n",
    "**Тема 1: Поиск работы**\n",
    "\n",
    "*Ключевые слова:* вакансия, работа, опыт, компания, подходить, тестирование, опыт работа, искать, новый, сайт поиск, поиск работа, разработчик\n",
    "\n",
    "Публикации, связанные с поиском работы, открытыми вакансиями.\n",
    "\n",
    "**Тема 2: Приглашение на групповой менторинг**\n",
    "\n",
    "*Ключевые слова:* групповой менторинг, ментор, менторинг, коучинг, коуч, получать, становиться, научиться, результат, профессия\n",
    "\n",
    "Приглашение на групповой менторинг, рассказы о результатах работы с менторами и коучами.\n",
    "\n",
    "**Тема 3: Планирование, постановка целей**\n",
    "\n",
    "*Ключевые слова:* план, цель, курс, планирование, горизонт, книга, регулярный, собеседование, групповой менторинг, вместе\n",
    "\n",
    "Полезные советы, планирование в рамках программ группового менторинга. Но акцент смещен на стратегию работы в рамках курсов менторов (в **Теме 2** основной фокус на приглашение в курсы).\n",
    "\n",
    "**Тема 4: Задачи менторов**\n",
    "\n",
    "*Ключевые слова:* сессия, навык, делать, коучинг, хотеть, менторинг, развивать, понимание, помогать, урок, учиться, создавать\n",
    "\n",
    "Рассказы о задачах менторов, какие навыки развивают, с чем помогают.\n",
    "\n",
    "**Тема 5: Мотивирующие посты**\n",
    "\n",
    "*Ключевые слова:* проект, решение, принимать, анализ, вовлекать, заниматься, браться, находить, апатия, страстный, полезно\n",
    "\n",
    "Исходя из ключевых слов, тексты публикаций направлены на мотивацию своей аудитории делать, заниматься, браться, находить, принимать решения."
   ]
  },
  {
   "attachments": {},
   "cell_type": "markdown",
   "metadata": {},
   "source": [
    "Теперь построим модель по русскоязычным текстам."
   ]
  },
  {
   "cell_type": "code",
   "execution_count": 103,
   "metadata": {},
   "outputs": [],
   "source": [
    "processed_texts_eng = []\n",
    "for text in sorted_posts_eng:\n",
    "    processed_texts_eng.append(preprocess_eng_texts(text))"
   ]
  },
  {
   "cell_type": "code",
   "execution_count": 104,
   "metadata": {},
   "outputs": [
    {
     "name": "stdout",
     "output_type": "stream",
     "text": [
      "51\n"
     ]
    }
   ],
   "source": [
    "processed_texts_eng = [i.split() for i in processed_texts_eng if i != '']\n",
    "print(len(processed_texts_eng))"
   ]
  },
  {
   "cell_type": "code",
   "execution_count": 105,
   "metadata": {},
   "outputs": [],
   "source": [
    "bigram = gensim.models.Phrases(processed_texts_eng)\n",
    "bigram_mod = gensim.models.phrases.Phraser(bigram)\n",
    "\n",
    "def make_bigrams(texts):\n",
    "    return [bigram_mod[doc] for doc in texts]"
   ]
  },
  {
   "cell_type": "code",
   "execution_count": 106,
   "metadata": {},
   "outputs": [],
   "source": [
    "# Create bigrams\n",
    "data_words_bigrams = make_bigrams(processed_texts_eng)"
   ]
  },
  {
   "cell_type": "code",
   "execution_count": 107,
   "metadata": {},
   "outputs": [
    {
     "name": "stdout",
     "output_type": "stream",
     "text": [
      "[[(0, 1), (1, 1), (2, 1), (3, 1), (4, 1), (5, 1), (6, 1), (7, 1), (8, 1), (9, 1), (10, 1), (11, 1), (12, 1), (13, 1), (14, 1), (15, 1), (16, 1), (17, 1), (18, 1), (19, 1), (20, 1), (21, 1)], [(22, 1), (23, 1)]]\n"
     ]
    }
   ],
   "source": [
    "# Create Dictionary\n",
    "id2word = corpora.Dictionary(data_words_bigrams)\n",
    "# Create Corpus\n",
    "texts = data_words_bigrams\n",
    "# Term Document Frequency\n",
    "corpus = [id2word.doc2bow(text) for text in texts]\n",
    "# View\n",
    "print(corpus[:2])"
   ]
  },
  {
   "cell_type": "code",
   "execution_count": 108,
   "metadata": {},
   "outputs": [
    {
     "data": {
      "text/plain": [
       "[[('excit', 1),\n",
       "  ('learn', 1),\n",
       "  ('thi', 1),\n",
       "  ('work', 1),\n",
       "  ('grow', 1),\n",
       "  ('project', 1),\n",
       "  ('current', 1),\n",
       "  ('depart', 1),\n",
       "  ('differ', 1),\n",
       "  ('foreign', 1),\n",
       "  ('ongo', 1),\n",
       "  ('relat', 1),\n",
       "  ('role', 1),\n",
       "  ('specialist', 1)]]"
      ]
     },
     "execution_count": 108,
     "metadata": {},
     "output_type": "execute_result"
    }
   ],
   "source": [
    "[[(id2word[id], freq) for id, freq in cp] for cp in corpus[10:11]]"
   ]
  },
  {
   "cell_type": "code",
   "execution_count": 109,
   "metadata": {},
   "outputs": [],
   "source": [
    "# Build LDA model\n",
    "lda_model = gensim.models.ldamodel.LdaModel(corpus=corpus, \n",
    "                                            id2word=id2word,\n",
    "                                            num_topics=5, \n",
    "                                            random_state=100,\n",
    "                                            update_every=10,#как часто параметры модели должны обновляться\n",
    "                                            chunksize=5, #количество документов, которые будут использоваться в каждом обучающем чанке\n",
    "                                            passes=100, #общее количество проходов обучения\n",
    "                                            alpha='auto', #влияет на разреженность тем\n",
    "                                            per_word_topics=True)"
   ]
  },
  {
   "cell_type": "code",
   "execution_count": 110,
   "metadata": {},
   "outputs": [
    {
     "name": "stderr",
     "output_type": "stream",
     "text": [
      "/Users/anshilina/opt/anaconda3/lib/python3.9/site-packages/pyLDAvis/_prepare.py:246: FutureWarning: In a future version of pandas all arguments of DataFrame.drop except for the argument 'labels' will be keyword-only.\n",
      "  default_term_info = default_term_info.sort_values(\n"
     ]
    },
    {
     "data": {
      "text/html": [
       "\n",
       "<link rel=\"stylesheet\" type=\"text/css\" href=\"https://cdn.jsdelivr.net/gh/bmabey/pyLDAvis@3.3.1/pyLDAvis/js/ldavis.v1.0.0.css\">\n",
       "\n",
       "\n",
       "<div id=\"ldavis_el431651403970045143524896381687\"></div>\n",
       "<script type=\"text/javascript\">\n",
       "\n",
       "var ldavis_el431651403970045143524896381687_data = {\"mdsDat\": {\"x\": [-0.17370212559811238, 0.05240723392467193, 0.05115719912140247, 0.028308686269981124, 0.041829006282056935], \"y\": [0.0013550648933256335, 0.07258313218063282, -0.05799688086134093, -0.004827094603208763, -0.011114221609408831], \"topics\": [1, 2, 3, 4, 5], \"cluster\": [1, 1, 1, 1, 1], \"Freq\": [47.5467966220744, 18.54576474012091, 18.26464224837322, 8.121636065420416, 7.521160324011047]}, \"tinfo\": {\"Term\": [\"start_new\", \"happi_share\", \"posit\", \"engin\", \"comput\", \"research\", \"vision\", \"avatarifi\", \"medic\", \"analyt\", \"bir\", \"print\", \"olan\", \"daha\", \"ger\", \"vergi\", \"chatgpt\", \"searchart\", \"includ\", \"imag\", \"monai\", \"softwar\", \"new\", \"ani\", \"internship\", \"var\", \"team\", \"project\", \"make\", \"provid\", \"start_new\", \"posit\", \"engin\", \"comput\", \"research\", \"avatarifi\", \"vision\", \"happi_share\", \"python\", \"posit_junior\", \"datasci\", \"data\", \"want\", \"specialist\", \"analyst\", \"time\", \"layih\", \"olma\", \"yeah\", \"machinelearn\", \"servic\", \"skill\", \"academi\", \"qeyd\", \"vue\", \"share\", \"univers\", \"hire\", \"case\", \"complet\", \"month\", \"announc\", \"learn\", \"data_scienc\", \"thank\", \"thi\", \"bil\", \"analyt\", \"connect\", \"develop\", \"excit\", \"get\", \"medic\", \"print\", \"imag\", \"monai\", \"final\", \"appreci\", \"peopl\", \"swiss\", \"autom\", \"deal\", \"exh\", \"mimaki\", \"printer\", \"qualiti\", \"rhino\", \"acceler\", \"phd\", \"advic\", \"opentowork\", \"ani\", \"includ\", \"solut\", \"softwar\", \"role\", \"auto\", \"bring\", \"capabl\", \"expand\", \"label\", \"naql\", \"look\", \"network\", \"would\", \"group\", \"job\", \"offer\", \"new\", \"thi\", \"learn\", \"thank\", \"get\", \"model\", \"appli\", \"vergi\", \"compani\", \"lim\", \"tbiqi\", \"illik\", \"rind\", \"xsl\", \"event\", \"inform\", \"latest\", \"topic\", \"trend\", \"ist\", \"liml\", \"lma\", \"qaydalar\", \"raci\", \"rin\", \"creat\", \"bankofbaku\", \"com\", \"developerl\", \"dostlar\", \"jobhir\", \"maraql\", \"nday\", \"oracl\", \"oraclesql\", \"payla\", \"postu\", \"experi\", \"member\", \"strategi\", \"technolog\", \"partner\", \"edil\", \"nda\", \"new\", \"data_scienc\", \"olan\", \"bil\", \"analyt\", \"data\", \"get\", \"linkedin\", \"thi\", \"chatgpt\", \"searchart\", \"econom\", \"insight\", \"make\", \"provid\", \"altern\", \"analysi\", \"api\", \"brand\", \"decis\", \"desir\", \"first\", \"gartner\", \"graphic\", \"healthcar\", \"indic\", \"integr\", \"kpi\", \"local\", \"nearli\", \"necessari\", \"oxford\", \"perform\", \"platform\", \"recent\", \"sector\", \"simpli\", \"social\", \"startup\", \"internship\", \"analyt\", \"project\", \"team\", \"excit\", \"includ\", \"news\", \"work\", \"azerbaijan\", \"educ\", \"ani\", \"announc\", \"bir\", \"ger\", \"hayal\", \"hayatta\", \"istedi\", \"kolay\", \"oldu\", \"yapmak\", \"daha\", \"olan\", \"var\", \"aca\", \"anlad\", \"anlam\", \"armak\", \"art\", \"asla\", \"atmakt\", \"atmalar\", \"bundan\", \"bura\", \"cesur\", \"ekl\", \"ekleri\", \"ekten\", \"eld\", \"etmek\", \"eyden\", \"eyi\", \"eylemlerinizin\"], \"Freq\": [30.0, 32.0, 28.0, 27.0, 25.0, 25.0, 25.0, 25.0, 3.0, 4.0, 1.0, 2.0, 2.0, 2.0, 1.0, 2.0, 1.0, 1.0, 3.0, 2.0, 2.0, 3.0, 3.0, 2.0, 2.0, 1.0, 2.0, 2.0, 1.0, 1.0, 30.354169753179313, 27.66807276226556, 26.768160443378196, 25.42965514125052, 25.426128598498668, 24.981973463404977, 24.981973463404977, 31.6972194026096, 4.214091362895856, 2.8710399825054456, 2.4233557082197197, 6.900190950249791, 1.9756697029738735, 1.9756697029738735, 1.9756697029738735, 1.9756697029738735, 1.9756697029738735, 1.9756697029738735, 1.527982399507937, 1.527982399507937, 1.527982399507937, 1.527982399507937, 1.527982399507937, 1.527982399507937, 1.527982399507937, 1.9756697029738735, 1.9756697029738735, 1.0802906243950228, 1.0802906243950228, 1.0802906243950228, 1.527982399507937, 1.527982399507937, 3.3187239682978182, 2.4233557082197197, 1.9918409094048606, 2.4233557082197197, 1.9756697029738735, 1.9756697029738735, 1.5472611120949766, 1.527982399507937, 1.527982399507937, 1.527982399507937, 2.7137922660864002, 2.290635368837994, 1.8674783590619257, 1.8674783590619257, 1.444319998953913, 1.4442723997528728, 1.0211609636799284, 1.0211608511522663, 1.0211608511522663, 1.0211608511522663, 1.0211608511522663, 1.0211608511522663, 1.0211608511522663, 1.0211608511522663, 1.0211608511522663, 1.0210814066228704, 1.0210814066228704, 1.0210812940952083, 1.0210812940952083, 1.4442241253858603, 1.8674440381250055, 1.4443205615922232, 1.8674783590619257, 1.4389824743606618, 0.5979940514696012, 0.5979940514696012, 0.5979940514696012, 0.5979940514696012, 0.5979940514696012, 0.5979940514696012, 1.4416819004451917, 1.437622915147969, 1.437622915147969, 1.0211608511522663, 1.0211604010416182, 1.016784200265122, 1.4442723997528728, 1.8674783590619257, 1.8674783590619257, 1.429034916509208, 1.0211609636799284, 1.0211608511522663, 1.0211608511522663, 1.851150833287797, 1.4316928105790057, 1.4316928105790057, 1.4316928105790057, 1.0122327930754276, 1.0122327930754276, 1.0122327930754276, 1.0122327930754276, 1.0122327930754276, 1.0122327930754276, 1.0122327930754276, 1.0122327930754276, 1.0122327930754276, 1.0122327930754276, 1.0122327930754276, 1.0122327930754276, 1.0122327930754276, 1.0122327930754276, 1.0122327930754276, 0.5927660154339605, 0.5927660154339605, 0.5927660154339605, 0.5927660154339605, 0.5927660154339605, 0.5927660154339605, 0.5927660154339605, 0.5927660154339605, 0.5927660154339605, 0.5927660154339605, 0.5927660154339605, 1.0122327930754276, 1.0122327930754276, 1.0122327930754276, 1.0122327930754276, 1.0122327930754276, 1.0122327930754276, 1.0122327930754276, 1.4316928105790057, 1.851150833287797, 1.0122327930754276, 1.4316928105790057, 1.4316928105790057, 1.4316928105790057, 1.0122327930754276, 1.0122327930754276, 1.0122327930754276, 0.8299164189420548, 0.8299164189420548, 0.5867679841026623, 0.5867679841026623, 0.5867679841026623, 0.5867679841026623, 0.3436162722385355, 0.3436162722385355, 0.3436162722385355, 0.3436162722385355, 0.3436162722385355, 0.3436162722385355, 0.3436162722385355, 0.3436162722385355, 0.3436162722385355, 0.3436162722385355, 0.3436162722385355, 0.3436162722385355, 0.3436162722385355, 0.3436162722385355, 0.3436162722385355, 0.3436162722385355, 0.3436162722385355, 0.3436162722385355, 0.3436162722385355, 0.3436162722385355, 0.3436162722385355, 0.3436162722385355, 0.3436162722385355, 0.3436162722385355, 0.5867679348240948, 0.8299164189420548, 0.5867679841026623, 0.5867679348240948, 0.3436162722385355, 0.3436162722385355, 0.3436162722385355, 0.3436162722385355, 0.3436162722385355, 0.3436162722385355, 0.3436162722385355, 0.3436162722385355, 1.011962078870906, 0.7826596427342289, 0.5533565220704385, 0.5533565220704385, 0.5533565220704385, 0.5533565220704385, 0.5533565220704385, 0.5533565220704385, 0.7826596427342289, 0.7826596427342289, 0.5533565220704385, 0.3240504579400598, 0.3240504579400598, 0.3240504579400598, 0.3240504579400598, 0.3240504579400598, 0.3240504579400598, 0.3240504579400598, 0.3240504579400598, 0.3240504579400598, 0.3240504579400598, 0.3240504579400598, 0.3240504579400598, 0.3240504579400598, 0.3240504579400598, 0.3240504579400598, 0.3240504579400598, 0.3240504579400598, 0.3240504579400598, 0.3240504579400598], \"Total\": [30.0, 32.0, 28.0, 27.0, 25.0, 25.0, 25.0, 25.0, 3.0, 4.0, 1.0, 2.0, 2.0, 2.0, 1.0, 2.0, 1.0, 1.0, 3.0, 2.0, 2.0, 3.0, 3.0, 2.0, 2.0, 1.0, 2.0, 2.0, 1.0, 1.0, 30.89767540822609, 28.211578417312335, 27.31545020464213, 25.973160796297297, 25.972946997585932, 25.525479118451752, 25.525479118451752, 32.48385034388872, 4.757597017942632, 3.414545637552221, 2.9668613632664953, 8.70203101302381, 2.519175358020649, 2.519175358020649, 2.519175358020649, 2.519175358020649, 2.519175358020649, 2.519175358020649, 2.0714880545547123, 2.0714880545547123, 2.0714880545547123, 2.0714880545547123, 2.0714880545547123, 2.0714880545547123, 2.0714880545547123, 2.9385829706028477, 2.9422819272722105, 1.6237962794417984, 1.6237962794417984, 1.6237962794417984, 2.3146133407870537, 2.314613365426337, 5.55482050018848, 4.64465379370253, 3.7894939987428042, 5.498326630334047, 3.777509765747893, 4.506935223323037, 2.9188174064862182, 2.9140022363884728, 2.737719934677899, 3.7566359262402673, 3.267434695478311, 2.844277798229905, 2.4211207884538366, 2.4211207884538366, 1.9979624283458244, 1.9979647565257552, 1.5748033930718397, 1.5748032805441776, 1.5748032805441776, 1.5748032805441776, 1.5748032805441776, 1.5748032805441776, 1.5748032805441776, 1.5748032805441776, 1.5748032805441776, 1.574806236928844, 1.574806236928844, 1.574806124401182, 1.574806124401182, 2.241091846627181, 3.0836550018690496, 2.4173706035663334, 3.1277999227270556, 2.445828434536198, 1.1516364808615123, 1.1516364808615123, 1.1516364808615123, 1.1516364808615123, 1.1516364808615123, 1.1516364808615123, 2.8650795332510306, 2.8936171812543523, 2.893617325501029, 2.022359049071802, 2.022358815331169, 2.0226130771232773, 3.256299164252999, 5.498326630334047, 5.55482050018848, 3.7894939987428042, 3.7566359262402673, 2.47006943200601, 2.441766878024016, 2.406322342045986, 1.9868643193371947, 1.9868643193371947, 1.9868643193371947, 1.5674043018336166, 1.5674043018336166, 1.5674043018336166, 1.5674043018336166, 1.5674043018336166, 1.5674043018336166, 1.5674043018336166, 1.5674043018336166, 1.5674043018336166, 1.5674043018336166, 1.5674043018336166, 1.5674043018336166, 1.5674043018336166, 1.5674043018336166, 1.8105295880659575, 1.1479375241921494, 1.1479375241921494, 1.1479375241921494, 1.1479375241921494, 1.1479375241921494, 1.1479375241921494, 1.1479375241921494, 1.1479375241921494, 1.1479375241921494, 1.1479375241921494, 1.1479375241921494, 1.9905108710851782, 2.0149601424845796, 2.0149602867312564, 2.0149602867312564, 2.0149602867312564, 2.0149602867312564, 2.0149602867312564, 3.256299164252999, 4.64465379370253, 2.255295135957782, 3.777509765747893, 4.506935223323037, 8.70203101302381, 3.7566359262402673, 2.8857771667936873, 5.498326630334047, 1.457955369185095, 1.457955369185095, 1.2148069343457024, 1.2148069343457024, 1.6379135035972638, 1.6379135035972638, 0.9716552224815757, 0.9716552224815757, 0.9716552224815757, 0.9716552224815757, 0.9716552224815757, 0.9716552224815757, 0.9716552224815757, 0.9716552224815757, 0.9716552224815757, 0.9716552224815757, 0.9716552224815757, 0.9716552224815757, 0.9716552224815757, 0.9716552224815757, 0.9716552224815757, 0.9716552224815757, 0.9716552224815757, 0.9716552224815757, 0.9716552224815757, 0.9716552224815757, 0.9716552224815757, 0.9716552224815757, 0.9716552224815757, 0.9716552224815757, 2.1100732528989825, 4.506935223323037, 2.5294809147597483, 2.9771726405940955, 2.737719934677899, 3.0836550018690496, 1.842317776630777, 2.2900281595649847, 1.419211063132539, 1.866921590313423, 2.241091846627181, 2.314613365426337, 1.6457231818707934, 1.4164207457341162, 1.187117625070326, 1.187117625070326, 1.187117625070326, 1.187117625070326, 1.187117625070326, 1.187117625070326, 2.0789536445486556, 2.255295135957782, 1.6346736099679657, 0.9578115609399471, 0.9578115609399471, 0.9578115609399471, 0.9578115609399471, 0.9578115609399471, 0.9578115609399471, 0.9578115609399471, 0.9578115609399471, 0.9578115609399471, 0.9578115609399471, 0.9578115609399471, 0.9578115609399471, 0.9578115609399471, 0.9578115609399471, 0.9578115609399471, 0.9578115609399471, 0.9578115609399471, 0.9578115609399471, 0.9578115609399471], \"Category\": [\"Default\", \"Default\", \"Default\", \"Default\", \"Default\", \"Default\", \"Default\", \"Default\", \"Default\", \"Default\", \"Default\", \"Default\", \"Default\", \"Default\", \"Default\", \"Default\", \"Default\", \"Default\", \"Default\", \"Default\", \"Default\", \"Default\", \"Default\", \"Default\", \"Default\", \"Default\", \"Default\", \"Default\", \"Default\", \"Default\", \"Topic1\", \"Topic1\", \"Topic1\", \"Topic1\", \"Topic1\", \"Topic1\", \"Topic1\", \"Topic1\", \"Topic1\", \"Topic1\", \"Topic1\", \"Topic1\", \"Topic1\", \"Topic1\", \"Topic1\", \"Topic1\", \"Topic1\", \"Topic1\", \"Topic1\", \"Topic1\", \"Topic1\", \"Topic1\", \"Topic1\", \"Topic1\", \"Topic1\", \"Topic1\", \"Topic1\", \"Topic1\", \"Topic1\", \"Topic1\", \"Topic1\", \"Topic1\", \"Topic1\", \"Topic1\", \"Topic1\", \"Topic1\", \"Topic1\", \"Topic1\", \"Topic1\", \"Topic1\", \"Topic1\", \"Topic1\", \"Topic2\", \"Topic2\", \"Topic2\", \"Topic2\", \"Topic2\", \"Topic2\", \"Topic2\", \"Topic2\", \"Topic2\", \"Topic2\", \"Topic2\", \"Topic2\", \"Topic2\", \"Topic2\", \"Topic2\", \"Topic2\", \"Topic2\", \"Topic2\", \"Topic2\", \"Topic2\", \"Topic2\", \"Topic2\", \"Topic2\", \"Topic2\", \"Topic2\", \"Topic2\", \"Topic2\", \"Topic2\", \"Topic2\", \"Topic2\", \"Topic2\", \"Topic2\", \"Topic2\", \"Topic2\", \"Topic2\", \"Topic2\", \"Topic2\", \"Topic2\", \"Topic2\", \"Topic2\", \"Topic2\", \"Topic2\", \"Topic2\", \"Topic3\", \"Topic3\", \"Topic3\", \"Topic3\", \"Topic3\", \"Topic3\", \"Topic3\", \"Topic3\", \"Topic3\", \"Topic3\", \"Topic3\", \"Topic3\", \"Topic3\", \"Topic3\", \"Topic3\", \"Topic3\", \"Topic3\", \"Topic3\", \"Topic3\", \"Topic3\", \"Topic3\", \"Topic3\", \"Topic3\", \"Topic3\", \"Topic3\", \"Topic3\", \"Topic3\", \"Topic3\", \"Topic3\", \"Topic3\", \"Topic3\", \"Topic3\", \"Topic3\", \"Topic3\", \"Topic3\", \"Topic3\", \"Topic3\", \"Topic3\", \"Topic3\", \"Topic3\", \"Topic3\", \"Topic3\", \"Topic3\", \"Topic3\", \"Topic3\", \"Topic3\", \"Topic4\", \"Topic4\", \"Topic4\", \"Topic4\", \"Topic4\", \"Topic4\", \"Topic4\", \"Topic4\", \"Topic4\", \"Topic4\", \"Topic4\", \"Topic4\", \"Topic4\", \"Topic4\", \"Topic4\", \"Topic4\", \"Topic4\", \"Topic4\", \"Topic4\", \"Topic4\", \"Topic4\", \"Topic4\", \"Topic4\", \"Topic4\", \"Topic4\", \"Topic4\", \"Topic4\", \"Topic4\", \"Topic4\", \"Topic4\", \"Topic4\", \"Topic4\", \"Topic4\", \"Topic4\", \"Topic4\", \"Topic4\", \"Topic4\", \"Topic4\", \"Topic4\", \"Topic4\", \"Topic4\", \"Topic4\", \"Topic5\", \"Topic5\", \"Topic5\", \"Topic5\", \"Topic5\", \"Topic5\", \"Topic5\", \"Topic5\", \"Topic5\", \"Topic5\", \"Topic5\", \"Topic5\", \"Topic5\", \"Topic5\", \"Topic5\", \"Topic5\", \"Topic5\", \"Topic5\", \"Topic5\", \"Topic5\", \"Topic5\", \"Topic5\", \"Topic5\", \"Topic5\", \"Topic5\", \"Topic5\", \"Topic5\", \"Topic5\", \"Topic5\", \"Topic5\"], \"logprob\": [30.0, 29.0, 28.0, 27.0, 26.0, 25.0, 24.0, 23.0, 22.0, 21.0, 20.0, 19.0, 18.0, 17.0, 16.0, 15.0, 14.0, 13.0, 12.0, 11.0, 10.0, 9.0, 8.0, 7.0, 6.0, 5.0, 4.0, 3.0, 2.0, 1.0, -3.016, -3.1087, -3.1418, -3.1931, -3.1932, -3.2108, -3.2108, -2.9727, -4.9905, -5.3743, -5.5438, -4.4974, -5.7481, -5.7481, -5.7481, -5.7481, -5.7481, -5.7481, -6.005, -6.005, -6.005, -6.005, -6.005, -6.005, -6.005, -5.7481, -5.7481, -6.3517, -6.3517, -6.3517, -6.005, -6.005, -5.2294, -5.5438, -5.7399, -5.5438, -5.7481, -5.7481, -5.9925, -6.005, -6.005, -6.005, -4.4891, -4.6587, -4.8629, -4.8629, -5.1199, -5.1199, -5.4666, -5.4666, -5.4666, -5.4666, -5.4666, -5.4666, -5.4666, -5.4666, -5.4666, -5.4666, -5.4666, -5.4666, -5.4666, -5.1199, -4.8629, -5.1199, -4.8629, -5.1236, -6.0017, -6.0017, -6.0017, -6.0017, -6.0017, -6.0017, -5.1217, -5.1245, -5.1245, -5.4666, -5.4666, -5.4709, -5.1199, -4.8629, -4.8629, -5.1305, -5.4666, -5.4666, -5.4666, -4.8564, -5.1134, -5.1134, -5.1134, -5.4601, -5.4601, -5.4601, -5.4601, -5.4601, -5.4601, -5.4601, -5.4601, -5.4601, -5.4601, -5.4601, -5.4601, -5.4601, -5.4601, -5.4601, -5.9952, -5.9952, -5.9952, -5.9952, -5.9952, -5.9952, -5.9952, -5.9952, -5.9952, -5.9952, -5.9952, -5.4601, -5.4601, -5.4601, -5.4601, -5.4601, -5.4601, -5.4601, -5.1134, -4.8564, -5.4601, -5.1134, -5.1134, -5.1134, -5.4601, -5.4601, -5.4601, -4.8482, -4.8482, -5.1949, -5.1949, -5.1949, -5.1949, -5.73, -5.73, -5.73, -5.73, -5.73, -5.73, -5.73, -5.73, -5.73, -5.73, -5.73, -5.73, -5.73, -5.73, -5.73, -5.73, -5.73, -5.73, -5.73, -5.73, -5.73, -5.73, -5.73, -5.73, -5.1949, -4.8482, -5.1949, -5.1949, -5.73, -5.73, -5.73, -5.73, -5.73, -5.73, -5.73, -5.73, -4.5731, -4.83, -5.1767, -5.1767, -5.1767, -5.1767, -5.1767, -5.1767, -4.83, -4.83, -5.1767, -5.7118, -5.7118, -5.7118, -5.7118, -5.7118, -5.7118, -5.7118, -5.7118, -5.7118, -5.7118, -5.7118, -5.7118, -5.7118, -5.7118, -5.7118, -5.7118, -5.7118, -5.7118, -5.7118], \"loglift\": [30.0, 29.0, 28.0, 27.0, 26.0, 25.0, 24.0, 23.0, 22.0, 21.0, 20.0, 19.0, 18.0, 17.0, 16.0, 15.0, 14.0, 13.0, 12.0, 11.0, 10.0, 9.0, 8.0, 7.0, 6.0, 5.0, 4.0, 3.0, 2.0, 1.0, 0.7257, 0.724, 0.7232, 0.7223, 0.7222, 0.7219, 0.7219, 0.7189, 0.6221, 0.5701, 0.5411, 0.5114, 0.5004, 0.5004, 0.5004, 0.5004, 0.5004, 0.5004, 0.4391, 0.4391, 0.4391, 0.4391, 0.4391, 0.4391, 0.4391, 0.3464, 0.3452, 0.3359, 0.3359, 0.3359, 0.3282, 0.3282, 0.2284, 0.0929, 0.1003, -0.0758, 0.0953, -0.0813, 0.1088, 0.0979, 0.1603, -0.1561, 1.4993, 1.4684, 1.4253, 1.4253, 1.3604, 1.3604, 1.2517, 1.2517, 1.2517, 1.2517, 1.2517, 1.2517, 1.2517, 1.2517, 1.2517, 1.2517, 1.2517, 1.2517, 1.2517, 1.2455, 1.1834, 1.1699, 1.1692, 1.1545, 1.0296, 1.0296, 1.0296, 1.0296, 1.0296, 1.0296, 0.9981, 0.9854, 0.9854, 1.0016, 1.0016, 0.9972, 0.8719, 0.6051, 0.5949, 0.7097, 0.3823, 0.8016, 0.8131, 1.4379, 1.3725, 1.3725, 1.3725, 1.2629, 1.2629, 1.2629, 1.2629, 1.2629, 1.2629, 1.2629, 1.2629, 1.2629, 1.2629, 1.2629, 1.2629, 1.2629, 1.2629, 1.1187, 1.0393, 1.0393, 1.0393, 1.0393, 1.0393, 1.0393, 1.0393, 1.0393, 1.0393, 1.0393, 1.0393, 1.024, 1.0118, 1.0118, 1.0118, 1.0118, 1.0118, 1.0118, 0.8785, 0.7803, 0.8991, 0.73, 0.5534, -0.1045, 0.3888, 0.6526, 0.0079, 1.9472, 1.9472, 1.7829, 1.7829, 1.4841, 1.4841, 1.4712, 1.4712, 1.4712, 1.4712, 1.4712, 1.4712, 1.4712, 1.4712, 1.4712, 1.4712, 1.4712, 1.4712, 1.4712, 1.4712, 1.4712, 1.4712, 1.4712, 1.4712, 1.4712, 1.4712, 1.4712, 1.4712, 1.4712, 1.4712, 1.2308, 0.8186, 1.0495, 0.8865, 0.4353, 0.3163, 0.8314, 0.6138, 1.0923, 0.8181, 0.6354, 0.6032, 2.1012, 1.9943, 1.8242, 1.8242, 1.8242, 1.8242, 1.8242, 1.8242, 1.6105, 1.5291, 1.5043, 1.5037, 1.5037, 1.5037, 1.5037, 1.5037, 1.5037, 1.5037, 1.5037, 1.5037, 1.5037, 1.5037, 1.5037, 1.5037, 1.5037, 1.5037, 1.5037, 1.5037, 1.5037, 1.5037]}, \"token.table\": {\"Topic\": [1, 2, 2, 1, 1, 3, 4, 2, 1, 1, 2, 3, 2, 2, 2, 1, 1, 3, 1, 3, 5, 2, 2, 1, 4, 3, 3, 1, 1, 1, 2, 3, 3, 5, 1, 3, 1, 3, 1, 2, 1, 2, 3, 3, 3, 4, 1, 3, 1, 1, 3, 1, 2, 2, 2, 2, 3, 2, 5, 1, 2, 3, 1, 2, 1, 5, 5, 1, 3, 2, 2, 3, 3, 4, 1, 4, 3, 5, 1, 2, 3, 5, 2, 3, 1, 1, 2, 3, 3, 1, 2, 3, 3, 1, 2, 3, 1, 2, 4, 3, 2, 1, 3, 2, 1, 2, 2, 1, 2, 1, 3, 3, 1, 2, 2, 3, 1, 2, 1, 2, 3, 5, 5, 1, 2, 3, 3, 1, 3, 3, 2, 2, 1, 1, 3, 2, 2, 1, 3, 4, 2, 4, 1, 3, 1, 2, 3, 1, 2, 3, 3, 1, 2, 4, 1, 1, 3, 1, 1, 2, 2, 3, 1, 1, 1, 3, 2, 3, 1, 3, 4, 1, 3, 1, 2, 1, 2, 3, 1, 3, 3, 1, 2, 1, 5, 3, 1, 1, 1, 1, 2, 1, 2, 3, 5, 1], \"Freq\": [0.9654895163901491, 0.6349987551168074, 0.6349988004905993, 0.7939105920643126, 0.44376053812581034, 0.22188026906290517, 0.22188026906290517, 0.4462110740820324, 0.8640751971254658, 0.409539505593279, 0.409539505593279, 0.409539505593279, 0.500509329172999, 0.8683295611232491, 0.6349999472025784, 0.979413545343723, 0.7046168297143628, 0.871127547384376, 0.5294493261499296, 0.2647246630749648, 0.6076356042230865, 0.8683295611232491, 0.8683295611232491, 0.6158408001425913, 0.6858920520721679, 0.871127547384376, 0.5033056310224513, 0.6158408001425913, 0.9625320613101495, 0.6852090149783213, 0.34260450748916066, 0.5523245831448793, 0.4810112061046468, 0.4810112061046468, 0.8044099118382271, 0.11491570169117529, 0.43060260007144274, 0.43060260007144274, 0.6741130626333052, 0.6349999472025784, 0.6863412714736761, 0.34317063573683804, 0.34317063573683804, 0.871127547384376, 0.871127547384376, 0.8231760716270542, 0.4962876968767644, 0.4962876968767644, 0.5356411352188164, 0.9884515831780609, 0.6379974833743643, 0.7305349150826511, 0.36526745754132556, 0.6349999472025784, 0.8683295611232491, 0.5023835913314175, 0.5023835913314175, 0.5005099124050753, 0.7060049092134063, 0.5323912242945642, 0.2661956121472821, 0.2661956121472821, 0.4944720377219703, 0.4944720377219703, 0.9851048955475887, 0.8423765083436944, 0.8423765083436944, 0.6158408001425913, 0.6379974833743643, 0.8260637013807268, 0.6485809854824129, 0.32429049274120647, 0.6379974833743643, 0.8231760716270542, 0.47391719629928597, 0.47391719629928597, 0.6379974833743643, 0.8423765083436944, 0.4944720948721685, 0.4944720948721685, 0.871127547384376, 0.8423765083436944, 0.8683295611232491, 0.6379974833743643, 0.7939105920643126, 0.5400714568361313, 0.36004763789075417, 0.5033056310224513, 0.6379974833743643, 0.3465271024758555, 0.3465271024758555, 0.3465271024758555, 0.6379974833743643, 0.34903045042707465, 0.34903045042707465, 0.34903045042707465, 0.9654895163901491, 0.6105328503634363, 0.6105328503634363, 0.871127547384376, 0.9181514795541577, 0.4962877324049366, 0.4962877324049366, 0.6349999472025784, 0.4048469192980834, 0.4048469192980834, 0.8260637013807268, 0.86407520632363, 0.8683295611232491, 0.4962876968767644, 0.4962876968767644, 0.871127547384376, 0.34558821618777874, 0.34558821618777874, 0.3070970907642025, 0.3070970907642025, 0.5427945236618168, 0.5427945236618168, 0.49440993500461305, 0.49440993500461305, 0.4434009474220404, 0.4434009474220404, 0.8423765083436944, 0.7939105920643126, 0.6349988004905993, 0.871127547384376, 0.871127547384376, 0.4962876968767644, 0.4962876968767644, 0.871127547384376, 0.6349999018286226, 0.6349987551168074, 0.992500298487996, 0.8785942021119402, 0.871127547384376, 0.7031661960883958, 0.6349999472025784, 0.39533802930273565, 0.39533802930273565, 0.39533802930273565, 0.6105328503634363, 0.6105328503634363, 0.840760574070175, 0.6379974833743643, 0.9654895163901491, 0.6349999472025784, 0.6379974833743643, 0.9625399844816853, 0.6349999472025784, 0.6379974833743643, 0.6379974833743643, 0.4088594219772532, 0.4088594219772532, 0.6858920520721679, 0.9654895163901491, 0.6806001463997124, 0.3403000731998562, 0.9654895163901491, 0.3197135445697317, 0.6394270891394634, 0.4136726071396358, 0.4136726071396358, 0.7939105920643126, 0.9709468302593698, 0.4962876968767644, 0.4962876968767644, 0.6349999472025784, 0.5033056310224513, 0.6717783082948456, 0.3358891541474228, 0.3358891541474228, 0.4962876968767644, 0.4962876968767644, 0.5277749484927319, 0.26388747424636594, 0.3637470333184792, 0.3637470333184792, 0.1818735166592396, 0.7939105920643126, 0.6379974833743643, 0.6379974833743643, 0.6797445144402596, 0.3398722572201298, 0.6117429154677531, 0.6117429154677531, 0.8311438434717318, 0.979413545343723, 0.9654895163901491, 0.7939105920643126, 0.4366758530122008, 0.4366758530122008, 0.3455881989602237, 0.3455881989602237, 0.6379974833743643, 0.8423765083436944, 0.9654895163901491], \"Term\": [\"academi\", \"acceler\", \"advic\", \"analyst\", \"analyt\", \"analyt\", \"analyt\", \"ani\", \"announc\", \"appli\", \"appli\", \"appli\", \"appreci\", \"auto\", \"autom\", \"avatarifi\", \"azerbaijan\", \"bankofbaku\", \"bil\", \"bil\", \"bir\", \"bring\", \"capabl\", \"case\", \"chatgpt\", \"com\", \"compani\", \"complet\", \"comput\", \"connect\", \"connect\", \"creat\", \"daha\", \"daha\", \"data\", \"data\", \"data_scienc\", \"data_scienc\", \"datasci\", \"deal\", \"develop\", \"develop\", \"develop\", \"developerl\", \"dostlar\", \"econom\", \"edil\", \"edil\", \"educ\", \"engin\", \"event\", \"excit\", \"excit\", \"exh\", \"expand\", \"experi\", \"experi\", \"final\", \"ger\", \"get\", \"get\", \"get\", \"group\", \"group\", \"happi_share\", \"hayal\", \"hayatta\", \"hire\", \"illik\", \"imag\", \"includ\", \"includ\", \"inform\", \"insight\", \"internship\", \"internship\", \"ist\", \"istedi\", \"job\", \"job\", \"jobhir\", \"kolay\", \"label\", \"latest\", \"layih\", \"learn\", \"learn\", \"lim\", \"liml\", \"linkedin\", \"linkedin\", \"linkedin\", \"lma\", \"look\", \"look\", \"look\", \"machinelearn\", \"make\", \"make\", \"maraql\", \"medic\", \"member\", \"member\", \"mimaki\", \"model\", \"model\", \"monai\", \"month\", \"naql\", \"nda\", \"nda\", \"nday\", \"network\", \"network\", \"new\", \"new\", \"news\", \"news\", \"offer\", \"offer\", \"olan\", \"olan\", \"oldu\", \"olma\", \"opentowork\", \"oracl\", \"oraclesql\", \"partner\", \"partner\", \"payla\", \"peopl\", \"phd\", \"posit\", \"posit_junior\", \"postu\", \"print\", \"printer\", \"project\", \"project\", \"project\", \"provid\", \"provid\", \"python\", \"qaydalar\", \"qeyd\", \"qualiti\", \"raci\", \"research\", \"rhino\", \"rin\", \"rind\", \"role\", \"role\", \"searchart\", \"servic\", \"share\", \"share\", \"skill\", \"softwar\", \"softwar\", \"solut\", \"solut\", \"specialist\", \"start_new\", \"strategi\", \"strategi\", \"swiss\", \"tbiqi\", \"team\", \"team\", \"team\", \"technolog\", \"technolog\", \"thank\", \"thank\", \"thi\", \"thi\", \"thi\", \"time\", \"topic\", \"trend\", \"univers\", \"univers\", \"var\", \"var\", \"vergi\", \"vision\", \"vue\", \"want\", \"work\", \"work\", \"would\", \"would\", \"xsl\", \"yapmak\", \"yeah\"]}, \"R\": 30, \"lambda.step\": 0.01, \"plot.opts\": {\"xlab\": \"PC1\", \"ylab\": \"PC2\"}, \"topic.order\": [5, 2, 4, 3, 1]};\n",
       "\n",
       "function LDAvis_load_lib(url, callback){\n",
       "  var s = document.createElement('script');\n",
       "  s.src = url;\n",
       "  s.async = true;\n",
       "  s.onreadystatechange = s.onload = callback;\n",
       "  s.onerror = function(){console.warn(\"failed to load library \" + url);};\n",
       "  document.getElementsByTagName(\"head\")[0].appendChild(s);\n",
       "}\n",
       "\n",
       "if(typeof(LDAvis) !== \"undefined\"){\n",
       "   // already loaded: just create the visualization\n",
       "   !function(LDAvis){\n",
       "       new LDAvis(\"#\" + \"ldavis_el431651403970045143524896381687\", ldavis_el431651403970045143524896381687_data);\n",
       "   }(LDAvis);\n",
       "}else if(typeof define === \"function\" && define.amd){\n",
       "   // require.js is available: use it to load d3/LDAvis\n",
       "   require.config({paths: {d3: \"https://d3js.org/d3.v5\"}});\n",
       "   require([\"d3\"], function(d3){\n",
       "      window.d3 = d3;\n",
       "      LDAvis_load_lib(\"https://cdn.jsdelivr.net/gh/bmabey/pyLDAvis@3.3.1/pyLDAvis/js/ldavis.v3.0.0.js\", function(){\n",
       "        new LDAvis(\"#\" + \"ldavis_el431651403970045143524896381687\", ldavis_el431651403970045143524896381687_data);\n",
       "      });\n",
       "    });\n",
       "}else{\n",
       "    // require.js not available: dynamically load d3 & LDAvis\n",
       "    LDAvis_load_lib(\"https://d3js.org/d3.v5.js\", function(){\n",
       "         LDAvis_load_lib(\"https://cdn.jsdelivr.net/gh/bmabey/pyLDAvis@3.3.1/pyLDAvis/js/ldavis.v3.0.0.js\", function(){\n",
       "                 new LDAvis(\"#\" + \"ldavis_el431651403970045143524896381687\", ldavis_el431651403970045143524896381687_data);\n",
       "            })\n",
       "         });\n",
       "}\n",
       "</script>"
      ],
      "text/plain": [
       "PreparedData(topic_coordinates=              x         y  topics  cluster       Freq\n",
       "topic                                                \n",
       "4     -0.173702  0.001355       1        1  47.546797\n",
       "1      0.052407  0.072583       2        1  18.545765\n",
       "3      0.051157 -0.057997       3        1  18.264642\n",
       "2      0.028309 -0.004827       4        1   8.121636\n",
       "0      0.041829 -0.011114       5        1   7.521160, topic_info=               Term      Freq      Total Category  logprob  loglift\n",
       "243       start_new  30.00000  30.000000  Default  30.0000  30.0000\n",
       "241     happi_share  32.00000  32.000000  Default  29.0000  29.0000\n",
       "242           posit  28.00000  28.000000  Default  28.0000  28.0000\n",
       "234           engin  27.00000  27.000000  Default  27.0000  27.0000\n",
       "408          comput  25.00000  25.000000  Default  26.0000  26.0000\n",
       "..              ...       ...        ...      ...      ...      ...\n",
       "168             eld   0.32405   0.957812   Topic5  -5.7118   1.5037\n",
       "169           etmek   0.32405   0.957812   Topic5  -5.7118   1.5037\n",
       "170           eyden   0.32405   0.957812   Topic5  -5.7118   1.5037\n",
       "171             eyi   0.32405   0.957812   Topic5  -5.7118   1.5037\n",
       "172  eylemlerinizin   0.32405   0.957812   Topic5  -5.7118   1.5037\n",
       "\n",
       "[233 rows x 6 columns], token_table=      Topic      Freq     Term\n",
       "term                          \n",
       "490       1  0.965490  academi\n",
       "24        2  0.634999  acceler\n",
       "402       2  0.634999    advic\n",
       "261       1  0.793911  analyst\n",
       "124       1  0.443761   analyt\n",
       "...     ...       ...      ...\n",
       "92        1  0.345588    would\n",
       "92        2  0.345588    would\n",
       "287       3  0.637997      xsl\n",
       "223       5  0.842377   yapmak\n",
       "117       1  0.965490     yeah\n",
       "\n",
       "[196 rows x 3 columns], R=30, lambda_step=0.01, plot_opts={'xlab': 'PC1', 'ylab': 'PC2'}, topic_order=[5, 2, 4, 3, 1])"
      ]
     },
     "execution_count": 110,
     "metadata": {},
     "output_type": "execute_result"
    }
   ],
   "source": [
    "# Visualize the topics\n",
    "pyLDAvis.enable_notebook()\n",
    "vis = pyLDAvis.gensim_models.prepare(lda_model, corpus, id2word) \n",
    "vis"
   ]
  },
  {
   "attachments": {},
   "cell_type": "markdown",
   "metadata": {},
   "source": [
    "#### <a id='toc1_1_5_2_'></a>[Топ-5 популярных тем по реакциям (англ)](#toc0_)\n",
    "\n",
    "Темы расположены по частоте встречаемости в публикациях.\n",
    "\n",
    "**Тема 1: Сообщения о начале новой позиции**\n",
    "\n",
    "*Ключевые слова:* happy share, start new position, computer research, data science, analyst, mashine learning\n",
    "\n",
    "**Тема 2: Истории о своих проектах**\n",
    "\n",
    "*Ключевые слова:* medical, software, learn, appreciate, solution, new, look, printer\n",
    "\n",
    "**Тема 3: Компании и стратегии развития в сфере data science**\n",
    "\n",
    "*Ключевые слова:* data science, company, new, analytics, data, member, strategy, technology\n",
    "\n",
    "**Тема 4: Проекты и стажировки в сфере data science**\n",
    "\n",
    "*Ключевые слова:* team, project, internship, provide, make, insight, searchchat, chatgpd\n",
    "\n",
    "**Тема 5:** – \n",
    "\n",
    "*Ключевые слова:* –\n",
    "\n",
    "В этой теме алгоритм собрал слова, которые не относятся к английскому языку. Видимо, некоторые авторы писали не только на английском, либо дублировали свои текты на других языках."
   ]
  }
 ],
 "metadata": {
  "kernelspec": {
   "display_name": "Python 3 (ipykernel)",
   "language": "python",
   "name": "python3"
  },
  "language_info": {
   "codemirror_mode": {
    "name": "ipython",
    "version": 3
   },
   "file_extension": ".py",
   "mimetype": "text/x-python",
   "name": "python",
   "nbconvert_exporter": "python",
   "pygments_lexer": "ipython3",
   "version": "3.9.12"
  }
 },
 "nbformat": 4,
 "nbformat_minor": 4
}
